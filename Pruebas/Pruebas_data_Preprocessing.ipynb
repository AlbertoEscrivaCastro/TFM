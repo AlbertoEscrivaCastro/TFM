{
 "cells": [
  {
   "cell_type": "code",
   "execution_count": 1,
   "metadata": {},
   "outputs": [],
   "source": [
    "import\tAdapted_data_preprocessing\n",
    "import\tos"
   ]
  },
  {
   "cell_type": "code",
   "execution_count": 2,
   "metadata": {},
   "outputs": [],
   "source": [
    "route = r'C:\\Users\\zoiyy\\OneDrive\\Documentos\\DataSets\\TFM\\Pruebas'"
   ]
  },
  {
   "cell_type": "code",
   "execution_count": 4,
   "metadata": {},
   "outputs": [
    {
     "name": "stdout",
     "output_type": "stream",
     "text": [
      "label_files length:  28479\n",
      "test_files length:  28479\n",
      "--------------------\n",
      "label_files length:  23694\n",
      "test_files length:  23694\n",
      "--------------------\n",
      "label_files length:  23703\n",
      "test_files length:  23703\n",
      "--------------------\n",
      "label_files length:  23707\n",
      "test_files length:  23707\n",
      "--------------------\n",
      "label_files length:  23706\n",
      "test_files length:  23706\n",
      "--------------------\n",
      "label_files length:  23689\n",
      "test_files length:  23689\n",
      "--------------------\n",
      "label_files length:  23697\n",
      "test_files length:  23697\n",
      "--------------------\n",
      "label_files length:  23699\n",
      "test_files length:  23699\n",
      "--------------------\n",
      "label_files length:  23694\n",
      "test_files length:  23694\n",
      "--------------------\n",
      "label_files length:  23700\n",
      "test_files length:  23700\n",
      "--------------------\n",
      "label_files length:  23689\n",
      "test_files length:  23689\n",
      "--------------------\n",
      "label_files length:  23689\n",
      "test_files length:  23689\n",
      "--------------------\n",
      "label_files length:  23689\n",
      "test_files length:  23689\n",
      "--------------------\n",
      "label_files length:  28743\n",
      "test_files length:  28743\n",
      "--------------------\n",
      "label_files length:  23696\n",
      "test_files length:  23696\n",
      "--------------------\n",
      "label_files length:  23703\n",
      "test_files length:  23703\n",
      "--------------------\n",
      "label_files length:  28722\n",
      "test_files length:  28722\n",
      "--------------------\n",
      "label_files length:  28700\n",
      "test_files length:  28700\n",
      "--------------------\n",
      "label_files length:  23693\n",
      "test_files length:  23693\n",
      "--------------------\n",
      "label_files length:  28696\n",
      "test_files length:  28696\n",
      "--------------------\n",
      "label_files length:  23703\n",
      "test_files length:  23703\n",
      "--------------------\n",
      "label_files length:  23703\n",
      "test_files length:  23703\n",
      "--------------------\n",
      "label_files length:  23687\n",
      "test_files length:  23687\n",
      "--------------------\n",
      "label_files length:  23691\n",
      "test_files length:  23691\n",
      "--------------------\n",
      "label_files length:  28726\n",
      "test_files length:  28726\n",
      "--------------------\n",
      "label_files length:  28705\n",
      "test_files length:  28705\n",
      "--------------------\n",
      "label_files length:  28704\n",
      "test_files length:  28704\n",
      "--------------------\n",
      "label_files length:  28713\n",
      "test_files length:  28713\n",
      "--------------------\n",
      "C:\\Users\\zoiyy\\OneDrive\\Documentos\\DataSets\\TFM\\Pruebas\\processed\n"
     ]
    }
   ],
   "source": [
    "print ( Adapted_data_preprocessing.preprocess_data( 'SMD' , route , process_type = 'test' ) )"
   ]
  }
 ],
 "metadata": {
  "kernelspec": {
   "display_name": "AnomalyBERT_env",
   "language": "python",
   "name": "python3"
  },
  "language_info": {
   "codemirror_mode": {
    "name": "ipython",
    "version": 3
   },
   "file_extension": ".py",
   "mimetype": "text/x-python",
   "name": "python",
   "nbconvert_exporter": "python",
   "pygments_lexer": "ipython3",
   "version": "3.8.18"
  },
  "orig_nbformat": 4
 },
 "nbformat": 4,
 "nbformat_minor": 2
}
