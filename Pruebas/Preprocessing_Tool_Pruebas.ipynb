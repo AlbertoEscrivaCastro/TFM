{
 "cells": [
  {
   "cell_type": "markdown",
   "metadata": {},
   "source": [
    "# BATERÍAS DE PRUEBAS\n",
    "\n",
    "En el presente documento se han ejecutado baterías de pruebas para buscar las definiciones de la herramientas de preprocesamiento y análisis lo más robustas posibles.\n",
    "\n",
    "Se ha empleado la librería 'test_batch' creada precisamente para este objetivo.\n",
    "\n",
    "Esta librería permite, por un lado, crear diferentes instancias del agente en las que cada una emplea la herramienta construída con una de las descripiones proporcionadas y, por otro, ejecutar uno a uno todos los 'prompts' de la lista para cada una de estas instancias del agente. En realidad, por cada descripción proporcionada, la librería crea dos versiones distintas del agente, una en la que se le ha proporcionado la herramienta cuya descripción presenta indentaciones para organizar el texto y otra sin indentaciones. Esto se ha hecho así porque proporcionar o no el texto con o sin identaciones arroja diferentes resultados y no hay un comportamiento consistente por el que se pueda decir que uno de los dos métodos sea claramente superior, tal y como se verá en la tabla resumen."
   ]
  },
  {
   "cell_type": "code",
   "execution_count": 1,
   "metadata": {},
   "outputs": [],
   "source": [
    "import\ttest_batch"
   ]
  },
  {
   "cell_type": "markdown",
   "metadata": {},
   "source": [
    "## Pruebas de la Herramienta de Preprocesamiento."
   ]
  },
  {
   "cell_type": "markdown",
   "metadata": {},
   "source": [
    "### Construcción de las instancias del agente."
   ]
  },
  {
   "cell_type": "markdown",
   "metadata": {},
   "source": [
    "#### Lista de descripciones para la herramienta de preprocesamiento."
   ]
  },
  {
   "cell_type": "code",
   "execution_count": 2,
   "metadata": {},
   "outputs": [],
   "source": [
    "\n",
    "description_list\t= \\\n",
    "{\t'1'\t\t:\n",
    "(\t\"This tool preprocesses datasets for the AnomalyBert anomaly analyzer and generates a directory for the preprocessed data.\"\n",
    ",\t\"Mandatory Input Parameters:\\\n",
    "\t\t'dataset' (the type of dataset, permitted options are SWaT, SMAP, MSL, and WADI),\\\n",
    "\t\t'input_dir' (the input directory of the raw data, it must be a path written as a raw string).\\\n",
    "\t Optional Input Parameters:\\\n",
    "\t\t'output_dir' (the output directory for the preprocessed data, it must be a path written as a raw string),\\\n",
    "\t\t'json_dir' (the directory where the JSON files will be saved if created. It must be a path written as a raw string),\\\n",
    "\t\t'date_label' (the date label for WADI datasets)\\\n",
    "\t\t'dataset_mode' (the type of process the dataset is intended for, valid options are train, test, and exploitation).\"\n",
    ",\t\"As output, it returns the path of the files where the preprocessed data has been stored.\"\n",
    ")\n",
    ",\t'2'\t\t:\n",
    "(\t\"This tool preprocesses datasets of raw data for the AnomalyBert anomaly analyzer and generates a directory for the preprocessed data.\\\n",
    "\t Input parameters need to be explicitly stated with the specified name when used,\\\n",
    "\t and optional parameters should be avoided if not mentioned by the user in their prompt.\"\n",
    ",\t\"Mandatory Input Parameters:\\\n",
    "\t\t'dataset' (the type of dataset, permitted options are SWaT, SMAP, MSL, and WADI),\\\n",
    "\t\t'input_dir' (the input directory of the raw data, it must be a path written as a raw string).\\\n",
    "\t Optional Input Parameters (these parameters should be proviomitted if not explicitly mentioned by the user):\\\n",
    "\t\t'output_dir' (the output directory for the preprocessed data, it must be a path written as a raw string),\\\n",
    "\t\t'json_dir' (the directory where the JSON files will be saved if created. It must be a path written as a raw string),\\\n",
    "\t\t'date_label' (the date label for WADI datasets)\\\n",
    "\t\t'dataset_mode' (the type of process the dataset is intended for, valid options are train, test, and exploitation).\"\n",
    ",\t\"As output, it returns the path of the files where the preprocessed data has been stored.\"\n",
    ")\n",
    ",\t'3'\t\t:\n",
    "(\t\"This tool preprocesses datasets of raw data for the AnomalyBert anomaly analyzer and generates a directory for the preprocessed data.\\\n",
    "\t Input parameters need to be explicitly stated with the specified name when used,\\\n",
    "\t and optional parameters should be avoided if not mentioned by the user in their prompt.\"\n",
    ",\t\"Mandatory Input Parameters:\\\n",
    "\t\t'dataset' (the type of dataset, permitted options are SWaT, SMAP, MSL, and WADI),\\\n",
    "\t\t'input_dir' (the input directory of the raw data, it must be a path written as a raw string).\\\n",
    "\t Optional Input Parameters (when using this function, optional parameters should be assigned values using keyword arguments;\\\n",
    "\t only provide these keyword arguments if their values are needed; otherwise, omit them entirely):\\\n",
    "\t\t'output_dir' (the output directory for the preprocessed data, it must be a path written as a raw string),\\\n",
    "\t\t'json_dir' (the directory where the JSON files will be saved if created. It must be a path written as a raw string),\\\n",
    "\t\t'date_label' (the date label for WADI datasets)\\\n",
    "\t\t'dataset_mode' (the type of process the dataset is intended for, valid options are train, test, and exploitation).\"\n",
    ",\t\"As output, it returns the path of the files where the preprocessed data has been stored.\"\n",
    ")\n",
    ",\t'4'\t\t:\n",
    "(\t\"This auxiliary tool is designed to support the primary process of satellite telemetry data analysis for anomaly detection using AnomalyBERT.\\\n",
    "\t The specific task of this tool is to preprocess the dataset, preparing it for subsequent analysis.\\\n",
    "\t This involves cleaning, normalizing, and transforming the raw telemetry data to ensure it is in an optimal format for the AnomalyBERT detection process.\"\n",
    ",\t\"Mandatory Input Parameters:\\\n",
    "\t\t'dataset' (the type of dataset, permitted options are SWaT, SMAP, MSL, and WADI),\\\n",
    "\t\t'input_dir' (the input directory of the raw data, it must be a path written as a raw string).\\\n",
    "\t Optional Input Parameters (when using this function, optional parameters should be assigned values using keyword arguments;\\\n",
    "\t only provide these keyword arguments if their values are needed; otherwise, omit them entirely):\\\n",
    "\t\t'output_dir' (the output directory for the preprocessed data, it must be a path written as a raw string),\\\n",
    "\t\t'json_dir' (the directory where the JSON files will be saved if created. It must be a path written as a raw string),\\\n",
    "\t\t'date_label' (the date label for WADI datasets)\\\n",
    "\t\t'dataset_mode' (The 'dataset_mode' parameter specifies the intended use and purpose of the dataset and can take one of the following values:\\\n",
    "\t\t\t'train', indicates that the dataset will be used for training the neural network, so it is labeled and provides the train and test partitions;\\\n",
    "\t\t\t'test', indicates that the dataset will be used just for testing the already trained neural network, so it is also labeled but only has the test partion;\\\n",
    "\t\t\t'exploitation', indicates that the dataset is intended to be analyzed and detect its anomalies (inference), so it's not labeled.).\"\n",
    ",\t\"As output, it returns the path of the files where the preprocessed data has been stored.\"\n",
    ")\n",
    "}"
   ]
  },
  {
   "cell_type": "code",
   "execution_count": 5,
   "metadata": {},
   "outputs": [],
   "source": [
    "# description_list_2\t=\t[\t(\n",
    "# \t\t\t\t\t\t\t)\n",
    "# \t\t\t\t\t\t]"
   ]
  },
  {
   "cell_type": "markdown",
   "metadata": {},
   "source": [
    "#### La lista de instancias del agente."
   ]
  },
  {
   "cell_type": "code",
   "execution_count": 3,
   "metadata": {},
   "outputs": [],
   "source": [
    "agent_list\t\t= test_batch.tool_variant_agents( test_batch.AnomalyBERT_Data_Preprocessing_Tool , description_list )"
   ]
  },
  {
   "cell_type": "code",
   "execution_count": null,
   "metadata": {},
   "outputs": [],
   "source": [
    "# agent_list_2\t= test_batch.tool_variant_agents( test_batch.AnomalyBERT_Data_Preprocessing_Tool , description_list_2 )"
   ]
  },
  {
   "cell_type": "markdown",
   "metadata": {},
   "source": [
    " ### Ejecución de las pruebas."
   ]
  },
  {
   "cell_type": "markdown",
   "metadata": {},
   "source": [
    "#### Lista de 'prompts'."
   ]
  },
  {
   "cell_type": "code",
   "execution_count": 4,
   "metadata": {},
   "outputs": [],
   "source": [
    "prompt_list\t\t= \t\\\n",
    "\t{\t'1'\t\t:\t\"Preprocess the WADI dataset in the route 'C:\\\\Users\\\\zoiyy\\\\OneDrive\\\\Documentos\\\\DataSets\\\\TFM\\\\Pruebas'.\"\n",
    "\t,\t'2'\t\t:\t\"Preprocess the raw WADI dataset stored in the route 'C:\\\\Users\\\\zoiyy\\\\OneDrive\\\\Documentos\\\\DataSets\\\\TFM\\\\Pruebas'.\"\n",
    "\t,\t'3'\t\t:\t\"Preprocess the WADI dataset in the route 'C:\\\\Users\\\\zoiyy\\\\OneDrive\\\\Documentos\\\\DataSets\\\\TFM\\\\Pruebas' and store it in 'C:\\\\Users\\\\zoiyy\\\\OneDrive\\\\Documentos\\\\DataSets\\\\TFM\\\\Pruebas2'.\"\n",
    "\t,\t'4'\t\t:\t\"Preprocess the WADI dataset stored in the route 'C:\\\\Users\\\\zoiyy\\\\OneDrive\\\\Documentos\\\\DataSets\\\\TFM\\\\Pruebas' and save it in 'C:\\\\Users\\\\zoiyy\\\\OneDrive\\\\Documentos\\\\DataSets\\\\TFM\\\\Pruebas2'.\"\n",
    "\t,\t'5'\t\t:\t\"Preprocess the WADI dataset stored in the route 'C:\\\\Users\\\\zoiyy\\\\OneDrive\\\\Documentos\\\\DataSets\\\\TFM\\\\Pruebas' and store it in 'C:\\\\Users\\\\zoiyy\\\\OneDrive\\\\Documentos\\\\DataSets\\\\TFM\\\\Pruebas2'.\"\n",
    "\t,\t'6'\t\t:\t\"Preprocess for testing the WADI dataset in the route 'C:\\\\Users\\\\zoiyy\\\\OneDrive\\\\Documentos\\\\DataSets\\\\TFM\\\\Pruebas' and store it in 'C:\\\\Users\\\\zoiyy\\\\OneDrive\\\\Documentos\\\\DataSets\\\\TFM\\\\Pruebas2'.\"\n",
    "\t,\t'7'\t\t:\t\"The WADI dataset in the route 'C:\\\\Users\\\\zoiyy\\\\OneDrive\\\\Documentos\\\\DataSets\\\\TFM\\\\Pruebas' is meant for testing. Preprocess it and store it in 'C:\\\\Users\\\\zoiyy\\\\OneDrive\\\\Documentos\\\\DataSets\\\\TFM\\\\Pruebas2'.\"\n",
    "\t}"
   ]
  },
  {
   "cell_type": "code",
   "execution_count": 5,
   "metadata": {},
   "outputs": [],
   "source": [
    "prompt_list_2\t=\t\\\n",
    "\t{\t'8'\t\t:\t\"Preprocess the testing WADI dataset in the route 'C:\\\\Users\\\\zoiyy\\\\OneDrive\\\\Documentos\\\\DataSets\\\\TFM\\\\Pruebas' and store it in 'C:\\\\Users\\\\zoiyy\\\\OneDrive\\\\Documentos\\\\DataSets\\\\TFM\\\\Pruebas2'.\"\n",
    "\t,\t'9'\t\t:\t\"Preprocess the testing WADI dataset stored in 'C:\\\\Users\\\\zoiyy\\\\OneDrive\\\\Documentos\\\\DataSets\\\\TFM\\\\Pruebas' and store it in 'C:\\\\Users\\\\zoiyy\\\\OneDrive\\\\Documentos\\\\DataSets\\\\TFM\\\\Pruebas2'.\"\n",
    "\t,\t'10'\t:\t\"Preprocess the testing WADI dataset in the route 'C:\\\\Users\\\\zoiyy\\\\OneDrive\\\\Documentos\\\\DataSets\\\\TFM\\\\Pruebas' and save it in 'C:\\\\Users\\\\zoiyy\\\\OneDrive\\\\Documentos\\\\DataSets\\\\TFM\\\\Pruebas2'.\"\n",
    "\t,\t'11'\t:\t\"Preprocess the testing WADI dataset stored in 'C:\\\\Users\\\\zoiyy\\\\OneDrive\\\\Documentos\\\\DataSets\\\\TFM\\\\Pruebas' and save it in 'C:\\\\Users\\\\zoiyy\\\\OneDrive\\\\Documentos\\\\DataSets\\\\TFM\\\\Pruebas2'.\"\n",
    "\t}"
   ]
  },
  {
   "cell_type": "markdown",
   "metadata": {},
   "source": [
    "#### Resultados."
   ]
  },
  {
   "cell_type": "code",
   "execution_count": 6,
   "metadata": {},
   "outputs": [
    {
     "data": {
      "text/plain": [
       "'RESULTS FOR TOOL DESCRIPTION 1:'"
      ]
     },
     "metadata": {},
     "output_type": "display_data"
    },
    {
     "data": {
      "text/plain": [
       "'----------------------------------------------------------------------------------------------------'"
      ]
     },
     "metadata": {},
     "output_type": "display_data"
    },
    {
     "data": {
      "text/plain": [
       "'Test prompt 1:'"
      ]
     },
     "metadata": {},
     "output_type": "display_data"
    },
    {
     "name": "stderr",
     "output_type": "stream",
     "text": [
      "\u001b[33;1m======== New task ========\u001b[0m\n",
      "\u001b[37;1mPreprocess the WADI dataset in the route 'C:\\Users\\zoiyy\\OneDrive\\Documentos\\DataSets\\TFM\\Pruebas'.\u001b[0m\n",
      "\u001b[33;1m==== Agent is executing the code below:\u001b[0m\n",
      "\u001b[0m\u001b[38;5;7mdataset\u001b[39m\u001b[38;5;7m \u001b[39m\u001b[38;5;109;01m=\u001b[39;00m\u001b[38;5;7m \u001b[39m\u001b[38;5;144m'\u001b[39m\u001b[38;5;144mWADI\u001b[39m\u001b[38;5;144m'\u001b[39m\n",
      "\u001b[38;5;7minput_dir\u001b[39m\u001b[38;5;7m \u001b[39m\u001b[38;5;109;01m=\u001b[39;00m\u001b[38;5;7m \u001b[39m\u001b[38;5;144mr\u001b[39m\u001b[38;5;144m'\u001b[39m\u001b[38;5;144mC:\u001b[39m\u001b[38;5;144m\\\u001b[39m\u001b[38;5;144mUsers\u001b[39m\u001b[38;5;144m\\\u001b[39m\u001b[38;5;144mzoiyy\u001b[39m\u001b[38;5;144m\\\u001b[39m\u001b[38;5;144mOneDrive\u001b[39m\u001b[38;5;144m\\\u001b[39m\u001b[38;5;144mDocumentos\u001b[39m\u001b[38;5;144m\\\u001b[39m\u001b[38;5;144mDataSets\u001b[39m\u001b[38;5;144m\\\u001b[39m\u001b[38;5;144mTFM\u001b[39m\u001b[38;5;144m\\\u001b[39m\u001b[38;5;144mPruebas\u001b[39m\u001b[38;5;144m'\u001b[39m\n",
      "\u001b[38;5;7moutput_dir\u001b[39m\u001b[38;5;7m \u001b[39m\u001b[38;5;109;01m=\u001b[39;00m\u001b[38;5;7m \u001b[39m\u001b[38;5;144m'\u001b[39m\u001b[38;5;144mC:\u001b[39m\u001b[38;5;186m\\\\\u001b[39m\u001b[38;5;144mUsers\u001b[39m\u001b[38;5;186m\\\\\u001b[39m\u001b[38;5;144mzoiyy\u001b[39m\u001b[38;5;186m\\\\\u001b[39m\u001b[38;5;144mOneDrive\u001b[39m\u001b[38;5;186m\\\\\u001b[39m\u001b[38;5;144mDocumentos\u001b[39m\u001b[38;5;186m\\\\\u001b[39m\u001b[38;5;144mDataSets\u001b[39m\u001b[38;5;186m\\\\\u001b[39m\u001b[38;5;144mTFM\u001b[39m\u001b[38;5;186m\\\\\u001b[39m\u001b[38;5;144mPreprocessed_WADI\u001b[39m\u001b[38;5;144m'\u001b[39m\n",
      "\u001b[38;5;7mdate_label\u001b[39m\u001b[38;5;7m \u001b[39m\u001b[38;5;109;01m=\u001b[39;00m\u001b[38;5;7m \u001b[39m\u001b[38;5;109;01mNone\u001b[39;00m\n",
      "\u001b[38;5;7mdataset_mode\u001b[39m\u001b[38;5;7m \u001b[39m\u001b[38;5;109;01m=\u001b[39;00m\u001b[38;5;7m \u001b[39m\u001b[38;5;144m'\u001b[39m\u001b[38;5;144mtrain\u001b[39m\u001b[38;5;144m'\u001b[39m\n",
      "\n",
      "\u001b[38;5;7mpath_to_preprocessed_data\u001b[39m\u001b[38;5;7m \u001b[39m\u001b[38;5;109;01m=\u001b[39;00m\u001b[38;5;7m \u001b[39m\u001b[38;5;7mAnomalyBERT_Data_Preprocessing\u001b[39m\u001b[38;5;7m(\u001b[39m\u001b[38;5;7mdataset\u001b[39m\u001b[38;5;109;01m=\u001b[39;00m\u001b[38;5;7mdataset\u001b[39m\u001b[38;5;7m,\u001b[39m\u001b[38;5;7m \u001b[39m\u001b[38;5;7minput_dir\u001b[39m\u001b[38;5;109;01m=\u001b[39;00m\u001b[38;5;7minput_dir\u001b[39m\u001b[38;5;7m,\u001b[39m\u001b[38;5;7m \u001b[39m\u001b[38;5;7moutput_dir\u001b[39m\u001b[38;5;109;01m=\u001b[39;00m\u001b[38;5;7moutput_dir\u001b[39m\u001b[38;5;7m,\u001b[39m\u001b[38;5;7m \u001b[39m\u001b[38;5;7mdate_label\u001b[39m\u001b[38;5;109;01m=\u001b[39;00m\u001b[38;5;7mdate_label\u001b[39m\u001b[38;5;7m,\u001b[39m\u001b[38;5;7m \u001b[39m\u001b[38;5;7mdataset_mode\u001b[39m\u001b[38;5;109;01m=\u001b[39;00m\u001b[38;5;7mdataset_mode\u001b[39m\u001b[38;5;7m)\u001b[39m\n",
      "\u001b[38;5;109mprint\u001b[39m\u001b[38;5;7m(\u001b[39m\u001b[38;5;144mf\u001b[39m\u001b[38;5;144m\"\u001b[39m\u001b[38;5;144mThe preprocessed data has been stored in \u001b[39m\u001b[38;5;144m{\u001b[39m\u001b[38;5;7mpath_to_preprocessed_data\u001b[39m\u001b[38;5;144m}\u001b[39m\u001b[38;5;144m.\u001b[39m\u001b[38;5;144m\"\u001b[39m\u001b[38;5;7m)\u001b[39m\u001b[0m\n",
      "\u001b[33;1m====\u001b[0m\n"
     ]
    },
    {
     "data": {
      "text/plain": [
       "'The preprocessed data has been stored in C:\\\\Users\\\\zoiyy\\\\OneDrive\\\\Documentos\\\\DataSets\\\\TFM\\\\Preprocessed_WADI.'"
      ]
     },
     "metadata": {},
     "output_type": "display_data"
    },
    {
     "data": {
      "text/plain": [
       "'----------------------------------------------------------------------------------------------------'"
      ]
     },
     "metadata": {},
     "output_type": "display_data"
    },
    {
     "data": {
      "text/plain": [
       "'Test prompt 2:'"
      ]
     },
     "metadata": {},
     "output_type": "display_data"
    },
    {
     "name": "stderr",
     "output_type": "stream",
     "text": [
      "\u001b[33;1m======== New task ========\u001b[0m\n",
      "\u001b[37;1mPreprocess the raw WADI dataset stored in the route 'C:\\Users\\zoiyy\\OneDrive\\Documentos\\DataSets\\TFM\\Pruebas'.\u001b[0m\n",
      "\u001b[33;1m==== Agent is executing the code below:\u001b[0m\n",
      "\u001b[0m\u001b[38;5;7mdataset\u001b[39m\u001b[38;5;7m \u001b[39m\u001b[38;5;109;01m=\u001b[39;00m\u001b[38;5;7m \u001b[39m\u001b[38;5;144m'\u001b[39m\u001b[38;5;144mWADI\u001b[39m\u001b[38;5;144m'\u001b[39m\n",
      "\u001b[38;5;7minput_dir\u001b[39m\u001b[38;5;7m \u001b[39m\u001b[38;5;109;01m=\u001b[39;00m\u001b[38;5;7m \u001b[39m\u001b[38;5;144m'\u001b[39m\u001b[38;5;144mC:\u001b[39m\u001b[38;5;186m\\\\\u001b[39m\u001b[38;5;144mUsers\u001b[39m\u001b[38;5;186m\\\\\u001b[39m\u001b[38;5;144mzoiyy\u001b[39m\u001b[38;5;186m\\\\\u001b[39m\u001b[38;5;144mOneDrive\u001b[39m\u001b[38;5;186m\\\\\u001b[39m\u001b[38;5;144mDocumentos\u001b[39m\u001b[38;5;186m\\\\\u001b[39m\u001b[38;5;144mDataSets\u001b[39m\u001b[38;5;186m\\\\\u001b[39m\u001b[38;5;144mTFM\u001b[39m\u001b[38;5;186m\\\\\u001b[39m\u001b[38;5;144mPruebas\u001b[39m\u001b[38;5;144m'\u001b[39m\n",
      "\u001b[38;5;7moutput_dir\u001b[39m\u001b[38;5;7m \u001b[39m\u001b[38;5;109;01m=\u001b[39;00m\u001b[38;5;7m \u001b[39m\u001b[38;5;144m'\u001b[39m\u001b[38;5;144mpreprocessed_data\u001b[39m\u001b[38;5;144m'\u001b[39m\n",
      "\u001b[38;5;7mjson_dir\u001b[39m\u001b[38;5;7m \u001b[39m\u001b[38;5;109;01m=\u001b[39;00m\u001b[38;5;7m \u001b[39m\u001b[38;5;144m'\u001b[39m\u001b[38;5;144m'\u001b[39m\n",
      "\u001b[38;5;7mdate_label\u001b[39m\u001b[38;5;7m \u001b[39m\u001b[38;5;109;01m=\u001b[39;00m\u001b[38;5;7m \u001b[39m\u001b[38;5;144m'\u001b[39m\u001b[38;5;144m'\u001b[39m\n",
      "\u001b[38;5;7mdataset_mode\u001b[39m\u001b[38;5;7m \u001b[39m\u001b[38;5;109;01m=\u001b[39;00m\u001b[38;5;7m \u001b[39m\u001b[38;5;144m'\u001b[39m\u001b[38;5;144mtrain\u001b[39m\u001b[38;5;144m'\u001b[39m\n",
      "\u001b[38;5;7mpreprocessed_dir\u001b[39m\u001b[38;5;7m \u001b[39m\u001b[38;5;109;01m=\u001b[39;00m\u001b[38;5;7m \u001b[39m\u001b[38;5;7mAnomalyBERT_Data_Preprocessing\u001b[39m\u001b[38;5;7m(\u001b[39m\u001b[38;5;7mdataset\u001b[39m\u001b[38;5;7m,\u001b[39m\u001b[38;5;7m \u001b[39m\u001b[38;5;7minput_dir\u001b[39m\u001b[38;5;7m,\u001b[39m\u001b[38;5;7m \u001b[39m\u001b[38;5;7moutput_dir\u001b[39m\u001b[38;5;7m,\u001b[39m\u001b[38;5;7m \u001b[39m\u001b[38;5;7mjson_dir\u001b[39m\u001b[38;5;7m,\u001b[39m\u001b[38;5;7m \u001b[39m\u001b[38;5;7mdate_label\u001b[39m\u001b[38;5;7m,\u001b[39m\u001b[38;5;7m \u001b[39m\u001b[38;5;7mdataset_mode\u001b[39m\u001b[38;5;7m)\u001b[39m\u001b[0m\n",
      "\u001b[33;1m====\u001b[0m\n",
      "\u001b[31;20mError in execution: [WinError 3] El sistema no puede encontrar la ruta especificada: ''. Be sure to provide correct code.\u001b[0m\n",
      "Traceback (most recent call last):\n",
      "  File \"C:\\Users\\zoiyy\\AppData\\Roaming\\Python\\Python38\\site-packages\\transformers\\agents\\agents.py\", line 566, in run\n",
      "    output = self.python_evaluator(code_action, available_tools, state=self.state)\n",
      "  File \"C:\\Users\\zoiyy\\AppData\\Roaming\\Python\\Python38\\site-packages\\transformers\\agents\\python_interpreter.py\", line 511, in evaluate_python_code\n",
      "    line_result = evaluate_ast(node, state, tools)\n",
      "  File \"C:\\Users\\zoiyy\\AppData\\Roaming\\Python\\Python38\\site-packages\\transformers\\agents\\python_interpreter.py\", line 360, in evaluate_ast\n",
      "    return evaluate_assign(expression, state, tools)\n",
      "  File \"C:\\Users\\zoiyy\\AppData\\Roaming\\Python\\Python38\\site-packages\\transformers\\agents\\python_interpreter.py\", line 177, in evaluate_assign\n",
      "    result = evaluate_ast(assign.value, state, tools)\n",
      "  File \"C:\\Users\\zoiyy\\AppData\\Roaming\\Python\\Python38\\site-packages\\transformers\\agents\\python_interpreter.py\", line 365, in evaluate_ast\n",
      "    return evaluate_call(expression, state, tools)\n",
      "  File \"C:\\Users\\zoiyy\\AppData\\Roaming\\Python\\Python38\\site-packages\\transformers\\agents\\python_interpreter.py\", line 217, in evaluate_call\n",
      "    output = func(*args, **kwargs)\n",
      "  File \"c:\\Users\\zoiyy\\OneDrive\\Documentos\\Repositorios GIT\\TFM\\Pruebas\\test_batch.py\", line 26, in __call__\n",
      "    preprocessed_dataset_folder\t= adp.preprocess_data( dataset , input_dir , output_dir , json_dir , date_label , dataset_mode )\n",
      "  File \"c:\\Users\\zoiyy\\OneDrive\\Documentos\\Repositorios GIT\\TFM\\Adapted_utils\\Adapted_data_preprocessing.py\", line 237, in preprocess_data\n",
      "    os.mkdir( json_folder )\n",
      "FileNotFoundError: [WinError 3] El sistema no puede encontrar la ruta especificada: ''\n"
     ]
    },
    {
     "data": {
      "text/plain": [
       "\"Error in execution: [WinError 3] El sistema no puede encontrar la ruta especificada: ''. Be sure to provide correct code.\""
      ]
     },
     "metadata": {},
     "output_type": "display_data"
    },
    {
     "data": {
      "text/plain": [
       "'----------------------------------------------------------------------------------------------------'"
      ]
     },
     "metadata": {},
     "output_type": "display_data"
    },
    {
     "data": {
      "text/plain": [
       "'Test prompt 3:'"
      ]
     },
     "metadata": {},
     "output_type": "display_data"
    },
    {
     "name": "stderr",
     "output_type": "stream",
     "text": [
      "\u001b[33;1m======== New task ========\u001b[0m\n",
      "\u001b[37;1mPreprocess the WADI dataset in the route 'C:\\Users\\zoiyy\\OneDrive\\Documentos\\DataSets\\TFM\\Pruebas' and store it in 'C:\\Users\\zoiyy\\OneDrive\\Documentos\\DataSets\\TFM\\Pruebas2'.\u001b[0m\n",
      "\u001b[33;1m==== Agent is executing the code below:\u001b[0m\n",
      "\u001b[0m\u001b[38;5;7mwadi_dataset\u001b[39m\u001b[38;5;7m \u001b[39m\u001b[38;5;109;01m=\u001b[39;00m\u001b[38;5;7m \u001b[39m\u001b[38;5;144m'\u001b[39m\u001b[38;5;144mWADI\u001b[39m\u001b[38;5;144m'\u001b[39m\n",
      "\u001b[38;5;7minput_dir\u001b[39m\u001b[38;5;7m \u001b[39m\u001b[38;5;109;01m=\u001b[39;00m\u001b[38;5;7m \u001b[39m\u001b[38;5;144m'\u001b[39m\u001b[38;5;144mC:\u001b[39m\u001b[38;5;186m\\\\\u001b[39m\u001b[38;5;144mUsers\u001b[39m\u001b[38;5;186m\\\\\u001b[39m\u001b[38;5;144mzoiyy\u001b[39m\u001b[38;5;186m\\\\\u001b[39m\u001b[38;5;144mOneDrive\u001b[39m\u001b[38;5;186m\\\\\u001b[39m\u001b[38;5;144mDocumentos\u001b[39m\u001b[38;5;186m\\\\\u001b[39m\u001b[38;5;144mDataSets\u001b[39m\u001b[38;5;186m\\\\\u001b[39m\u001b[38;5;144mTFM\u001b[39m\u001b[38;5;186m\\\\\u001b[39m\u001b[38;5;144mPruebas\u001b[39m\u001b[38;5;144m'\u001b[39m\n",
      "\u001b[38;5;7moutput_dir\u001b[39m\u001b[38;5;7m \u001b[39m\u001b[38;5;109;01m=\u001b[39;00m\u001b[38;5;7m \u001b[39m\u001b[38;5;144m'\u001b[39m\u001b[38;5;144mC:\u001b[39m\u001b[38;5;186m\\\\\u001b[39m\u001b[38;5;144mUsers\u001b[39m\u001b[38;5;186m\\\\\u001b[39m\u001b[38;5;144mzoiyy\u001b[39m\u001b[38;5;186m\\\\\u001b[39m\u001b[38;5;144mOneDrive\u001b[39m\u001b[38;5;186m\\\\\u001b[39m\u001b[38;5;144mDocumentos\u001b[39m\u001b[38;5;186m\\\\\u001b[39m\u001b[38;5;144mDataSets\u001b[39m\u001b[38;5;186m\\\\\u001b[39m\u001b[38;5;144mTFM\u001b[39m\u001b[38;5;186m\\\\\u001b[39m\u001b[38;5;144mPruebas2\u001b[39m\u001b[38;5;144m'\u001b[39m\n",
      "\u001b[38;5;7mdate_label\u001b[39m\u001b[38;5;7m \u001b[39m\u001b[38;5;109;01m=\u001b[39;00m\u001b[38;5;7m \u001b[39m\u001b[38;5;144m'\u001b[39m\u001b[38;5;144m'\u001b[39m\u001b[38;5;7m  \u001b[39m\u001b[38;5;60;03m# No date label is needed for WADI datasets\u001b[39;00m\n",
      "\u001b[38;5;7mdataset_mode\u001b[39m\u001b[38;5;7m \u001b[39m\u001b[38;5;109;01m=\u001b[39;00m\u001b[38;5;7m \u001b[39m\u001b[38;5;144m'\u001b[39m\u001b[38;5;144mtrain\u001b[39m\u001b[38;5;144m'\u001b[39m\u001b[38;5;7m  \u001b[39m\u001b[38;5;60;03m# Preprocess the dataset for training\u001b[39;00m\n",
      "\u001b[38;5;7mpreprocessed_dir\u001b[39m\u001b[38;5;7m \u001b[39m\u001b[38;5;109;01m=\u001b[39;00m\u001b[38;5;7m \u001b[39m\u001b[38;5;7mAnomalyBERT_Data_Preprocessing\u001b[39m\u001b[38;5;7m(\u001b[39m\u001b[38;5;7mwadi_dataset\u001b[39m\u001b[38;5;7m,\u001b[39m\u001b[38;5;7m \u001b[39m\u001b[38;5;7minput_dir\u001b[39m\u001b[38;5;7m,\u001b[39m\u001b[38;5;7m \u001b[39m\u001b[38;5;7moutput_dir\u001b[39m\u001b[38;5;7m,\u001b[39m\u001b[38;5;7m \u001b[39m\u001b[38;5;7mdate_label\u001b[39m\u001b[38;5;7m,\u001b[39m\u001b[38;5;7m \u001b[39m\u001b[38;5;7mdataset_mode\u001b[39m\u001b[38;5;7m)\u001b[39m\u001b[0m\n",
      "\u001b[33;1m====\u001b[0m\n",
      "\u001b[31;20mError in execution: [WinError 3] El sistema no puede encontrar la ruta especificada: ''. Be sure to provide correct code.\u001b[0m\n",
      "Traceback (most recent call last):\n",
      "  File \"C:\\Users\\zoiyy\\AppData\\Roaming\\Python\\Python38\\site-packages\\transformers\\agents\\agents.py\", line 566, in run\n",
      "    output = self.python_evaluator(code_action, available_tools, state=self.state)\n",
      "  File \"C:\\Users\\zoiyy\\AppData\\Roaming\\Python\\Python38\\site-packages\\transformers\\agents\\python_interpreter.py\", line 511, in evaluate_python_code\n",
      "    line_result = evaluate_ast(node, state, tools)\n",
      "  File \"C:\\Users\\zoiyy\\AppData\\Roaming\\Python\\Python38\\site-packages\\transformers\\agents\\python_interpreter.py\", line 360, in evaluate_ast\n",
      "    return evaluate_assign(expression, state, tools)\n",
      "  File \"C:\\Users\\zoiyy\\AppData\\Roaming\\Python\\Python38\\site-packages\\transformers\\agents\\python_interpreter.py\", line 177, in evaluate_assign\n",
      "    result = evaluate_ast(assign.value, state, tools)\n",
      "  File \"C:\\Users\\zoiyy\\AppData\\Roaming\\Python\\Python38\\site-packages\\transformers\\agents\\python_interpreter.py\", line 365, in evaluate_ast\n",
      "    return evaluate_call(expression, state, tools)\n",
      "  File \"C:\\Users\\zoiyy\\AppData\\Roaming\\Python\\Python38\\site-packages\\transformers\\agents\\python_interpreter.py\", line 217, in evaluate_call\n",
      "    output = func(*args, **kwargs)\n",
      "  File \"c:\\Users\\zoiyy\\OneDrive\\Documentos\\Repositorios GIT\\TFM\\Pruebas\\test_batch.py\", line 26, in __call__\n",
      "    preprocessed_dataset_folder\t= adp.preprocess_data( dataset , input_dir , output_dir , json_dir , date_label , dataset_mode )\n",
      "  File \"c:\\Users\\zoiyy\\OneDrive\\Documentos\\Repositorios GIT\\TFM\\Adapted_utils\\Adapted_data_preprocessing.py\", line 237, in preprocess_data\n",
      "    os.mkdir( json_folder )\n",
      "FileNotFoundError: [WinError 3] El sistema no puede encontrar la ruta especificada: ''\n"
     ]
    },
    {
     "data": {
      "text/plain": [
       "\"Error in execution: [WinError 3] El sistema no puede encontrar la ruta especificada: ''. Be sure to provide correct code.\""
      ]
     },
     "metadata": {},
     "output_type": "display_data"
    },
    {
     "data": {
      "text/plain": [
       "'----------------------------------------------------------------------------------------------------'"
      ]
     },
     "metadata": {},
     "output_type": "display_data"
    },
    {
     "data": {
      "text/plain": [
       "'Test prompt 4:'"
      ]
     },
     "metadata": {},
     "output_type": "display_data"
    },
    {
     "name": "stderr",
     "output_type": "stream",
     "text": [
      "\u001b[33;1m======== New task ========\u001b[0m\n",
      "\u001b[37;1mPreprocess the WADI dataset stored in the route 'C:\\Users\\zoiyy\\OneDrive\\Documentos\\DataSets\\TFM\\Pruebas' and save it in 'C:\\Users\\zoiyy\\OneDrive\\Documentos\\DataSets\\TFM\\Pruebas2'.\u001b[0m\n",
      "\u001b[33;1m==== Agent is executing the code below:\u001b[0m\n",
      "\u001b[0m\u001b[38;5;7minput_dir\u001b[39m\u001b[38;5;7m \u001b[39m\u001b[38;5;109;01m=\u001b[39;00m\u001b[38;5;7m \u001b[39m\u001b[38;5;144mr\u001b[39m\u001b[38;5;144m'\u001b[39m\u001b[38;5;144mC:\u001b[39m\u001b[38;5;144m\\\u001b[39m\u001b[38;5;144mUsers\u001b[39m\u001b[38;5;144m\\\u001b[39m\u001b[38;5;144mzoiyy\u001b[39m\u001b[38;5;144m\\\u001b[39m\u001b[38;5;144mOneDrive\u001b[39m\u001b[38;5;144m\\\u001b[39m\u001b[38;5;144mDocumentos\u001b[39m\u001b[38;5;144m\\\u001b[39m\u001b[38;5;144mDataSets\u001b[39m\u001b[38;5;144m\\\u001b[39m\u001b[38;5;144mTFM\u001b[39m\u001b[38;5;144m\\\u001b[39m\u001b[38;5;144mPruebas\u001b[39m\u001b[38;5;144m'\u001b[39m\n",
      "\u001b[38;5;7moutput_dir\u001b[39m\u001b[38;5;7m \u001b[39m\u001b[38;5;109;01m=\u001b[39;00m\u001b[38;5;7m \u001b[39m\u001b[38;5;144mr\u001b[39m\u001b[38;5;144m'\u001b[39m\u001b[38;5;144mC:\u001b[39m\u001b[38;5;144m\\\u001b[39m\u001b[38;5;144mUsers\u001b[39m\u001b[38;5;144m\\\u001b[39m\u001b[38;5;144mzoiyy\u001b[39m\u001b[38;5;144m\\\u001b[39m\u001b[38;5;144mOneDrive\u001b[39m\u001b[38;5;144m\\\u001b[39m\u001b[38;5;144mDocumentos\u001b[39m\u001b[38;5;144m\\\u001b[39m\u001b[38;5;144mDataSets\u001b[39m\u001b[38;5;144m\\\u001b[39m\u001b[38;5;144mTFM\u001b[39m\u001b[38;5;144m\\\u001b[39m\u001b[38;5;144mPruebas2\u001b[39m\u001b[38;5;144m'\u001b[39m\n",
      "\u001b[38;5;7mAnomalyBERT_Data_Preprocessing\u001b[39m\u001b[38;5;7m(\u001b[39m\u001b[38;5;7mdataset\u001b[39m\u001b[38;5;109;01m=\u001b[39;00m\u001b[38;5;144m'\u001b[39m\u001b[38;5;144mWADI\u001b[39m\u001b[38;5;144m'\u001b[39m\u001b[38;5;7m,\u001b[39m\u001b[38;5;7m \u001b[39m\u001b[38;5;7minput_dir\u001b[39m\u001b[38;5;109;01m=\u001b[39;00m\u001b[38;5;7minput_dir\u001b[39m\u001b[38;5;7m,\u001b[39m\u001b[38;5;7m \u001b[39m\u001b[38;5;7moutput_dir\u001b[39m\u001b[38;5;109;01m=\u001b[39;00m\u001b[38;5;7moutput_dir\u001b[39m\u001b[38;5;7m,\u001b[39m\u001b[38;5;7m \u001b[39m\u001b[38;5;7mdate_label\u001b[39m\u001b[38;5;109;01m=\u001b[39;00m\u001b[38;5;109;01mNone\u001b[39;00m\u001b[38;5;7m,\u001b[39m\u001b[38;5;7m \u001b[39m\u001b[38;5;7mdataset_mode\u001b[39m\u001b[38;5;109;01m=\u001b[39;00m\u001b[38;5;109;01mNone\u001b[39;00m\u001b[38;5;7m)\u001b[39m\u001b[0m\n",
      "\u001b[33;1m====\u001b[0m\n"
     ]
    },
    {
     "data": {
      "text/plain": [
       "'C:\\\\Users\\\\zoiyy\\\\OneDrive\\\\Documentos\\\\DataSets\\\\TFM\\\\Pruebas2'"
      ]
     },
     "metadata": {},
     "output_type": "display_data"
    },
    {
     "data": {
      "text/plain": [
       "'----------------------------------------------------------------------------------------------------'"
      ]
     },
     "metadata": {},
     "output_type": "display_data"
    },
    {
     "data": {
      "text/plain": [
       "'Test prompt 5:'"
      ]
     },
     "metadata": {},
     "output_type": "display_data"
    },
    {
     "name": "stderr",
     "output_type": "stream",
     "text": [
      "\u001b[33;1m======== New task ========\u001b[0m\n",
      "\u001b[37;1mPreprocess the WADI dataset stored in the route 'C:\\Users\\zoiyy\\OneDrive\\Documentos\\DataSets\\TFM\\Pruebas' and store it in 'C:\\Users\\zoiyy\\OneDrive\\Documentos\\DataSets\\TFM\\Pruebas2'.\u001b[0m\n",
      "\u001b[33;1m==== Agent is executing the code below:\u001b[0m\n",
      "\u001b[0m\u001b[38;5;7minput_dir\u001b[39m\u001b[38;5;7m \u001b[39m\u001b[38;5;109;01m=\u001b[39;00m\u001b[38;5;7m \u001b[39m\u001b[38;5;144mr\u001b[39m\u001b[38;5;144m'\u001b[39m\u001b[38;5;144mC:\u001b[39m\u001b[38;5;144m\\\u001b[39m\u001b[38;5;144mUsers\u001b[39m\u001b[38;5;144m\\\u001b[39m\u001b[38;5;144mzoiyy\u001b[39m\u001b[38;5;144m\\\u001b[39m\u001b[38;5;144mOneDrive\u001b[39m\u001b[38;5;144m\\\u001b[39m\u001b[38;5;144mDocumentos\u001b[39m\u001b[38;5;144m\\\u001b[39m\u001b[38;5;144mDataSets\u001b[39m\u001b[38;5;144m\\\u001b[39m\u001b[38;5;144mTFM\u001b[39m\u001b[38;5;144m\\\u001b[39m\u001b[38;5;144mPruebas\u001b[39m\u001b[38;5;144m'\u001b[39m\n",
      "\u001b[38;5;7moutput_dir\u001b[39m\u001b[38;5;7m \u001b[39m\u001b[38;5;109;01m=\u001b[39;00m\u001b[38;5;7m \u001b[39m\u001b[38;5;144mr\u001b[39m\u001b[38;5;144m'\u001b[39m\u001b[38;5;144mC:\u001b[39m\u001b[38;5;144m\\\u001b[39m\u001b[38;5;144mUsers\u001b[39m\u001b[38;5;144m\\\u001b[39m\u001b[38;5;144mzoiyy\u001b[39m\u001b[38;5;144m\\\u001b[39m\u001b[38;5;144mOneDrive\u001b[39m\u001b[38;5;144m\\\u001b[39m\u001b[38;5;144mDocumentos\u001b[39m\u001b[38;5;144m\\\u001b[39m\u001b[38;5;144mDataSets\u001b[39m\u001b[38;5;144m\\\u001b[39m\u001b[38;5;144mTFM\u001b[39m\u001b[38;5;144m\\\u001b[39m\u001b[38;5;144mPruebas2\u001b[39m\u001b[38;5;144m'\u001b[39m\n",
      "\u001b[38;5;7mdate_label\u001b[39m\u001b[38;5;7m \u001b[39m\u001b[38;5;109;01m=\u001b[39;00m\u001b[38;5;7m \u001b[39m\u001b[38;5;144m'\u001b[39m\u001b[38;5;144munknown\u001b[39m\u001b[38;5;144m'\u001b[39m\n",
      "\u001b[38;5;7mdataset_mode\u001b[39m\u001b[38;5;7m \u001b[39m\u001b[38;5;109;01m=\u001b[39;00m\u001b[38;5;7m \u001b[39m\u001b[38;5;144m'\u001b[39m\u001b[38;5;144mtrain\u001b[39m\u001b[38;5;144m'\u001b[39m\n",
      "\u001b[38;5;7mdataset\u001b[39m\u001b[38;5;7m \u001b[39m\u001b[38;5;109;01m=\u001b[39;00m\u001b[38;5;7m \u001b[39m\u001b[38;5;144m'\u001b[39m\u001b[38;5;144mWADI\u001b[39m\u001b[38;5;144m'\u001b[39m\n",
      "\u001b[38;5;7mAnomalyBERT_Data_Preprocessing\u001b[39m\u001b[38;5;7m(\u001b[39m\u001b[38;5;7mdataset\u001b[39m\u001b[38;5;109;01m=\u001b[39;00m\u001b[38;5;7mdataset\u001b[39m\u001b[38;5;7m,\u001b[39m\u001b[38;5;7m \u001b[39m\u001b[38;5;7minput_dir\u001b[39m\u001b[38;5;109;01m=\u001b[39;00m\u001b[38;5;7minput_dir\u001b[39m\u001b[38;5;7m,\u001b[39m\u001b[38;5;7m \u001b[39m\u001b[38;5;7moutput_dir\u001b[39m\u001b[38;5;109;01m=\u001b[39;00m\u001b[38;5;7moutput_dir\u001b[39m\u001b[38;5;7m,\u001b[39m\u001b[38;5;7m \u001b[39m\u001b[38;5;7mjson_dir\u001b[39m\u001b[38;5;109;01m=\u001b[39;00m\u001b[38;5;109;01mNone\u001b[39;00m\u001b[38;5;7m,\u001b[39m\u001b[38;5;7m \u001b[39m\u001b[38;5;7mdate_label\u001b[39m\u001b[38;5;109;01m=\u001b[39;00m\u001b[38;5;7mdate_label\u001b[39m\u001b[38;5;7m,\u001b[39m\u001b[38;5;7m \u001b[39m\u001b[38;5;7mdataset_mode\u001b[39m\u001b[38;5;109;01m=\u001b[39;00m\u001b[38;5;7mdataset_mode\u001b[39m\u001b[38;5;7m)\u001b[39m\u001b[0m\n",
      "\u001b[33;1m====\u001b[0m\n",
      "\u001b[31;20mError in execution: [Errno 2] No such file or directory: 'C:\\\\Users\\\\zoiyy\\\\OneDrive\\\\Documentos\\\\DataSets\\\\TFM\\\\Pruebas\\\\WADI/WADI.unknown/WADI_14days_new.csv'. Be sure to provide correct code.\u001b[0m\n",
      "Traceback (most recent call last):\n",
      "  File \"C:\\Users\\zoiyy\\AppData\\Roaming\\Python\\Python38\\site-packages\\transformers\\agents\\agents.py\", line 566, in run\n",
      "    output = self.python_evaluator(code_action, available_tools, state=self.state)\n",
      "  File \"C:\\Users\\zoiyy\\AppData\\Roaming\\Python\\Python38\\site-packages\\transformers\\agents\\python_interpreter.py\", line 511, in evaluate_python_code\n",
      "    line_result = evaluate_ast(node, state, tools)\n",
      "  File \"C:\\Users\\zoiyy\\AppData\\Roaming\\Python\\Python38\\site-packages\\transformers\\agents\\python_interpreter.py\", line 401, in evaluate_ast\n",
      "    return evaluate_ast(expression.value, state, tools)\n",
      "  File \"C:\\Users\\zoiyy\\AppData\\Roaming\\Python\\Python38\\site-packages\\transformers\\agents\\python_interpreter.py\", line 365, in evaluate_ast\n",
      "    return evaluate_call(expression, state, tools)\n",
      "  File \"C:\\Users\\zoiyy\\AppData\\Roaming\\Python\\Python38\\site-packages\\transformers\\agents\\python_interpreter.py\", line 217, in evaluate_call\n",
      "    output = func(*args, **kwargs)\n",
      "  File \"c:\\Users\\zoiyy\\OneDrive\\Documentos\\Repositorios GIT\\TFM\\Pruebas\\test_batch.py\", line 26, in __call__\n",
      "    preprocessed_dataset_folder\t= adp.preprocess_data( dataset , input_dir , output_dir , json_dir , date_label , dataset_mode )\n",
      "  File \"c:\\Users\\zoiyy\\OneDrive\\Documentos\\Repositorios GIT\\TFM\\Adapted_utils\\Adapted_data_preprocessing.py\", line 247, in preprocess_data\n",
      "    load_data( dataset , data_dir , output_folder , json_folder , date_label , process_type )\n",
      "  File \"c:\\Users\\zoiyy\\OneDrive\\Documentos\\Repositorios GIT\\TFM\\Adapted_utils\\Adapted_data_preprocessing.py\", line 200, in load_data\n",
      "    normal_data\t\t= pd.read_csv( os.path.join( base_dir , 'WADI/WADI.' + date_label + '/WADI_14days_new.csv'\t\t) )\n",
      "  File \"C:\\Users\\zoiyy\\AppData\\Roaming\\Python\\Python38\\site-packages\\pandas\\io\\parsers\\readers.py\", line 912, in read_csv\n",
      "    return _read(filepath_or_buffer, kwds)\n",
      "  File \"C:\\Users\\zoiyy\\AppData\\Roaming\\Python\\Python38\\site-packages\\pandas\\io\\parsers\\readers.py\", line 577, in _read\n",
      "    parser = TextFileReader(filepath_or_buffer, **kwds)\n",
      "  File \"C:\\Users\\zoiyy\\AppData\\Roaming\\Python\\Python38\\site-packages\\pandas\\io\\parsers\\readers.py\", line 1407, in __init__\n",
      "    self._engine = self._make_engine(f, self.engine)\n",
      "  File \"C:\\Users\\zoiyy\\AppData\\Roaming\\Python\\Python38\\site-packages\\pandas\\io\\parsers\\readers.py\", line 1661, in _make_engine\n",
      "    self.handles = get_handle(\n",
      "  File \"C:\\Users\\zoiyy\\AppData\\Roaming\\Python\\Python38\\site-packages\\pandas\\io\\common.py\", line 859, in get_handle\n",
      "    handle = open(\n",
      "FileNotFoundError: [Errno 2] No such file or directory: 'C:\\\\Users\\\\zoiyy\\\\OneDrive\\\\Documentos\\\\DataSets\\\\TFM\\\\Pruebas\\\\WADI/WADI.unknown/WADI_14days_new.csv'\n"
     ]
    },
    {
     "data": {
      "text/plain": [
       "\"Error in execution: [Errno 2] No such file or directory: 'C:\\\\\\\\Users\\\\\\\\zoiyy\\\\\\\\OneDrive\\\\\\\\Documentos\\\\\\\\DataSets\\\\\\\\TFM\\\\\\\\Pruebas\\\\\\\\WADI/WADI.unknown/WADI_14days_new.csv'. Be sure to provide correct code.\""
      ]
     },
     "metadata": {},
     "output_type": "display_data"
    },
    {
     "data": {
      "text/plain": [
       "'----------------------------------------------------------------------------------------------------'"
      ]
     },
     "metadata": {},
     "output_type": "display_data"
    },
    {
     "data": {
      "text/plain": [
       "'Test prompt 6:'"
      ]
     },
     "metadata": {},
     "output_type": "display_data"
    },
    {
     "name": "stderr",
     "output_type": "stream",
     "text": [
      "\u001b[33;1m======== New task ========\u001b[0m\n",
      "\u001b[37;1mPreprocess for testing the WADI dataset in the route 'C:\\Users\\zoiyy\\OneDrive\\Documentos\\DataSets\\TFM\\Pruebas' and store it in 'C:\\Users\\zoiyy\\OneDrive\\Documentos\\DataSets\\TFM\\Pruebas2'.\u001b[0m\n",
      "\u001b[33;1m==== Agent is executing the code below:\u001b[0m\n",
      "\u001b[0m\u001b[38;5;7mdataset\u001b[39m\u001b[38;5;7m \u001b[39m\u001b[38;5;109;01m=\u001b[39;00m\u001b[38;5;7m \u001b[39m\u001b[38;5;144m\"\u001b[39m\u001b[38;5;144mWADI\u001b[39m\u001b[38;5;144m\"\u001b[39m\n",
      "\u001b[38;5;7minput_dir\u001b[39m\u001b[38;5;7m \u001b[39m\u001b[38;5;109;01m=\u001b[39;00m\u001b[38;5;7m \u001b[39m\u001b[38;5;144mr\u001b[39m\u001b[38;5;144m'\u001b[39m\u001b[38;5;144mC:\u001b[39m\u001b[38;5;144m\\\u001b[39m\u001b[38;5;144mUsers\u001b[39m\u001b[38;5;144m\\\u001b[39m\u001b[38;5;144mzoiyy\u001b[39m\u001b[38;5;144m\\\u001b[39m\u001b[38;5;144mOneDrive\u001b[39m\u001b[38;5;144m\\\u001b[39m\u001b[38;5;144mDocumentos\u001b[39m\u001b[38;5;144m\\\u001b[39m\u001b[38;5;144mDataSets\u001b[39m\u001b[38;5;144m\\\u001b[39m\u001b[38;5;144mTFM\u001b[39m\u001b[38;5;144m\\\u001b[39m\u001b[38;5;144mPruebas\u001b[39m\u001b[38;5;144m'\u001b[39m\n",
      "\u001b[38;5;7moutput_dir\u001b[39m\u001b[38;5;7m \u001b[39m\u001b[38;5;109;01m=\u001b[39;00m\u001b[38;5;7m \u001b[39m\u001b[38;5;144mr\u001b[39m\u001b[38;5;144m'\u001b[39m\u001b[38;5;144mC:\u001b[39m\u001b[38;5;144m\\\u001b[39m\u001b[38;5;144mUsers\u001b[39m\u001b[38;5;144m\\\u001b[39m\u001b[38;5;144mzoiyy\u001b[39m\u001b[38;5;144m\\\u001b[39m\u001b[38;5;144mOneDrive\u001b[39m\u001b[38;5;144m\\\u001b[39m\u001b[38;5;144mDocumentos\u001b[39m\u001b[38;5;144m\\\u001b[39m\u001b[38;5;144mDataSets\u001b[39m\u001b[38;5;144m\\\u001b[39m\u001b[38;5;144mTFM\u001b[39m\u001b[38;5;144m\\\u001b[39m\u001b[38;5;144mPruebas2\u001b[39m\u001b[38;5;144m'\u001b[39m\n",
      "\u001b[38;5;7mdate_label\u001b[39m\u001b[38;5;7m \u001b[39m\u001b[38;5;109;01m=\u001b[39;00m\u001b[38;5;7m \u001b[39m\u001b[38;5;144m'\u001b[39m\u001b[38;5;144m'\u001b[39m\u001b[38;5;7m  \u001b[39m\u001b[38;5;60;03m# not needed for WADI dataset\u001b[39;00m\n",
      "\u001b[38;5;7mdataset_mode\u001b[39m\u001b[38;5;7m \u001b[39m\u001b[38;5;109;01m=\u001b[39;00m\u001b[38;5;7m \u001b[39m\u001b[38;5;144m'\u001b[39m\u001b[38;5;144mtest\u001b[39m\u001b[38;5;144m'\u001b[39m\n",
      "\n",
      "\u001b[38;5;7mpreprocessed_path\u001b[39m\u001b[38;5;7m \u001b[39m\u001b[38;5;109;01m=\u001b[39;00m\u001b[38;5;7m \u001b[39m\u001b[38;5;7mAnomalyBERT_Data_Preprocessing\u001b[39m\u001b[38;5;7m(\u001b[39m\u001b[38;5;7mdataset\u001b[39m\u001b[38;5;7m,\u001b[39m\u001b[38;5;7m \u001b[39m\u001b[38;5;7minput_dir\u001b[39m\u001b[38;5;7m,\u001b[39m\u001b[38;5;7m \u001b[39m\u001b[38;5;7moutput_dir\u001b[39m\u001b[38;5;7m,\u001b[39m\u001b[38;5;7m \u001b[39m\u001b[38;5;7mdate_label\u001b[39m\u001b[38;5;7m,\u001b[39m\u001b[38;5;7m \u001b[39m\u001b[38;5;7mdataset_mode\u001b[39m\u001b[38;5;7m)\u001b[39m\u001b[0m\n",
      "\u001b[33;1m====\u001b[0m\n",
      "\u001b[31;20mError in execution: [WinError 3] El sistema no puede encontrar la ruta especificada: ''. Be sure to provide correct code.\u001b[0m\n",
      "Traceback (most recent call last):\n",
      "  File \"C:\\Users\\zoiyy\\AppData\\Roaming\\Python\\Python38\\site-packages\\transformers\\agents\\agents.py\", line 566, in run\n",
      "    output = self.python_evaluator(code_action, available_tools, state=self.state)\n",
      "  File \"C:\\Users\\zoiyy\\AppData\\Roaming\\Python\\Python38\\site-packages\\transformers\\agents\\python_interpreter.py\", line 511, in evaluate_python_code\n",
      "    line_result = evaluate_ast(node, state, tools)\n",
      "  File \"C:\\Users\\zoiyy\\AppData\\Roaming\\Python\\Python38\\site-packages\\transformers\\agents\\python_interpreter.py\", line 360, in evaluate_ast\n",
      "    return evaluate_assign(expression, state, tools)\n",
      "  File \"C:\\Users\\zoiyy\\AppData\\Roaming\\Python\\Python38\\site-packages\\transformers\\agents\\python_interpreter.py\", line 177, in evaluate_assign\n",
      "    result = evaluate_ast(assign.value, state, tools)\n",
      "  File \"C:\\Users\\zoiyy\\AppData\\Roaming\\Python\\Python38\\site-packages\\transformers\\agents\\python_interpreter.py\", line 365, in evaluate_ast\n",
      "    return evaluate_call(expression, state, tools)\n",
      "  File \"C:\\Users\\zoiyy\\AppData\\Roaming\\Python\\Python38\\site-packages\\transformers\\agents\\python_interpreter.py\", line 217, in evaluate_call\n",
      "    output = func(*args, **kwargs)\n",
      "  File \"c:\\Users\\zoiyy\\OneDrive\\Documentos\\Repositorios GIT\\TFM\\Pruebas\\test_batch.py\", line 26, in __call__\n",
      "    preprocessed_dataset_folder\t= adp.preprocess_data( dataset , input_dir , output_dir , json_dir , date_label , dataset_mode )\n",
      "  File \"c:\\Users\\zoiyy\\OneDrive\\Documentos\\Repositorios GIT\\TFM\\Adapted_utils\\Adapted_data_preprocessing.py\", line 237, in preprocess_data\n",
      "    os.mkdir( json_folder )\n",
      "FileNotFoundError: [WinError 3] El sistema no puede encontrar la ruta especificada: ''\n"
     ]
    },
    {
     "data": {
      "text/plain": [
       "\"Error in execution: [WinError 3] El sistema no puede encontrar la ruta especificada: ''. Be sure to provide correct code.\""
      ]
     },
     "metadata": {},
     "output_type": "display_data"
    },
    {
     "data": {
      "text/plain": [
       "'----------------------------------------------------------------------------------------------------'"
      ]
     },
     "metadata": {},
     "output_type": "display_data"
    },
    {
     "data": {
      "text/plain": [
       "'Test prompt 7:'"
      ]
     },
     "metadata": {},
     "output_type": "display_data"
    },
    {
     "name": "stderr",
     "output_type": "stream",
     "text": [
      "\u001b[33;1m======== New task ========\u001b[0m\n",
      "\u001b[37;1mThe WADI dataset in the route 'C:\\Users\\zoiyy\\OneDrive\\Documentos\\DataSets\\TFM\\Pruebas' is meant for testing. Preprocess it and store it in 'C:\\Users\\zoiyy\\OneDrive\\Documentos\\DataSets\\TFM\\Pruebas2'.\u001b[0m\n",
      "\u001b[33;1m==== Agent is executing the code below:\u001b[0m\n",
      "\u001b[0m\u001b[38;5;7mdataset\u001b[39m\u001b[38;5;7m \u001b[39m\u001b[38;5;109;01m=\u001b[39;00m\u001b[38;5;7m \u001b[39m\u001b[38;5;144m'\u001b[39m\u001b[38;5;144mWADI\u001b[39m\u001b[38;5;144m'\u001b[39m\n",
      "\u001b[38;5;7minput_dir\u001b[39m\u001b[38;5;7m \u001b[39m\u001b[38;5;109;01m=\u001b[39;00m\u001b[38;5;7m \u001b[39m\u001b[38;5;144mr\u001b[39m\u001b[38;5;144m'\u001b[39m\u001b[38;5;144mC:\u001b[39m\u001b[38;5;144m\\\u001b[39m\u001b[38;5;144mUsers\u001b[39m\u001b[38;5;144m\\\u001b[39m\u001b[38;5;144mzoiyy\u001b[39m\u001b[38;5;144m\\\u001b[39m\u001b[38;5;144mOneDrive\u001b[39m\u001b[38;5;144m\\\u001b[39m\u001b[38;5;144mDocumentos\u001b[39m\u001b[38;5;144m\\\u001b[39m\u001b[38;5;144mDataSets\u001b[39m\u001b[38;5;144m\\\u001b[39m\u001b[38;5;144mTFM\u001b[39m\u001b[38;5;144m\\\u001b[39m\u001b[38;5;144mPruebas\u001b[39m\u001b[38;5;144m'\u001b[39m\n",
      "\u001b[38;5;7moutput_dir\u001b[39m\u001b[38;5;7m \u001b[39m\u001b[38;5;109;01m=\u001b[39;00m\u001b[38;5;7m \u001b[39m\u001b[38;5;144mr\u001b[39m\u001b[38;5;144m'\u001b[39m\u001b[38;5;144mC:\u001b[39m\u001b[38;5;144m\\\u001b[39m\u001b[38;5;144mUsers\u001b[39m\u001b[38;5;144m\\\u001b[39m\u001b[38;5;144mzoiyy\u001b[39m\u001b[38;5;144m\\\u001b[39m\u001b[38;5;144mOneDrive\u001b[39m\u001b[38;5;144m\\\u001b[39m\u001b[38;5;144mDocumentos\u001b[39m\u001b[38;5;144m\\\u001b[39m\u001b[38;5;144mDataSets\u001b[39m\u001b[38;5;144m\\\u001b[39m\u001b[38;5;144mTFM\u001b[39m\u001b[38;5;144m\\\u001b[39m\u001b[38;5;144mPruebas2\u001b[39m\u001b[38;5;144m'\u001b[39m\n",
      "\u001b[38;5;7mdate_label\u001b[39m\u001b[38;5;7m \u001b[39m\u001b[38;5;109;01m=\u001b[39;00m\u001b[38;5;7m \u001b[39m\u001b[38;5;109;01mNone\u001b[39;00m\n",
      "\u001b[38;5;7mdataset_mode\u001b[39m\u001b[38;5;7m \u001b[39m\u001b[38;5;109;01m=\u001b[39;00m\u001b[38;5;7m \u001b[39m\u001b[38;5;144m'\u001b[39m\u001b[38;5;144mtest\u001b[39m\u001b[38;5;144m'\u001b[39m\n",
      "\n",
      "\u001b[38;5;7mpreprocessed_data_path\u001b[39m\u001b[38;5;7m \u001b[39m\u001b[38;5;109;01m=\u001b[39;00m\u001b[38;5;7m \u001b[39m\u001b[38;5;7mAnomalyBERT_Data_Preprocessing\u001b[39m\u001b[38;5;7m(\u001b[39m\u001b[38;5;7mdataset\u001b[39m\u001b[38;5;109;01m=\u001b[39;00m\u001b[38;5;7mdataset\u001b[39m\u001b[38;5;7m,\u001b[39m\u001b[38;5;7m \u001b[39m\u001b[38;5;7minput_dir\u001b[39m\u001b[38;5;109;01m=\u001b[39;00m\u001b[38;5;7minput_dir\u001b[39m\u001b[38;5;7m,\u001b[39m\u001b[38;5;7m \u001b[39m\u001b[38;5;7moutput_dir\u001b[39m\u001b[38;5;109;01m=\u001b[39;00m\u001b[38;5;7moutput_dir\u001b[39m\u001b[38;5;7m,\u001b[39m\u001b[38;5;7m \u001b[39m\u001b[38;5;7mdate_label\u001b[39m\u001b[38;5;109;01m=\u001b[39;00m\u001b[38;5;7mdate_label\u001b[39m\u001b[38;5;7m,\u001b[39m\u001b[38;5;7m \u001b[39m\u001b[38;5;7mdataset_mode\u001b[39m\u001b[38;5;109;01m=\u001b[39;00m\u001b[38;5;7mdataset_mode\u001b[39m\u001b[38;5;7m)\u001b[39m\n",
      "\u001b[38;5;109mprint\u001b[39m\u001b[38;5;7m(\u001b[39m\u001b[38;5;144mf\u001b[39m\u001b[38;5;144m\"\u001b[39m\u001b[38;5;144mThe preprocessed data has been stored in \u001b[39m\u001b[38;5;144m{\u001b[39m\u001b[38;5;7mpreprocessed_data_path\u001b[39m\u001b[38;5;144m}\u001b[39m\u001b[38;5;144m.\u001b[39m\u001b[38;5;144m\"\u001b[39m\u001b[38;5;7m)\u001b[39m\u001b[0m\n",
      "\u001b[33;1m====\u001b[0m\n"
     ]
    },
    {
     "data": {
      "text/plain": [
       "'The preprocessed data has been stored in C:\\\\Users\\\\zoiyy\\\\OneDrive\\\\Documentos\\\\DataSets\\\\TFM\\\\Pruebas2.'"
      ]
     },
     "metadata": {},
     "output_type": "display_data"
    },
    {
     "data": {
      "text/plain": [
       "'===================================================================================================='"
      ]
     },
     "metadata": {},
     "output_type": "display_data"
    },
    {
     "data": {
      "text/plain": [
       "'===================================================================================================='"
      ]
     },
     "metadata": {},
     "output_type": "display_data"
    },
    {
     "data": {
      "text/plain": [
       "'RESULTS FOR TOOL DESCRIPTION 1-INDENT:'"
      ]
     },
     "metadata": {},
     "output_type": "display_data"
    },
    {
     "data": {
      "text/plain": [
       "'----------------------------------------------------------------------------------------------------'"
      ]
     },
     "metadata": {},
     "output_type": "display_data"
    },
    {
     "data": {
      "text/plain": [
       "'Test prompt 1:'"
      ]
     },
     "metadata": {},
     "output_type": "display_data"
    },
    {
     "name": "stderr",
     "output_type": "stream",
     "text": [
      "\u001b[33;1m======== New task ========\u001b[0m\n",
      "\u001b[37;1mPreprocess the WADI dataset in the route 'C:\\Users\\zoiyy\\OneDrive\\Documentos\\DataSets\\TFM\\Pruebas'.\u001b[0m\n",
      "\u001b[33;1m==== Agent is executing the code below:\u001b[0m\n",
      "\u001b[0m\u001b[38;5;7minput_dir\u001b[39m\u001b[38;5;7m \u001b[39m\u001b[38;5;109;01m=\u001b[39;00m\u001b[38;5;7m \u001b[39m\u001b[38;5;144mr\u001b[39m\u001b[38;5;144m'\u001b[39m\u001b[38;5;144mC:\u001b[39m\u001b[38;5;144m\\\u001b[39m\u001b[38;5;144mUsers\u001b[39m\u001b[38;5;144m\\\u001b[39m\u001b[38;5;144mzoiyy\u001b[39m\u001b[38;5;144m\\\u001b[39m\u001b[38;5;144mOneDrive\u001b[39m\u001b[38;5;144m\\\u001b[39m\u001b[38;5;144mDocumentos\u001b[39m\u001b[38;5;144m\\\u001b[39m\u001b[38;5;144mDataSets\u001b[39m\u001b[38;5;144m\\\u001b[39m\u001b[38;5;144mTFM\u001b[39m\u001b[38;5;144m\\\u001b[39m\u001b[38;5;144mPruebas\u001b[39m\u001b[38;5;144m'\u001b[39m\n",
      "\u001b[38;5;7moutput_dir\u001b[39m\u001b[38;5;7m \u001b[39m\u001b[38;5;109;01m=\u001b[39;00m\u001b[38;5;7m \u001b[39m\u001b[38;5;144mr\u001b[39m\u001b[38;5;144m'\u001b[39m\u001b[38;5;144mC:\u001b[39m\u001b[38;5;144m\\\u001b[39m\u001b[38;5;144mUsers\u001b[39m\u001b[38;5;144m\\\u001b[39m\u001b[38;5;144mzoiyy\u001b[39m\u001b[38;5;144m\\\u001b[39m\u001b[38;5;144mOneDrive\u001b[39m\u001b[38;5;144m\\\u001b[39m\u001b[38;5;144mDocumentos\u001b[39m\u001b[38;5;144m\\\u001b[39m\u001b[38;5;144mDataSets\u001b[39m\u001b[38;5;144m\\\u001b[39m\u001b[38;5;144mTFM\u001b[39m\u001b[38;5;144m\\\u001b[39m\u001b[38;5;144mPruebas_preprocessed\u001b[39m\u001b[38;5;144m'\u001b[39m\n",
      "\u001b[38;5;7mdate_label\u001b[39m\u001b[38;5;7m \u001b[39m\u001b[38;5;109;01m=\u001b[39;00m\u001b[38;5;7m \u001b[39m\u001b[38;5;144m'\u001b[39m\u001b[38;5;144m2021-07-21\u001b[39m\u001b[38;5;144m'\u001b[39m\n",
      "\u001b[38;5;7mdataset_mode\u001b[39m\u001b[38;5;7m \u001b[39m\u001b[38;5;109;01m=\u001b[39;00m\u001b[38;5;7m \u001b[39m\u001b[38;5;144m'\u001b[39m\u001b[38;5;144mtrain\u001b[39m\u001b[38;5;144m'\u001b[39m\n",
      "\u001b[38;5;7mpreprocessed_data_path\u001b[39m\u001b[38;5;7m \u001b[39m\u001b[38;5;109;01m=\u001b[39;00m\u001b[38;5;7m \u001b[39m\u001b[38;5;7mAnomalyBERT_Data_Preprocessing\u001b[39m\u001b[38;5;7m(\u001b[39m\u001b[38;5;7mdataset\u001b[39m\u001b[38;5;109;01m=\u001b[39;00m\u001b[38;5;144m'\u001b[39m\u001b[38;5;144mWADI\u001b[39m\u001b[38;5;144m'\u001b[39m\u001b[38;5;7m,\u001b[39m\u001b[38;5;7m \u001b[39m\u001b[38;5;7minput_dir\u001b[39m\u001b[38;5;109;01m=\u001b[39;00m\u001b[38;5;7minput_dir\u001b[39m\u001b[38;5;7m,\u001b[39m\u001b[38;5;7m \u001b[39m\u001b[38;5;7moutput_dir\u001b[39m\u001b[38;5;109;01m=\u001b[39;00m\u001b[38;5;7moutput_dir\u001b[39m\u001b[38;5;7m,\u001b[39m\u001b[38;5;7m \u001b[39m\u001b[38;5;7mdate_label\u001b[39m\u001b[38;5;109;01m=\u001b[39;00m\u001b[38;5;7mdate_label\u001b[39m\u001b[38;5;7m,\u001b[39m\u001b[38;5;7m \u001b[39m\u001b[38;5;7mdataset_mode\u001b[39m\u001b[38;5;109;01m=\u001b[39;00m\u001b[38;5;7mdataset_mode\u001b[39m\u001b[38;5;7m)\u001b[39m\n",
      "\u001b[38;5;109mprint\u001b[39m\u001b[38;5;7m(\u001b[39m\u001b[38;5;144mf\u001b[39m\u001b[38;5;144m\"\u001b[39m\u001b[38;5;144mThe preprocessed data has been stored at \u001b[39m\u001b[38;5;144m{\u001b[39m\u001b[38;5;7mpreprocessed_data_path\u001b[39m\u001b[38;5;144m}\u001b[39m\u001b[38;5;144m\"\u001b[39m\u001b[38;5;7m)\u001b[39m\u001b[0m\n",
      "\u001b[33;1m====\u001b[0m\n",
      "\u001b[31;20mError in execution: [Errno 2] No such file or directory: 'C:\\\\Users\\\\zoiyy\\\\OneDrive\\\\Documentos\\\\DataSets\\\\TFM\\\\Pruebas\\\\WADI/WADI.2021-07-21/WADI_14days_new.csv'. Be sure to provide correct code.\u001b[0m\n",
      "Traceback (most recent call last):\n",
      "  File \"C:\\Users\\zoiyy\\AppData\\Roaming\\Python\\Python38\\site-packages\\transformers\\agents\\agents.py\", line 566, in run\n",
      "    output = self.python_evaluator(code_action, available_tools, state=self.state)\n",
      "  File \"C:\\Users\\zoiyy\\AppData\\Roaming\\Python\\Python38\\site-packages\\transformers\\agents\\python_interpreter.py\", line 511, in evaluate_python_code\n",
      "    line_result = evaluate_ast(node, state, tools)\n",
      "  File \"C:\\Users\\zoiyy\\AppData\\Roaming\\Python\\Python38\\site-packages\\transformers\\agents\\python_interpreter.py\", line 360, in evaluate_ast\n",
      "    return evaluate_assign(expression, state, tools)\n",
      "  File \"C:\\Users\\zoiyy\\AppData\\Roaming\\Python\\Python38\\site-packages\\transformers\\agents\\python_interpreter.py\", line 177, in evaluate_assign\n",
      "    result = evaluate_ast(assign.value, state, tools)\n",
      "  File \"C:\\Users\\zoiyy\\AppData\\Roaming\\Python\\Python38\\site-packages\\transformers\\agents\\python_interpreter.py\", line 365, in evaluate_ast\n",
      "    return evaluate_call(expression, state, tools)\n",
      "  File \"C:\\Users\\zoiyy\\AppData\\Roaming\\Python\\Python38\\site-packages\\transformers\\agents\\python_interpreter.py\", line 217, in evaluate_call\n",
      "    output = func(*args, **kwargs)\n",
      "  File \"c:\\Users\\zoiyy\\OneDrive\\Documentos\\Repositorios GIT\\TFM\\Pruebas\\test_batch.py\", line 26, in __call__\n",
      "    preprocessed_dataset_folder\t= adp.preprocess_data( dataset , input_dir , output_dir , json_dir , date_label , dataset_mode )\n",
      "  File \"c:\\Users\\zoiyy\\OneDrive\\Documentos\\Repositorios GIT\\TFM\\Adapted_utils\\Adapted_data_preprocessing.py\", line 247, in preprocess_data\n",
      "    load_data( dataset , data_dir , output_folder , json_folder , date_label , process_type )\n",
      "  File \"c:\\Users\\zoiyy\\OneDrive\\Documentos\\Repositorios GIT\\TFM\\Adapted_utils\\Adapted_data_preprocessing.py\", line 200, in load_data\n",
      "    normal_data\t\t= pd.read_csv( os.path.join( base_dir , 'WADI/WADI.' + date_label + '/WADI_14days_new.csv'\t\t) )\n",
      "  File \"C:\\Users\\zoiyy\\AppData\\Roaming\\Python\\Python38\\site-packages\\pandas\\io\\parsers\\readers.py\", line 912, in read_csv\n",
      "    return _read(filepath_or_buffer, kwds)\n",
      "  File \"C:\\Users\\zoiyy\\AppData\\Roaming\\Python\\Python38\\site-packages\\pandas\\io\\parsers\\readers.py\", line 577, in _read\n",
      "    parser = TextFileReader(filepath_or_buffer, **kwds)\n",
      "  File \"C:\\Users\\zoiyy\\AppData\\Roaming\\Python\\Python38\\site-packages\\pandas\\io\\parsers\\readers.py\", line 1407, in __init__\n",
      "    self._engine = self._make_engine(f, self.engine)\n",
      "  File \"C:\\Users\\zoiyy\\AppData\\Roaming\\Python\\Python38\\site-packages\\pandas\\io\\parsers\\readers.py\", line 1661, in _make_engine\n",
      "    self.handles = get_handle(\n",
      "  File \"C:\\Users\\zoiyy\\AppData\\Roaming\\Python\\Python38\\site-packages\\pandas\\io\\common.py\", line 859, in get_handle\n",
      "    handle = open(\n",
      "FileNotFoundError: [Errno 2] No such file or directory: 'C:\\\\Users\\\\zoiyy\\\\OneDrive\\\\Documentos\\\\DataSets\\\\TFM\\\\Pruebas\\\\WADI/WADI.2021-07-21/WADI_14days_new.csv'\n"
     ]
    },
    {
     "data": {
      "text/plain": [
       "\"Error in execution: [Errno 2] No such file or directory: 'C:\\\\\\\\Users\\\\\\\\zoiyy\\\\\\\\OneDrive\\\\\\\\Documentos\\\\\\\\DataSets\\\\\\\\TFM\\\\\\\\Pruebas\\\\\\\\WADI/WADI.2021-07-21/WADI_14days_new.csv'. Be sure to provide correct code.\""
      ]
     },
     "metadata": {},
     "output_type": "display_data"
    },
    {
     "data": {
      "text/plain": [
       "'----------------------------------------------------------------------------------------------------'"
      ]
     },
     "metadata": {},
     "output_type": "display_data"
    },
    {
     "data": {
      "text/plain": [
       "'Test prompt 2:'"
      ]
     },
     "metadata": {},
     "output_type": "display_data"
    },
    {
     "name": "stderr",
     "output_type": "stream",
     "text": [
      "\u001b[33;1m======== New task ========\u001b[0m\n",
      "\u001b[37;1mPreprocess the raw WADI dataset stored in the route 'C:\\Users\\zoiyy\\OneDrive\\Documentos\\DataSets\\TFM\\Pruebas'.\u001b[0m\n",
      "\u001b[33;1m==== Agent is executing the code below:\u001b[0m\n",
      "\u001b[0m\u001b[38;5;7minput_dir\u001b[39m\u001b[38;5;7m \u001b[39m\u001b[38;5;109;01m=\u001b[39;00m\u001b[38;5;7m \u001b[39m\u001b[38;5;144mr\u001b[39m\u001b[38;5;144m'\u001b[39m\u001b[38;5;144mC:\u001b[39m\u001b[38;5;144m\\\u001b[39m\u001b[38;5;144mUsers\u001b[39m\u001b[38;5;144m\\\u001b[39m\u001b[38;5;144mzoiyy\u001b[39m\u001b[38;5;144m\\\u001b[39m\u001b[38;5;144mOneDrive\u001b[39m\u001b[38;5;144m\\\u001b[39m\u001b[38;5;144mDocumentos\u001b[39m\u001b[38;5;144m\\\u001b[39m\u001b[38;5;144mDataSets\u001b[39m\u001b[38;5;144m\\\u001b[39m\u001b[38;5;144mTFM\u001b[39m\u001b[38;5;144m\\\u001b[39m\u001b[38;5;144mPruebas\u001b[39m\u001b[38;5;144m'\u001b[39m\n",
      "\u001b[38;5;7moutput_dir\u001b[39m\u001b[38;5;7m \u001b[39m\u001b[38;5;109;01m=\u001b[39;00m\u001b[38;5;7m \u001b[39m\u001b[38;5;144mr\u001b[39m\u001b[38;5;144m'\u001b[39m\u001b[38;5;144mC:\u001b[39m\u001b[38;5;144m\\\u001b[39m\u001b[38;5;144mUsers\u001b[39m\u001b[38;5;144m\\\u001b[39m\u001b[38;5;144mzoiyy\u001b[39m\u001b[38;5;144m\\\u001b[39m\u001b[38;5;144mOneDrive\u001b[39m\u001b[38;5;144m\\\u001b[39m\u001b[38;5;144mDocumentos\u001b[39m\u001b[38;5;144m\\\u001b[39m\u001b[38;5;144mDataSets\u001b[39m\u001b[38;5;144m\\\u001b[39m\u001b[38;5;144mTFM\u001b[39m\u001b[38;5;144m\\\u001b[39m\u001b[38;5;144mProcessed_WADI\u001b[39m\u001b[38;5;144m'\u001b[39m\n",
      "\u001b[38;5;7mdate_label\u001b[39m\u001b[38;5;7m \u001b[39m\u001b[38;5;109;01m=\u001b[39;00m\u001b[38;5;7m \u001b[39m\u001b[38;5;144m'\u001b[39m\u001b[38;5;144mYYYY-MM-DD\u001b[39m\u001b[38;5;144m'\u001b[39m\n",
      "\u001b[38;5;7mdataset_mode\u001b[39m\u001b[38;5;7m \u001b[39m\u001b[38;5;109;01m=\u001b[39;00m\u001b[38;5;7m \u001b[39m\u001b[38;5;144m'\u001b[39m\u001b[38;5;144mtrain\u001b[39m\u001b[38;5;144m'\u001b[39m\n",
      "\u001b[38;5;7mprocessed_path\u001b[39m\u001b[38;5;7m \u001b[39m\u001b[38;5;109;01m=\u001b[39;00m\u001b[38;5;7m \u001b[39m\u001b[38;5;7mAnomalyBERT_Data_Preprocessing\u001b[39m\u001b[38;5;7m(\u001b[39m\u001b[38;5;7minput_dir\u001b[39m\u001b[38;5;109;01m=\u001b[39;00m\u001b[38;5;7minput_dir\u001b[39m\u001b[38;5;7m,\u001b[39m\u001b[38;5;7m \u001b[39m\u001b[38;5;7moutput_dir\u001b[39m\u001b[38;5;109;01m=\u001b[39;00m\u001b[38;5;7moutput_dir\u001b[39m\u001b[38;5;7m,\u001b[39m\u001b[38;5;7m \u001b[39m\u001b[38;5;7mdate_label\u001b[39m\u001b[38;5;109;01m=\u001b[39;00m\u001b[38;5;7mdate_label\u001b[39m\u001b[38;5;7m,\u001b[39m\u001b[38;5;7m \u001b[39m\u001b[38;5;7mdataset_mode\u001b[39m\u001b[38;5;109;01m=\u001b[39;00m\u001b[38;5;7mdataset_mode\u001b[39m\u001b[38;5;7m)\u001b[39m\n",
      "\u001b[38;5;109mprint\u001b[39m\u001b[38;5;7m(\u001b[39m\u001b[38;5;144mf\u001b[39m\u001b[38;5;144m\"\u001b[39m\u001b[38;5;144mThe preprocessed data has been stored at \u001b[39m\u001b[38;5;144m{\u001b[39m\u001b[38;5;7mprocessed_path\u001b[39m\u001b[38;5;144m}\u001b[39m\u001b[38;5;144m\"\u001b[39m\u001b[38;5;7m)\u001b[39m\u001b[0m\n",
      "\u001b[33;1m====\u001b[0m\n",
      "\u001b[31;20mError in execution: __call__() missing 1 required positional argument: 'dataset'. Be sure to provide correct code.\u001b[0m\n",
      "Traceback (most recent call last):\n",
      "  File \"C:\\Users\\zoiyy\\AppData\\Roaming\\Python\\Python38\\site-packages\\transformers\\agents\\agents.py\", line 566, in run\n",
      "    output = self.python_evaluator(code_action, available_tools, state=self.state)\n",
      "  File \"C:\\Users\\zoiyy\\AppData\\Roaming\\Python\\Python38\\site-packages\\transformers\\agents\\python_interpreter.py\", line 511, in evaluate_python_code\n",
      "    line_result = evaluate_ast(node, state, tools)\n",
      "  File \"C:\\Users\\zoiyy\\AppData\\Roaming\\Python\\Python38\\site-packages\\transformers\\agents\\python_interpreter.py\", line 360, in evaluate_ast\n",
      "    return evaluate_assign(expression, state, tools)\n",
      "  File \"C:\\Users\\zoiyy\\AppData\\Roaming\\Python\\Python38\\site-packages\\transformers\\agents\\python_interpreter.py\", line 177, in evaluate_assign\n",
      "    result = evaluate_ast(assign.value, state, tools)\n",
      "  File \"C:\\Users\\zoiyy\\AppData\\Roaming\\Python\\Python38\\site-packages\\transformers\\agents\\python_interpreter.py\", line 365, in evaluate_ast\n",
      "    return evaluate_call(expression, state, tools)\n",
      "  File \"C:\\Users\\zoiyy\\AppData\\Roaming\\Python\\Python38\\site-packages\\transformers\\agents\\python_interpreter.py\", line 217, in evaluate_call\n",
      "    output = func(*args, **kwargs)\n",
      "TypeError: __call__() missing 1 required positional argument: 'dataset'\n"
     ]
    },
    {
     "data": {
      "text/plain": [
       "\"Error in execution: __call__() missing 1 required positional argument: 'dataset'. Be sure to provide correct code.\""
      ]
     },
     "metadata": {},
     "output_type": "display_data"
    },
    {
     "data": {
      "text/plain": [
       "'----------------------------------------------------------------------------------------------------'"
      ]
     },
     "metadata": {},
     "output_type": "display_data"
    },
    {
     "data": {
      "text/plain": [
       "'Test prompt 3:'"
      ]
     },
     "metadata": {},
     "output_type": "display_data"
    },
    {
     "name": "stderr",
     "output_type": "stream",
     "text": [
      "\u001b[33;1m======== New task ========\u001b[0m\n",
      "\u001b[37;1mPreprocess the WADI dataset in the route 'C:\\Users\\zoiyy\\OneDrive\\Documentos\\DataSets\\TFM\\Pruebas' and store it in 'C:\\Users\\zoiyy\\OneDrive\\Documentos\\DataSets\\TFM\\Pruebas2'.\u001b[0m\n",
      "\u001b[33;1m==== Agent is executing the code below:\u001b[0m\n",
      "\u001b[0m\u001b[38;5;7mdataset\u001b[39m\u001b[38;5;7m \u001b[39m\u001b[38;5;109;01m=\u001b[39;00m\u001b[38;5;7m \u001b[39m\u001b[38;5;144m'\u001b[39m\u001b[38;5;144mWADI\u001b[39m\u001b[38;5;144m'\u001b[39m\n",
      "\u001b[38;5;7minput_dir\u001b[39m\u001b[38;5;7m \u001b[39m\u001b[38;5;109;01m=\u001b[39;00m\u001b[38;5;7m \u001b[39m\u001b[38;5;144mr\u001b[39m\u001b[38;5;144m'\u001b[39m\u001b[38;5;144mC:\u001b[39m\u001b[38;5;144m\\\u001b[39m\u001b[38;5;144mUsers\u001b[39m\u001b[38;5;144m\\\u001b[39m\u001b[38;5;144mzoiyy\u001b[39m\u001b[38;5;144m\\\u001b[39m\u001b[38;5;144mOneDrive\u001b[39m\u001b[38;5;144m\\\u001b[39m\u001b[38;5;144mDocumentos\u001b[39m\u001b[38;5;144m\\\u001b[39m\u001b[38;5;144mDataSets\u001b[39m\u001b[38;5;144m\\\u001b[39m\u001b[38;5;144mTFM\u001b[39m\u001b[38;5;144m\\\u001b[39m\u001b[38;5;144mPruebas\u001b[39m\u001b[38;5;144m'\u001b[39m\n",
      "\u001b[38;5;7moutput_dir\u001b[39m\u001b[38;5;7m \u001b[39m\u001b[38;5;109;01m=\u001b[39;00m\u001b[38;5;7m \u001b[39m\u001b[38;5;144mr\u001b[39m\u001b[38;5;144m'\u001b[39m\u001b[38;5;144mC:\u001b[39m\u001b[38;5;144m\\\u001b[39m\u001b[38;5;144mUsers\u001b[39m\u001b[38;5;144m\\\u001b[39m\u001b[38;5;144mzoiyy\u001b[39m\u001b[38;5;144m\\\u001b[39m\u001b[38;5;144mOneDrive\u001b[39m\u001b[38;5;144m\\\u001b[39m\u001b[38;5;144mDocumentos\u001b[39m\u001b[38;5;144m\\\u001b[39m\u001b[38;5;144mDataSets\u001b[39m\u001b[38;5;144m\\\u001b[39m\u001b[38;5;144mTFM\u001b[39m\u001b[38;5;144m\\\u001b[39m\u001b[38;5;144mPruebas2\u001b[39m\u001b[38;5;144m'\u001b[39m\n",
      "\u001b[38;5;7mdate_label\u001b[39m\u001b[38;5;7m \u001b[39m\u001b[38;5;109;01m=\u001b[39;00m\u001b[38;5;7m \u001b[39m\u001b[38;5;144m'\u001b[39m\u001b[38;5;144m'\u001b[39m\u001b[38;5;7m  \u001b[39m\u001b[38;5;60;03m# no date label for WADI\u001b[39;00m\n",
      "\u001b[38;5;7mdataset_mode\u001b[39m\u001b[38;5;7m \u001b[39m\u001b[38;5;109;01m=\u001b[39;00m\u001b[38;5;7m \u001b[39m\u001b[38;5;144m'\u001b[39m\u001b[38;5;144mtrain\u001b[39m\u001b[38;5;144m'\u001b[39m\u001b[38;5;7m  \u001b[39m\u001b[38;5;60;03m# default mode, or test or exploitation\u001b[39;00m\n",
      "\u001b[38;5;7mpreprocessed_path\u001b[39m\u001b[38;5;7m \u001b[39m\u001b[38;5;109;01m=\u001b[39;00m\u001b[38;5;7m \u001b[39m\u001b[38;5;7mAnomalyBERT_Data_Preprocessing\u001b[39m\u001b[38;5;7m(\u001b[39m\u001b[38;5;7mdataset\u001b[39m\u001b[38;5;109;01m=\u001b[39;00m\u001b[38;5;7mdataset\u001b[39m\u001b[38;5;7m,\u001b[39m\u001b[38;5;7m \u001b[39m\u001b[38;5;7minput_dir\u001b[39m\u001b[38;5;109;01m=\u001b[39;00m\u001b[38;5;7minput_dir\u001b[39m\u001b[38;5;7m,\u001b[39m\u001b[38;5;7m \u001b[39m\u001b[38;5;7moutput_dir\u001b[39m\u001b[38;5;109;01m=\u001b[39;00m\u001b[38;5;7moutput_dir\u001b[39m\u001b[38;5;7m,\u001b[39m\u001b[38;5;7m \u001b[39m\u001b[38;5;7mdate_label\u001b[39m\u001b[38;5;109;01m=\u001b[39;00m\u001b[38;5;7mdate_label\u001b[39m\u001b[38;5;7m,\u001b[39m\u001b[38;5;7m \u001b[39m\u001b[38;5;7mdataset_mode\u001b[39m\u001b[38;5;109;01m=\u001b[39;00m\u001b[38;5;7mdataset_mode\u001b[39m\u001b[38;5;7m)\u001b[39m\n",
      "\u001b[38;5;109mprint\u001b[39m\u001b[38;5;7m(\u001b[39m\u001b[38;5;144mf\u001b[39m\u001b[38;5;144m\"\u001b[39m\u001b[38;5;144mThe preprocessed data has been stored at \u001b[39m\u001b[38;5;144m{\u001b[39m\u001b[38;5;7mpreprocessed_path\u001b[39m\u001b[38;5;144m}\u001b[39m\u001b[38;5;144m.\u001b[39m\u001b[38;5;144m\"\u001b[39m\u001b[38;5;7m)\u001b[39m\u001b[0m\n",
      "\u001b[33;1m====\u001b[0m\n",
      "\u001b[31;20mError in execution: [Errno 2] No such file or directory: 'C:\\\\Users\\\\zoiyy\\\\OneDrive\\\\Documentos\\\\DataSets\\\\TFM\\\\Pruebas\\\\WADI/WADI./WADI_14days_new.csv'. Be sure to provide correct code.\u001b[0m\n",
      "Traceback (most recent call last):\n",
      "  File \"C:\\Users\\zoiyy\\AppData\\Roaming\\Python\\Python38\\site-packages\\transformers\\agents\\agents.py\", line 566, in run\n",
      "    output = self.python_evaluator(code_action, available_tools, state=self.state)\n",
      "  File \"C:\\Users\\zoiyy\\AppData\\Roaming\\Python\\Python38\\site-packages\\transformers\\agents\\python_interpreter.py\", line 511, in evaluate_python_code\n",
      "    line_result = evaluate_ast(node, state, tools)\n",
      "  File \"C:\\Users\\zoiyy\\AppData\\Roaming\\Python\\Python38\\site-packages\\transformers\\agents\\python_interpreter.py\", line 360, in evaluate_ast\n",
      "    return evaluate_assign(expression, state, tools)\n",
      "  File \"C:\\Users\\zoiyy\\AppData\\Roaming\\Python\\Python38\\site-packages\\transformers\\agents\\python_interpreter.py\", line 177, in evaluate_assign\n",
      "    result = evaluate_ast(assign.value, state, tools)\n",
      "  File \"C:\\Users\\zoiyy\\AppData\\Roaming\\Python\\Python38\\site-packages\\transformers\\agents\\python_interpreter.py\", line 365, in evaluate_ast\n",
      "    return evaluate_call(expression, state, tools)\n",
      "  File \"C:\\Users\\zoiyy\\AppData\\Roaming\\Python\\Python38\\site-packages\\transformers\\agents\\python_interpreter.py\", line 217, in evaluate_call\n",
      "    output = func(*args, **kwargs)\n",
      "  File \"c:\\Users\\zoiyy\\OneDrive\\Documentos\\Repositorios GIT\\TFM\\Pruebas\\test_batch.py\", line 26, in __call__\n",
      "    preprocessed_dataset_folder\t= adp.preprocess_data( dataset , input_dir , output_dir , json_dir , date_label , dataset_mode )\n",
      "  File \"c:\\Users\\zoiyy\\OneDrive\\Documentos\\Repositorios GIT\\TFM\\Adapted_utils\\Adapted_data_preprocessing.py\", line 247, in preprocess_data\n",
      "    load_data( dataset , data_dir , output_folder , json_folder , date_label , process_type )\n",
      "  File \"c:\\Users\\zoiyy\\OneDrive\\Documentos\\Repositorios GIT\\TFM\\Adapted_utils\\Adapted_data_preprocessing.py\", line 200, in load_data\n",
      "    normal_data\t\t= pd.read_csv( os.path.join( base_dir , 'WADI/WADI.' + date_label + '/WADI_14days_new.csv'\t\t) )\n",
      "  File \"C:\\Users\\zoiyy\\AppData\\Roaming\\Python\\Python38\\site-packages\\pandas\\io\\parsers\\readers.py\", line 912, in read_csv\n",
      "    return _read(filepath_or_buffer, kwds)\n",
      "  File \"C:\\Users\\zoiyy\\AppData\\Roaming\\Python\\Python38\\site-packages\\pandas\\io\\parsers\\readers.py\", line 577, in _read\n",
      "    parser = TextFileReader(filepath_or_buffer, **kwds)\n",
      "  File \"C:\\Users\\zoiyy\\AppData\\Roaming\\Python\\Python38\\site-packages\\pandas\\io\\parsers\\readers.py\", line 1407, in __init__\n",
      "    self._engine = self._make_engine(f, self.engine)\n",
      "  File \"C:\\Users\\zoiyy\\AppData\\Roaming\\Python\\Python38\\site-packages\\pandas\\io\\parsers\\readers.py\", line 1661, in _make_engine\n",
      "    self.handles = get_handle(\n",
      "  File \"C:\\Users\\zoiyy\\AppData\\Roaming\\Python\\Python38\\site-packages\\pandas\\io\\common.py\", line 859, in get_handle\n",
      "    handle = open(\n",
      "FileNotFoundError: [Errno 2] No such file or directory: 'C:\\\\Users\\\\zoiyy\\\\OneDrive\\\\Documentos\\\\DataSets\\\\TFM\\\\Pruebas\\\\WADI/WADI./WADI_14days_new.csv'\n"
     ]
    },
    {
     "data": {
      "text/plain": [
       "\"Error in execution: [Errno 2] No such file or directory: 'C:\\\\\\\\Users\\\\\\\\zoiyy\\\\\\\\OneDrive\\\\\\\\Documentos\\\\\\\\DataSets\\\\\\\\TFM\\\\\\\\Pruebas\\\\\\\\WADI/WADI./WADI_14days_new.csv'. Be sure to provide correct code.\""
      ]
     },
     "metadata": {},
     "output_type": "display_data"
    },
    {
     "data": {
      "text/plain": [
       "'----------------------------------------------------------------------------------------------------'"
      ]
     },
     "metadata": {},
     "output_type": "display_data"
    },
    {
     "data": {
      "text/plain": [
       "'Test prompt 4:'"
      ]
     },
     "metadata": {},
     "output_type": "display_data"
    },
    {
     "name": "stderr",
     "output_type": "stream",
     "text": [
      "\u001b[33;1m======== New task ========\u001b[0m\n",
      "\u001b[37;1mPreprocess the WADI dataset stored in the route 'C:\\Users\\zoiyy\\OneDrive\\Documentos\\DataSets\\TFM\\Pruebas' and save it in 'C:\\Users\\zoiyy\\OneDrive\\Documentos\\DataSets\\TFM\\Pruebas2'.\u001b[0m\n",
      "\u001b[33;1m==== Agent is executing the code below:\u001b[0m\n",
      "\u001b[0m\u001b[0m\n",
      "\u001b[33;1m====\u001b[0m\n"
     ]
    },
    {
     "data": {
      "text/plain": [
       "None"
      ]
     },
     "metadata": {},
     "output_type": "display_data"
    },
    {
     "data": {
      "text/plain": [
       "'----------------------------------------------------------------------------------------------------'"
      ]
     },
     "metadata": {},
     "output_type": "display_data"
    },
    {
     "data": {
      "text/plain": [
       "'Test prompt 5:'"
      ]
     },
     "metadata": {},
     "output_type": "display_data"
    },
    {
     "name": "stderr",
     "output_type": "stream",
     "text": [
      "\u001b[33;1m======== New task ========\u001b[0m\n",
      "\u001b[37;1mPreprocess the WADI dataset stored in the route 'C:\\Users\\zoiyy\\OneDrive\\Documentos\\DataSets\\TFM\\Pruebas' and store it in 'C:\\Users\\zoiyy\\OneDrive\\Documentos\\DataSets\\TFM\\Pruebas2'.\u001b[0m\n",
      "\u001b[33;1m==== Agent is executing the code below:\u001b[0m\n",
      "\u001b[0m\u001b[38;5;7mdataset\u001b[39m\u001b[38;5;7m \u001b[39m\u001b[38;5;109;01m=\u001b[39;00m\u001b[38;5;7m \u001b[39m\u001b[38;5;144m'\u001b[39m\u001b[38;5;144mWADI\u001b[39m\u001b[38;5;144m'\u001b[39m\n",
      "\u001b[38;5;7minput_dir\u001b[39m\u001b[38;5;7m \u001b[39m\u001b[38;5;109;01m=\u001b[39;00m\u001b[38;5;7m \u001b[39m\u001b[38;5;144mr\u001b[39m\u001b[38;5;144m'\u001b[39m\u001b[38;5;144mC:\u001b[39m\u001b[38;5;144m\\\u001b[39m\u001b[38;5;144mUsers\u001b[39m\u001b[38;5;144m\\\u001b[39m\u001b[38;5;144mzoiyy\u001b[39m\u001b[38;5;144m\\\u001b[39m\u001b[38;5;144mOneDrive\u001b[39m\u001b[38;5;144m\\\u001b[39m\u001b[38;5;144mDocumentos\u001b[39m\u001b[38;5;144m\\\u001b[39m\u001b[38;5;144mDataSets\u001b[39m\u001b[38;5;144m\\\u001b[39m\u001b[38;5;144mTFM\u001b[39m\u001b[38;5;144m\\\u001b[39m\u001b[38;5;144mPruebas\u001b[39m\u001b[38;5;144m'\u001b[39m\n",
      "\u001b[38;5;7moutput_dir\u001b[39m\u001b[38;5;7m \u001b[39m\u001b[38;5;109;01m=\u001b[39;00m\u001b[38;5;7m \u001b[39m\u001b[38;5;144mr\u001b[39m\u001b[38;5;144m'\u001b[39m\u001b[38;5;144mC:\u001b[39m\u001b[38;5;144m\\\u001b[39m\u001b[38;5;144mUsers\u001b[39m\u001b[38;5;144m\\\u001b[39m\u001b[38;5;144mzoiyy\u001b[39m\u001b[38;5;144m\\\u001b[39m\u001b[38;5;144mOneDrive\u001b[39m\u001b[38;5;144m\\\u001b[39m\u001b[38;5;144mDocumentos\u001b[39m\u001b[38;5;144m\\\u001b[39m\u001b[38;5;144mDataSets\u001b[39m\u001b[38;5;144m\\\u001b[39m\u001b[38;5;144mTFM\u001b[39m\u001b[38;5;144m\\\u001b[39m\u001b[38;5;144mPruebas2\u001b[39m\u001b[38;5;144m'\u001b[39m\n",
      "\u001b[38;5;7mdate_label\u001b[39m\u001b[38;5;7m \u001b[39m\u001b[38;5;109;01m=\u001b[39;00m\u001b[38;5;7m \u001b[39m\u001b[38;5;144m'\u001b[39m\u001b[38;5;144mdate\u001b[39m\u001b[38;5;144m'\u001b[39m\n",
      "\u001b[38;5;7mdataset_mode\u001b[39m\u001b[38;5;7m \u001b[39m\u001b[38;5;109;01m=\u001b[39;00m\u001b[38;5;7m \u001b[39m\u001b[38;5;144m'\u001b[39m\u001b[38;5;144mtrain\u001b[39m\u001b[38;5;144m'\u001b[39m\n",
      "\u001b[38;5;7mpreprocessed_dir\u001b[39m\u001b[38;5;7m \u001b[39m\u001b[38;5;109;01m=\u001b[39;00m\u001b[38;5;7m \u001b[39m\u001b[38;5;7mAnomalyBERT_Data_Preprocessing\u001b[39m\u001b[38;5;7m(\u001b[39m\u001b[38;5;7mdataset\u001b[39m\u001b[38;5;7m,\u001b[39m\u001b[38;5;7m \u001b[39m\u001b[38;5;7minput_dir\u001b[39m\u001b[38;5;7m,\u001b[39m\u001b[38;5;7m \u001b[39m\u001b[38;5;7moutput_dir\u001b[39m\u001b[38;5;7m,\u001b[39m\u001b[38;5;7m \u001b[39m\u001b[38;5;7mjson_dir\u001b[39m\u001b[38;5;109;01m=\u001b[39;00m\u001b[38;5;109;01mNone\u001b[39;00m\u001b[38;5;7m,\u001b[39m\u001b[38;5;7m \u001b[39m\u001b[38;5;7mdate_label\u001b[39m\u001b[38;5;109;01m=\u001b[39;00m\u001b[38;5;7mdate_label\u001b[39m\u001b[38;5;7m,\u001b[39m\u001b[38;5;7m \u001b[39m\u001b[38;5;7mdataset_mode\u001b[39m\u001b[38;5;109;01m=\u001b[39;00m\u001b[38;5;7mdataset_mode\u001b[39m\u001b[38;5;7m)\u001b[39m\u001b[0m\n",
      "\u001b[33;1m====\u001b[0m\n",
      "\u001b[31;20mError in execution: [Errno 2] No such file or directory: 'C:\\\\Users\\\\zoiyy\\\\OneDrive\\\\Documentos\\\\DataSets\\\\TFM\\\\Pruebas\\\\WADI/WADI.date/WADI_14days_new.csv'. Be sure to provide correct code.\u001b[0m\n",
      "Traceback (most recent call last):\n",
      "  File \"C:\\Users\\zoiyy\\AppData\\Roaming\\Python\\Python38\\site-packages\\transformers\\agents\\agents.py\", line 566, in run\n",
      "    output = self.python_evaluator(code_action, available_tools, state=self.state)\n",
      "  File \"C:\\Users\\zoiyy\\AppData\\Roaming\\Python\\Python38\\site-packages\\transformers\\agents\\python_interpreter.py\", line 511, in evaluate_python_code\n",
      "    line_result = evaluate_ast(node, state, tools)\n",
      "  File \"C:\\Users\\zoiyy\\AppData\\Roaming\\Python\\Python38\\site-packages\\transformers\\agents\\python_interpreter.py\", line 360, in evaluate_ast\n",
      "    return evaluate_assign(expression, state, tools)\n",
      "  File \"C:\\Users\\zoiyy\\AppData\\Roaming\\Python\\Python38\\site-packages\\transformers\\agents\\python_interpreter.py\", line 177, in evaluate_assign\n",
      "    result = evaluate_ast(assign.value, state, tools)\n",
      "  File \"C:\\Users\\zoiyy\\AppData\\Roaming\\Python\\Python38\\site-packages\\transformers\\agents\\python_interpreter.py\", line 365, in evaluate_ast\n",
      "    return evaluate_call(expression, state, tools)\n",
      "  File \"C:\\Users\\zoiyy\\AppData\\Roaming\\Python\\Python38\\site-packages\\transformers\\agents\\python_interpreter.py\", line 217, in evaluate_call\n",
      "    output = func(*args, **kwargs)\n",
      "  File \"c:\\Users\\zoiyy\\OneDrive\\Documentos\\Repositorios GIT\\TFM\\Pruebas\\test_batch.py\", line 26, in __call__\n",
      "    preprocessed_dataset_folder\t= adp.preprocess_data( dataset , input_dir , output_dir , json_dir , date_label , dataset_mode )\n",
      "  File \"c:\\Users\\zoiyy\\OneDrive\\Documentos\\Repositorios GIT\\TFM\\Adapted_utils\\Adapted_data_preprocessing.py\", line 247, in preprocess_data\n",
      "    load_data( dataset , data_dir , output_folder , json_folder , date_label , process_type )\n",
      "  File \"c:\\Users\\zoiyy\\OneDrive\\Documentos\\Repositorios GIT\\TFM\\Adapted_utils\\Adapted_data_preprocessing.py\", line 200, in load_data\n",
      "    normal_data\t\t= pd.read_csv( os.path.join( base_dir , 'WADI/WADI.' + date_label + '/WADI_14days_new.csv'\t\t) )\n",
      "  File \"C:\\Users\\zoiyy\\AppData\\Roaming\\Python\\Python38\\site-packages\\pandas\\io\\parsers\\readers.py\", line 912, in read_csv\n",
      "    return _read(filepath_or_buffer, kwds)\n",
      "  File \"C:\\Users\\zoiyy\\AppData\\Roaming\\Python\\Python38\\site-packages\\pandas\\io\\parsers\\readers.py\", line 577, in _read\n",
      "    parser = TextFileReader(filepath_or_buffer, **kwds)\n",
      "  File \"C:\\Users\\zoiyy\\AppData\\Roaming\\Python\\Python38\\site-packages\\pandas\\io\\parsers\\readers.py\", line 1407, in __init__\n",
      "    self._engine = self._make_engine(f, self.engine)\n",
      "  File \"C:\\Users\\zoiyy\\AppData\\Roaming\\Python\\Python38\\site-packages\\pandas\\io\\parsers\\readers.py\", line 1661, in _make_engine\n",
      "    self.handles = get_handle(\n",
      "  File \"C:\\Users\\zoiyy\\AppData\\Roaming\\Python\\Python38\\site-packages\\pandas\\io\\common.py\", line 859, in get_handle\n",
      "    handle = open(\n",
      "FileNotFoundError: [Errno 2] No such file or directory: 'C:\\\\Users\\\\zoiyy\\\\OneDrive\\\\Documentos\\\\DataSets\\\\TFM\\\\Pruebas\\\\WADI/WADI.date/WADI_14days_new.csv'\n"
     ]
    },
    {
     "data": {
      "text/plain": [
       "\"Error in execution: [Errno 2] No such file or directory: 'C:\\\\\\\\Users\\\\\\\\zoiyy\\\\\\\\OneDrive\\\\\\\\Documentos\\\\\\\\DataSets\\\\\\\\TFM\\\\\\\\Pruebas\\\\\\\\WADI/WADI.date/WADI_14days_new.csv'. Be sure to provide correct code.\""
      ]
     },
     "metadata": {},
     "output_type": "display_data"
    },
    {
     "data": {
      "text/plain": [
       "'----------------------------------------------------------------------------------------------------'"
      ]
     },
     "metadata": {},
     "output_type": "display_data"
    },
    {
     "data": {
      "text/plain": [
       "'Test prompt 6:'"
      ]
     },
     "metadata": {},
     "output_type": "display_data"
    },
    {
     "name": "stderr",
     "output_type": "stream",
     "text": [
      "\u001b[33;1m======== New task ========\u001b[0m\n",
      "\u001b[37;1mPreprocess for testing the WADI dataset in the route 'C:\\Users\\zoiyy\\OneDrive\\Documentos\\DataSets\\TFM\\Pruebas' and store it in 'C:\\Users\\zoiyy\\OneDrive\\Documentos\\DataSets\\TFM\\Pruebas2'.\u001b[0m\n",
      "\u001b[33;1m==== Agent is executing the code below:\u001b[0m\n",
      "\u001b[0m\u001b[38;5;7mdataset\u001b[39m\u001b[38;5;7m \u001b[39m\u001b[38;5;109;01m=\u001b[39;00m\u001b[38;5;7m \u001b[39m\u001b[38;5;144m'\u001b[39m\u001b[38;5;144mWADI\u001b[39m\u001b[38;5;144m'\u001b[39m\n",
      "\u001b[38;5;7minput_dir\u001b[39m\u001b[38;5;7m \u001b[39m\u001b[38;5;109;01m=\u001b[39;00m\u001b[38;5;7m \u001b[39m\u001b[38;5;144mr\u001b[39m\u001b[38;5;144m'\u001b[39m\u001b[38;5;144mC:\u001b[39m\u001b[38;5;144m\\\u001b[39m\u001b[38;5;144mUsers\u001b[39m\u001b[38;5;144m\\\u001b[39m\u001b[38;5;144mzoiyy\u001b[39m\u001b[38;5;144m\\\u001b[39m\u001b[38;5;144mOneDrive\u001b[39m\u001b[38;5;144m\\\u001b[39m\u001b[38;5;144mDocumentos\u001b[39m\u001b[38;5;144m\\\u001b[39m\u001b[38;5;144mDataSets\u001b[39m\u001b[38;5;144m\\\u001b[39m\u001b[38;5;144mTFM\u001b[39m\u001b[38;5;144m\\\u001b[39m\u001b[38;5;144mPruebas\u001b[39m\u001b[38;5;144m'\u001b[39m\n",
      "\u001b[38;5;7moutput_dir\u001b[39m\u001b[38;5;7m \u001b[39m\u001b[38;5;109;01m=\u001b[39;00m\u001b[38;5;7m \u001b[39m\u001b[38;5;144mr\u001b[39m\u001b[38;5;144m'\u001b[39m\u001b[38;5;144mC:\u001b[39m\u001b[38;5;144m\\\u001b[39m\u001b[38;5;144mUsers\u001b[39m\u001b[38;5;144m\\\u001b[39m\u001b[38;5;144mzoiyy\u001b[39m\u001b[38;5;144m\\\u001b[39m\u001b[38;5;144mOneDrive\u001b[39m\u001b[38;5;144m\\\u001b[39m\u001b[38;5;144mDocumentos\u001b[39m\u001b[38;5;144m\\\u001b[39m\u001b[38;5;144mDataSets\u001b[39m\u001b[38;5;144m\\\u001b[39m\u001b[38;5;144mTFM\u001b[39m\u001b[38;5;144m\\\u001b[39m\u001b[38;5;144mPruebas2\u001b[39m\u001b[38;5;144m'\u001b[39m\n",
      "\u001b[38;5;7mdate_label\u001b[39m\u001b[38;5;7m \u001b[39m\u001b[38;5;109;01m=\u001b[39;00m\u001b[38;5;7m \u001b[39m\u001b[38;5;144m'\u001b[39m\u001b[38;5;144m'\u001b[39m\n",
      "\u001b[38;5;7mdataset_mode\u001b[39m\u001b[38;5;7m \u001b[39m\u001b[38;5;109;01m=\u001b[39;00m\u001b[38;5;7m \u001b[39m\u001b[38;5;144m'\u001b[39m\u001b[38;5;144mtest\u001b[39m\u001b[38;5;144m'\u001b[39m\n",
      "\n",
      "\u001b[38;5;7mpreprocessed_data_path\u001b[39m\u001b[38;5;7m \u001b[39m\u001b[38;5;109;01m=\u001b[39;00m\u001b[38;5;7m \u001b[39m\u001b[38;5;7mAnomalyBERT_Data_Preprocessing\u001b[39m\u001b[38;5;7m(\u001b[39m\u001b[38;5;7mdataset\u001b[39m\u001b[38;5;109;01m=\u001b[39;00m\u001b[38;5;7mdataset\u001b[39m\u001b[38;5;7m,\u001b[39m\u001b[38;5;7m \u001b[39m\u001b[38;5;7minput_dir\u001b[39m\u001b[38;5;109;01m=\u001b[39;00m\u001b[38;5;7minput_dir\u001b[39m\u001b[38;5;7m,\u001b[39m\u001b[38;5;7m \u001b[39m\u001b[38;5;7moutput_dir\u001b[39m\u001b[38;5;109;01m=\u001b[39;00m\u001b[38;5;7moutput_dir\u001b[39m\u001b[38;5;7m,\u001b[39m\u001b[38;5;7m \u001b[39m\u001b[38;5;7mdate_label\u001b[39m\u001b[38;5;109;01m=\u001b[39;00m\u001b[38;5;7mdate_label\u001b[39m\u001b[38;5;7m,\u001b[39m\u001b[38;5;7m \u001b[39m\u001b[38;5;7mdataset_mode\u001b[39m\u001b[38;5;109;01m=\u001b[39;00m\u001b[38;5;7mdataset_mode\u001b[39m\u001b[38;5;7m)\u001b[39m\n",
      "\u001b[38;5;109mprint\u001b[39m\u001b[38;5;7m(\u001b[39m\u001b[38;5;144mf\u001b[39m\u001b[38;5;144m\"\u001b[39m\u001b[38;5;144mPreprocessed data path is \u001b[39m\u001b[38;5;144m{\u001b[39m\u001b[38;5;7mpreprocessed_data_path\u001b[39m\u001b[38;5;144m}\u001b[39m\u001b[38;5;144m\"\u001b[39m\u001b[38;5;7m)\u001b[39m\u001b[0m\n",
      "\u001b[33;1m====\u001b[0m\n",
      "\u001b[31;20mError in execution: [Errno 2] No such file or directory: 'C:\\\\Users\\\\zoiyy\\\\OneDrive\\\\Documentos\\\\DataSets\\\\TFM\\\\Pruebas\\\\WADI/WADI./WADI_attackdataLABLE.csv'. Be sure to provide correct code.\u001b[0m\n",
      "Traceback (most recent call last):\n",
      "  File \"C:\\Users\\zoiyy\\AppData\\Roaming\\Python\\Python38\\site-packages\\transformers\\agents\\agents.py\", line 566, in run\n",
      "    output = self.python_evaluator(code_action, available_tools, state=self.state)\n",
      "  File \"C:\\Users\\zoiyy\\AppData\\Roaming\\Python\\Python38\\site-packages\\transformers\\agents\\python_interpreter.py\", line 511, in evaluate_python_code\n",
      "    line_result = evaluate_ast(node, state, tools)\n",
      "  File \"C:\\Users\\zoiyy\\AppData\\Roaming\\Python\\Python38\\site-packages\\transformers\\agents\\python_interpreter.py\", line 360, in evaluate_ast\n",
      "    return evaluate_assign(expression, state, tools)\n",
      "  File \"C:\\Users\\zoiyy\\AppData\\Roaming\\Python\\Python38\\site-packages\\transformers\\agents\\python_interpreter.py\", line 177, in evaluate_assign\n",
      "    result = evaluate_ast(assign.value, state, tools)\n",
      "  File \"C:\\Users\\zoiyy\\AppData\\Roaming\\Python\\Python38\\site-packages\\transformers\\agents\\python_interpreter.py\", line 365, in evaluate_ast\n",
      "    return evaluate_call(expression, state, tools)\n",
      "  File \"C:\\Users\\zoiyy\\AppData\\Roaming\\Python\\Python38\\site-packages\\transformers\\agents\\python_interpreter.py\", line 217, in evaluate_call\n",
      "    output = func(*args, **kwargs)\n",
      "  File \"c:\\Users\\zoiyy\\OneDrive\\Documentos\\Repositorios GIT\\TFM\\Pruebas\\test_batch.py\", line 26, in __call__\n",
      "    preprocessed_dataset_folder\t= adp.preprocess_data( dataset , input_dir , output_dir , json_dir , date_label , dataset_mode )\n",
      "  File \"c:\\Users\\zoiyy\\OneDrive\\Documentos\\Repositorios GIT\\TFM\\Adapted_utils\\Adapted_data_preprocessing.py\", line 247, in preprocess_data\n",
      "    load_data( dataset , data_dir , output_folder , json_folder , date_label , process_type )\n",
      "  File \"c:\\Users\\zoiyy\\OneDrive\\Documentos\\Repositorios GIT\\TFM\\Adapted_utils\\Adapted_data_preprocessing.py\", line 206, in load_data\n",
      "    abnormal_data\t= pd.read_csv( os.path.join( base_dir , 'WADI/WADI.' + date_label + '/WADI_attackdataLABLE.csv'\t) , header = 1\t)\n",
      "  File \"C:\\Users\\zoiyy\\AppData\\Roaming\\Python\\Python38\\site-packages\\pandas\\io\\parsers\\readers.py\", line 912, in read_csv\n",
      "    return _read(filepath_or_buffer, kwds)\n",
      "  File \"C:\\Users\\zoiyy\\AppData\\Roaming\\Python\\Python38\\site-packages\\pandas\\io\\parsers\\readers.py\", line 577, in _read\n",
      "    parser = TextFileReader(filepath_or_buffer, **kwds)\n",
      "  File \"C:\\Users\\zoiyy\\AppData\\Roaming\\Python\\Python38\\site-packages\\pandas\\io\\parsers\\readers.py\", line 1407, in __init__\n",
      "    self._engine = self._make_engine(f, self.engine)\n",
      "  File \"C:\\Users\\zoiyy\\AppData\\Roaming\\Python\\Python38\\site-packages\\pandas\\io\\parsers\\readers.py\", line 1661, in _make_engine\n",
      "    self.handles = get_handle(\n",
      "  File \"C:\\Users\\zoiyy\\AppData\\Roaming\\Python\\Python38\\site-packages\\pandas\\io\\common.py\", line 859, in get_handle\n",
      "    handle = open(\n",
      "FileNotFoundError: [Errno 2] No such file or directory: 'C:\\\\Users\\\\zoiyy\\\\OneDrive\\\\Documentos\\\\DataSets\\\\TFM\\\\Pruebas\\\\WADI/WADI./WADI_attackdataLABLE.csv'\n"
     ]
    },
    {
     "data": {
      "text/plain": [
       "\"Error in execution: [Errno 2] No such file or directory: 'C:\\\\\\\\Users\\\\\\\\zoiyy\\\\\\\\OneDrive\\\\\\\\Documentos\\\\\\\\DataSets\\\\\\\\TFM\\\\\\\\Pruebas\\\\\\\\WADI/WADI./WADI_attackdataLABLE.csv'. Be sure to provide correct code.\""
      ]
     },
     "metadata": {},
     "output_type": "display_data"
    },
    {
     "data": {
      "text/plain": [
       "'----------------------------------------------------------------------------------------------------'"
      ]
     },
     "metadata": {},
     "output_type": "display_data"
    },
    {
     "data": {
      "text/plain": [
       "'Test prompt 7:'"
      ]
     },
     "metadata": {},
     "output_type": "display_data"
    },
    {
     "name": "stderr",
     "output_type": "stream",
     "text": [
      "\u001b[33;1m======== New task ========\u001b[0m\n",
      "\u001b[37;1mThe WADI dataset in the route 'C:\\Users\\zoiyy\\OneDrive\\Documentos\\DataSets\\TFM\\Pruebas' is meant for testing. Preprocess it and store it in 'C:\\Users\\zoiyy\\OneDrive\\Documentos\\DataSets\\TFM\\Pruebas2'.\u001b[0m\n",
      "\u001b[33;1m==== Agent is executing the code below:\u001b[0m\n",
      "\u001b[0m\u001b[38;5;7mdataset\u001b[39m\u001b[38;5;7m \u001b[39m\u001b[38;5;109;01m=\u001b[39;00m\u001b[38;5;7m \u001b[39m\u001b[38;5;144m'\u001b[39m\u001b[38;5;144mWADI\u001b[39m\u001b[38;5;144m'\u001b[39m\n",
      "\u001b[38;5;7minput_dir\u001b[39m\u001b[38;5;7m \u001b[39m\u001b[38;5;109;01m=\u001b[39;00m\u001b[38;5;7m \u001b[39m\u001b[38;5;144mr\u001b[39m\u001b[38;5;144m'\u001b[39m\u001b[38;5;144mC:\u001b[39m\u001b[38;5;144m\\\u001b[39m\u001b[38;5;144mUsers\u001b[39m\u001b[38;5;144m\\\u001b[39m\u001b[38;5;144mzoiyy\u001b[39m\u001b[38;5;144m\\\u001b[39m\u001b[38;5;144mOneDrive\u001b[39m\u001b[38;5;144m\\\u001b[39m\u001b[38;5;144mDocumentos\u001b[39m\u001b[38;5;144m\\\u001b[39m\u001b[38;5;144mDataSets\u001b[39m\u001b[38;5;144m\\\u001b[39m\u001b[38;5;144mTFM\u001b[39m\u001b[38;5;144m\\\u001b[39m\u001b[38;5;144mPruebas\u001b[39m\u001b[38;5;144m'\u001b[39m\n",
      "\u001b[38;5;7moutput_dir\u001b[39m\u001b[38;5;7m \u001b[39m\u001b[38;5;109;01m=\u001b[39;00m\u001b[38;5;7m \u001b[39m\u001b[38;5;144mr\u001b[39m\u001b[38;5;144m'\u001b[39m\u001b[38;5;144mC:\u001b[39m\u001b[38;5;144m\\\u001b[39m\u001b[38;5;144mUsers\u001b[39m\u001b[38;5;144m\\\u001b[39m\u001b[38;5;144mzoiyy\u001b[39m\u001b[38;5;144m\\\u001b[39m\u001b[38;5;144mOneDrive\u001b[39m\u001b[38;5;144m\\\u001b[39m\u001b[38;5;144mDocumentos\u001b[39m\u001b[38;5;144m\\\u001b[39m\u001b[38;5;144mDataSets\u001b[39m\u001b[38;5;144m\\\u001b[39m\u001b[38;5;144mTFM\u001b[39m\u001b[38;5;144m\\\u001b[39m\u001b[38;5;144mPruebas2\u001b[39m\u001b[38;5;144m'\u001b[39m\n",
      "\u001b[38;5;7mdate_label\u001b[39m\u001b[38;5;7m \u001b[39m\u001b[38;5;109;01m=\u001b[39;00m\u001b[38;5;7m \u001b[39m\u001b[38;5;109;01mNone\u001b[39;00m\n",
      "\u001b[38;5;7mdataset_mode\u001b[39m\u001b[38;5;7m \u001b[39m\u001b[38;5;109;01m=\u001b[39;00m\u001b[38;5;7m \u001b[39m\u001b[38;5;144m'\u001b[39m\u001b[38;5;144mtest\u001b[39m\u001b[38;5;144m'\u001b[39m\n",
      "\u001b[38;5;7mpreprocessed_path\u001b[39m\u001b[38;5;7m \u001b[39m\u001b[38;5;109;01m=\u001b[39;00m\u001b[38;5;7m \u001b[39m\u001b[38;5;7mAnomalyBERT_Data_Preprocessing\u001b[39m\u001b[38;5;7m(\u001b[39m\u001b[38;5;7mdataset\u001b[39m\u001b[38;5;7m,\u001b[39m\u001b[38;5;7m \u001b[39m\u001b[38;5;7minput_dir\u001b[39m\u001b[38;5;7m,\u001b[39m\u001b[38;5;7m \u001b[39m\u001b[38;5;7moutput_dir\u001b[39m\u001b[38;5;7m,\u001b[39m\u001b[38;5;7m \u001b[39m\u001b[38;5;7mdate_label\u001b[39m\u001b[38;5;7m,\u001b[39m\u001b[38;5;7m \u001b[39m\u001b[38;5;7mdataset_mode\u001b[39m\u001b[38;5;7m)\u001b[39m\u001b[0m\n",
      "\u001b[33;1m====\u001b[0m\n",
      "\u001b[31;20mError in execution: [Errno 2] No such file or directory: 'C:\\\\Users\\\\zoiyy\\\\OneDrive\\\\Documentos\\\\DataSets\\\\TFM\\\\Pruebas\\\\WADI/WADI.test/WADI_attackdataLABLE.csv'. Be sure to provide correct code.\u001b[0m\n",
      "Traceback (most recent call last):\n",
      "  File \"C:\\Users\\zoiyy\\AppData\\Roaming\\Python\\Python38\\site-packages\\transformers\\agents\\agents.py\", line 566, in run\n",
      "    output = self.python_evaluator(code_action, available_tools, state=self.state)\n",
      "  File \"C:\\Users\\zoiyy\\AppData\\Roaming\\Python\\Python38\\site-packages\\transformers\\agents\\python_interpreter.py\", line 511, in evaluate_python_code\n",
      "    line_result = evaluate_ast(node, state, tools)\n",
      "  File \"C:\\Users\\zoiyy\\AppData\\Roaming\\Python\\Python38\\site-packages\\transformers\\agents\\python_interpreter.py\", line 360, in evaluate_ast\n",
      "    return evaluate_assign(expression, state, tools)\n",
      "  File \"C:\\Users\\zoiyy\\AppData\\Roaming\\Python\\Python38\\site-packages\\transformers\\agents\\python_interpreter.py\", line 177, in evaluate_assign\n",
      "    result = evaluate_ast(assign.value, state, tools)\n",
      "  File \"C:\\Users\\zoiyy\\AppData\\Roaming\\Python\\Python38\\site-packages\\transformers\\agents\\python_interpreter.py\", line 365, in evaluate_ast\n",
      "    return evaluate_call(expression, state, tools)\n",
      "  File \"C:\\Users\\zoiyy\\AppData\\Roaming\\Python\\Python38\\site-packages\\transformers\\agents\\python_interpreter.py\", line 217, in evaluate_call\n",
      "    output = func(*args, **kwargs)\n",
      "  File \"c:\\Users\\zoiyy\\OneDrive\\Documentos\\Repositorios GIT\\TFM\\Pruebas\\test_batch.py\", line 26, in __call__\n",
      "    preprocessed_dataset_folder\t= adp.preprocess_data( dataset , input_dir , output_dir , json_dir , date_label , dataset_mode )\n",
      "  File \"c:\\Users\\zoiyy\\OneDrive\\Documentos\\Repositorios GIT\\TFM\\Adapted_utils\\Adapted_data_preprocessing.py\", line 247, in preprocess_data\n",
      "    load_data( dataset , data_dir , output_folder , json_folder , date_label , process_type )\n",
      "  File \"c:\\Users\\zoiyy\\OneDrive\\Documentos\\Repositorios GIT\\TFM\\Adapted_utils\\Adapted_data_preprocessing.py\", line 206, in load_data\n",
      "    abnormal_data\t= pd.read_csv( os.path.join( base_dir , 'WADI/WADI.' + date_label + '/WADI_attackdataLABLE.csv'\t) , header = 1\t)\n",
      "  File \"C:\\Users\\zoiyy\\AppData\\Roaming\\Python\\Python38\\site-packages\\pandas\\io\\parsers\\readers.py\", line 912, in read_csv\n",
      "    return _read(filepath_or_buffer, kwds)\n",
      "  File \"C:\\Users\\zoiyy\\AppData\\Roaming\\Python\\Python38\\site-packages\\pandas\\io\\parsers\\readers.py\", line 577, in _read\n",
      "    parser = TextFileReader(filepath_or_buffer, **kwds)\n",
      "  File \"C:\\Users\\zoiyy\\AppData\\Roaming\\Python\\Python38\\site-packages\\pandas\\io\\parsers\\readers.py\", line 1407, in __init__\n",
      "    self._engine = self._make_engine(f, self.engine)\n",
      "  File \"C:\\Users\\zoiyy\\AppData\\Roaming\\Python\\Python38\\site-packages\\pandas\\io\\parsers\\readers.py\", line 1661, in _make_engine\n",
      "    self.handles = get_handle(\n",
      "  File \"C:\\Users\\zoiyy\\AppData\\Roaming\\Python\\Python38\\site-packages\\pandas\\io\\common.py\", line 859, in get_handle\n",
      "    handle = open(\n",
      "FileNotFoundError: [Errno 2] No such file or directory: 'C:\\\\Users\\\\zoiyy\\\\OneDrive\\\\Documentos\\\\DataSets\\\\TFM\\\\Pruebas\\\\WADI/WADI.test/WADI_attackdataLABLE.csv'\n"
     ]
    },
    {
     "data": {
      "text/plain": [
       "\"Error in execution: [Errno 2] No such file or directory: 'C:\\\\\\\\Users\\\\\\\\zoiyy\\\\\\\\OneDrive\\\\\\\\Documentos\\\\\\\\DataSets\\\\\\\\TFM\\\\\\\\Pruebas\\\\\\\\WADI/WADI.test/WADI_attackdataLABLE.csv'. Be sure to provide correct code.\""
      ]
     },
     "metadata": {},
     "output_type": "display_data"
    },
    {
     "data": {
      "text/plain": [
       "'===================================================================================================='"
      ]
     },
     "metadata": {},
     "output_type": "display_data"
    },
    {
     "data": {
      "text/plain": [
       "'===================================================================================================='"
      ]
     },
     "metadata": {},
     "output_type": "display_data"
    },
    {
     "data": {
      "text/plain": [
       "'RESULTS FOR TOOL DESCRIPTION 2:'"
      ]
     },
     "metadata": {},
     "output_type": "display_data"
    },
    {
     "data": {
      "text/plain": [
       "'----------------------------------------------------------------------------------------------------'"
      ]
     },
     "metadata": {},
     "output_type": "display_data"
    },
    {
     "data": {
      "text/plain": [
       "'Test prompt 1:'"
      ]
     },
     "metadata": {},
     "output_type": "display_data"
    },
    {
     "name": "stderr",
     "output_type": "stream",
     "text": [
      "\u001b[33;1m======== New task ========\u001b[0m\n",
      "\u001b[37;1mPreprocess the WADI dataset in the route 'C:\\Users\\zoiyy\\OneDrive\\Documentos\\DataSets\\TFM\\Pruebas'.\u001b[0m\n",
      "\u001b[33;1m==== Agent is executing the code below:\u001b[0m\n",
      "\u001b[0m\u001b[38;5;7moutput_dir\u001b[39m\u001b[38;5;7m \u001b[39m\u001b[38;5;109;01m=\u001b[39;00m\u001b[38;5;7m \u001b[39m\u001b[38;5;7mAnomalyBERT_Data_Preprocessing\u001b[39m\u001b[38;5;7m(\u001b[39m\u001b[38;5;7mdataset\u001b[39m\u001b[38;5;109;01m=\u001b[39;00m\u001b[38;5;144m'\u001b[39m\u001b[38;5;144mWADI\u001b[39m\u001b[38;5;144m'\u001b[39m\u001b[38;5;7m,\u001b[39m\u001b[38;5;7m \u001b[39m\u001b[38;5;7minput_dir\u001b[39m\u001b[38;5;109;01m=\u001b[39;00m\u001b[38;5;144mr\u001b[39m\u001b[38;5;144m'\u001b[39m\u001b[38;5;144mC:\u001b[39m\u001b[38;5;144m\\\u001b[39m\u001b[38;5;144mUsers\u001b[39m\u001b[38;5;144m\\\u001b[39m\u001b[38;5;144mzoiyy\u001b[39m\u001b[38;5;144m\\\u001b[39m\u001b[38;5;144mOneDrive\u001b[39m\u001b[38;5;144m\\\u001b[39m\u001b[38;5;144mDocumentos\u001b[39m\u001b[38;5;144m\\\u001b[39m\u001b[38;5;144mDataSets\u001b[39m\u001b[38;5;144m\\\u001b[39m\u001b[38;5;144mTFM\u001b[39m\u001b[38;5;144m\\\u001b[39m\u001b[38;5;144mPruebas\u001b[39m\u001b[38;5;144m'\u001b[39m\u001b[38;5;7m)\u001b[39m\u001b[0m\n",
      "\u001b[33;1m====\u001b[0m\n"
     ]
    },
    {
     "data": {
      "text/plain": [
       "'C:\\\\Users\\\\zoiyy\\\\OneDrive\\\\Documentos\\\\DataSets\\\\TFM\\\\Pruebas\\\\processed'"
      ]
     },
     "metadata": {},
     "output_type": "display_data"
    },
    {
     "data": {
      "text/plain": [
       "'----------------------------------------------------------------------------------------------------'"
      ]
     },
     "metadata": {},
     "output_type": "display_data"
    },
    {
     "data": {
      "text/plain": [
       "'Test prompt 2:'"
      ]
     },
     "metadata": {},
     "output_type": "display_data"
    },
    {
     "name": "stderr",
     "output_type": "stream",
     "text": [
      "\u001b[33;1m======== New task ========\u001b[0m\n",
      "\u001b[37;1mPreprocess the raw WADI dataset stored in the route 'C:\\Users\\zoiyy\\OneDrive\\Documentos\\DataSets\\TFM\\Pruebas'.\u001b[0m\n",
      "\u001b[33;1m==== Agent is executing the code below:\u001b[0m\n",
      "\u001b[0m\u001b[38;5;7mdataset\u001b[39m\u001b[38;5;7m \u001b[39m\u001b[38;5;109;01m=\u001b[39;00m\u001b[38;5;7m \u001b[39m\u001b[38;5;144m'\u001b[39m\u001b[38;5;144mWADI\u001b[39m\u001b[38;5;144m'\u001b[39m\n",
      "\u001b[38;5;7minput_dir\u001b[39m\u001b[38;5;7m \u001b[39m\u001b[38;5;109;01m=\u001b[39;00m\u001b[38;5;7m \u001b[39m\u001b[38;5;144mr\u001b[39m\u001b[38;5;144m'\u001b[39m\u001b[38;5;144mC:\u001b[39m\u001b[38;5;144m\\\u001b[39m\u001b[38;5;144mUsers\u001b[39m\u001b[38;5;144m\\\u001b[39m\u001b[38;5;144mzoiyy\u001b[39m\u001b[38;5;144m\\\u001b[39m\u001b[38;5;144mOneDrive\u001b[39m\u001b[38;5;144m\\\u001b[39m\u001b[38;5;144mDocumentos\u001b[39m\u001b[38;5;144m\\\u001b[39m\u001b[38;5;144mDataSets\u001b[39m\u001b[38;5;144m\\\u001b[39m\u001b[38;5;144mTFM\u001b[39m\u001b[38;5;144m\\\u001b[39m\u001b[38;5;144mPruebas\u001b[39m\u001b[38;5;144m'\u001b[39m\n",
      "\u001b[38;5;7moutput_dir\u001b[39m\u001b[38;5;7m \u001b[39m\u001b[38;5;109;01m=\u001b[39;00m\u001b[38;5;7m \u001b[39m\u001b[38;5;144mr\u001b[39m\u001b[38;5;144m'\u001b[39m\u001b[38;5;144mC:\u001b[39m\u001b[38;5;144m\\\u001b[39m\u001b[38;5;144mUsers\u001b[39m\u001b[38;5;144m\\\u001b[39m\u001b[38;5;144mzoiyy\u001b[39m\u001b[38;5;144m\\\u001b[39m\u001b[38;5;144mOneDrive\u001b[39m\u001b[38;5;144m\\\u001b[39m\u001b[38;5;144mDocumentos\u001b[39m\u001b[38;5;144m\\\u001b[39m\u001b[38;5;144mDataSets\u001b[39m\u001b[38;5;144m\\\u001b[39m\u001b[38;5;144mTFM\u001b[39m\u001b[38;5;144m\\\u001b[39m\u001b[38;5;144mPreprocessed\u001b[39m\u001b[38;5;144m'\u001b[39m\n",
      "\u001b[38;5;7mdate_label\u001b[39m\u001b[38;5;7m \u001b[39m\u001b[38;5;109;01m=\u001b[39;00m\u001b[38;5;7m \u001b[39m\u001b[38;5;144m'\u001b[39m\u001b[38;5;144m2022-01-01\u001b[39m\u001b[38;5;144m'\u001b[39m\n",
      "\u001b[38;5;7mdataset_mode\u001b[39m\u001b[38;5;7m \u001b[39m\u001b[38;5;109;01m=\u001b[39;00m\u001b[38;5;7m \u001b[39m\u001b[38;5;144m'\u001b[39m\u001b[38;5;144mtrain\u001b[39m\u001b[38;5;144m'\u001b[39m\n",
      "\u001b[38;5;7mpath\u001b[39m\u001b[38;5;7m \u001b[39m\u001b[38;5;109;01m=\u001b[39;00m\u001b[38;5;7m \u001b[39m\u001b[38;5;7mAnomalyBERT_Data_Preprocessing\u001b[39m\u001b[38;5;7m(\u001b[39m\u001b[38;5;7mdataset\u001b[39m\u001b[38;5;109;01m=\u001b[39;00m\u001b[38;5;7mdataset\u001b[39m\u001b[38;5;7m,\u001b[39m\u001b[38;5;7m \u001b[39m\u001b[38;5;7minput_dir\u001b[39m\u001b[38;5;109;01m=\u001b[39;00m\u001b[38;5;7minput_dir\u001b[39m\u001b[38;5;7m,\u001b[39m\u001b[38;5;7m \u001b[39m\u001b[38;5;7moutput_dir\u001b[39m\u001b[38;5;109;01m=\u001b[39;00m\u001b[38;5;7moutput_dir\u001b[39m\u001b[38;5;7m,\u001b[39m\u001b[38;5;7m \u001b[39m\u001b[38;5;7mdate_label\u001b[39m\u001b[38;5;109;01m=\u001b[39;00m\u001b[38;5;7mdate_label\u001b[39m\u001b[38;5;7m,\u001b[39m\u001b[38;5;7m \u001b[39m\u001b[38;5;7mdataset_mode\u001b[39m\u001b[38;5;109;01m=\u001b[39;00m\u001b[38;5;7mdataset_mode\u001b[39m\u001b[38;5;7m)\u001b[39m\u001b[0m\n",
      "\u001b[33;1m====\u001b[0m\n",
      "\u001b[31;20mError in execution: [Errno 2] No such file or directory: 'C:\\\\Users\\\\zoiyy\\\\OneDrive\\\\Documentos\\\\DataSets\\\\TFM\\\\Pruebas\\\\WADI/WADI.2022-01-01/WADI_14days_new.csv'. Be sure to provide correct code.\u001b[0m\n",
      "Traceback (most recent call last):\n",
      "  File \"C:\\Users\\zoiyy\\AppData\\Roaming\\Python\\Python38\\site-packages\\transformers\\agents\\agents.py\", line 566, in run\n",
      "    output = self.python_evaluator(code_action, available_tools, state=self.state)\n",
      "  File \"C:\\Users\\zoiyy\\AppData\\Roaming\\Python\\Python38\\site-packages\\transformers\\agents\\python_interpreter.py\", line 511, in evaluate_python_code\n",
      "    line_result = evaluate_ast(node, state, tools)\n",
      "  File \"C:\\Users\\zoiyy\\AppData\\Roaming\\Python\\Python38\\site-packages\\transformers\\agents\\python_interpreter.py\", line 360, in evaluate_ast\n",
      "    return evaluate_assign(expression, state, tools)\n",
      "  File \"C:\\Users\\zoiyy\\AppData\\Roaming\\Python\\Python38\\site-packages\\transformers\\agents\\python_interpreter.py\", line 177, in evaluate_assign\n",
      "    result = evaluate_ast(assign.value, state, tools)\n",
      "  File \"C:\\Users\\zoiyy\\AppData\\Roaming\\Python\\Python38\\site-packages\\transformers\\agents\\python_interpreter.py\", line 365, in evaluate_ast\n",
      "    return evaluate_call(expression, state, tools)\n",
      "  File \"C:\\Users\\zoiyy\\AppData\\Roaming\\Python\\Python38\\site-packages\\transformers\\agents\\python_interpreter.py\", line 217, in evaluate_call\n",
      "    output = func(*args, **kwargs)\n",
      "  File \"c:\\Users\\zoiyy\\OneDrive\\Documentos\\Repositorios GIT\\TFM\\Pruebas\\test_batch.py\", line 26, in __call__\n",
      "    preprocessed_dataset_folder\t= adp.preprocess_data( dataset , input_dir , output_dir , json_dir , date_label , dataset_mode )\n",
      "  File \"c:\\Users\\zoiyy\\OneDrive\\Documentos\\Repositorios GIT\\TFM\\Adapted_utils\\Adapted_data_preprocessing.py\", line 247, in preprocess_data\n",
      "    load_data( dataset , data_dir , output_folder , json_folder , date_label , process_type )\n",
      "  File \"c:\\Users\\zoiyy\\OneDrive\\Documentos\\Repositorios GIT\\TFM\\Adapted_utils\\Adapted_data_preprocessing.py\", line 200, in load_data\n",
      "    normal_data\t\t= pd.read_csv( os.path.join( base_dir , 'WADI/WADI.' + date_label + '/WADI_14days_new.csv'\t\t) )\n",
      "  File \"C:\\Users\\zoiyy\\AppData\\Roaming\\Python\\Python38\\site-packages\\pandas\\io\\parsers\\readers.py\", line 912, in read_csv\n",
      "    return _read(filepath_or_buffer, kwds)\n",
      "  File \"C:\\Users\\zoiyy\\AppData\\Roaming\\Python\\Python38\\site-packages\\pandas\\io\\parsers\\readers.py\", line 577, in _read\n",
      "    parser = TextFileReader(filepath_or_buffer, **kwds)\n",
      "  File \"C:\\Users\\zoiyy\\AppData\\Roaming\\Python\\Python38\\site-packages\\pandas\\io\\parsers\\readers.py\", line 1407, in __init__\n",
      "    self._engine = self._make_engine(f, self.engine)\n",
      "  File \"C:\\Users\\zoiyy\\AppData\\Roaming\\Python\\Python38\\site-packages\\pandas\\io\\parsers\\readers.py\", line 1661, in _make_engine\n",
      "    self.handles = get_handle(\n",
      "  File \"C:\\Users\\zoiyy\\AppData\\Roaming\\Python\\Python38\\site-packages\\pandas\\io\\common.py\", line 859, in get_handle\n",
      "    handle = open(\n",
      "FileNotFoundError: [Errno 2] No such file or directory: 'C:\\\\Users\\\\zoiyy\\\\OneDrive\\\\Documentos\\\\DataSets\\\\TFM\\\\Pruebas\\\\WADI/WADI.2022-01-01/WADI_14days_new.csv'\n"
     ]
    },
    {
     "data": {
      "text/plain": [
       "\"Error in execution: [Errno 2] No such file or directory: 'C:\\\\\\\\Users\\\\\\\\zoiyy\\\\\\\\OneDrive\\\\\\\\Documentos\\\\\\\\DataSets\\\\\\\\TFM\\\\\\\\Pruebas\\\\\\\\WADI/WADI.2022-01-01/WADI_14days_new.csv'. Be sure to provide correct code.\""
      ]
     },
     "metadata": {},
     "output_type": "display_data"
    },
    {
     "data": {
      "text/plain": [
       "'----------------------------------------------------------------------------------------------------'"
      ]
     },
     "metadata": {},
     "output_type": "display_data"
    },
    {
     "data": {
      "text/plain": [
       "'Test prompt 3:'"
      ]
     },
     "metadata": {},
     "output_type": "display_data"
    },
    {
     "name": "stderr",
     "output_type": "stream",
     "text": [
      "\u001b[33;1m======== New task ========\u001b[0m\n",
      "\u001b[37;1mPreprocess the WADI dataset in the route 'C:\\Users\\zoiyy\\OneDrive\\Documentos\\DataSets\\TFM\\Pruebas' and store it in 'C:\\Users\\zoiyy\\OneDrive\\Documentos\\DataSets\\TFM\\Pruebas2'.\u001b[0m\n",
      "\u001b[33;1m==== Agent is executing the code below:\u001b[0m\n",
      "\u001b[0m\u001b[38;5;7mpreprocessed_dataset\u001b[39m\u001b[38;5;7m \u001b[39m\u001b[38;5;109;01m=\u001b[39;00m\u001b[38;5;7m \u001b[39m\u001b[38;5;7mAnomalyBERT_Data_Preprocessing\u001b[39m\u001b[38;5;7m(\u001b[39m\u001b[38;5;7mdataset\u001b[39m\u001b[38;5;109;01m=\u001b[39;00m\u001b[38;5;144m'\u001b[39m\u001b[38;5;144mWADI\u001b[39m\u001b[38;5;144m'\u001b[39m\u001b[38;5;7m,\u001b[39m\u001b[38;5;7m \u001b[39m\u001b[38;5;7minput_dir\u001b[39m\u001b[38;5;109;01m=\u001b[39;00m\u001b[38;5;144m'\u001b[39m\u001b[38;5;144mC:\u001b[39m\u001b[38;5;186m\\\\\u001b[39m\u001b[38;5;144mUsers\u001b[39m\u001b[38;5;186m\\\\\u001b[39m\u001b[38;5;144mzoiyy\u001b[39m\u001b[38;5;186m\\\\\u001b[39m\u001b[38;5;144mOneDrive\u001b[39m\u001b[38;5;186m\\\\\u001b[39m\u001b[38;5;144mDocumentos\u001b[39m\u001b[38;5;186m\\\\\u001b[39m\u001b[38;5;144mDataSets\u001b[39m\u001b[38;5;186m\\\\\u001b[39m\u001b[38;5;144mTFM\u001b[39m\u001b[38;5;186m\\\\\u001b[39m\u001b[38;5;144mPruebas\u001b[39m\u001b[38;5;144m'\u001b[39m\u001b[38;5;7m,\u001b[39m\u001b[38;5;7m \u001b[39m\u001b[38;5;7moutput_dir\u001b[39m\u001b[38;5;109;01m=\u001b[39;00m\u001b[38;5;144m'\u001b[39m\u001b[38;5;144mC:\u001b[39m\u001b[38;5;186m\\\\\u001b[39m\u001b[38;5;144mUsers\u001b[39m\u001b[38;5;186m\\\\\u001b[39m\u001b[38;5;144mzoiyy\u001b[39m\u001b[38;5;186m\\\\\u001b[39m\u001b[38;5;144mOneDrive\u001b[39m\u001b[38;5;186m\\\\\u001b[39m\u001b[38;5;144mDocumentos\u001b[39m\u001b[38;5;186m\\\\\u001b[39m\u001b[38;5;144mDataSets\u001b[39m\u001b[38;5;186m\\\\\u001b[39m\u001b[38;5;144mTFM\u001b[39m\u001b[38;5;186m\\\\\u001b[39m\u001b[38;5;144mPruebas2\u001b[39m\u001b[38;5;144m'\u001b[39m\u001b[38;5;7m)\u001b[39m\u001b[0m\n",
      "\u001b[33;1m====\u001b[0m\n"
     ]
    },
    {
     "data": {
      "text/plain": [
       "'C:\\\\Users\\\\zoiyy\\\\OneDrive\\\\Documentos\\\\DataSets\\\\TFM\\\\Pruebas2'"
      ]
     },
     "metadata": {},
     "output_type": "display_data"
    },
    {
     "data": {
      "text/plain": [
       "'----------------------------------------------------------------------------------------------------'"
      ]
     },
     "metadata": {},
     "output_type": "display_data"
    },
    {
     "data": {
      "text/plain": [
       "'Test prompt 4:'"
      ]
     },
     "metadata": {},
     "output_type": "display_data"
    },
    {
     "name": "stderr",
     "output_type": "stream",
     "text": [
      "\u001b[33;1m======== New task ========\u001b[0m\n",
      "\u001b[37;1mPreprocess the WADI dataset stored in the route 'C:\\Users\\zoiyy\\OneDrive\\Documentos\\DataSets\\TFM\\Pruebas' and save it in 'C:\\Users\\zoiyy\\OneDrive\\Documentos\\DataSets\\TFM\\Pruebas2'.\u001b[0m\n",
      "\u001b[33;1m==== Agent is executing the code below:\u001b[0m\n",
      "\u001b[0m\u001b[38;5;7mdataset\u001b[39m\u001b[38;5;7m \u001b[39m\u001b[38;5;109;01m=\u001b[39;00m\u001b[38;5;7m \u001b[39m\u001b[38;5;144m'\u001b[39m\u001b[38;5;144mWADI\u001b[39m\u001b[38;5;144m'\u001b[39m\n",
      "\u001b[38;5;7minput_dir\u001b[39m\u001b[38;5;7m \u001b[39m\u001b[38;5;109;01m=\u001b[39;00m\u001b[38;5;7m \u001b[39m\u001b[38;5;144mr\u001b[39m\u001b[38;5;144m'\u001b[39m\u001b[38;5;144mC:\u001b[39m\u001b[38;5;144m\\\u001b[39m\u001b[38;5;144mUsers\u001b[39m\u001b[38;5;144m\\\u001b[39m\u001b[38;5;144mzoiyy\u001b[39m\u001b[38;5;144m\\\u001b[39m\u001b[38;5;144mOneDrive\u001b[39m\u001b[38;5;144m\\\u001b[39m\u001b[38;5;144mDocumentos\u001b[39m\u001b[38;5;144m\\\u001b[39m\u001b[38;5;144mDataSets\u001b[39m\u001b[38;5;144m\\\u001b[39m\u001b[38;5;144mTFM\u001b[39m\u001b[38;5;144m\\\u001b[39m\u001b[38;5;144mPruebas\u001b[39m\u001b[38;5;144m'\u001b[39m\n",
      "\u001b[38;5;7moutput_dir\u001b[39m\u001b[38;5;7m \u001b[39m\u001b[38;5;109;01m=\u001b[39;00m\u001b[38;5;7m \u001b[39m\u001b[38;5;144mr\u001b[39m\u001b[38;5;144m'\u001b[39m\u001b[38;5;144mC:\u001b[39m\u001b[38;5;144m\\\u001b[39m\u001b[38;5;144mUsers\u001b[39m\u001b[38;5;144m\\\u001b[39m\u001b[38;5;144mzoiyy\u001b[39m\u001b[38;5;144m\\\u001b[39m\u001b[38;5;144mOneDrive\u001b[39m\u001b[38;5;144m\\\u001b[39m\u001b[38;5;144mDocumentos\u001b[39m\u001b[38;5;144m\\\u001b[39m\u001b[38;5;144mDataSets\u001b[39m\u001b[38;5;144m\\\u001b[39m\u001b[38;5;144mTFM\u001b[39m\u001b[38;5;144m\\\u001b[39m\u001b[38;5;144mPruebas2\u001b[39m\u001b[38;5;144m'\u001b[39m\n",
      "\u001b[38;5;7mdate_label\u001b[39m\u001b[38;5;7m \u001b[39m\u001b[38;5;109;01m=\u001b[39;00m\u001b[38;5;7m \u001b[39m\u001b[38;5;109;01mNone\u001b[39;00m\n",
      "\u001b[38;5;7mdataset_mode\u001b[39m\u001b[38;5;7m \u001b[39m\u001b[38;5;109;01m=\u001b[39;00m\u001b[38;5;7m \u001b[39m\u001b[38;5;144m'\u001b[39m\u001b[38;5;144mtrain\u001b[39m\u001b[38;5;144m'\u001b[39m\n",
      "\u001b[38;5;7mpath_preprocessed_data\u001b[39m\u001b[38;5;7m \u001b[39m\u001b[38;5;109;01m=\u001b[39;00m\u001b[38;5;7m \u001b[39m\u001b[38;5;7mAnomalyBERT_Data_Preprocessing\u001b[39m\u001b[38;5;7m(\u001b[39m\u001b[38;5;7mdataset\u001b[39m\u001b[38;5;109;01m=\u001b[39;00m\u001b[38;5;7mdataset\u001b[39m\u001b[38;5;7m,\u001b[39m\u001b[38;5;7m \u001b[39m\u001b[38;5;7minput_dir\u001b[39m\u001b[38;5;109;01m=\u001b[39;00m\u001b[38;5;7minput_dir\u001b[39m\u001b[38;5;7m,\u001b[39m\u001b[38;5;7m \u001b[39m\u001b[38;5;7moutput_dir\u001b[39m\u001b[38;5;109;01m=\u001b[39;00m\u001b[38;5;7moutput_dir\u001b[39m\u001b[38;5;7m,\u001b[39m\u001b[38;5;7m \u001b[39m\u001b[38;5;7mdate_label\u001b[39m\u001b[38;5;109;01m=\u001b[39;00m\u001b[38;5;7mdate_label\u001b[39m\u001b[38;5;7m,\u001b[39m\u001b[38;5;7m \u001b[39m\u001b[38;5;7mdataset_mode\u001b[39m\u001b[38;5;109;01m=\u001b[39;00m\u001b[38;5;7mdataset_mode\u001b[39m\u001b[38;5;7m)\u001b[39m\u001b[0m\n",
      "\u001b[33;1m====\u001b[0m\n"
     ]
    },
    {
     "data": {
      "text/plain": [
       "'C:\\\\Users\\\\zoiyy\\\\OneDrive\\\\Documentos\\\\DataSets\\\\TFM\\\\Pruebas2'"
      ]
     },
     "metadata": {},
     "output_type": "display_data"
    },
    {
     "data": {
      "text/plain": [
       "'----------------------------------------------------------------------------------------------------'"
      ]
     },
     "metadata": {},
     "output_type": "display_data"
    },
    {
     "data": {
      "text/plain": [
       "'Test prompt 5:'"
      ]
     },
     "metadata": {},
     "output_type": "display_data"
    },
    {
     "name": "stderr",
     "output_type": "stream",
     "text": [
      "\u001b[33;1m======== New task ========\u001b[0m\n",
      "\u001b[37;1mPreprocess the WADI dataset stored in the route 'C:\\Users\\zoiyy\\OneDrive\\Documentos\\DataSets\\TFM\\Pruebas' and store it in 'C:\\Users\\zoiyy\\OneDrive\\Documentos\\DataSets\\TFM\\Pruebas2'.\u001b[0m\n",
      "\u001b[33;1m==== Agent is executing the code below:\u001b[0m\n",
      "\u001b[0m\u001b[38;5;7mdataset\u001b[39m\u001b[38;5;7m \u001b[39m\u001b[38;5;109;01m=\u001b[39;00m\u001b[38;5;7m \u001b[39m\u001b[38;5;144m\"\u001b[39m\u001b[38;5;144mWADI\u001b[39m\u001b[38;5;144m\"\u001b[39m\n",
      "\u001b[38;5;7minput_dir\u001b[39m\u001b[38;5;7m \u001b[39m\u001b[38;5;109;01m=\u001b[39;00m\u001b[38;5;7m \u001b[39m\u001b[38;5;144m'\u001b[39m\u001b[38;5;144mC:\u001b[39m\u001b[38;5;186m\\\\\u001b[39m\u001b[38;5;144mUsers\u001b[39m\u001b[38;5;186m\\\\\u001b[39m\u001b[38;5;144mzoiyy\u001b[39m\u001b[38;5;186m\\\\\u001b[39m\u001b[38;5;144mOneDrive\u001b[39m\u001b[38;5;186m\\\\\u001b[39m\u001b[38;5;144mDocumentos\u001b[39m\u001b[38;5;186m\\\\\u001b[39m\u001b[38;5;144mDataSets\u001b[39m\u001b[38;5;186m\\\\\u001b[39m\u001b[38;5;144mTFM\u001b[39m\u001b[38;5;186m\\\\\u001b[39m\u001b[38;5;144mPruebas\u001b[39m\u001b[38;5;144m'\u001b[39m\n",
      "\u001b[38;5;7moutput_dir\u001b[39m\u001b[38;5;7m \u001b[39m\u001b[38;5;109;01m=\u001b[39;00m\u001b[38;5;7m \u001b[39m\u001b[38;5;144m'\u001b[39m\u001b[38;5;144mC:\u001b[39m\u001b[38;5;186m\\\\\u001b[39m\u001b[38;5;144mUsers\u001b[39m\u001b[38;5;186m\\\\\u001b[39m\u001b[38;5;144mzoiyy\u001b[39m\u001b[38;5;186m\\\\\u001b[39m\u001b[38;5;144mOneDrive\u001b[39m\u001b[38;5;186m\\\\\u001b[39m\u001b[38;5;144mDocumentos\u001b[39m\u001b[38;5;186m\\\\\u001b[39m\u001b[38;5;144mDataSets\u001b[39m\u001b[38;5;186m\\\\\u001b[39m\u001b[38;5;144mTFM\u001b[39m\u001b[38;5;186m\\\\\u001b[39m\u001b[38;5;144mPruebas2\u001b[39m\u001b[38;5;144m'\u001b[39m\n",
      "\u001b[38;5;7mdate_label\u001b[39m\u001b[38;5;7m \u001b[39m\u001b[38;5;109;01m=\u001b[39;00m\u001b[38;5;7m \u001b[39m\u001b[38;5;109;01mNone\u001b[39;00m\n",
      "\u001b[38;5;7mdataset_mode\u001b[39m\u001b[38;5;7m \u001b[39m\u001b[38;5;109;01m=\u001b[39;00m\u001b[38;5;7m \u001b[39m\u001b[38;5;109;01mNone\u001b[39;00m\n",
      "\n",
      "\u001b[38;5;7mpreprocessed_path\u001b[39m\u001b[38;5;7m \u001b[39m\u001b[38;5;109;01m=\u001b[39;00m\u001b[38;5;7m \u001b[39m\u001b[38;5;7mAnomalyBERT_Data_Preprocessing\u001b[39m\u001b[38;5;7m(\u001b[39m\u001b[38;5;7mdataset\u001b[39m\u001b[38;5;109;01m=\u001b[39;00m\u001b[38;5;7mdataset\u001b[39m\u001b[38;5;7m,\u001b[39m\u001b[38;5;7m \u001b[39m\u001b[38;5;7minput_dir\u001b[39m\u001b[38;5;109;01m=\u001b[39;00m\u001b[38;5;7minput_dir\u001b[39m\u001b[38;5;7m,\u001b[39m\u001b[38;5;7m \u001b[39m\u001b[38;5;7moutput_dir\u001b[39m\u001b[38;5;109;01m=\u001b[39;00m\u001b[38;5;7moutput_dir\u001b[39m\u001b[38;5;7m,\u001b[39m\u001b[38;5;7m \u001b[39m\u001b[38;5;7mdate_label\u001b[39m\u001b[38;5;109;01m=\u001b[39;00m\u001b[38;5;7mdate_label\u001b[39m\u001b[38;5;7m,\u001b[39m\u001b[38;5;7m \u001b[39m\u001b[38;5;7mdataset_mode\u001b[39m\u001b[38;5;109;01m=\u001b[39;00m\u001b[38;5;7mdataset_mode\u001b[39m\u001b[38;5;7m)\u001b[39m\n",
      "\u001b[38;5;109mprint\u001b[39m\u001b[38;5;7m(\u001b[39m\u001b[38;5;144mf\u001b[39m\u001b[38;5;144m\"\u001b[39m\u001b[38;5;144mPreprocessed data stored at: \u001b[39m\u001b[38;5;144m{\u001b[39m\u001b[38;5;7mpreprocessed_path\u001b[39m\u001b[38;5;144m}\u001b[39m\u001b[38;5;144m\"\u001b[39m\u001b[38;5;7m)\u001b[39m\u001b[0m\n",
      "\u001b[33;1m====\u001b[0m\n"
     ]
    },
    {
     "data": {
      "text/plain": [
       "'Preprocessed data stored at: C:\\\\Users\\\\zoiyy\\\\OneDrive\\\\Documentos\\\\DataSets\\\\TFM\\\\Pruebas2'"
      ]
     },
     "metadata": {},
     "output_type": "display_data"
    },
    {
     "data": {
      "text/plain": [
       "'----------------------------------------------------------------------------------------------------'"
      ]
     },
     "metadata": {},
     "output_type": "display_data"
    },
    {
     "data": {
      "text/plain": [
       "'Test prompt 6:'"
      ]
     },
     "metadata": {},
     "output_type": "display_data"
    },
    {
     "name": "stderr",
     "output_type": "stream",
     "text": [
      "\u001b[33;1m======== New task ========\u001b[0m\n",
      "\u001b[37;1mPreprocess for testing the WADI dataset in the route 'C:\\Users\\zoiyy\\OneDrive\\Documentos\\DataSets\\TFM\\Pruebas' and store it in 'C:\\Users\\zoiyy\\OneDrive\\Documentos\\DataSets\\TFM\\Pruebas2'.\u001b[0m\n",
      "\u001b[33;1m==== Agent is executing the code below:\u001b[0m\n",
      "\u001b[0m\u001b[38;5;7mAnomalyBERT_Data_Preprocessing\u001b[39m\u001b[38;5;7m(\u001b[39m\u001b[38;5;7mdataset\u001b[39m\u001b[38;5;109;01m=\u001b[39;00m\u001b[38;5;144m'\u001b[39m\u001b[38;5;144mWADI\u001b[39m\u001b[38;5;144m'\u001b[39m\u001b[38;5;7m,\u001b[39m\u001b[38;5;7m \u001b[39m\u001b[38;5;7minput_dir\u001b[39m\u001b[38;5;109;01m=\u001b[39;00m\u001b[38;5;144m'\u001b[39m\u001b[38;5;144mC:\u001b[39m\u001b[38;5;186m\\\\\u001b[39m\u001b[38;5;144mUsers\u001b[39m\u001b[38;5;186m\\\\\u001b[39m\u001b[38;5;144mzoiyy\u001b[39m\u001b[38;5;186m\\\\\u001b[39m\u001b[38;5;144mOneDrive\u001b[39m\u001b[38;5;186m\\\\\u001b[39m\u001b[38;5;144mDocumentos\u001b[39m\u001b[38;5;186m\\\\\u001b[39m\u001b[38;5;144mDataSets\u001b[39m\u001b[38;5;186m\\\\\u001b[39m\u001b[38;5;144mTFM\u001b[39m\u001b[38;5;186m\\\\\u001b[39m\u001b[38;5;144mPruebas\u001b[39m\u001b[38;5;144m'\u001b[39m\u001b[38;5;7m,\u001b[39m\u001b[38;5;7m \u001b[39m\u001b[38;5;7moutput_dir\u001b[39m\u001b[38;5;109;01m=\u001b[39;00m\u001b[38;5;144m'\u001b[39m\u001b[38;5;144mC:\u001b[39m\u001b[38;5;186m\\\\\u001b[39m\u001b[38;5;144mUsers\u001b[39m\u001b[38;5;186m\\\\\u001b[39m\u001b[38;5;144mzoiyy\u001b[39m\u001b[38;5;186m\\\\\u001b[39m\u001b[38;5;144mOneDrive\u001b[39m\u001b[38;5;186m\\\\\u001b[39m\u001b[38;5;144mDocumentos\u001b[39m\u001b[38;5;186m\\\\\u001b[39m\u001b[38;5;144mDataSets\u001b[39m\u001b[38;5;186m\\\\\u001b[39m\u001b[38;5;144mTFM\u001b[39m\u001b[38;5;186m\\\\\u001b[39m\u001b[38;5;144mPruebas2\u001b[39m\u001b[38;5;144m'\u001b[39m\u001b[38;5;7m)\u001b[39m\u001b[0m\n",
      "\u001b[33;1m====\u001b[0m\n"
     ]
    },
    {
     "data": {
      "text/plain": [
       "'C:\\\\Users\\\\zoiyy\\\\OneDrive\\\\Documentos\\\\DataSets\\\\TFM\\\\Pruebas2'"
      ]
     },
     "metadata": {},
     "output_type": "display_data"
    },
    {
     "data": {
      "text/plain": [
       "'----------------------------------------------------------------------------------------------------'"
      ]
     },
     "metadata": {},
     "output_type": "display_data"
    },
    {
     "data": {
      "text/plain": [
       "'Test prompt 7:'"
      ]
     },
     "metadata": {},
     "output_type": "display_data"
    },
    {
     "name": "stderr",
     "output_type": "stream",
     "text": [
      "\u001b[33;1m======== New task ========\u001b[0m\n",
      "\u001b[37;1mThe WADI dataset in the route 'C:\\Users\\zoiyy\\OneDrive\\Documentos\\DataSets\\TFM\\Pruebas' is meant for testing. Preprocess it and store it in 'C:\\Users\\zoiyy\\OneDrive\\Documentos\\DataSets\\TFM\\Pruebas2'.\u001b[0m\n",
      "\u001b[33;1m==== Agent is executing the code below:\u001b[0m\n",
      "\u001b[0m\u001b[38;5;7mdataset\u001b[39m\u001b[38;5;7m \u001b[39m\u001b[38;5;109;01m=\u001b[39;00m\u001b[38;5;7m \u001b[39m\u001b[38;5;144m\"\u001b[39m\u001b[38;5;144mWADI\u001b[39m\u001b[38;5;144m\"\u001b[39m\n",
      "\u001b[38;5;7minput_dir\u001b[39m\u001b[38;5;7m \u001b[39m\u001b[38;5;109;01m=\u001b[39;00m\u001b[38;5;7m \u001b[39m\u001b[38;5;144m\"\u001b[39m\u001b[38;5;144mC:\u001b[39m\u001b[38;5;186m\\\\\u001b[39m\u001b[38;5;144mUsers\u001b[39m\u001b[38;5;186m\\\\\u001b[39m\u001b[38;5;144mzoiyy\u001b[39m\u001b[38;5;186m\\\\\u001b[39m\u001b[38;5;144mOneDrive\u001b[39m\u001b[38;5;186m\\\\\u001b[39m\u001b[38;5;144mDocumentos\u001b[39m\u001b[38;5;186m\\\\\u001b[39m\u001b[38;5;144mDataSets\u001b[39m\u001b[38;5;186m\\\\\u001b[39m\u001b[38;5;144mTFM\u001b[39m\u001b[38;5;186m\\\\\u001b[39m\u001b[38;5;144mPruebas\u001b[39m\u001b[38;5;144m\"\u001b[39m\n",
      "\u001b[38;5;7moutput_dir\u001b[39m\u001b[38;5;7m \u001b[39m\u001b[38;5;109;01m=\u001b[39;00m\u001b[38;5;7m \u001b[39m\u001b[38;5;144m\"\u001b[39m\u001b[38;5;144mC:\u001b[39m\u001b[38;5;186m\\\\\u001b[39m\u001b[38;5;144mUsers\u001b[39m\u001b[38;5;186m\\\\\u001b[39m\u001b[38;5;144mzoiyy\u001b[39m\u001b[38;5;186m\\\\\u001b[39m\u001b[38;5;144mOneDrive\u001b[39m\u001b[38;5;186m\\\\\u001b[39m\u001b[38;5;144mDocumentos\u001b[39m\u001b[38;5;186m\\\\\u001b[39m\u001b[38;5;144mDataSets\u001b[39m\u001b[38;5;186m\\\\\u001b[39m\u001b[38;5;144mTFM\u001b[39m\u001b[38;5;186m\\\\\u001b[39m\u001b[38;5;144mPruebas2\u001b[39m\u001b[38;5;144m\"\u001b[39m\n",
      "\u001b[38;5;7mpreprocessed_dir\u001b[39m\u001b[38;5;7m \u001b[39m\u001b[38;5;109;01m=\u001b[39;00m\u001b[38;5;7m \u001b[39m\u001b[38;5;7mAnomalyBERT_Data_Preprocessing\u001b[39m\u001b[38;5;7m(\u001b[39m\u001b[38;5;7mdataset\u001b[39m\u001b[38;5;109;01m=\u001b[39;00m\u001b[38;5;7mdataset\u001b[39m\u001b[38;5;7m,\u001b[39m\u001b[38;5;7m \u001b[39m\u001b[38;5;7minput_dir\u001b[39m\u001b[38;5;109;01m=\u001b[39;00m\u001b[38;5;7minput_dir\u001b[39m\u001b[38;5;7m,\u001b[39m\u001b[38;5;7m \u001b[39m\u001b[38;5;7moutput_dir\u001b[39m\u001b[38;5;109;01m=\u001b[39;00m\u001b[38;5;7moutput_dir\u001b[39m\u001b[38;5;7m)\u001b[39m\u001b[0m\n",
      "\u001b[33;1m====\u001b[0m\n"
     ]
    },
    {
     "data": {
      "text/plain": [
       "'C:\\\\Users\\\\zoiyy\\\\OneDrive\\\\Documentos\\\\DataSets\\\\TFM\\\\Pruebas2'"
      ]
     },
     "metadata": {},
     "output_type": "display_data"
    },
    {
     "data": {
      "text/plain": [
       "'===================================================================================================='"
      ]
     },
     "metadata": {},
     "output_type": "display_data"
    },
    {
     "data": {
      "text/plain": [
       "'===================================================================================================='"
      ]
     },
     "metadata": {},
     "output_type": "display_data"
    },
    {
     "data": {
      "text/plain": [
       "'RESULTS FOR TOOL DESCRIPTION 2-INDENT:'"
      ]
     },
     "metadata": {},
     "output_type": "display_data"
    },
    {
     "data": {
      "text/plain": [
       "'----------------------------------------------------------------------------------------------------'"
      ]
     },
     "metadata": {},
     "output_type": "display_data"
    },
    {
     "data": {
      "text/plain": [
       "'Test prompt 1:'"
      ]
     },
     "metadata": {},
     "output_type": "display_data"
    },
    {
     "name": "stderr",
     "output_type": "stream",
     "text": [
      "\u001b[33;1m======== New task ========\u001b[0m\n",
      "\u001b[37;1mPreprocess the WADI dataset in the route 'C:\\Users\\zoiyy\\OneDrive\\Documentos\\DataSets\\TFM\\Pruebas'.\u001b[0m\n",
      "\u001b[33;1m==== Agent is executing the code below:\u001b[0m\n",
      "\u001b[0m\u001b[38;5;7mdataset\u001b[39m\u001b[38;5;7m \u001b[39m\u001b[38;5;109;01m=\u001b[39;00m\u001b[38;5;7m \u001b[39m\u001b[38;5;144m'\u001b[39m\u001b[38;5;144mWADI\u001b[39m\u001b[38;5;144m'\u001b[39m\n",
      "\u001b[38;5;7minput_dir\u001b[39m\u001b[38;5;7m \u001b[39m\u001b[38;5;109;01m=\u001b[39;00m\u001b[38;5;7m \u001b[39m\u001b[38;5;144mr\u001b[39m\u001b[38;5;144m'\u001b[39m\u001b[38;5;144mC:\u001b[39m\u001b[38;5;144m\\\u001b[39m\u001b[38;5;144mUsers\u001b[39m\u001b[38;5;144m\\\u001b[39m\u001b[38;5;144mzoiyy\u001b[39m\u001b[38;5;144m\\\u001b[39m\u001b[38;5;144mOneDrive\u001b[39m\u001b[38;5;144m\\\u001b[39m\u001b[38;5;144mDocumentos\u001b[39m\u001b[38;5;144m\\\u001b[39m\u001b[38;5;144mDataSets\u001b[39m\u001b[38;5;144m\\\u001b[39m\u001b[38;5;144mTFM\u001b[39m\u001b[38;5;144m\\\u001b[39m\u001b[38;5;144mPruebas\u001b[39m\u001b[38;5;144m'\u001b[39m\n",
      "\u001b[38;5;7moutput_dir\u001b[39m\u001b[38;5;7m \u001b[39m\u001b[38;5;109;01m=\u001b[39;00m\u001b[38;5;7m \u001b[39m\u001b[38;5;144mr\u001b[39m\u001b[38;5;144m'\u001b[39m\u001b[38;5;144mC:\u001b[39m\u001b[38;5;144m\\\u001b[39m\u001b[38;5;144mUsers\u001b[39m\u001b[38;5;144m\\\u001b[39m\u001b[38;5;144mzoiyy\u001b[39m\u001b[38;5;144m\\\u001b[39m\u001b[38;5;144mOneDrive\u001b[39m\u001b[38;5;144m\\\u001b[39m\u001b[38;5;144mDocumentos\u001b[39m\u001b[38;5;144m\\\u001b[39m\u001b[38;5;144mDataSets\u001b[39m\u001b[38;5;144m\\\u001b[39m\u001b[38;5;144mTFM\u001b[39m\u001b[38;5;144m\\\u001b[39m\u001b[38;5;144mPruebas\u001b[39m\u001b[38;5;144m\\\u001b[39m\u001b[38;5;144mPreprocessed\u001b[39m\u001b[38;5;144m'\u001b[39m\n",
      "\u001b[38;5;7mdate_label\u001b[39m\u001b[38;5;7m \u001b[39m\u001b[38;5;109;01m=\u001b[39;00m\u001b[38;5;7m \u001b[39m\u001b[38;5;144m'\u001b[39m\u001b[38;5;144m2022-07-08\u001b[39m\u001b[38;5;144m'\u001b[39m\n",
      "\u001b[38;5;7mdataset_mode\u001b[39m\u001b[38;5;7m \u001b[39m\u001b[38;5;109;01m=\u001b[39;00m\u001b[38;5;7m \u001b[39m\u001b[38;5;144m'\u001b[39m\u001b[38;5;144mtrain\u001b[39m\u001b[38;5;144m'\u001b[39m\n",
      "\u001b[38;5;7mpreprocessed_dir\u001b[39m\u001b[38;5;7m \u001b[39m\u001b[38;5;109;01m=\u001b[39;00m\u001b[38;5;7m \u001b[39m\u001b[38;5;7mAnomalyBERT_Data_Preprocessing\u001b[39m\u001b[38;5;7m(\u001b[39m\u001b[38;5;7mdataset\u001b[39m\u001b[38;5;109;01m=\u001b[39;00m\u001b[38;5;7mdataset\u001b[39m\u001b[38;5;7m,\u001b[39m\u001b[38;5;7m \u001b[39m\u001b[38;5;7minput_dir\u001b[39m\u001b[38;5;109;01m=\u001b[39;00m\u001b[38;5;7minput_dir\u001b[39m\u001b[38;5;7m,\u001b[39m\u001b[38;5;7m \u001b[39m\u001b[38;5;7moutput_dir\u001b[39m\u001b[38;5;109;01m=\u001b[39;00m\u001b[38;5;7moutput_dir\u001b[39m\u001b[38;5;7m,\u001b[39m\u001b[38;5;7m \u001b[39m\u001b[38;5;7mdate_label\u001b[39m\u001b[38;5;109;01m=\u001b[39;00m\u001b[38;5;7mdate_label\u001b[39m\u001b[38;5;7m,\u001b[39m\u001b[38;5;7m \u001b[39m\u001b[38;5;7mdataset_mode\u001b[39m\u001b[38;5;109;01m=\u001b[39;00m\u001b[38;5;7mdataset_mode\u001b[39m\u001b[38;5;7m)\u001b[39m\n",
      "\u001b[38;5;109mprint\u001b[39m\u001b[38;5;7m(\u001b[39m\u001b[38;5;144mf\u001b[39m\u001b[38;5;144m\"\u001b[39m\u001b[38;5;144mThe preprocessed data has been stored in \u001b[39m\u001b[38;5;144m{\u001b[39m\u001b[38;5;7mpreprocessed_dir\u001b[39m\u001b[38;5;144m}\u001b[39m\u001b[38;5;144m.\u001b[39m\u001b[38;5;144m\"\u001b[39m\u001b[38;5;7m)\u001b[39m\u001b[0m\n",
      "\u001b[33;1m====\u001b[0m\n",
      "\u001b[31;20mError in execution: [Errno 2] No such file or directory: 'C:\\\\Users\\\\zoiyy\\\\OneDrive\\\\Documentos\\\\DataSets\\\\TFM\\\\Pruebas\\\\WADI/WADI.2022-07-08/WADI_14days_new.csv'. Be sure to provide correct code.\u001b[0m\n",
      "Traceback (most recent call last):\n",
      "  File \"C:\\Users\\zoiyy\\AppData\\Roaming\\Python\\Python38\\site-packages\\transformers\\agents\\agents.py\", line 566, in run\n",
      "    output = self.python_evaluator(code_action, available_tools, state=self.state)\n",
      "  File \"C:\\Users\\zoiyy\\AppData\\Roaming\\Python\\Python38\\site-packages\\transformers\\agents\\python_interpreter.py\", line 511, in evaluate_python_code\n",
      "    line_result = evaluate_ast(node, state, tools)\n",
      "  File \"C:\\Users\\zoiyy\\AppData\\Roaming\\Python\\Python38\\site-packages\\transformers\\agents\\python_interpreter.py\", line 360, in evaluate_ast\n",
      "    return evaluate_assign(expression, state, tools)\n",
      "  File \"C:\\Users\\zoiyy\\AppData\\Roaming\\Python\\Python38\\site-packages\\transformers\\agents\\python_interpreter.py\", line 177, in evaluate_assign\n",
      "    result = evaluate_ast(assign.value, state, tools)\n",
      "  File \"C:\\Users\\zoiyy\\AppData\\Roaming\\Python\\Python38\\site-packages\\transformers\\agents\\python_interpreter.py\", line 365, in evaluate_ast\n",
      "    return evaluate_call(expression, state, tools)\n",
      "  File \"C:\\Users\\zoiyy\\AppData\\Roaming\\Python\\Python38\\site-packages\\transformers\\agents\\python_interpreter.py\", line 217, in evaluate_call\n",
      "    output = func(*args, **kwargs)\n",
      "  File \"c:\\Users\\zoiyy\\OneDrive\\Documentos\\Repositorios GIT\\TFM\\Pruebas\\test_batch.py\", line 26, in __call__\n",
      "    preprocessed_dataset_folder\t= adp.preprocess_data( dataset , input_dir , output_dir , json_dir , date_label , dataset_mode )\n",
      "  File \"c:\\Users\\zoiyy\\OneDrive\\Documentos\\Repositorios GIT\\TFM\\Adapted_utils\\Adapted_data_preprocessing.py\", line 247, in preprocess_data\n",
      "    load_data( dataset , data_dir , output_folder , json_folder , date_label , process_type )\n",
      "  File \"c:\\Users\\zoiyy\\OneDrive\\Documentos\\Repositorios GIT\\TFM\\Adapted_utils\\Adapted_data_preprocessing.py\", line 200, in load_data\n",
      "    normal_data\t\t= pd.read_csv( os.path.join( base_dir , 'WADI/WADI.' + date_label + '/WADI_14days_new.csv'\t\t) )\n",
      "  File \"C:\\Users\\zoiyy\\AppData\\Roaming\\Python\\Python38\\site-packages\\pandas\\io\\parsers\\readers.py\", line 912, in read_csv\n",
      "    return _read(filepath_or_buffer, kwds)\n",
      "  File \"C:\\Users\\zoiyy\\AppData\\Roaming\\Python\\Python38\\site-packages\\pandas\\io\\parsers\\readers.py\", line 577, in _read\n",
      "    parser = TextFileReader(filepath_or_buffer, **kwds)\n",
      "  File \"C:\\Users\\zoiyy\\AppData\\Roaming\\Python\\Python38\\site-packages\\pandas\\io\\parsers\\readers.py\", line 1407, in __init__\n",
      "    self._engine = self._make_engine(f, self.engine)\n",
      "  File \"C:\\Users\\zoiyy\\AppData\\Roaming\\Python\\Python38\\site-packages\\pandas\\io\\parsers\\readers.py\", line 1661, in _make_engine\n",
      "    self.handles = get_handle(\n",
      "  File \"C:\\Users\\zoiyy\\AppData\\Roaming\\Python\\Python38\\site-packages\\pandas\\io\\common.py\", line 859, in get_handle\n",
      "    handle = open(\n",
      "FileNotFoundError: [Errno 2] No such file or directory: 'C:\\\\Users\\\\zoiyy\\\\OneDrive\\\\Documentos\\\\DataSets\\\\TFM\\\\Pruebas\\\\WADI/WADI.2022-07-08/WADI_14days_new.csv'\n"
     ]
    },
    {
     "data": {
      "text/plain": [
       "\"Error in execution: [Errno 2] No such file or directory: 'C:\\\\\\\\Users\\\\\\\\zoiyy\\\\\\\\OneDrive\\\\\\\\Documentos\\\\\\\\DataSets\\\\\\\\TFM\\\\\\\\Pruebas\\\\\\\\WADI/WADI.2022-07-08/WADI_14days_new.csv'. Be sure to provide correct code.\""
      ]
     },
     "metadata": {},
     "output_type": "display_data"
    },
    {
     "data": {
      "text/plain": [
       "'----------------------------------------------------------------------------------------------------'"
      ]
     },
     "metadata": {},
     "output_type": "display_data"
    },
    {
     "data": {
      "text/plain": [
       "'Test prompt 2:'"
      ]
     },
     "metadata": {},
     "output_type": "display_data"
    },
    {
     "name": "stderr",
     "output_type": "stream",
     "text": [
      "\u001b[33;1m======== New task ========\u001b[0m\n",
      "\u001b[37;1mPreprocess the raw WADI dataset stored in the route 'C:\\Users\\zoiyy\\OneDrive\\Documentos\\DataSets\\TFM\\Pruebas'.\u001b[0m\n",
      "\u001b[33;1m==== Agent is executing the code below:\u001b[0m\n",
      "\u001b[0m\u001b[38;5;7mdataset\u001b[39m\u001b[38;5;7m \u001b[39m\u001b[38;5;109;01m=\u001b[39;00m\u001b[38;5;7m \u001b[39m\u001b[38;5;144m'\u001b[39m\u001b[38;5;144mWADI\u001b[39m\u001b[38;5;144m'\u001b[39m\n",
      "\u001b[38;5;7minput_dir\u001b[39m\u001b[38;5;7m \u001b[39m\u001b[38;5;109;01m=\u001b[39;00m\u001b[38;5;7m \u001b[39m\u001b[38;5;144mr\u001b[39m\u001b[38;5;144m'\u001b[39m\u001b[38;5;144mC:\u001b[39m\u001b[38;5;144m\\\u001b[39m\u001b[38;5;144mUsers\u001b[39m\u001b[38;5;144m\\\u001b[39m\u001b[38;5;144mzoiyy\u001b[39m\u001b[38;5;144m\\\u001b[39m\u001b[38;5;144mOneDrive\u001b[39m\u001b[38;5;144m\\\u001b[39m\u001b[38;5;144mDocumentos\u001b[39m\u001b[38;5;144m\\\u001b[39m\u001b[38;5;144mDataSets\u001b[39m\u001b[38;5;144m\\\u001b[39m\u001b[38;5;144mTFM\u001b[39m\u001b[38;5;144m\\\u001b[39m\u001b[38;5;144mPruebas\u001b[39m\u001b[38;5;144m'\u001b[39m\n",
      "\u001b[38;5;7moutput_dir\u001b[39m\u001b[38;5;7m \u001b[39m\u001b[38;5;109;01m=\u001b[39;00m\u001b[38;5;7m \u001b[39m\u001b[38;5;109;01mNone\u001b[39;00m\n",
      "\u001b[38;5;7mdate_label\u001b[39m\u001b[38;5;7m \u001b[39m\u001b[38;5;109;01m=\u001b[39;00m\u001b[38;5;7m \u001b[39m\u001b[38;5;109;01mNone\u001b[39;00m\n",
      "\u001b[38;5;7mdataset_mode\u001b[39m\u001b[38;5;7m \u001b[39m\u001b[38;5;109;01m=\u001b[39;00m\u001b[38;5;7m \u001b[39m\u001b[38;5;109;01mNone\u001b[39;00m\n",
      "\u001b[38;5;7mpreprocessed_dir\u001b[39m\u001b[38;5;7m \u001b[39m\u001b[38;5;109;01m=\u001b[39;00m\u001b[38;5;7m \u001b[39m\u001b[38;5;7mAnomalyBERT_Data_Preprocessing\u001b[39m\u001b[38;5;7m(\u001b[39m\u001b[38;5;7mdataset\u001b[39m\u001b[38;5;109;01m=\u001b[39;00m\u001b[38;5;7mdataset\u001b[39m\u001b[38;5;7m,\u001b[39m\u001b[38;5;7m \u001b[39m\u001b[38;5;7minput_dir\u001b[39m\u001b[38;5;109;01m=\u001b[39;00m\u001b[38;5;7minput_dir\u001b[39m\u001b[38;5;7m,\u001b[39m\u001b[38;5;7m \u001b[39m\u001b[38;5;7moutput_dir\u001b[39m\u001b[38;5;109;01m=\u001b[39;00m\u001b[38;5;7moutput_dir\u001b[39m\u001b[38;5;7m,\u001b[39m\u001b[38;5;7m \u001b[39m\u001b[38;5;7mdate_label\u001b[39m\u001b[38;5;109;01m=\u001b[39;00m\u001b[38;5;7mdate_label\u001b[39m\u001b[38;5;7m,\u001b[39m\u001b[38;5;7m \u001b[39m\u001b[38;5;7mdataset_mode\u001b[39m\u001b[38;5;109;01m=\u001b[39;00m\u001b[38;5;7mdataset_mode\u001b[39m\u001b[38;5;7m)\u001b[39m\n",
      "\u001b[38;5;109mprint\u001b[39m\u001b[38;5;7m(\u001b[39m\u001b[38;5;144mf\u001b[39m\u001b[38;5;144m\"\u001b[39m\u001b[38;5;144mPreprocessed data stored in \u001b[39m\u001b[38;5;144m{\u001b[39m\u001b[38;5;7mpreprocessed_dir\u001b[39m\u001b[38;5;144m}\u001b[39m\u001b[38;5;144m\"\u001b[39m\u001b[38;5;7m)\u001b[39m\u001b[0m\n",
      "\u001b[33;1m====\u001b[0m\n"
     ]
    },
    {
     "data": {
      "text/plain": [
       "'Preprocessed data stored in C:\\\\Users\\\\zoiyy\\\\OneDrive\\\\Documentos\\\\DataSets\\\\TFM\\\\Pruebas\\\\processed'"
      ]
     },
     "metadata": {},
     "output_type": "display_data"
    },
    {
     "data": {
      "text/plain": [
       "'----------------------------------------------------------------------------------------------------'"
      ]
     },
     "metadata": {},
     "output_type": "display_data"
    },
    {
     "data": {
      "text/plain": [
       "'Test prompt 3:'"
      ]
     },
     "metadata": {},
     "output_type": "display_data"
    },
    {
     "name": "stderr",
     "output_type": "stream",
     "text": [
      "\u001b[33;1m======== New task ========\u001b[0m\n",
      "\u001b[37;1mPreprocess the WADI dataset in the route 'C:\\Users\\zoiyy\\OneDrive\\Documentos\\DataSets\\TFM\\Pruebas' and store it in 'C:\\Users\\zoiyy\\OneDrive\\Documentos\\DataSets\\TFM\\Pruebas2'.\u001b[0m\n",
      "\u001b[33;1m==== Agent is executing the code below:\u001b[0m\n",
      "\u001b[0m\u001b[38;5;7mdataset\u001b[39m\u001b[38;5;7m \u001b[39m\u001b[38;5;109;01m=\u001b[39;00m\u001b[38;5;7m \u001b[39m\u001b[38;5;144m\"\u001b[39m\u001b[38;5;144mWADI\u001b[39m\u001b[38;5;144m\"\u001b[39m\n",
      "\u001b[38;5;7minput_dir\u001b[39m\u001b[38;5;7m \u001b[39m\u001b[38;5;109;01m=\u001b[39;00m\u001b[38;5;7m \u001b[39m\u001b[38;5;144mr\u001b[39m\u001b[38;5;144m'\u001b[39m\u001b[38;5;144mC:\u001b[39m\u001b[38;5;144m\\\u001b[39m\u001b[38;5;144mUsers\u001b[39m\u001b[38;5;144m\\\u001b[39m\u001b[38;5;144mzoiyy\u001b[39m\u001b[38;5;144m\\\u001b[39m\u001b[38;5;144mOneDrive\u001b[39m\u001b[38;5;144m\\\u001b[39m\u001b[38;5;144mDocumentos\u001b[39m\u001b[38;5;144m\\\u001b[39m\u001b[38;5;144mDataSets\u001b[39m\u001b[38;5;144m\\\u001b[39m\u001b[38;5;144mTFM\u001b[39m\u001b[38;5;144m\\\u001b[39m\u001b[38;5;144mPruebas\u001b[39m\u001b[38;5;144m'\u001b[39m\n",
      "\u001b[38;5;7moutput_dir\u001b[39m\u001b[38;5;7m \u001b[39m\u001b[38;5;109;01m=\u001b[39;00m\u001b[38;5;7m \u001b[39m\u001b[38;5;144mr\u001b[39m\u001b[38;5;144m'\u001b[39m\u001b[38;5;144mC:\u001b[39m\u001b[38;5;144m\\\u001b[39m\u001b[38;5;144mUsers\u001b[39m\u001b[38;5;144m\\\u001b[39m\u001b[38;5;144mzoiyy\u001b[39m\u001b[38;5;144m\\\u001b[39m\u001b[38;5;144mOneDrive\u001b[39m\u001b[38;5;144m\\\u001b[39m\u001b[38;5;144mDocumentos\u001b[39m\u001b[38;5;144m\\\u001b[39m\u001b[38;5;144mDataSets\u001b[39m\u001b[38;5;144m\\\u001b[39m\u001b[38;5;144mTFM\u001b[39m\u001b[38;5;144m\\\u001b[39m\u001b[38;5;144mPruebas2\u001b[39m\u001b[38;5;144m'\u001b[39m\n",
      "\n",
      "\u001b[38;5;7mprocessed_data_path\u001b[39m\u001b[38;5;7m \u001b[39m\u001b[38;5;109;01m=\u001b[39;00m\u001b[38;5;7m \u001b[39m\u001b[38;5;7mAnomalyBERT_Data_Preprocessing\u001b[39m\u001b[38;5;7m(\u001b[39m\u001b[38;5;7mdataset\u001b[39m\u001b[38;5;109;01m=\u001b[39;00m\u001b[38;5;7mdataset\u001b[39m\u001b[38;5;7m,\u001b[39m\u001b[38;5;7m \u001b[39m\u001b[38;5;7minput_dir\u001b[39m\u001b[38;5;109;01m=\u001b[39;00m\u001b[38;5;7minput_dir\u001b[39m\u001b[38;5;7m,\u001b[39m\u001b[38;5;7m \u001b[39m\u001b[38;5;7moutput_dir\u001b[39m\u001b[38;5;109;01m=\u001b[39;00m\u001b[38;5;7moutput_dir\u001b[39m\u001b[38;5;7m,\u001b[39m\u001b[38;5;7m \u001b[39m\u001b[38;5;7mdate_label\u001b[39m\u001b[38;5;109;01m=\u001b[39;00m\u001b[38;5;144m'\u001b[39m\u001b[38;5;144m2022\u001b[39m\u001b[38;5;144m'\u001b[39m\u001b[38;5;7m,\u001b[39m\u001b[38;5;7m \u001b[39m\u001b[38;5;7mdataset_mode\u001b[39m\u001b[38;5;109;01m=\u001b[39;00m\u001b[38;5;144m'\u001b[39m\u001b[38;5;144mtrain\u001b[39m\u001b[38;5;144m'\u001b[39m\u001b[38;5;7m)\u001b[39m\u001b[0m\n",
      "\u001b[33;1m====\u001b[0m\n",
      "\u001b[31;20mError in execution: [Errno 2] No such file or directory: 'C:\\\\Users\\\\zoiyy\\\\OneDrive\\\\Documentos\\\\DataSets\\\\TFM\\\\Pruebas\\\\WADI/WADI.2022/WADI_14days_new.csv'. Be sure to provide correct code.\u001b[0m\n",
      "Traceback (most recent call last):\n",
      "  File \"C:\\Users\\zoiyy\\AppData\\Roaming\\Python\\Python38\\site-packages\\transformers\\agents\\agents.py\", line 566, in run\n",
      "    output = self.python_evaluator(code_action, available_tools, state=self.state)\n",
      "  File \"C:\\Users\\zoiyy\\AppData\\Roaming\\Python\\Python38\\site-packages\\transformers\\agents\\python_interpreter.py\", line 511, in evaluate_python_code\n",
      "    line_result = evaluate_ast(node, state, tools)\n",
      "  File \"C:\\Users\\zoiyy\\AppData\\Roaming\\Python\\Python38\\site-packages\\transformers\\agents\\python_interpreter.py\", line 360, in evaluate_ast\n",
      "    return evaluate_assign(expression, state, tools)\n",
      "  File \"C:\\Users\\zoiyy\\AppData\\Roaming\\Python\\Python38\\site-packages\\transformers\\agents\\python_interpreter.py\", line 177, in evaluate_assign\n",
      "    result = evaluate_ast(assign.value, state, tools)\n",
      "  File \"C:\\Users\\zoiyy\\AppData\\Roaming\\Python\\Python38\\site-packages\\transformers\\agents\\python_interpreter.py\", line 365, in evaluate_ast\n",
      "    return evaluate_call(expression, state, tools)\n",
      "  File \"C:\\Users\\zoiyy\\AppData\\Roaming\\Python\\Python38\\site-packages\\transformers\\agents\\python_interpreter.py\", line 217, in evaluate_call\n",
      "    output = func(*args, **kwargs)\n",
      "  File \"c:\\Users\\zoiyy\\OneDrive\\Documentos\\Repositorios GIT\\TFM\\Pruebas\\test_batch.py\", line 26, in __call__\n",
      "    preprocessed_dataset_folder\t= adp.preprocess_data( dataset , input_dir , output_dir , json_dir , date_label , dataset_mode )\n",
      "  File \"c:\\Users\\zoiyy\\OneDrive\\Documentos\\Repositorios GIT\\TFM\\Adapted_utils\\Adapted_data_preprocessing.py\", line 247, in preprocess_data\n",
      "    load_data( dataset , data_dir , output_folder , json_folder , date_label , process_type )\n",
      "  File \"c:\\Users\\zoiyy\\OneDrive\\Documentos\\Repositorios GIT\\TFM\\Adapted_utils\\Adapted_data_preprocessing.py\", line 200, in load_data\n",
      "    normal_data\t\t= pd.read_csv( os.path.join( base_dir , 'WADI/WADI.' + date_label + '/WADI_14days_new.csv'\t\t) )\n",
      "  File \"C:\\Users\\zoiyy\\AppData\\Roaming\\Python\\Python38\\site-packages\\pandas\\io\\parsers\\readers.py\", line 912, in read_csv\n",
      "    return _read(filepath_or_buffer, kwds)\n",
      "  File \"C:\\Users\\zoiyy\\AppData\\Roaming\\Python\\Python38\\site-packages\\pandas\\io\\parsers\\readers.py\", line 577, in _read\n",
      "    parser = TextFileReader(filepath_or_buffer, **kwds)\n",
      "  File \"C:\\Users\\zoiyy\\AppData\\Roaming\\Python\\Python38\\site-packages\\pandas\\io\\parsers\\readers.py\", line 1407, in __init__\n",
      "    self._engine = self._make_engine(f, self.engine)\n",
      "  File \"C:\\Users\\zoiyy\\AppData\\Roaming\\Python\\Python38\\site-packages\\pandas\\io\\parsers\\readers.py\", line 1661, in _make_engine\n",
      "    self.handles = get_handle(\n",
      "  File \"C:\\Users\\zoiyy\\AppData\\Roaming\\Python\\Python38\\site-packages\\pandas\\io\\common.py\", line 859, in get_handle\n",
      "    handle = open(\n",
      "FileNotFoundError: [Errno 2] No such file or directory: 'C:\\\\Users\\\\zoiyy\\\\OneDrive\\\\Documentos\\\\DataSets\\\\TFM\\\\Pruebas\\\\WADI/WADI.2022/WADI_14days_new.csv'\n"
     ]
    },
    {
     "data": {
      "text/plain": [
       "\"Error in execution: [Errno 2] No such file or directory: 'C:\\\\\\\\Users\\\\\\\\zoiyy\\\\\\\\OneDrive\\\\\\\\Documentos\\\\\\\\DataSets\\\\\\\\TFM\\\\\\\\Pruebas\\\\\\\\WADI/WADI.2022/WADI_14days_new.csv'. Be sure to provide correct code.\""
      ]
     },
     "metadata": {},
     "output_type": "display_data"
    },
    {
     "data": {
      "text/plain": [
       "'----------------------------------------------------------------------------------------------------'"
      ]
     },
     "metadata": {},
     "output_type": "display_data"
    },
    {
     "data": {
      "text/plain": [
       "'Test prompt 4:'"
      ]
     },
     "metadata": {},
     "output_type": "display_data"
    },
    {
     "name": "stderr",
     "output_type": "stream",
     "text": [
      "\u001b[33;1m======== New task ========\u001b[0m\n",
      "\u001b[37;1mPreprocess the WADI dataset stored in the route 'C:\\Users\\zoiyy\\OneDrive\\Documentos\\DataSets\\TFM\\Pruebas' and save it in 'C:\\Users\\zoiyy\\OneDrive\\Documentos\\DataSets\\TFM\\Pruebas2'.\u001b[0m\n",
      "\u001b[33;1m==== Agent is executing the code below:\u001b[0m\n",
      "\u001b[0m\u001b[38;5;7mdataset\u001b[39m\u001b[38;5;7m \u001b[39m\u001b[38;5;109;01m=\u001b[39;00m\u001b[38;5;7m \u001b[39m\u001b[38;5;144m'\u001b[39m\u001b[38;5;144mWADI\u001b[39m\u001b[38;5;144m'\u001b[39m\n",
      "\u001b[38;5;7minput_dir\u001b[39m\u001b[38;5;7m \u001b[39m\u001b[38;5;109;01m=\u001b[39;00m\u001b[38;5;7m \u001b[39m\u001b[38;5;144m'\u001b[39m\u001b[38;5;144mC:\u001b[39m\u001b[38;5;186m\\\\\u001b[39m\u001b[38;5;144mUsers\u001b[39m\u001b[38;5;186m\\\\\u001b[39m\u001b[38;5;144mzoiyy\u001b[39m\u001b[38;5;186m\\\\\u001b[39m\u001b[38;5;144mOneDrive\u001b[39m\u001b[38;5;186m\\\\\u001b[39m\u001b[38;5;144mDocumentos\u001b[39m\u001b[38;5;186m\\\\\u001b[39m\u001b[38;5;144mDataSets\u001b[39m\u001b[38;5;186m\\\\\u001b[39m\u001b[38;5;144mTFM\u001b[39m\u001b[38;5;186m\\\\\u001b[39m\u001b[38;5;144mPruebas\u001b[39m\u001b[38;5;144m'\u001b[39m\n",
      "\u001b[38;5;7moutput_dir\u001b[39m\u001b[38;5;7m \u001b[39m\u001b[38;5;109;01m=\u001b[39;00m\u001b[38;5;7m \u001b[39m\u001b[38;5;144m'\u001b[39m\u001b[38;5;144mC:\u001b[39m\u001b[38;5;186m\\\\\u001b[39m\u001b[38;5;144mUsers\u001b[39m\u001b[38;5;186m\\\\\u001b[39m\u001b[38;5;144mzoiyy\u001b[39m\u001b[38;5;186m\\\\\u001b[39m\u001b[38;5;144mOneDrive\u001b[39m\u001b[38;5;186m\\\\\u001b[39m\u001b[38;5;144mDocumentos\u001b[39m\u001b[38;5;186m\\\\\u001b[39m\u001b[38;5;144mDataSets\u001b[39m\u001b[38;5;186m\\\\\u001b[39m\u001b[38;5;144mTFM\u001b[39m\u001b[38;5;186m\\\\\u001b[39m\u001b[38;5;144mPruebas2\u001b[39m\u001b[38;5;144m'\u001b[39m\n",
      "\u001b[38;5;7mpath\u001b[39m\u001b[38;5;7m \u001b[39m\u001b[38;5;109;01m=\u001b[39;00m\u001b[38;5;7m \u001b[39m\u001b[38;5;7mAnomalyBERT_Data_Preprocessing\u001b[39m\u001b[38;5;7m(\u001b[39m\u001b[38;5;7mdataset\u001b[39m\u001b[38;5;109;01m=\u001b[39;00m\u001b[38;5;7mdataset\u001b[39m\u001b[38;5;7m,\u001b[39m\u001b[38;5;7m \u001b[39m\u001b[38;5;7minput_dir\u001b[39m\u001b[38;5;109;01m=\u001b[39;00m\u001b[38;5;7minput_dir\u001b[39m\u001b[38;5;7m,\u001b[39m\u001b[38;5;7m \u001b[39m\u001b[38;5;7moutput_dir\u001b[39m\u001b[38;5;109;01m=\u001b[39;00m\u001b[38;5;7moutput_dir\u001b[39m\u001b[38;5;7m,\u001b[39m\u001b[38;5;7m \u001b[39m\u001b[38;5;7mdate_label\u001b[39m\u001b[38;5;109;01m=\u001b[39;00m\u001b[38;5;109;01mNone\u001b[39;00m\u001b[38;5;7m,\u001b[39m\u001b[38;5;7m \u001b[39m\u001b[38;5;7mdataset_mode\u001b[39m\u001b[38;5;109;01m=\u001b[39;00m\u001b[38;5;109;01mNone\u001b[39;00m\u001b[38;5;7m)\u001b[39m\u001b[0m\n",
      "\u001b[33;1m====\u001b[0m\n"
     ]
    },
    {
     "data": {
      "text/plain": [
       "'C:\\\\Users\\\\zoiyy\\\\OneDrive\\\\Documentos\\\\DataSets\\\\TFM\\\\Pruebas2'"
      ]
     },
     "metadata": {},
     "output_type": "display_data"
    },
    {
     "data": {
      "text/plain": [
       "'----------------------------------------------------------------------------------------------------'"
      ]
     },
     "metadata": {},
     "output_type": "display_data"
    },
    {
     "data": {
      "text/plain": [
       "'Test prompt 5:'"
      ]
     },
     "metadata": {},
     "output_type": "display_data"
    },
    {
     "name": "stderr",
     "output_type": "stream",
     "text": [
      "\u001b[33;1m======== New task ========\u001b[0m\n",
      "\u001b[37;1mPreprocess the WADI dataset stored in the route 'C:\\Users\\zoiyy\\OneDrive\\Documentos\\DataSets\\TFM\\Pruebas' and store it in 'C:\\Users\\zoiyy\\OneDrive\\Documentos\\DataSets\\TFM\\Pruebas2'.\u001b[0m\n",
      "\u001b[33;1m==== Agent is executing the code below:\u001b[0m\n",
      "\u001b[0m\u001b[38;5;7mdataset\u001b[39m\u001b[38;5;7m \u001b[39m\u001b[38;5;109;01m=\u001b[39;00m\u001b[38;5;7m \u001b[39m\u001b[38;5;144m'\u001b[39m\u001b[38;5;144mWADI\u001b[39m\u001b[38;5;144m'\u001b[39m\n",
      "\u001b[38;5;7minput_dir\u001b[39m\u001b[38;5;7m \u001b[39m\u001b[38;5;109;01m=\u001b[39;00m\u001b[38;5;7m \u001b[39m\u001b[38;5;144mr\u001b[39m\u001b[38;5;144m'\u001b[39m\u001b[38;5;144mC:\u001b[39m\u001b[38;5;144m\\\u001b[39m\u001b[38;5;144mUsers\u001b[39m\u001b[38;5;144m\\\u001b[39m\u001b[38;5;144mzoiyy\u001b[39m\u001b[38;5;144m\\\u001b[39m\u001b[38;5;144mOneDrive\u001b[39m\u001b[38;5;144m\\\u001b[39m\u001b[38;5;144mDocumentos\u001b[39m\u001b[38;5;144m\\\u001b[39m\u001b[38;5;144mDataSets\u001b[39m\u001b[38;5;144m\\\u001b[39m\u001b[38;5;144mTFM\u001b[39m\u001b[38;5;144m\\\u001b[39m\u001b[38;5;144mPruebas\u001b[39m\u001b[38;5;144m'\u001b[39m\n",
      "\u001b[38;5;7moutput_dir\u001b[39m\u001b[38;5;7m \u001b[39m\u001b[38;5;109;01m=\u001b[39;00m\u001b[38;5;7m \u001b[39m\u001b[38;5;144mr\u001b[39m\u001b[38;5;144m'\u001b[39m\u001b[38;5;144mC:\u001b[39m\u001b[38;5;144m\\\u001b[39m\u001b[38;5;144mUsers\u001b[39m\u001b[38;5;144m\\\u001b[39m\u001b[38;5;144mzoiyy\u001b[39m\u001b[38;5;144m\\\u001b[39m\u001b[38;5;144mOneDrive\u001b[39m\u001b[38;5;144m\\\u001b[39m\u001b[38;5;144mDocumentos\u001b[39m\u001b[38;5;144m\\\u001b[39m\u001b[38;5;144mDataSets\u001b[39m\u001b[38;5;144m\\\u001b[39m\u001b[38;5;144mTFM\u001b[39m\u001b[38;5;144m\\\u001b[39m\u001b[38;5;144mPruebas2\u001b[39m\u001b[38;5;144m'\u001b[39m\n",
      "\u001b[38;5;7mdate_label\u001b[39m\u001b[38;5;7m \u001b[39m\u001b[38;5;109;01m=\u001b[39;00m\u001b[38;5;7m \u001b[39m\u001b[38;5;109;01mNone\u001b[39;00m\n",
      "\u001b[38;5;7mdataset_mode\u001b[39m\u001b[38;5;7m \u001b[39m\u001b[38;5;109;01m=\u001b[39;00m\u001b[38;5;7m \u001b[39m\u001b[38;5;144m'\u001b[39m\u001b[38;5;144mtrain\u001b[39m\u001b[38;5;144m'\u001b[39m\n",
      "\u001b[38;5;7mAnomalyBERT_Data_Preprocessing\u001b[39m\u001b[38;5;7m(\u001b[39m\u001b[38;5;7mdataset\u001b[39m\u001b[38;5;109;01m=\u001b[39;00m\u001b[38;5;7mdataset\u001b[39m\u001b[38;5;7m,\u001b[39m\u001b[38;5;7m \u001b[39m\u001b[38;5;7minput_dir\u001b[39m\u001b[38;5;109;01m=\u001b[39;00m\u001b[38;5;7minput_dir\u001b[39m\u001b[38;5;7m,\u001b[39m\u001b[38;5;7m \u001b[39m\u001b[38;5;7moutput_dir\u001b[39m\u001b[38;5;109;01m=\u001b[39;00m\u001b[38;5;7moutput_dir\u001b[39m\u001b[38;5;7m,\u001b[39m\u001b[38;5;7m \u001b[39m\u001b[38;5;7mdate_label\u001b[39m\u001b[38;5;109;01m=\u001b[39;00m\u001b[38;5;7mdate_label\u001b[39m\u001b[38;5;7m,\u001b[39m\u001b[38;5;7m \u001b[39m\u001b[38;5;7mdataset_mode\u001b[39m\u001b[38;5;109;01m=\u001b[39;00m\u001b[38;5;7mdataset_mode\u001b[39m\u001b[38;5;7m)\u001b[39m\u001b[0m\n",
      "\u001b[33;1m====\u001b[0m\n"
     ]
    },
    {
     "data": {
      "text/plain": [
       "'C:\\\\Users\\\\zoiyy\\\\OneDrive\\\\Documentos\\\\DataSets\\\\TFM\\\\Pruebas2'"
      ]
     },
     "metadata": {},
     "output_type": "display_data"
    },
    {
     "data": {
      "text/plain": [
       "'----------------------------------------------------------------------------------------------------'"
      ]
     },
     "metadata": {},
     "output_type": "display_data"
    },
    {
     "data": {
      "text/plain": [
       "'Test prompt 6:'"
      ]
     },
     "metadata": {},
     "output_type": "display_data"
    },
    {
     "name": "stderr",
     "output_type": "stream",
     "text": [
      "\u001b[33;1m======== New task ========\u001b[0m\n",
      "\u001b[37;1mPreprocess for testing the WADI dataset in the route 'C:\\Users\\zoiyy\\OneDrive\\Documentos\\DataSets\\TFM\\Pruebas' and store it in 'C:\\Users\\zoiyy\\OneDrive\\Documentos\\DataSets\\TFM\\Pruebas2'.\u001b[0m\n",
      "\u001b[33;1m==== Agent is executing the code below:\u001b[0m\n",
      "\u001b[0m\u001b[38;5;7mdataset\u001b[39m\u001b[38;5;7m \u001b[39m\u001b[38;5;109;01m=\u001b[39;00m\u001b[38;5;7m \u001b[39m\u001b[38;5;144m'\u001b[39m\u001b[38;5;144mWADI\u001b[39m\u001b[38;5;144m'\u001b[39m\n",
      "\u001b[38;5;7minput_dir\u001b[39m\u001b[38;5;7m \u001b[39m\u001b[38;5;109;01m=\u001b[39;00m\u001b[38;5;7m \u001b[39m\u001b[38;5;144mr\u001b[39m\u001b[38;5;144m'\u001b[39m\u001b[38;5;144mC:\u001b[39m\u001b[38;5;144m\\\u001b[39m\u001b[38;5;144mUsers\u001b[39m\u001b[38;5;144m\\\u001b[39m\u001b[38;5;144mzoiyy\u001b[39m\u001b[38;5;144m\\\u001b[39m\u001b[38;5;144mOneDrive\u001b[39m\u001b[38;5;144m\\\u001b[39m\u001b[38;5;144mDocumentos\u001b[39m\u001b[38;5;144m\\\u001b[39m\u001b[38;5;144mDataSets\u001b[39m\u001b[38;5;144m\\\u001b[39m\u001b[38;5;144mTFM\u001b[39m\u001b[38;5;144m\\\u001b[39m\u001b[38;5;144mPruebas\u001b[39m\u001b[38;5;144m'\u001b[39m\n",
      "\u001b[38;5;7moutput_dir\u001b[39m\u001b[38;5;7m \u001b[39m\u001b[38;5;109;01m=\u001b[39;00m\u001b[38;5;7m \u001b[39m\u001b[38;5;144mr\u001b[39m\u001b[38;5;144m'\u001b[39m\u001b[38;5;144mC:\u001b[39m\u001b[38;5;144m\\\u001b[39m\u001b[38;5;144mUsers\u001b[39m\u001b[38;5;144m\\\u001b[39m\u001b[38;5;144mzoiyy\u001b[39m\u001b[38;5;144m\\\u001b[39m\u001b[38;5;144mOneDrive\u001b[39m\u001b[38;5;144m\\\u001b[39m\u001b[38;5;144mDocumentos\u001b[39m\u001b[38;5;144m\\\u001b[39m\u001b[38;5;144mDataSets\u001b[39m\u001b[38;5;144m\\\u001b[39m\u001b[38;5;144mTFM\u001b[39m\u001b[38;5;144m\\\u001b[39m\u001b[38;5;144mPruebas2\u001b[39m\u001b[38;5;144m'\u001b[39m\n",
      "\u001b[38;5;7mdate_label\u001b[39m\u001b[38;5;7m \u001b[39m\u001b[38;5;109;01m=\u001b[39;00m\u001b[38;5;7m \u001b[39m\u001b[38;5;144m'\u001b[39m\u001b[38;5;144m'\u001b[39m\n",
      "\u001b[38;5;7mdataset_mode\u001b[39m\u001b[38;5;7m \u001b[39m\u001b[38;5;109;01m=\u001b[39;00m\u001b[38;5;7m \u001b[39m\u001b[38;5;144m'\u001b[39m\u001b[38;5;144mtest\u001b[39m\u001b[38;5;144m'\u001b[39m\n",
      "\n",
      "\u001b[38;5;7mpreprocessed_dir\u001b[39m\u001b[38;5;7m \u001b[39m\u001b[38;5;109;01m=\u001b[39;00m\u001b[38;5;7m \u001b[39m\u001b[38;5;7mAnomalyBERT_Data_Preprocessing\u001b[39m\u001b[38;5;7m(\u001b[39m\u001b[38;5;7mdataset\u001b[39m\u001b[38;5;109;01m=\u001b[39;00m\u001b[38;5;7mdataset\u001b[39m\u001b[38;5;7m,\u001b[39m\u001b[38;5;7m \u001b[39m\u001b[38;5;7minput_dir\u001b[39m\u001b[38;5;109;01m=\u001b[39;00m\u001b[38;5;7minput_dir\u001b[39m\u001b[38;5;7m,\u001b[39m\u001b[38;5;7m \u001b[39m\u001b[38;5;7moutput_dir\u001b[39m\u001b[38;5;109;01m=\u001b[39;00m\u001b[38;5;7moutput_dir\u001b[39m\u001b[38;5;7m,\u001b[39m\u001b[38;5;7m \u001b[39m\u001b[38;5;7mdate_label\u001b[39m\u001b[38;5;109;01m=\u001b[39;00m\u001b[38;5;7mdate_label\u001b[39m\u001b[38;5;7m,\u001b[39m\u001b[38;5;7m \u001b[39m\u001b[38;5;7mdataset_mode\u001b[39m\u001b[38;5;109;01m=\u001b[39;00m\u001b[38;5;7mdataset_mode\u001b[39m\u001b[38;5;7m)\u001b[39m\u001b[0m\n",
      "\u001b[33;1m====\u001b[0m\n",
      "\u001b[31;20mError in execution: [Errno 2] No such file or directory: 'C:\\\\Users\\\\zoiyy\\\\OneDrive\\\\Documentos\\\\DataSets\\\\TFM\\\\Pruebas\\\\WADI/WADI./WADI_attackdataLABLE.csv'. Be sure to provide correct code.\u001b[0m\n",
      "Traceback (most recent call last):\n",
      "  File \"C:\\Users\\zoiyy\\AppData\\Roaming\\Python\\Python38\\site-packages\\transformers\\agents\\agents.py\", line 566, in run\n",
      "    output = self.python_evaluator(code_action, available_tools, state=self.state)\n",
      "  File \"C:\\Users\\zoiyy\\AppData\\Roaming\\Python\\Python38\\site-packages\\transformers\\agents\\python_interpreter.py\", line 511, in evaluate_python_code\n",
      "    line_result = evaluate_ast(node, state, tools)\n",
      "  File \"C:\\Users\\zoiyy\\AppData\\Roaming\\Python\\Python38\\site-packages\\transformers\\agents\\python_interpreter.py\", line 360, in evaluate_ast\n",
      "    return evaluate_assign(expression, state, tools)\n",
      "  File \"C:\\Users\\zoiyy\\AppData\\Roaming\\Python\\Python38\\site-packages\\transformers\\agents\\python_interpreter.py\", line 177, in evaluate_assign\n",
      "    result = evaluate_ast(assign.value, state, tools)\n",
      "  File \"C:\\Users\\zoiyy\\AppData\\Roaming\\Python\\Python38\\site-packages\\transformers\\agents\\python_interpreter.py\", line 365, in evaluate_ast\n",
      "    return evaluate_call(expression, state, tools)\n",
      "  File \"C:\\Users\\zoiyy\\AppData\\Roaming\\Python\\Python38\\site-packages\\transformers\\agents\\python_interpreter.py\", line 217, in evaluate_call\n",
      "    output = func(*args, **kwargs)\n",
      "  File \"c:\\Users\\zoiyy\\OneDrive\\Documentos\\Repositorios GIT\\TFM\\Pruebas\\test_batch.py\", line 26, in __call__\n",
      "    preprocessed_dataset_folder\t= adp.preprocess_data( dataset , input_dir , output_dir , json_dir , date_label , dataset_mode )\n",
      "  File \"c:\\Users\\zoiyy\\OneDrive\\Documentos\\Repositorios GIT\\TFM\\Adapted_utils\\Adapted_data_preprocessing.py\", line 247, in preprocess_data\n",
      "    load_data( dataset , data_dir , output_folder , json_folder , date_label , process_type )\n",
      "  File \"c:\\Users\\zoiyy\\OneDrive\\Documentos\\Repositorios GIT\\TFM\\Adapted_utils\\Adapted_data_preprocessing.py\", line 206, in load_data\n",
      "    abnormal_data\t= pd.read_csv( os.path.join( base_dir , 'WADI/WADI.' + date_label + '/WADI_attackdataLABLE.csv'\t) , header = 1\t)\n",
      "  File \"C:\\Users\\zoiyy\\AppData\\Roaming\\Python\\Python38\\site-packages\\pandas\\io\\parsers\\readers.py\", line 912, in read_csv\n",
      "    return _read(filepath_or_buffer, kwds)\n",
      "  File \"C:\\Users\\zoiyy\\AppData\\Roaming\\Python\\Python38\\site-packages\\pandas\\io\\parsers\\readers.py\", line 577, in _read\n",
      "    parser = TextFileReader(filepath_or_buffer, **kwds)\n",
      "  File \"C:\\Users\\zoiyy\\AppData\\Roaming\\Python\\Python38\\site-packages\\pandas\\io\\parsers\\readers.py\", line 1407, in __init__\n",
      "    self._engine = self._make_engine(f, self.engine)\n",
      "  File \"C:\\Users\\zoiyy\\AppData\\Roaming\\Python\\Python38\\site-packages\\pandas\\io\\parsers\\readers.py\", line 1661, in _make_engine\n",
      "    self.handles = get_handle(\n",
      "  File \"C:\\Users\\zoiyy\\AppData\\Roaming\\Python\\Python38\\site-packages\\pandas\\io\\common.py\", line 859, in get_handle\n",
      "    handle = open(\n",
      "FileNotFoundError: [Errno 2] No such file or directory: 'C:\\\\Users\\\\zoiyy\\\\OneDrive\\\\Documentos\\\\DataSets\\\\TFM\\\\Pruebas\\\\WADI/WADI./WADI_attackdataLABLE.csv'\n"
     ]
    },
    {
     "data": {
      "text/plain": [
       "\"Error in execution: [Errno 2] No such file or directory: 'C:\\\\\\\\Users\\\\\\\\zoiyy\\\\\\\\OneDrive\\\\\\\\Documentos\\\\\\\\DataSets\\\\\\\\TFM\\\\\\\\Pruebas\\\\\\\\WADI/WADI./WADI_attackdataLABLE.csv'. Be sure to provide correct code.\""
      ]
     },
     "metadata": {},
     "output_type": "display_data"
    },
    {
     "data": {
      "text/plain": [
       "'----------------------------------------------------------------------------------------------------'"
      ]
     },
     "metadata": {},
     "output_type": "display_data"
    },
    {
     "data": {
      "text/plain": [
       "'Test prompt 7:'"
      ]
     },
     "metadata": {},
     "output_type": "display_data"
    },
    {
     "name": "stderr",
     "output_type": "stream",
     "text": [
      "\u001b[33;1m======== New task ========\u001b[0m\n",
      "\u001b[37;1mThe WADI dataset in the route 'C:\\Users\\zoiyy\\OneDrive\\Documentos\\DataSets\\TFM\\Pruebas' is meant for testing. Preprocess it and store it in 'C:\\Users\\zoiyy\\OneDrive\\Documentos\\DataSets\\TFM\\Pruebas2'.\u001b[0m\n",
      "\u001b[33;1m==== Agent is executing the code below:\u001b[0m\n",
      "\u001b[0m\u001b[38;5;7mdataset\u001b[39m\u001b[38;5;7m \u001b[39m\u001b[38;5;109;01m=\u001b[39;00m\u001b[38;5;7m \u001b[39m\u001b[38;5;144m'\u001b[39m\u001b[38;5;144mWADI\u001b[39m\u001b[38;5;144m'\u001b[39m\n",
      "\u001b[38;5;7minput_dir\u001b[39m\u001b[38;5;7m \u001b[39m\u001b[38;5;109;01m=\u001b[39;00m\u001b[38;5;7m \u001b[39m\u001b[38;5;144m'\u001b[39m\u001b[38;5;144mC:\u001b[39m\u001b[38;5;186m\\\\\u001b[39m\u001b[38;5;144mUsers\u001b[39m\u001b[38;5;186m\\\\\u001b[39m\u001b[38;5;144mzoiyy\u001b[39m\u001b[38;5;186m\\\\\u001b[39m\u001b[38;5;144mOneDrive\u001b[39m\u001b[38;5;186m\\\\\u001b[39m\u001b[38;5;144mDocumentos\u001b[39m\u001b[38;5;186m\\\\\u001b[39m\u001b[38;5;144mDataSets\u001b[39m\u001b[38;5;186m\\\\\u001b[39m\u001b[38;5;144mTFM\u001b[39m\u001b[38;5;186m\\\\\u001b[39m\u001b[38;5;144mPruebas\u001b[39m\u001b[38;5;144m'\u001b[39m\n",
      "\u001b[38;5;7moutput_dir\u001b[39m\u001b[38;5;7m \u001b[39m\u001b[38;5;109;01m=\u001b[39;00m\u001b[38;5;7m \u001b[39m\u001b[38;5;144m'\u001b[39m\u001b[38;5;144mC:\u001b[39m\u001b[38;5;186m\\\\\u001b[39m\u001b[38;5;144mUsers\u001b[39m\u001b[38;5;186m\\\\\u001b[39m\u001b[38;5;144mzoiyy\u001b[39m\u001b[38;5;186m\\\\\u001b[39m\u001b[38;5;144mOneDrive\u001b[39m\u001b[38;5;186m\\\\\u001b[39m\u001b[38;5;144mDocumentos\u001b[39m\u001b[38;5;186m\\\\\u001b[39m\u001b[38;5;144mDataSets\u001b[39m\u001b[38;5;186m\\\\\u001b[39m\u001b[38;5;144mTFM\u001b[39m\u001b[38;5;186m\\\\\u001b[39m\u001b[38;5;144mPruebas2\u001b[39m\u001b[38;5;144m'\u001b[39m\n",
      "\u001b[38;5;7mdataset_mode\u001b[39m\u001b[38;5;7m \u001b[39m\u001b[38;5;109;01m=\u001b[39;00m\u001b[38;5;7m \u001b[39m\u001b[38;5;144m'\u001b[39m\u001b[38;5;144mtest\u001b[39m\u001b[38;5;144m'\u001b[39m\n",
      "\u001b[38;5;7mpreprocessed_dir\u001b[39m\u001b[38;5;7m \u001b[39m\u001b[38;5;109;01m=\u001b[39;00m\u001b[38;5;7m \u001b[39m\u001b[38;5;7mAnomalyBERT_Data_Preprocessing\u001b[39m\u001b[38;5;7m(\u001b[39m\u001b[38;5;7mdataset\u001b[39m\u001b[38;5;109;01m=\u001b[39;00m\u001b[38;5;7mdataset\u001b[39m\u001b[38;5;7m,\u001b[39m\u001b[38;5;7m \u001b[39m\u001b[38;5;7minput_dir\u001b[39m\u001b[38;5;109;01m=\u001b[39;00m\u001b[38;5;7minput_dir\u001b[39m\u001b[38;5;7m,\u001b[39m\u001b[38;5;7m \u001b[39m\u001b[38;5;7moutput_dir\u001b[39m\u001b[38;5;109;01m=\u001b[39;00m\u001b[38;5;7moutput_dir\u001b[39m\u001b[38;5;7m,\u001b[39m\u001b[38;5;7m \u001b[39m\u001b[38;5;7mdataset_mode\u001b[39m\u001b[38;5;109;01m=\u001b[39;00m\u001b[38;5;7mdataset_mode\u001b[39m\u001b[38;5;7m)\u001b[39m\n",
      "\u001b[38;5;109mprint\u001b[39m\u001b[38;5;7m(\u001b[39m\u001b[38;5;144mf\u001b[39m\u001b[38;5;144m\"\u001b[39m\u001b[38;5;144mThe preprocessed data has been stored in \u001b[39m\u001b[38;5;144m{\u001b[39m\u001b[38;5;7mpreprocessed_dir\u001b[39m\u001b[38;5;144m}\u001b[39m\u001b[38;5;144m.\u001b[39m\u001b[38;5;144m\"\u001b[39m\u001b[38;5;7m)\u001b[39m\u001b[0m\n",
      "\u001b[33;1m====\u001b[0m\n"
     ]
    },
    {
     "data": {
      "text/plain": [
       "'The preprocessed data has been stored in C:\\\\Users\\\\zoiyy\\\\OneDrive\\\\Documentos\\\\DataSets\\\\TFM\\\\Pruebas2.'"
      ]
     },
     "metadata": {},
     "output_type": "display_data"
    },
    {
     "data": {
      "text/plain": [
       "'===================================================================================================='"
      ]
     },
     "metadata": {},
     "output_type": "display_data"
    },
    {
     "data": {
      "text/plain": [
       "'===================================================================================================='"
      ]
     },
     "metadata": {},
     "output_type": "display_data"
    },
    {
     "data": {
      "text/plain": [
       "'RESULTS FOR TOOL DESCRIPTION 3:'"
      ]
     },
     "metadata": {},
     "output_type": "display_data"
    },
    {
     "data": {
      "text/plain": [
       "'----------------------------------------------------------------------------------------------------'"
      ]
     },
     "metadata": {},
     "output_type": "display_data"
    },
    {
     "data": {
      "text/plain": [
       "'Test prompt 1:'"
      ]
     },
     "metadata": {},
     "output_type": "display_data"
    },
    {
     "name": "stderr",
     "output_type": "stream",
     "text": [
      "\u001b[33;1m======== New task ========\u001b[0m\n",
      "\u001b[37;1mPreprocess the WADI dataset in the route 'C:\\Users\\zoiyy\\OneDrive\\Documentos\\DataSets\\TFM\\Pruebas'.\u001b[0m\n",
      "\u001b[33;1m==== Agent is executing the code below:\u001b[0m\n",
      "\u001b[0m\u001b[38;5;7mdataset\u001b[39m\u001b[38;5;7m \u001b[39m\u001b[38;5;109;01m=\u001b[39;00m\u001b[38;5;7m \u001b[39m\u001b[38;5;144m'\u001b[39m\u001b[38;5;144mWADI\u001b[39m\u001b[38;5;144m'\u001b[39m\n",
      "\u001b[38;5;7minput_dir\u001b[39m\u001b[38;5;7m \u001b[39m\u001b[38;5;109;01m=\u001b[39;00m\u001b[38;5;7m \u001b[39m\u001b[38;5;144m'\u001b[39m\u001b[38;5;144mC:\u001b[39m\u001b[38;5;186m\\\\\u001b[39m\u001b[38;5;144mUsers\u001b[39m\u001b[38;5;186m\\\\\u001b[39m\u001b[38;5;144mzoiyy\u001b[39m\u001b[38;5;186m\\\\\u001b[39m\u001b[38;5;144mOneDrive\u001b[39m\u001b[38;5;186m\\\\\u001b[39m\u001b[38;5;144mDocumentos\u001b[39m\u001b[38;5;186m\\\\\u001b[39m\u001b[38;5;144mDataSets\u001b[39m\u001b[38;5;186m\\\\\u001b[39m\u001b[38;5;144mTFM\u001b[39m\u001b[38;5;186m\\\\\u001b[39m\u001b[38;5;144mPruebas\u001b[39m\u001b[38;5;144m'\u001b[39m\n",
      "\u001b[38;5;7moutput_dir\u001b[39m\u001b[38;5;7m \u001b[39m\u001b[38;5;109;01m=\u001b[39;00m\u001b[38;5;7m \u001b[39m\u001b[38;5;109;01mNone\u001b[39;00m\u001b[38;5;7m  \u001b[39m\u001b[38;5;60;03m# No need to specify output_dir as it will be automatically generated\u001b[39;00m\n",
      "\u001b[38;5;7mdate_label\u001b[39m\u001b[38;5;7m \u001b[39m\u001b[38;5;109;01m=\u001b[39;00m\u001b[38;5;7m \u001b[39m\u001b[38;5;109;01mNone\u001b[39;00m\u001b[38;5;7m  \u001b[39m\u001b[38;5;60;03m# No need to specify date_label as it's not necessary for WADI dataset\u001b[39;00m\n",
      "\u001b[38;5;7mdataset_mode\u001b[39m\u001b[38;5;7m \u001b[39m\u001b[38;5;109;01m=\u001b[39;00m\u001b[38;5;7m \u001b[39m\u001b[38;5;109;01mNone\u001b[39;00m\u001b[38;5;7m  \u001b[39m\u001b[38;5;60;03m# No need to specify dataset_mode as it's not necessary for preprocessed data\u001b[39;00m\n",
      "\u001b[38;5;7mpath_preprocessed_data\u001b[39m\u001b[38;5;7m \u001b[39m\u001b[38;5;109;01m=\u001b[39;00m\u001b[38;5;7m \u001b[39m\u001b[38;5;7mAnomalyBERT_Data_Preprocessing\u001b[39m\u001b[38;5;7m(\u001b[39m\u001b[38;5;7mdataset\u001b[39m\u001b[38;5;109;01m=\u001b[39;00m\u001b[38;5;7mdataset\u001b[39m\u001b[38;5;7m,\u001b[39m\u001b[38;5;7m \u001b[39m\u001b[38;5;7minput_dir\u001b[39m\u001b[38;5;109;01m=\u001b[39;00m\u001b[38;5;7minput_dir\u001b[39m\u001b[38;5;7m,\u001b[39m\u001b[38;5;7m \u001b[39m\u001b[38;5;7moutput_dir\u001b[39m\u001b[38;5;109;01m=\u001b[39;00m\u001b[38;5;7moutput_dir\u001b[39m\u001b[38;5;7m,\u001b[39m\u001b[38;5;7m \u001b[39m\u001b[38;5;7mdate_label\u001b[39m\u001b[38;5;109;01m=\u001b[39;00m\u001b[38;5;7mdate_label\u001b[39m\u001b[38;5;7m,\u001b[39m\u001b[38;5;7m \u001b[39m\u001b[38;5;7mdataset_mode\u001b[39m\u001b[38;5;109;01m=\u001b[39;00m\u001b[38;5;7mdataset_mode\u001b[39m\u001b[38;5;7m)\u001b[39m\n",
      "\u001b[38;5;109mprint\u001b[39m\u001b[38;5;7m(\u001b[39m\u001b[38;5;7mpath_preprocessed_data\u001b[39m\u001b[38;5;7m)\u001b[39m\u001b[0m\n",
      "\u001b[33;1m====\u001b[0m\n"
     ]
    },
    {
     "data": {
      "text/plain": [
       "'C:\\\\Users\\\\zoiyy\\\\OneDrive\\\\Documentos\\\\DataSets\\\\TFM\\\\Pruebas\\\\processed'"
      ]
     },
     "metadata": {},
     "output_type": "display_data"
    },
    {
     "data": {
      "text/plain": [
       "'----------------------------------------------------------------------------------------------------'"
      ]
     },
     "metadata": {},
     "output_type": "display_data"
    },
    {
     "data": {
      "text/plain": [
       "'Test prompt 2:'"
      ]
     },
     "metadata": {},
     "output_type": "display_data"
    },
    {
     "name": "stderr",
     "output_type": "stream",
     "text": [
      "\u001b[33;1m======== New task ========\u001b[0m\n",
      "\u001b[37;1mPreprocess the raw WADI dataset stored in the route 'C:\\Users\\zoiyy\\OneDrive\\Documentos\\DataSets\\TFM\\Pruebas'.\u001b[0m\n",
      "\u001b[33;1m==== Agent is executing the code below:\u001b[0m\n",
      "\u001b[0m\u001b[38;5;7moutput_dir\u001b[39m\u001b[38;5;7m \u001b[39m\u001b[38;5;109;01m=\u001b[39;00m\u001b[38;5;7m \u001b[39m\u001b[38;5;144m'\u001b[39m\u001b[38;5;144mC:\u001b[39m\u001b[38;5;186m\\\\\u001b[39m\u001b[38;5;144mUsers\u001b[39m\u001b[38;5;186m\\\\\u001b[39m\u001b[38;5;144mzoiyy\u001b[39m\u001b[38;5;186m\\\\\u001b[39m\u001b[38;5;144mOneDrive\u001b[39m\u001b[38;5;186m\\\\\u001b[39m\u001b[38;5;144mDocumentos\u001b[39m\u001b[38;5;186m\\\\\u001b[39m\u001b[38;5;144mDataSets\u001b[39m\u001b[38;5;186m\\\\\u001b[39m\u001b[38;5;144mTFM\u001b[39m\u001b[38;5;186m\\\\\u001b[39m\u001b[38;5;144mPruebas_out\u001b[39m\u001b[38;5;144m'\u001b[39m\n",
      "\u001b[38;5;7mdate_label\u001b[39m\u001b[38;5;7m \u001b[39m\u001b[38;5;109;01m=\u001b[39;00m\u001b[38;5;7m \u001b[39m\u001b[38;5;144m'\u001b[39m\u001b[38;5;144mNone\u001b[39m\u001b[38;5;144m'\u001b[39m\n",
      "\u001b[38;5;7mdataset_mode\u001b[39m\u001b[38;5;7m \u001b[39m\u001b[38;5;109;01m=\u001b[39;00m\u001b[38;5;7m \u001b[39m\u001b[38;5;144m'\u001b[39m\u001b[38;5;144mtrain\u001b[39m\u001b[38;5;144m'\u001b[39m\n",
      "\u001b[38;5;7mdataset\u001b[39m\u001b[38;5;7m \u001b[39m\u001b[38;5;109;01m=\u001b[39;00m\u001b[38;5;7m \u001b[39m\u001b[38;5;144m'\u001b[39m\u001b[38;5;144mWADI\u001b[39m\u001b[38;5;144m'\u001b[39m\n",
      "\u001b[38;5;7minput_dir\u001b[39m\u001b[38;5;7m \u001b[39m\u001b[38;5;109;01m=\u001b[39;00m\u001b[38;5;7m \u001b[39m\u001b[38;5;144m'\u001b[39m\u001b[38;5;144mC:\u001b[39m\u001b[38;5;186m\\\\\u001b[39m\u001b[38;5;144mUsers\u001b[39m\u001b[38;5;186m\\\\\u001b[39m\u001b[38;5;144mzoiyy\u001b[39m\u001b[38;5;186m\\\\\u001b[39m\u001b[38;5;144mOneDrive\u001b[39m\u001b[38;5;186m\\\\\u001b[39m\u001b[38;5;144mDocumentos\u001b[39m\u001b[38;5;186m\\\\\u001b[39m\u001b[38;5;144mDataSets\u001b[39m\u001b[38;5;186m\\\\\u001b[39m\u001b[38;5;144mTFM\u001b[39m\u001b[38;5;186m\\\\\u001b[39m\u001b[38;5;144mPruebas\u001b[39m\u001b[38;5;144m'\u001b[39m\n",
      "\u001b[38;5;7mAnomalyBERT_Data_Preprocessing\u001b[39m\u001b[38;5;7m(\u001b[39m\u001b[38;5;7minput_dir\u001b[39m\u001b[38;5;109;01m=\u001b[39;00m\u001b[38;5;7minput_dir\u001b[39m\u001b[38;5;7m,\u001b[39m\u001b[38;5;7m \u001b[39m\u001b[38;5;7mdataset\u001b[39m\u001b[38;5;109;01m=\u001b[39;00m\u001b[38;5;7mdataset\u001b[39m\u001b[38;5;7m,\u001b[39m\u001b[38;5;7m \u001b[39m\u001b[38;5;7moutput_dir\u001b[39m\u001b[38;5;109;01m=\u001b[39;00m\u001b[38;5;7moutput_dir\u001b[39m\u001b[38;5;7m,\u001b[39m\u001b[38;5;7m \u001b[39m\u001b[38;5;7mdate_label\u001b[39m\u001b[38;5;109;01m=\u001b[39;00m\u001b[38;5;7mdate_label\u001b[39m\u001b[38;5;7m,\u001b[39m\u001b[38;5;7m \u001b[39m\u001b[38;5;7mdataset_mode\u001b[39m\u001b[38;5;109;01m=\u001b[39;00m\u001b[38;5;7mdataset_mode\u001b[39m\u001b[38;5;7m)\u001b[39m\u001b[0m\n",
      "\u001b[33;1m====\u001b[0m\n",
      "\u001b[31;20mError in execution: [Errno 2] No such file or directory: 'C:\\\\Users\\\\zoiyy\\\\OneDrive\\\\Documentos\\\\DataSets\\\\TFM\\\\Pruebas\\\\WADI/WADI.None/WADI_14days_new.csv'. Be sure to provide correct code.\u001b[0m\n",
      "Traceback (most recent call last):\n",
      "  File \"C:\\Users\\zoiyy\\AppData\\Roaming\\Python\\Python38\\site-packages\\transformers\\agents\\agents.py\", line 566, in run\n",
      "    output = self.python_evaluator(code_action, available_tools, state=self.state)\n",
      "  File \"C:\\Users\\zoiyy\\AppData\\Roaming\\Python\\Python38\\site-packages\\transformers\\agents\\python_interpreter.py\", line 511, in evaluate_python_code\n",
      "    line_result = evaluate_ast(node, state, tools)\n",
      "  File \"C:\\Users\\zoiyy\\AppData\\Roaming\\Python\\Python38\\site-packages\\transformers\\agents\\python_interpreter.py\", line 401, in evaluate_ast\n",
      "    return evaluate_ast(expression.value, state, tools)\n",
      "  File \"C:\\Users\\zoiyy\\AppData\\Roaming\\Python\\Python38\\site-packages\\transformers\\agents\\python_interpreter.py\", line 365, in evaluate_ast\n",
      "    return evaluate_call(expression, state, tools)\n",
      "  File \"C:\\Users\\zoiyy\\AppData\\Roaming\\Python\\Python38\\site-packages\\transformers\\agents\\python_interpreter.py\", line 217, in evaluate_call\n",
      "    output = func(*args, **kwargs)\n",
      "  File \"c:\\Users\\zoiyy\\OneDrive\\Documentos\\Repositorios GIT\\TFM\\Pruebas\\test_batch.py\", line 26, in __call__\n",
      "    preprocessed_dataset_folder\t= adp.preprocess_data( dataset , input_dir , output_dir , json_dir , date_label , dataset_mode )\n",
      "  File \"c:\\Users\\zoiyy\\OneDrive\\Documentos\\Repositorios GIT\\TFM\\Adapted_utils\\Adapted_data_preprocessing.py\", line 247, in preprocess_data\n",
      "    load_data( dataset , data_dir , output_folder , json_folder , date_label , process_type )\n",
      "  File \"c:\\Users\\zoiyy\\OneDrive\\Documentos\\Repositorios GIT\\TFM\\Adapted_utils\\Adapted_data_preprocessing.py\", line 200, in load_data\n",
      "    normal_data\t\t= pd.read_csv( os.path.join( base_dir , 'WADI/WADI.' + date_label + '/WADI_14days_new.csv'\t\t) )\n",
      "  File \"C:\\Users\\zoiyy\\AppData\\Roaming\\Python\\Python38\\site-packages\\pandas\\io\\parsers\\readers.py\", line 912, in read_csv\n",
      "    return _read(filepath_or_buffer, kwds)\n",
      "  File \"C:\\Users\\zoiyy\\AppData\\Roaming\\Python\\Python38\\site-packages\\pandas\\io\\parsers\\readers.py\", line 577, in _read\n",
      "    parser = TextFileReader(filepath_or_buffer, **kwds)\n",
      "  File \"C:\\Users\\zoiyy\\AppData\\Roaming\\Python\\Python38\\site-packages\\pandas\\io\\parsers\\readers.py\", line 1407, in __init__\n",
      "    self._engine = self._make_engine(f, self.engine)\n",
      "  File \"C:\\Users\\zoiyy\\AppData\\Roaming\\Python\\Python38\\site-packages\\pandas\\io\\parsers\\readers.py\", line 1661, in _make_engine\n",
      "    self.handles = get_handle(\n",
      "  File \"C:\\Users\\zoiyy\\AppData\\Roaming\\Python\\Python38\\site-packages\\pandas\\io\\common.py\", line 859, in get_handle\n",
      "    handle = open(\n",
      "FileNotFoundError: [Errno 2] No such file or directory: 'C:\\\\Users\\\\zoiyy\\\\OneDrive\\\\Documentos\\\\DataSets\\\\TFM\\\\Pruebas\\\\WADI/WADI.None/WADI_14days_new.csv'\n"
     ]
    },
    {
     "data": {
      "text/plain": [
       "\"Error in execution: [Errno 2] No such file or directory: 'C:\\\\\\\\Users\\\\\\\\zoiyy\\\\\\\\OneDrive\\\\\\\\Documentos\\\\\\\\DataSets\\\\\\\\TFM\\\\\\\\Pruebas\\\\\\\\WADI/WADI.None/WADI_14days_new.csv'. Be sure to provide correct code.\""
      ]
     },
     "metadata": {},
     "output_type": "display_data"
    },
    {
     "data": {
      "text/plain": [
       "'----------------------------------------------------------------------------------------------------'"
      ]
     },
     "metadata": {},
     "output_type": "display_data"
    },
    {
     "data": {
      "text/plain": [
       "'Test prompt 3:'"
      ]
     },
     "metadata": {},
     "output_type": "display_data"
    },
    {
     "name": "stderr",
     "output_type": "stream",
     "text": [
      "\u001b[33;1m======== New task ========\u001b[0m\n",
      "\u001b[37;1mPreprocess the WADI dataset in the route 'C:\\Users\\zoiyy\\OneDrive\\Documentos\\DataSets\\TFM\\Pruebas' and store it in 'C:\\Users\\zoiyy\\OneDrive\\Documentos\\DataSets\\TFM\\Pruebas2'.\u001b[0m\n",
      "\u001b[33;1m==== Agent is executing the code below:\u001b[0m\n",
      "\u001b[0m\u001b[38;5;7mdataset\u001b[39m\u001b[38;5;7m \u001b[39m\u001b[38;5;109;01m=\u001b[39;00m\u001b[38;5;7m \u001b[39m\u001b[38;5;144m\"\u001b[39m\u001b[38;5;144mWADI\u001b[39m\u001b[38;5;144m\"\u001b[39m\n",
      "\u001b[38;5;7minput_dir\u001b[39m\u001b[38;5;7m \u001b[39m\u001b[38;5;109;01m=\u001b[39;00m\u001b[38;5;7m \u001b[39m\u001b[38;5;144mr\u001b[39m\u001b[38;5;144m'\u001b[39m\u001b[38;5;144mC:\u001b[39m\u001b[38;5;144m\\\u001b[39m\u001b[38;5;144mUsers\u001b[39m\u001b[38;5;144m\\\u001b[39m\u001b[38;5;144mzoiyy\u001b[39m\u001b[38;5;144m\\\u001b[39m\u001b[38;5;144mOneDrive\u001b[39m\u001b[38;5;144m\\\u001b[39m\u001b[38;5;144mDocumentos\u001b[39m\u001b[38;5;144m\\\u001b[39m\u001b[38;5;144mDataSets\u001b[39m\u001b[38;5;144m\\\u001b[39m\u001b[38;5;144mTFM\u001b[39m\u001b[38;5;144m\\\u001b[39m\u001b[38;5;144mPruebas\u001b[39m\u001b[38;5;144m'\u001b[39m\n",
      "\u001b[38;5;7moutput_dir\u001b[39m\u001b[38;5;7m \u001b[39m\u001b[38;5;109;01m=\u001b[39;00m\u001b[38;5;7m \u001b[39m\u001b[38;5;144mr\u001b[39m\u001b[38;5;144m'\u001b[39m\u001b[38;5;144mC:\u001b[39m\u001b[38;5;144m\\\u001b[39m\u001b[38;5;144mUsers\u001b[39m\u001b[38;5;144m\\\u001b[39m\u001b[38;5;144mzoiyy\u001b[39m\u001b[38;5;144m\\\u001b[39m\u001b[38;5;144mOneDrive\u001b[39m\u001b[38;5;144m\\\u001b[39m\u001b[38;5;144mDocumentos\u001b[39m\u001b[38;5;144m\\\u001b[39m\u001b[38;5;144mDataSets\u001b[39m\u001b[38;5;144m\\\u001b[39m\u001b[38;5;144mTFM\u001b[39m\u001b[38;5;144m\\\u001b[39m\u001b[38;5;144mPruebas2\u001b[39m\u001b[38;5;144m'\u001b[39m\n",
      "\u001b[38;5;7manswer\u001b[39m\u001b[38;5;7m \u001b[39m\u001b[38;5;109;01m=\u001b[39;00m\u001b[38;5;7m \u001b[39m\u001b[38;5;7mAnomalyBERT_Data_Preprocessing\u001b[39m\u001b[38;5;7m(\u001b[39m\u001b[38;5;7mdataset\u001b[39m\u001b[38;5;109;01m=\u001b[39;00m\u001b[38;5;7mdataset\u001b[39m\u001b[38;5;7m,\u001b[39m\u001b[38;5;7m \u001b[39m\u001b[38;5;7minput_dir\u001b[39m\u001b[38;5;109;01m=\u001b[39;00m\u001b[38;5;7minput_dir\u001b[39m\u001b[38;5;7m,\u001b[39m\u001b[38;5;7m \u001b[39m\u001b[38;5;7moutput_dir\u001b[39m\u001b[38;5;109;01m=\u001b[39;00m\u001b[38;5;7moutput_dir\u001b[39m\u001b[38;5;7m)\u001b[39m\u001b[0m\n",
      "\u001b[33;1m====\u001b[0m\n"
     ]
    },
    {
     "data": {
      "text/plain": [
       "'C:\\\\Users\\\\zoiyy\\\\OneDrive\\\\Documentos\\\\DataSets\\\\TFM\\\\Pruebas2'"
      ]
     },
     "metadata": {},
     "output_type": "display_data"
    },
    {
     "data": {
      "text/plain": [
       "'----------------------------------------------------------------------------------------------------'"
      ]
     },
     "metadata": {},
     "output_type": "display_data"
    },
    {
     "data": {
      "text/plain": [
       "'Test prompt 4:'"
      ]
     },
     "metadata": {},
     "output_type": "display_data"
    },
    {
     "name": "stderr",
     "output_type": "stream",
     "text": [
      "\u001b[33;1m======== New task ========\u001b[0m\n",
      "\u001b[37;1mPreprocess the WADI dataset stored in the route 'C:\\Users\\zoiyy\\OneDrive\\Documentos\\DataSets\\TFM\\Pruebas' and save it in 'C:\\Users\\zoiyy\\OneDrive\\Documentos\\DataSets\\TFM\\Pruebas2'.\u001b[0m\n",
      "\u001b[31;20mlist index out of range\u001b[0m\n",
      "Traceback (most recent call last):\n",
      "  File \"C:\\Users\\zoiyy\\AppData\\Roaming\\Python\\Python38\\site-packages\\transformers\\agents\\agents.py\", line 423, in extract_action\n",
      "    split[-2],\n",
      "IndexError: list index out of range\n"
     ]
    },
    {
     "data": {
      "text/plain": [
       "'ERROR: the agent raised a catastrophic error while trying to generate the code to run.'"
      ]
     },
     "metadata": {},
     "output_type": "display_data"
    },
    {
     "data": {
      "text/plain": [
       "'----------------------------------------------------------------------------------------------------'"
      ]
     },
     "metadata": {},
     "output_type": "display_data"
    },
    {
     "data": {
      "text/plain": [
       "'Test prompt 5:'"
      ]
     },
     "metadata": {},
     "output_type": "display_data"
    },
    {
     "name": "stderr",
     "output_type": "stream",
     "text": [
      "\u001b[33;1m======== New task ========\u001b[0m\n",
      "\u001b[37;1mPreprocess the WADI dataset stored in the route 'C:\\Users\\zoiyy\\OneDrive\\Documentos\\DataSets\\TFM\\Pruebas' and store it in 'C:\\Users\\zoiyy\\OneDrive\\Documentos\\DataSets\\TFM\\Pruebas2'.\u001b[0m\n",
      "\u001b[33;1m==== Agent is executing the code below:\u001b[0m\n",
      "\u001b[0m\u001b[38;5;7mpreprocessed_data\u001b[39m\u001b[38;5;7m \u001b[39m\u001b[38;5;109;01m=\u001b[39;00m\u001b[38;5;7m \u001b[39m\u001b[38;5;7mAnomalyBERT_Data_Preprocessing\u001b[39m\u001b[38;5;7m(\u001b[39m\u001b[38;5;7mdataset\u001b[39m\u001b[38;5;109;01m=\u001b[39;00m\u001b[38;5;144m'\u001b[39m\u001b[38;5;144mWADI\u001b[39m\u001b[38;5;144m'\u001b[39m\u001b[38;5;7m,\u001b[39m\u001b[38;5;7m \u001b[39m\u001b[38;5;7minput_dir\u001b[39m\u001b[38;5;109;01m=\u001b[39;00m\u001b[38;5;144mr\u001b[39m\u001b[38;5;144m'\u001b[39m\u001b[38;5;144mC:\u001b[39m\u001b[38;5;144m\\\u001b[39m\u001b[38;5;144mUsers\u001b[39m\u001b[38;5;144m\\\u001b[39m\u001b[38;5;144mzoiyy\u001b[39m\u001b[38;5;144m\\\u001b[39m\u001b[38;5;144mOneDrive\u001b[39m\u001b[38;5;144m\\\u001b[39m\u001b[38;5;144mDocumentos\u001b[39m\u001b[38;5;144m\\\u001b[39m\u001b[38;5;144mDataSets\u001b[39m\u001b[38;5;144m\\\u001b[39m\u001b[38;5;144mTFM\u001b[39m\u001b[38;5;144m\\\u001b[39m\u001b[38;5;144mPruebas\u001b[39m\u001b[38;5;144m'\u001b[39m\u001b[38;5;7m,\u001b[39m\u001b[38;5;7m \u001b[39m\u001b[38;5;7moutput_dir\u001b[39m\u001b[38;5;109;01m=\u001b[39;00m\u001b[38;5;144mr\u001b[39m\u001b[38;5;144m'\u001b[39m\u001b[38;5;144mC:\u001b[39m\u001b[38;5;144m\\\u001b[39m\u001b[38;5;144mUsers\u001b[39m\u001b[38;5;144m\\\u001b[39m\u001b[38;5;144mzoiyy\u001b[39m\u001b[38;5;144m\\\u001b[39m\u001b[38;5;144mOneDrive\u001b[39m\u001b[38;5;144m\\\u001b[39m\u001b[38;5;144mDocumentos\u001b[39m\u001b[38;5;144m\\\u001b[39m\u001b[38;5;144mDataSets\u001b[39m\u001b[38;5;144m\\\u001b[39m\u001b[38;5;144mTFM\u001b[39m\u001b[38;5;144m\\\u001b[39m\u001b[38;5;144mPruebas2\u001b[39m\u001b[38;5;144m'\u001b[39m\u001b[38;5;7m)\u001b[39m\u001b[0m\n",
      "\u001b[33;1m====\u001b[0m\n"
     ]
    },
    {
     "data": {
      "text/plain": [
       "'C:\\\\Users\\\\zoiyy\\\\OneDrive\\\\Documentos\\\\DataSets\\\\TFM\\\\Pruebas2'"
      ]
     },
     "metadata": {},
     "output_type": "display_data"
    },
    {
     "data": {
      "text/plain": [
       "'----------------------------------------------------------------------------------------------------'"
      ]
     },
     "metadata": {},
     "output_type": "display_data"
    },
    {
     "data": {
      "text/plain": [
       "'Test prompt 6:'"
      ]
     },
     "metadata": {},
     "output_type": "display_data"
    },
    {
     "name": "stderr",
     "output_type": "stream",
     "text": [
      "\u001b[33;1m======== New task ========\u001b[0m\n",
      "\u001b[37;1mPreprocess for testing the WADI dataset in the route 'C:\\Users\\zoiyy\\OneDrive\\Documentos\\DataSets\\TFM\\Pruebas' and store it in 'C:\\Users\\zoiyy\\OneDrive\\Documentos\\DataSets\\TFM\\Pruebas2'.\u001b[0m\n",
      "\u001b[33;1m==== Agent is executing the code below:\u001b[0m\n",
      "\u001b[0m\u001b[38;5;7mAnomalyBERT_Data_Preprocessing\u001b[39m\u001b[38;5;7m(\u001b[39m\u001b[38;5;7mdataset\u001b[39m\u001b[38;5;109;01m=\u001b[39;00m\u001b[38;5;144m'\u001b[39m\u001b[38;5;144mWADI\u001b[39m\u001b[38;5;144m'\u001b[39m\u001b[38;5;7m,\u001b[39m\u001b[38;5;7m \u001b[39m\n",
      "\u001b[38;5;7m                               \u001b[39m\u001b[38;5;7minput_dir\u001b[39m\u001b[38;5;109;01m=\u001b[39;00m\u001b[38;5;144mr\u001b[39m\u001b[38;5;144m'\u001b[39m\u001b[38;5;144mC:\u001b[39m\u001b[38;5;144m\\\u001b[39m\u001b[38;5;144mUsers\u001b[39m\u001b[38;5;144m\\\u001b[39m\u001b[38;5;144mzoiyy\u001b[39m\u001b[38;5;144m\\\u001b[39m\u001b[38;5;144mOneDrive\u001b[39m\u001b[38;5;144m\\\u001b[39m\u001b[38;5;144mDocumentos\u001b[39m\u001b[38;5;144m\\\u001b[39m\u001b[38;5;144mDataSets\u001b[39m\u001b[38;5;144m\\\u001b[39m\u001b[38;5;144mTFM\u001b[39m\u001b[38;5;144m\\\u001b[39m\u001b[38;5;144mPruebas\u001b[39m\u001b[38;5;144m'\u001b[39m\u001b[38;5;7m,\u001b[39m\u001b[38;5;7m \u001b[39m\n",
      "\u001b[38;5;7m                               \u001b[39m\u001b[38;5;7moutput_dir\u001b[39m\u001b[38;5;109;01m=\u001b[39;00m\u001b[38;5;144mr\u001b[39m\u001b[38;5;144m'\u001b[39m\u001b[38;5;144mC:\u001b[39m\u001b[38;5;144m\\\u001b[39m\u001b[38;5;144mUsers\u001b[39m\u001b[38;5;144m\\\u001b[39m\u001b[38;5;144mzoiyy\u001b[39m\u001b[38;5;144m\\\u001b[39m\u001b[38;5;144mOneDrive\u001b[39m\u001b[38;5;144m\\\u001b[39m\u001b[38;5;144mDocumentos\u001b[39m\u001b[38;5;144m\\\u001b[39m\u001b[38;5;144mDataSets\u001b[39m\u001b[38;5;144m\\\u001b[39m\u001b[38;5;144mTFM\u001b[39m\u001b[38;5;144m\\\u001b[39m\u001b[38;5;144mPruebas2\u001b[39m\u001b[38;5;144m'\u001b[39m\u001b[38;5;7m)\u001b[39m\u001b[0m\n",
      "\u001b[33;1m====\u001b[0m\n"
     ]
    },
    {
     "data": {
      "text/plain": [
       "'C:\\\\Users\\\\zoiyy\\\\OneDrive\\\\Documentos\\\\DataSets\\\\TFM\\\\Pruebas2'"
      ]
     },
     "metadata": {},
     "output_type": "display_data"
    },
    {
     "data": {
      "text/plain": [
       "'----------------------------------------------------------------------------------------------------'"
      ]
     },
     "metadata": {},
     "output_type": "display_data"
    },
    {
     "data": {
      "text/plain": [
       "'Test prompt 7:'"
      ]
     },
     "metadata": {},
     "output_type": "display_data"
    },
    {
     "name": "stderr",
     "output_type": "stream",
     "text": [
      "\u001b[33;1m======== New task ========\u001b[0m\n",
      "\u001b[37;1mThe WADI dataset in the route 'C:\\Users\\zoiyy\\OneDrive\\Documentos\\DataSets\\TFM\\Pruebas' is meant for testing. Preprocess it and store it in 'C:\\Users\\zoiyy\\OneDrive\\Documentos\\DataSets\\TFM\\Pruebas2'.\u001b[0m\n",
      "\u001b[33;1m==== Agent is executing the code below:\u001b[0m\n",
      "\u001b[0m\u001b[38;5;7mdataset\u001b[39m\u001b[38;5;7m \u001b[39m\u001b[38;5;109;01m=\u001b[39;00m\u001b[38;5;7m \u001b[39m\u001b[38;5;144m\"\u001b[39m\u001b[38;5;144mWADI\u001b[39m\u001b[38;5;144m\"\u001b[39m\n",
      "\u001b[38;5;7minput_dir\u001b[39m\u001b[38;5;7m \u001b[39m\u001b[38;5;109;01m=\u001b[39;00m\u001b[38;5;7m \u001b[39m\u001b[38;5;144m\"\u001b[39m\u001b[38;5;144mC:\u001b[39m\u001b[38;5;186m\\\\\u001b[39m\u001b[38;5;144mUsers\u001b[39m\u001b[38;5;186m\\\\\u001b[39m\u001b[38;5;144mzoiyy\u001b[39m\u001b[38;5;186m\\\\\u001b[39m\u001b[38;5;144mOneDrive\u001b[39m\u001b[38;5;186m\\\\\u001b[39m\u001b[38;5;144mDocumentos\u001b[39m\u001b[38;5;186m\\\\\u001b[39m\u001b[38;5;144mDataSets\u001b[39m\u001b[38;5;186m\\\\\u001b[39m\u001b[38;5;144mTFM\u001b[39m\u001b[38;5;186m\\\\\u001b[39m\u001b[38;5;144mPruebas\u001b[39m\u001b[38;5;144m\"\u001b[39m\n",
      "\u001b[38;5;7moutput_dir\u001b[39m\u001b[38;5;7m \u001b[39m\u001b[38;5;109;01m=\u001b[39;00m\u001b[38;5;7m \u001b[39m\u001b[38;5;144m\"\u001b[39m\u001b[38;5;144mC:\u001b[39m\u001b[38;5;186m\\\\\u001b[39m\u001b[38;5;144mUsers\u001b[39m\u001b[38;5;186m\\\\\u001b[39m\u001b[38;5;144mzoiyy\u001b[39m\u001b[38;5;186m\\\\\u001b[39m\u001b[38;5;144mOneDrive\u001b[39m\u001b[38;5;186m\\\\\u001b[39m\u001b[38;5;144mDocumentos\u001b[39m\u001b[38;5;186m\\\\\u001b[39m\u001b[38;5;144mDataSets\u001b[39m\u001b[38;5;186m\\\\\u001b[39m\u001b[38;5;144mTFM\u001b[39m\u001b[38;5;186m\\\\\u001b[39m\u001b[38;5;144mPruebas2\u001b[39m\u001b[38;5;144m\"\u001b[39m\n",
      "\u001b[38;5;7mpreprocessed_data_path\u001b[39m\u001b[38;5;7m \u001b[39m\u001b[38;5;109;01m=\u001b[39;00m\u001b[38;5;7m \u001b[39m\u001b[38;5;7mAnomalyBERT_Data_Preprocessing\u001b[39m\u001b[38;5;7m(\u001b[39m\u001b[38;5;7mdataset\u001b[39m\u001b[38;5;109;01m=\u001b[39;00m\u001b[38;5;7mdataset\u001b[39m\u001b[38;5;7m,\u001b[39m\u001b[38;5;7m \u001b[39m\u001b[38;5;7minput_dir\u001b[39m\u001b[38;5;109;01m=\u001b[39;00m\u001b[38;5;7minput_dir\u001b[39m\u001b[38;5;7m,\u001b[39m\u001b[38;5;7m \u001b[39m\u001b[38;5;7moutput_dir\u001b[39m\u001b[38;5;109;01m=\u001b[39;00m\u001b[38;5;7moutput_dir\u001b[39m\u001b[38;5;7m)\u001b[39m\n",
      "\u001b[38;5;109mprint\u001b[39m\u001b[38;5;7m(\u001b[39m\u001b[38;5;144mf\u001b[39m\u001b[38;5;144m\"\u001b[39m\u001b[38;5;144mPreprocessed data stored at \u001b[39m\u001b[38;5;144m{\u001b[39m\u001b[38;5;7mpreprocessed_data_path\u001b[39m\u001b[38;5;144m}\u001b[39m\u001b[38;5;144m\"\u001b[39m\u001b[38;5;7m)\u001b[39m\u001b[0m\n",
      "\u001b[33;1m====\u001b[0m\n"
     ]
    },
    {
     "data": {
      "text/plain": [
       "'Preprocessed data stored at C:\\\\Users\\\\zoiyy\\\\OneDrive\\\\Documentos\\\\DataSets\\\\TFM\\\\Pruebas2'"
      ]
     },
     "metadata": {},
     "output_type": "display_data"
    },
    {
     "data": {
      "text/plain": [
       "'===================================================================================================='"
      ]
     },
     "metadata": {},
     "output_type": "display_data"
    },
    {
     "data": {
      "text/plain": [
       "'===================================================================================================='"
      ]
     },
     "metadata": {},
     "output_type": "display_data"
    },
    {
     "data": {
      "text/plain": [
       "'RESULTS FOR TOOL DESCRIPTION 3-INDENT:'"
      ]
     },
     "metadata": {},
     "output_type": "display_data"
    },
    {
     "data": {
      "text/plain": [
       "'----------------------------------------------------------------------------------------------------'"
      ]
     },
     "metadata": {},
     "output_type": "display_data"
    },
    {
     "data": {
      "text/plain": [
       "'Test prompt 1:'"
      ]
     },
     "metadata": {},
     "output_type": "display_data"
    },
    {
     "name": "stderr",
     "output_type": "stream",
     "text": [
      "\u001b[33;1m======== New task ========\u001b[0m\n",
      "\u001b[37;1mPreprocess the WADI dataset in the route 'C:\\Users\\zoiyy\\OneDrive\\Documentos\\DataSets\\TFM\\Pruebas'.\u001b[0m\n",
      "\u001b[33;1m==== Agent is executing the code below:\u001b[0m\n",
      "\u001b[0m\u001b[38;5;7mdataset\u001b[39m\u001b[38;5;109;01m=\u001b[39;00m\u001b[38;5;144m'\u001b[39m\u001b[38;5;144mWADI\u001b[39m\u001b[38;5;144m'\u001b[39m\n",
      "\u001b[38;5;7minput_dir\u001b[39m\u001b[38;5;109;01m=\u001b[39;00m\u001b[38;5;144m'\u001b[39m\u001b[38;5;144mC:\u001b[39m\u001b[38;5;186m\\\\\u001b[39m\u001b[38;5;144mUsers\u001b[39m\u001b[38;5;186m\\\\\u001b[39m\u001b[38;5;144mzoiyy\u001b[39m\u001b[38;5;186m\\\\\u001b[39m\u001b[38;5;144mOneDrive\u001b[39m\u001b[38;5;186m\\\\\u001b[39m\u001b[38;5;144mDocumentos\u001b[39m\u001b[38;5;186m\\\\\u001b[39m\u001b[38;5;144mDataSets\u001b[39m\u001b[38;5;186m\\\\\u001b[39m\u001b[38;5;144mTFM\u001b[39m\u001b[38;5;186m\\\\\u001b[39m\u001b[38;5;144mPruebas\u001b[39m\u001b[38;5;144m'\u001b[39m\n",
      "\u001b[38;5;7moutput_dir\u001b[39m\u001b[38;5;109;01m=\u001b[39;00m\u001b[38;5;144m'\u001b[39m\u001b[38;5;144m/output/WADI/\u001b[39m\u001b[38;5;144m'\u001b[39m\n",
      "\u001b[38;5;7mAnomalyBERT_Data_Preprocessing\u001b[39m\u001b[38;5;7m(\u001b[39m\u001b[38;5;7mdataset\u001b[39m\u001b[38;5;109;01m=\u001b[39;00m\u001b[38;5;7mdataset\u001b[39m\u001b[38;5;7m,\u001b[39m\u001b[38;5;7m \u001b[39m\u001b[38;5;7minput_dir\u001b[39m\u001b[38;5;109;01m=\u001b[39;00m\u001b[38;5;7minput_dir\u001b[39m\u001b[38;5;7m,\u001b[39m\u001b[38;5;7m \u001b[39m\u001b[38;5;7moutput_dir\u001b[39m\u001b[38;5;109;01m=\u001b[39;00m\u001b[38;5;7moutput_dir\u001b[39m\u001b[38;5;7m)\u001b[39m\u001b[0m\n",
      "\u001b[33;1m====\u001b[0m\n",
      "\u001b[31;20mError in execution: [WinError 3] El sistema no puede encontrar la ruta especificada: '/output/WADI/'. Be sure to provide correct code.\u001b[0m\n",
      "Traceback (most recent call last):\n",
      "  File \"C:\\Users\\zoiyy\\AppData\\Roaming\\Python\\Python38\\site-packages\\transformers\\agents\\agents.py\", line 566, in run\n",
      "    output = self.python_evaluator(code_action, available_tools, state=self.state)\n",
      "  File \"C:\\Users\\zoiyy\\AppData\\Roaming\\Python\\Python38\\site-packages\\transformers\\agents\\python_interpreter.py\", line 511, in evaluate_python_code\n",
      "    line_result = evaluate_ast(node, state, tools)\n",
      "  File \"C:\\Users\\zoiyy\\AppData\\Roaming\\Python\\Python38\\site-packages\\transformers\\agents\\python_interpreter.py\", line 401, in evaluate_ast\n",
      "    return evaluate_ast(expression.value, state, tools)\n",
      "  File \"C:\\Users\\zoiyy\\AppData\\Roaming\\Python\\Python38\\site-packages\\transformers\\agents\\python_interpreter.py\", line 365, in evaluate_ast\n",
      "    return evaluate_call(expression, state, tools)\n",
      "  File \"C:\\Users\\zoiyy\\AppData\\Roaming\\Python\\Python38\\site-packages\\transformers\\agents\\python_interpreter.py\", line 217, in evaluate_call\n",
      "    output = func(*args, **kwargs)\n",
      "  File \"c:\\Users\\zoiyy\\OneDrive\\Documentos\\Repositorios GIT\\TFM\\Pruebas\\test_batch.py\", line 26, in __call__\n",
      "    preprocessed_dataset_folder\t= adp.preprocess_data( dataset , input_dir , output_dir , json_dir , date_label , dataset_mode )\n",
      "  File \"c:\\Users\\zoiyy\\OneDrive\\Documentos\\Repositorios GIT\\TFM\\Adapted_utils\\Adapted_data_preprocessing.py\", line 229, in preprocess_data\n",
      "    os.mkdir( output_folder )\n",
      "FileNotFoundError: [WinError 3] El sistema no puede encontrar la ruta especificada: '/output/WADI/'\n"
     ]
    },
    {
     "data": {
      "text/plain": [
       "\"Error in execution: [WinError 3] El sistema no puede encontrar la ruta especificada: '/output/WADI/'. Be sure to provide correct code.\""
      ]
     },
     "metadata": {},
     "output_type": "display_data"
    },
    {
     "data": {
      "text/plain": [
       "'----------------------------------------------------------------------------------------------------'"
      ]
     },
     "metadata": {},
     "output_type": "display_data"
    },
    {
     "data": {
      "text/plain": [
       "'Test prompt 2:'"
      ]
     },
     "metadata": {},
     "output_type": "display_data"
    },
    {
     "name": "stderr",
     "output_type": "stream",
     "text": [
      "\u001b[33;1m======== New task ========\u001b[0m\n",
      "\u001b[37;1mPreprocess the raw WADI dataset stored in the route 'C:\\Users\\zoiyy\\OneDrive\\Documentos\\DataSets\\TFM\\Pruebas'.\u001b[0m\n",
      "\u001b[33;1m==== Agent is executing the code below:\u001b[0m\n",
      "\u001b[0m\u001b[38;5;7minput_dir\u001b[39m\u001b[38;5;7m \u001b[39m\u001b[38;5;109;01m=\u001b[39;00m\u001b[38;5;7m \u001b[39m\u001b[38;5;144m'\u001b[39m\u001b[38;5;144mC:\u001b[39m\u001b[38;5;186m\\\\\u001b[39m\u001b[38;5;144mUsers\u001b[39m\u001b[38;5;186m\\\\\u001b[39m\u001b[38;5;144mzoiyy\u001b[39m\u001b[38;5;186m\\\\\u001b[39m\u001b[38;5;144mOneDrive\u001b[39m\u001b[38;5;186m\\\\\u001b[39m\u001b[38;5;144mDocumentos\u001b[39m\u001b[38;5;186m\\\\\u001b[39m\u001b[38;5;144mDataSets\u001b[39m\u001b[38;5;186m\\\\\u001b[39m\u001b[38;5;144mTFM\u001b[39m\u001b[38;5;186m\\\\\u001b[39m\u001b[38;5;144mPruebas\u001b[39m\u001b[38;5;144m'\u001b[39m\n",
      "\u001b[38;5;7mdataset\u001b[39m\u001b[38;5;7m \u001b[39m\u001b[38;5;109;01m=\u001b[39;00m\u001b[38;5;7m \u001b[39m\u001b[38;5;144m'\u001b[39m\u001b[38;5;144mWADI\u001b[39m\u001b[38;5;144m'\u001b[39m\n",
      "\u001b[38;5;7moutput_dir\u001b[39m\u001b[38;5;7m \u001b[39m\u001b[38;5;109;01m=\u001b[39;00m\u001b[38;5;7m \u001b[39m\u001b[38;5;144m'\u001b[39m\u001b[38;5;144mpath/to/output/directory\u001b[39m\u001b[38;5;144m'\u001b[39m\u001b[38;5;7m  \u001b[39m\u001b[38;5;60;03m# specify the output directory\u001b[39;00m\n",
      "\u001b[38;5;7mjson_dir\u001b[39m\u001b[38;5;7m \u001b[39m\u001b[38;5;109;01m=\u001b[39;00m\u001b[38;5;7m \u001b[39m\u001b[38;5;144m'\u001b[39m\u001b[38;5;144mpath/to/json/directory\u001b[39m\u001b[38;5;144m'\u001b[39m\u001b[38;5;7m  \u001b[39m\u001b[38;5;60;03m# specify the json directory\u001b[39;00m\n",
      "\u001b[38;5;7mdate_label\u001b[39m\u001b[38;5;7m \u001b[39m\u001b[38;5;109;01m=\u001b[39;00m\u001b[38;5;7m \u001b[39m\u001b[38;5;144m'\u001b[39m\u001b[38;5;144mdate_label\u001b[39m\u001b[38;5;144m'\u001b[39m\u001b[38;5;7m  \u001b[39m\u001b[38;5;60;03m# specify the date label\u001b[39;00m\n",
      "\u001b[38;5;7mdataset_mode\u001b[39m\u001b[38;5;7m \u001b[39m\u001b[38;5;109;01m=\u001b[39;00m\u001b[38;5;7m \u001b[39m\u001b[38;5;144m'\u001b[39m\u001b[38;5;144mtrain\u001b[39m\u001b[38;5;144m'\u001b[39m\u001b[38;5;7m  \u001b[39m\u001b[38;5;60;03m# specify the dataset mode\u001b[39;00m\n",
      "\n",
      "\u001b[38;5;7mAnomalyBERT_Data_Preprocessing\u001b[39m\u001b[38;5;7m(\u001b[39m\u001b[38;5;7mdataset\u001b[39m\u001b[38;5;109;01m=\u001b[39;00m\u001b[38;5;7mdataset\u001b[39m\u001b[38;5;7m,\u001b[39m\u001b[38;5;7m \u001b[39m\u001b[38;5;7minput_dir\u001b[39m\u001b[38;5;109;01m=\u001b[39;00m\u001b[38;5;7minput_dir\u001b[39m\u001b[38;5;7m,\u001b[39m\u001b[38;5;7m \u001b[39m\u001b[38;5;7m\\\u001b[39m\n",
      "\u001b[38;5;7m                                \u001b[39m\u001b[38;5;7moutput_dir\u001b[39m\u001b[38;5;109;01m=\u001b[39;00m\u001b[38;5;7moutput_dir\u001b[39m\u001b[38;5;7m,\u001b[39m\u001b[38;5;7m \u001b[39m\u001b[38;5;7mjson_dir\u001b[39m\u001b[38;5;109;01m=\u001b[39;00m\u001b[38;5;7mjson_dir\u001b[39m\u001b[38;5;7m,\u001b[39m\u001b[38;5;7m \u001b[39m\u001b[38;5;7mdate_label\u001b[39m\u001b[38;5;109;01m=\u001b[39;00m\u001b[38;5;7mdate_label\u001b[39m\u001b[38;5;7m,\u001b[39m\u001b[38;5;7m \u001b[39m\u001b[38;5;7mdataset_mode\u001b[39m\u001b[38;5;109;01m=\u001b[39;00m\u001b[38;5;7mdataset_mode\u001b[39m\u001b[38;5;7m)\u001b[39m\u001b[0m\n",
      "\u001b[33;1m====\u001b[0m\n",
      "\u001b[31;20mError in execution: [WinError 3] El sistema no puede encontrar la ruta especificada: 'path/to/output/directory'. Be sure to provide correct code.\u001b[0m\n",
      "Traceback (most recent call last):\n",
      "  File \"C:\\Users\\zoiyy\\AppData\\Roaming\\Python\\Python38\\site-packages\\transformers\\agents\\agents.py\", line 566, in run\n",
      "    output = self.python_evaluator(code_action, available_tools, state=self.state)\n",
      "  File \"C:\\Users\\zoiyy\\AppData\\Roaming\\Python\\Python38\\site-packages\\transformers\\agents\\python_interpreter.py\", line 511, in evaluate_python_code\n",
      "    line_result = evaluate_ast(node, state, tools)\n",
      "  File \"C:\\Users\\zoiyy\\AppData\\Roaming\\Python\\Python38\\site-packages\\transformers\\agents\\python_interpreter.py\", line 401, in evaluate_ast\n",
      "    return evaluate_ast(expression.value, state, tools)\n",
      "  File \"C:\\Users\\zoiyy\\AppData\\Roaming\\Python\\Python38\\site-packages\\transformers\\agents\\python_interpreter.py\", line 365, in evaluate_ast\n",
      "    return evaluate_call(expression, state, tools)\n",
      "  File \"C:\\Users\\zoiyy\\AppData\\Roaming\\Python\\Python38\\site-packages\\transformers\\agents\\python_interpreter.py\", line 217, in evaluate_call\n",
      "    output = func(*args, **kwargs)\n",
      "  File \"c:\\Users\\zoiyy\\OneDrive\\Documentos\\Repositorios GIT\\TFM\\Pruebas\\test_batch.py\", line 26, in __call__\n",
      "    preprocessed_dataset_folder\t= adp.preprocess_data( dataset , input_dir , output_dir , json_dir , date_label , dataset_mode )\n",
      "  File \"c:\\Users\\zoiyy\\OneDrive\\Documentos\\Repositorios GIT\\TFM\\Adapted_utils\\Adapted_data_preprocessing.py\", line 229, in preprocess_data\n",
      "    os.mkdir( output_folder )\n",
      "FileNotFoundError: [WinError 3] El sistema no puede encontrar la ruta especificada: 'path/to/output/directory'\n"
     ]
    },
    {
     "data": {
      "text/plain": [
       "\"Error in execution: [WinError 3] El sistema no puede encontrar la ruta especificada: 'path/to/output/directory'. Be sure to provide correct code.\""
      ]
     },
     "metadata": {},
     "output_type": "display_data"
    },
    {
     "data": {
      "text/plain": [
       "'----------------------------------------------------------------------------------------------------'"
      ]
     },
     "metadata": {},
     "output_type": "display_data"
    },
    {
     "data": {
      "text/plain": [
       "'Test prompt 3:'"
      ]
     },
     "metadata": {},
     "output_type": "display_data"
    },
    {
     "name": "stderr",
     "output_type": "stream",
     "text": [
      "\u001b[33;1m======== New task ========\u001b[0m\n",
      "\u001b[37;1mPreprocess the WADI dataset in the route 'C:\\Users\\zoiyy\\OneDrive\\Documentos\\DataSets\\TFM\\Pruebas' and store it in 'C:\\Users\\zoiyy\\OneDrive\\Documentos\\DataSets\\TFM\\Pruebas2'.\u001b[0m\n",
      "\u001b[33;1m==== Agent is executing the code below:\u001b[0m\n",
      "\u001b[0m\u001b[38;5;7mdataset\u001b[39m\u001b[38;5;7m \u001b[39m\u001b[38;5;109;01m=\u001b[39;00m\u001b[38;5;7m \u001b[39m\u001b[38;5;144m'\u001b[39m\u001b[38;5;144mWADI\u001b[39m\u001b[38;5;144m'\u001b[39m\n",
      "\u001b[38;5;7minput_dir\u001b[39m\u001b[38;5;7m \u001b[39m\u001b[38;5;109;01m=\u001b[39;00m\u001b[38;5;7m \u001b[39m\u001b[38;5;144mr\u001b[39m\u001b[38;5;144m'\u001b[39m\u001b[38;5;144mC:\u001b[39m\u001b[38;5;144m\\\u001b[39m\u001b[38;5;144mUsers\u001b[39m\u001b[38;5;144m\\\u001b[39m\u001b[38;5;144mzoiyy\u001b[39m\u001b[38;5;144m\\\u001b[39m\u001b[38;5;144mOneDrive\u001b[39m\u001b[38;5;144m\\\u001b[39m\u001b[38;5;144mDocumentos\u001b[39m\u001b[38;5;144m\\\u001b[39m\u001b[38;5;144mDataSets\u001b[39m\u001b[38;5;144m\\\u001b[39m\u001b[38;5;144mTFM\u001b[39m\u001b[38;5;144m\\\u001b[39m\u001b[38;5;144mPruebas\u001b[39m\u001b[38;5;144m'\u001b[39m\n",
      "\u001b[38;5;7moutput_dir\u001b[39m\u001b[38;5;7m \u001b[39m\u001b[38;5;109;01m=\u001b[39;00m\u001b[38;5;7m \u001b[39m\u001b[38;5;144mr\u001b[39m\u001b[38;5;144m'\u001b[39m\u001b[38;5;144mC:\u001b[39m\u001b[38;5;144m\\\u001b[39m\u001b[38;5;144mUsers\u001b[39m\u001b[38;5;144m\\\u001b[39m\u001b[38;5;144mzoiyy\u001b[39m\u001b[38;5;144m\\\u001b[39m\u001b[38;5;144mOneDrive\u001b[39m\u001b[38;5;144m\\\u001b[39m\u001b[38;5;144mDocumentos\u001b[39m\u001b[38;5;144m\\\u001b[39m\u001b[38;5;144mDataSets\u001b[39m\u001b[38;5;144m\\\u001b[39m\u001b[38;5;144mTFM\u001b[39m\u001b[38;5;144m\\\u001b[39m\u001b[38;5;144mPruebas2\u001b[39m\u001b[38;5;144m'\u001b[39m\n",
      "\u001b[38;5;7mdate_label\u001b[39m\u001b[38;5;7m \u001b[39m\u001b[38;5;109;01m=\u001b[39;00m\u001b[38;5;7m \u001b[39m\u001b[38;5;144m'\u001b[39m\u001b[38;5;144m'\u001b[39m\n",
      "\u001b[38;5;7mdataset_mode\u001b[39m\u001b[38;5;7m \u001b[39m\u001b[38;5;109;01m=\u001b[39;00m\u001b[38;5;7m \u001b[39m\u001b[38;5;144m'\u001b[39m\u001b[38;5;144mtrain\u001b[39m\u001b[38;5;144m'\u001b[39m\n",
      "\u001b[38;5;7mpreprocessed_data_path\u001b[39m\u001b[38;5;7m \u001b[39m\u001b[38;5;109;01m=\u001b[39;00m\u001b[38;5;7m \u001b[39m\u001b[38;5;7mAnomalyBERT_Data_Preprocessing\u001b[39m\u001b[38;5;7m(\u001b[39m\u001b[38;5;7mdataset\u001b[39m\u001b[38;5;109;01m=\u001b[39;00m\u001b[38;5;7mdataset\u001b[39m\u001b[38;5;7m,\u001b[39m\u001b[38;5;7m \u001b[39m\u001b[38;5;7minput_dir\u001b[39m\u001b[38;5;109;01m=\u001b[39;00m\u001b[38;5;7minput_dir\u001b[39m\u001b[38;5;7m,\u001b[39m\u001b[38;5;7m \u001b[39m\u001b[38;5;7moutput_dir\u001b[39m\u001b[38;5;109;01m=\u001b[39;00m\u001b[38;5;7moutput_dir\u001b[39m\u001b[38;5;7m,\u001b[39m\u001b[38;5;7m \u001b[39m\u001b[38;5;7mdate_label\u001b[39m\u001b[38;5;109;01m=\u001b[39;00m\u001b[38;5;7mdate_label\u001b[39m\u001b[38;5;7m,\u001b[39m\u001b[38;5;7m \u001b[39m\u001b[38;5;7mdataset_mode\u001b[39m\u001b[38;5;109;01m=\u001b[39;00m\u001b[38;5;7mdataset_mode\u001b[39m\u001b[38;5;7m)\u001b[39m\u001b[0m\n",
      "\u001b[33;1m====\u001b[0m\n",
      "\u001b[31;20mError in execution: [Errno 2] No such file or directory: 'C:\\\\Users\\\\zoiyy\\\\OneDrive\\\\Documentos\\\\DataSets\\\\TFM\\\\Pruebas\\\\WADI/WADI./WADI_14days_new.csv'. Be sure to provide correct code.\u001b[0m\n",
      "Traceback (most recent call last):\n",
      "  File \"C:\\Users\\zoiyy\\AppData\\Roaming\\Python\\Python38\\site-packages\\transformers\\agents\\agents.py\", line 566, in run\n",
      "    output = self.python_evaluator(code_action, available_tools, state=self.state)\n",
      "  File \"C:\\Users\\zoiyy\\AppData\\Roaming\\Python\\Python38\\site-packages\\transformers\\agents\\python_interpreter.py\", line 511, in evaluate_python_code\n",
      "    line_result = evaluate_ast(node, state, tools)\n",
      "  File \"C:\\Users\\zoiyy\\AppData\\Roaming\\Python\\Python38\\site-packages\\transformers\\agents\\python_interpreter.py\", line 360, in evaluate_ast\n",
      "    return evaluate_assign(expression, state, tools)\n",
      "  File \"C:\\Users\\zoiyy\\AppData\\Roaming\\Python\\Python38\\site-packages\\transformers\\agents\\python_interpreter.py\", line 177, in evaluate_assign\n",
      "    result = evaluate_ast(assign.value, state, tools)\n",
      "  File \"C:\\Users\\zoiyy\\AppData\\Roaming\\Python\\Python38\\site-packages\\transformers\\agents\\python_interpreter.py\", line 365, in evaluate_ast\n",
      "    return evaluate_call(expression, state, tools)\n",
      "  File \"C:\\Users\\zoiyy\\AppData\\Roaming\\Python\\Python38\\site-packages\\transformers\\agents\\python_interpreter.py\", line 217, in evaluate_call\n",
      "    output = func(*args, **kwargs)\n",
      "  File \"c:\\Users\\zoiyy\\OneDrive\\Documentos\\Repositorios GIT\\TFM\\Pruebas\\test_batch.py\", line 26, in __call__\n",
      "    preprocessed_dataset_folder\t= adp.preprocess_data( dataset , input_dir , output_dir , json_dir , date_label , dataset_mode )\n",
      "  File \"c:\\Users\\zoiyy\\OneDrive\\Documentos\\Repositorios GIT\\TFM\\Adapted_utils\\Adapted_data_preprocessing.py\", line 247, in preprocess_data\n",
      "    load_data( dataset , data_dir , output_folder , json_folder , date_label , process_type )\n",
      "  File \"c:\\Users\\zoiyy\\OneDrive\\Documentos\\Repositorios GIT\\TFM\\Adapted_utils\\Adapted_data_preprocessing.py\", line 200, in load_data\n",
      "    normal_data\t\t= pd.read_csv( os.path.join( base_dir , 'WADI/WADI.' + date_label + '/WADI_14days_new.csv'\t\t) )\n",
      "  File \"C:\\Users\\zoiyy\\AppData\\Roaming\\Python\\Python38\\site-packages\\pandas\\io\\parsers\\readers.py\", line 912, in read_csv\n",
      "    return _read(filepath_or_buffer, kwds)\n",
      "  File \"C:\\Users\\zoiyy\\AppData\\Roaming\\Python\\Python38\\site-packages\\pandas\\io\\parsers\\readers.py\", line 577, in _read\n",
      "    parser = TextFileReader(filepath_or_buffer, **kwds)\n",
      "  File \"C:\\Users\\zoiyy\\AppData\\Roaming\\Python\\Python38\\site-packages\\pandas\\io\\parsers\\readers.py\", line 1407, in __init__\n",
      "    self._engine = self._make_engine(f, self.engine)\n",
      "  File \"C:\\Users\\zoiyy\\AppData\\Roaming\\Python\\Python38\\site-packages\\pandas\\io\\parsers\\readers.py\", line 1661, in _make_engine\n",
      "    self.handles = get_handle(\n",
      "  File \"C:\\Users\\zoiyy\\AppData\\Roaming\\Python\\Python38\\site-packages\\pandas\\io\\common.py\", line 859, in get_handle\n",
      "    handle = open(\n",
      "FileNotFoundError: [Errno 2] No such file or directory: 'C:\\\\Users\\\\zoiyy\\\\OneDrive\\\\Documentos\\\\DataSets\\\\TFM\\\\Pruebas\\\\WADI/WADI./WADI_14days_new.csv'\n"
     ]
    },
    {
     "data": {
      "text/plain": [
       "\"Error in execution: [Errno 2] No such file or directory: 'C:\\\\\\\\Users\\\\\\\\zoiyy\\\\\\\\OneDrive\\\\\\\\Documentos\\\\\\\\DataSets\\\\\\\\TFM\\\\\\\\Pruebas\\\\\\\\WADI/WADI./WADI_14days_new.csv'. Be sure to provide correct code.\""
      ]
     },
     "metadata": {},
     "output_type": "display_data"
    },
    {
     "data": {
      "text/plain": [
       "'----------------------------------------------------------------------------------------------------'"
      ]
     },
     "metadata": {},
     "output_type": "display_data"
    },
    {
     "data": {
      "text/plain": [
       "'Test prompt 4:'"
      ]
     },
     "metadata": {},
     "output_type": "display_data"
    },
    {
     "name": "stderr",
     "output_type": "stream",
     "text": [
      "\u001b[33;1m======== New task ========\u001b[0m\n",
      "\u001b[37;1mPreprocess the WADI dataset stored in the route 'C:\\Users\\zoiyy\\OneDrive\\Documentos\\DataSets\\TFM\\Pruebas' and save it in 'C:\\Users\\zoiyy\\OneDrive\\Documentos\\DataSets\\TFM\\Pruebas2'.\u001b[0m\n",
      "\u001b[33;1m==== Agent is executing the code below:\u001b[0m\n",
      "\u001b[0m\u001b[38;5;7mAnomalyBERT_Data_Preprocessing\u001b[39m\u001b[38;5;7m(\u001b[39m\u001b[38;5;7mdataset\u001b[39m\u001b[38;5;109;01m=\u001b[39;00m\u001b[38;5;144m'\u001b[39m\u001b[38;5;144mWADI\u001b[39m\u001b[38;5;144m'\u001b[39m\u001b[38;5;7m,\u001b[39m\u001b[38;5;7m \u001b[39m\u001b[38;5;7minput_dir\u001b[39m\u001b[38;5;109;01m=\u001b[39;00m\u001b[38;5;144mr\u001b[39m\u001b[38;5;144m'\u001b[39m\u001b[38;5;144mC:\u001b[39m\u001b[38;5;144m\\\u001b[39m\u001b[38;5;144mUsers\u001b[39m\u001b[38;5;144m\\\u001b[39m\u001b[38;5;144mzoiyy\u001b[39m\u001b[38;5;144m\\\u001b[39m\u001b[38;5;144mOneDrive\u001b[39m\u001b[38;5;144m\\\u001b[39m\u001b[38;5;144mDocumentos\u001b[39m\u001b[38;5;144m\\\u001b[39m\u001b[38;5;144mDataSets\u001b[39m\u001b[38;5;144m\\\u001b[39m\u001b[38;5;144mTFM\u001b[39m\u001b[38;5;144m\\\u001b[39m\u001b[38;5;144mPruebas\u001b[39m\u001b[38;5;144m'\u001b[39m\u001b[38;5;7m,\u001b[39m\u001b[38;5;7m \u001b[39m\u001b[38;5;7moutput_dir\u001b[39m\u001b[38;5;109;01m=\u001b[39;00m\u001b[38;5;144mr\u001b[39m\u001b[38;5;144m'\u001b[39m\u001b[38;5;144mC:\u001b[39m\u001b[38;5;144m\\\u001b[39m\u001b[38;5;144mUsers\u001b[39m\u001b[38;5;144m\\\u001b[39m\u001b[38;5;144mzoiyy\u001b[39m\u001b[38;5;144m\\\u001b[39m\u001b[38;5;144mOneDrive\u001b[39m\u001b[38;5;144m\\\u001b[39m\u001b[38;5;144mDocumentos\u001b[39m\u001b[38;5;144m\\\u001b[39m\u001b[38;5;144mDataSets\u001b[39m\u001b[38;5;144m\\\u001b[39m\u001b[38;5;144mTFM\u001b[39m\u001b[38;5;144m\\\u001b[39m\u001b[38;5;144mPruebas2\u001b[39m\u001b[38;5;144m'\u001b[39m\u001b[38;5;7m)\u001b[39m\u001b[0m\n",
      "\u001b[33;1m====\u001b[0m\n"
     ]
    },
    {
     "data": {
      "text/plain": [
       "'C:\\\\Users\\\\zoiyy\\\\OneDrive\\\\Documentos\\\\DataSets\\\\TFM\\\\Pruebas2'"
      ]
     },
     "metadata": {},
     "output_type": "display_data"
    },
    {
     "data": {
      "text/plain": [
       "'----------------------------------------------------------------------------------------------------'"
      ]
     },
     "metadata": {},
     "output_type": "display_data"
    },
    {
     "data": {
      "text/plain": [
       "'Test prompt 5:'"
      ]
     },
     "metadata": {},
     "output_type": "display_data"
    },
    {
     "name": "stderr",
     "output_type": "stream",
     "text": [
      "\u001b[33;1m======== New task ========\u001b[0m\n",
      "\u001b[37;1mPreprocess the WADI dataset stored in the route 'C:\\Users\\zoiyy\\OneDrive\\Documentos\\DataSets\\TFM\\Pruebas' and store it in 'C:\\Users\\zoiyy\\OneDrive\\Documentos\\DataSets\\TFM\\Pruebas2'.\u001b[0m\n",
      "\u001b[33;1m==== Agent is executing the code below:\u001b[0m\n",
      "\u001b[0m\u001b[38;5;7minput_dir\u001b[39m\u001b[38;5;7m \u001b[39m\u001b[38;5;109;01m=\u001b[39;00m\u001b[38;5;7m \u001b[39m\u001b[38;5;144mr\u001b[39m\u001b[38;5;144m'\u001b[39m\u001b[38;5;144mC:\u001b[39m\u001b[38;5;144m\\\u001b[39m\u001b[38;5;144mUsers\u001b[39m\u001b[38;5;144m\\\u001b[39m\u001b[38;5;144mzoiyy\u001b[39m\u001b[38;5;144m\\\u001b[39m\u001b[38;5;144mOneDrive\u001b[39m\u001b[38;5;144m\\\u001b[39m\u001b[38;5;144mDocumentos\u001b[39m\u001b[38;5;144m\\\u001b[39m\u001b[38;5;144mDataSets\u001b[39m\u001b[38;5;144m\\\u001b[39m\u001b[38;5;144mTFM\u001b[39m\u001b[38;5;144m\\\u001b[39m\u001b[38;5;144mPruebas\u001b[39m\u001b[38;5;144m'\u001b[39m\n",
      "\u001b[38;5;7moutput_dir\u001b[39m\u001b[38;5;7m \u001b[39m\u001b[38;5;109;01m=\u001b[39;00m\u001b[38;5;7m \u001b[39m\u001b[38;5;144mr\u001b[39m\u001b[38;5;144m'\u001b[39m\u001b[38;5;144mC:\u001b[39m\u001b[38;5;144m\\\u001b[39m\u001b[38;5;144mUsers\u001b[39m\u001b[38;5;144m\\\u001b[39m\u001b[38;5;144mzoiyy\u001b[39m\u001b[38;5;144m\\\u001b[39m\u001b[38;5;144mOneDrive\u001b[39m\u001b[38;5;144m\\\u001b[39m\u001b[38;5;144mDocumentos\u001b[39m\u001b[38;5;144m\\\u001b[39m\u001b[38;5;144mDataSets\u001b[39m\u001b[38;5;144m\\\u001b[39m\u001b[38;5;144mTFM\u001b[39m\u001b[38;5;144m\\\u001b[39m\u001b[38;5;144mPruebas2\u001b[39m\u001b[38;5;144m'\u001b[39m\n",
      "\u001b[38;5;7mdate_label\u001b[39m\u001b[38;5;7m \u001b[39m\u001b[38;5;109;01m=\u001b[39;00m\u001b[38;5;7m \u001b[39m\u001b[38;5;109;01mNone\u001b[39;00m\n",
      "\u001b[38;5;7mdataset_mode\u001b[39m\u001b[38;5;7m \u001b[39m\u001b[38;5;109;01m=\u001b[39;00m\u001b[38;5;7m \u001b[39m\u001b[38;5;144m'\u001b[39m\u001b[38;5;144mtrain\u001b[39m\u001b[38;5;144m'\u001b[39m\n",
      "\u001b[38;5;7mpreprocessed_path\u001b[39m\u001b[38;5;7m \u001b[39m\u001b[38;5;109;01m=\u001b[39;00m\u001b[38;5;7m \u001b[39m\u001b[38;5;7mAnomalyBERT_Data_Preprocessing\u001b[39m\u001b[38;5;7m(\u001b[39m\u001b[38;5;7mdataset\u001b[39m\u001b[38;5;109;01m=\u001b[39;00m\u001b[38;5;144m'\u001b[39m\u001b[38;5;144mWADI\u001b[39m\u001b[38;5;144m'\u001b[39m\u001b[38;5;7m,\u001b[39m\u001b[38;5;7m \u001b[39m\u001b[38;5;7minput_dir\u001b[39m\u001b[38;5;109;01m=\u001b[39;00m\u001b[38;5;7minput_dir\u001b[39m\u001b[38;5;7m,\u001b[39m\u001b[38;5;7m \u001b[39m\u001b[38;5;7moutput_dir\u001b[39m\u001b[38;5;109;01m=\u001b[39;00m\u001b[38;5;7moutput_dir\u001b[39m\u001b[38;5;7m,\u001b[39m\u001b[38;5;7m \u001b[39m\u001b[38;5;7mdate_label\u001b[39m\u001b[38;5;109;01m=\u001b[39;00m\u001b[38;5;7mdate_label\u001b[39m\u001b[38;5;7m,\u001b[39m\u001b[38;5;7m \u001b[39m\u001b[38;5;7mdataset_mode\u001b[39m\u001b[38;5;109;01m=\u001b[39;00m\u001b[38;5;7mdataset_mode\u001b[39m\u001b[38;5;7m)\u001b[39m\u001b[0m\n",
      "\u001b[33;1m====\u001b[0m\n"
     ]
    },
    {
     "data": {
      "text/plain": [
       "'C:\\\\Users\\\\zoiyy\\\\OneDrive\\\\Documentos\\\\DataSets\\\\TFM\\\\Pruebas2'"
      ]
     },
     "metadata": {},
     "output_type": "display_data"
    },
    {
     "data": {
      "text/plain": [
       "'----------------------------------------------------------------------------------------------------'"
      ]
     },
     "metadata": {},
     "output_type": "display_data"
    },
    {
     "data": {
      "text/plain": [
       "'Test prompt 6:'"
      ]
     },
     "metadata": {},
     "output_type": "display_data"
    },
    {
     "name": "stderr",
     "output_type": "stream",
     "text": [
      "\u001b[33;1m======== New task ========\u001b[0m\n",
      "\u001b[37;1mPreprocess for testing the WADI dataset in the route 'C:\\Users\\zoiyy\\OneDrive\\Documentos\\DataSets\\TFM\\Pruebas' and store it in 'C:\\Users\\zoiyy\\OneDrive\\Documentos\\DataSets\\TFM\\Pruebas2'.\u001b[0m\n",
      "\u001b[33;1m==== Agent is executing the code below:\u001b[0m\n",
      "\u001b[0m\u001b[38;5;7mdataset\u001b[39m\u001b[38;5;7m \u001b[39m\u001b[38;5;109;01m=\u001b[39;00m\u001b[38;5;7m \u001b[39m\u001b[38;5;144m'\u001b[39m\u001b[38;5;144mWADI\u001b[39m\u001b[38;5;144m'\u001b[39m\n",
      "\u001b[38;5;7minput_dir\u001b[39m\u001b[38;5;7m \u001b[39m\u001b[38;5;109;01m=\u001b[39;00m\u001b[38;5;7m \u001b[39m\u001b[38;5;144mr\u001b[39m\u001b[38;5;144m'\u001b[39m\u001b[38;5;144mC:\u001b[39m\u001b[38;5;144m\\\u001b[39m\u001b[38;5;144mUsers\u001b[39m\u001b[38;5;144m\\\u001b[39m\u001b[38;5;144mzoiyy\u001b[39m\u001b[38;5;144m\\\u001b[39m\u001b[38;5;144mOneDrive\u001b[39m\u001b[38;5;144m\\\u001b[39m\u001b[38;5;144mDocumentos\u001b[39m\u001b[38;5;144m\\\u001b[39m\u001b[38;5;144mDataSets\u001b[39m\u001b[38;5;144m\\\u001b[39m\u001b[38;5;144mTFM\u001b[39m\u001b[38;5;144m\\\u001b[39m\u001b[38;5;144mPruebas\u001b[39m\u001b[38;5;144m'\u001b[39m\n",
      "\u001b[38;5;7moutput_dir\u001b[39m\u001b[38;5;7m \u001b[39m\u001b[38;5;109;01m=\u001b[39;00m\u001b[38;5;7m \u001b[39m\u001b[38;5;144mr\u001b[39m\u001b[38;5;144m'\u001b[39m\u001b[38;5;144mC:\u001b[39m\u001b[38;5;144m\\\u001b[39m\u001b[38;5;144mUsers\u001b[39m\u001b[38;5;144m\\\u001b[39m\u001b[38;5;144mzoiyy\u001b[39m\u001b[38;5;144m\\\u001b[39m\u001b[38;5;144mOneDrive\u001b[39m\u001b[38;5;144m\\\u001b[39m\u001b[38;5;144mDocumentos\u001b[39m\u001b[38;5;144m\\\u001b[39m\u001b[38;5;144mDataSets\u001b[39m\u001b[38;5;144m\\\u001b[39m\u001b[38;5;144mTFM\u001b[39m\u001b[38;5;144m\\\u001b[39m\u001b[38;5;144mPruebas2\u001b[39m\u001b[38;5;144m'\u001b[39m\n",
      "\u001b[38;5;7mpreprocessed_dir\u001b[39m\u001b[38;5;7m \u001b[39m\u001b[38;5;109;01m=\u001b[39;00m\u001b[38;5;7m \u001b[39m\u001b[38;5;7mAnomalyBERT_Data_Preprocessing\u001b[39m\u001b[38;5;7m(\u001b[39m\u001b[38;5;7mdataset\u001b[39m\u001b[38;5;109;01m=\u001b[39;00m\u001b[38;5;7mdataset\u001b[39m\u001b[38;5;7m,\u001b[39m\u001b[38;5;7m \u001b[39m\u001b[38;5;7minput_dir\u001b[39m\u001b[38;5;109;01m=\u001b[39;00m\u001b[38;5;7minput_dir\u001b[39m\u001b[38;5;7m,\u001b[39m\u001b[38;5;7m \u001b[39m\u001b[38;5;7moutput_dir\u001b[39m\u001b[38;5;109;01m=\u001b[39;00m\u001b[38;5;7moutput_dir\u001b[39m\u001b[38;5;7m)\u001b[39m\n",
      "\u001b[38;5;109mprint\u001b[39m\u001b[38;5;7m(\u001b[39m\u001b[38;5;144mf\u001b[39m\u001b[38;5;144m\"\u001b[39m\u001b[38;5;144mPreprocessed data stored at: \u001b[39m\u001b[38;5;144m{\u001b[39m\u001b[38;5;7mpreprocessed_dir\u001b[39m\u001b[38;5;144m}\u001b[39m\u001b[38;5;144m\"\u001b[39m\u001b[38;5;7m)\u001b[39m\u001b[0m\n",
      "\u001b[33;1m====\u001b[0m\n"
     ]
    },
    {
     "data": {
      "text/plain": [
       "'Preprocessed data stored at: C:\\\\Users\\\\zoiyy\\\\OneDrive\\\\Documentos\\\\DataSets\\\\TFM\\\\Pruebas2'"
      ]
     },
     "metadata": {},
     "output_type": "display_data"
    },
    {
     "data": {
      "text/plain": [
       "'----------------------------------------------------------------------------------------------------'"
      ]
     },
     "metadata": {},
     "output_type": "display_data"
    },
    {
     "data": {
      "text/plain": [
       "'Test prompt 7:'"
      ]
     },
     "metadata": {},
     "output_type": "display_data"
    },
    {
     "name": "stderr",
     "output_type": "stream",
     "text": [
      "\u001b[33;1m======== New task ========\u001b[0m\n",
      "\u001b[37;1mThe WADI dataset in the route 'C:\\Users\\zoiyy\\OneDrive\\Documentos\\DataSets\\TFM\\Pruebas' is meant for testing. Preprocess it and store it in 'C:\\Users\\zoiyy\\OneDrive\\Documentos\\DataSets\\TFM\\Pruebas2'.\u001b[0m\n",
      "\u001b[33;1m==== Agent is executing the code below:\u001b[0m\n",
      "\u001b[0m\u001b[38;5;7mdataset\u001b[39m\u001b[38;5;7m \u001b[39m\u001b[38;5;109;01m=\u001b[39;00m\u001b[38;5;7m \u001b[39m\u001b[38;5;144m'\u001b[39m\u001b[38;5;144mWADI\u001b[39m\u001b[38;5;144m'\u001b[39m\n",
      "\u001b[38;5;7minput_dir\u001b[39m\u001b[38;5;7m \u001b[39m\u001b[38;5;109;01m=\u001b[39;00m\u001b[38;5;7m \u001b[39m\u001b[38;5;144m'\u001b[39m\u001b[38;5;144mC:\u001b[39m\u001b[38;5;186m\\\\\u001b[39m\u001b[38;5;144mUsers\u001b[39m\u001b[38;5;186m\\\\\u001b[39m\u001b[38;5;144mzoiyy\u001b[39m\u001b[38;5;186m\\\\\u001b[39m\u001b[38;5;144mOneDrive\u001b[39m\u001b[38;5;186m\\\\\u001b[39m\u001b[38;5;144mDocumentos\u001b[39m\u001b[38;5;186m\\\\\u001b[39m\u001b[38;5;144mDataSets\u001b[39m\u001b[38;5;186m\\\\\u001b[39m\u001b[38;5;144mTFM\u001b[39m\u001b[38;5;186m\\\\\u001b[39m\u001b[38;5;144mPruebas\u001b[39m\u001b[38;5;144m'\u001b[39m\n",
      "\u001b[38;5;7moutput_dir\u001b[39m\u001b[38;5;7m \u001b[39m\u001b[38;5;109;01m=\u001b[39;00m\u001b[38;5;7m \u001b[39m\u001b[38;5;144m'\u001b[39m\u001b[38;5;144mC:\u001b[39m\u001b[38;5;186m\\\\\u001b[39m\u001b[38;5;144mUsers\u001b[39m\u001b[38;5;186m\\\\\u001b[39m\u001b[38;5;144mzoiyy\u001b[39m\u001b[38;5;186m\\\\\u001b[39m\u001b[38;5;144mOneDrive\u001b[39m\u001b[38;5;186m\\\\\u001b[39m\u001b[38;5;144mDocumentos\u001b[39m\u001b[38;5;186m\\\\\u001b[39m\u001b[38;5;144mDataSets\u001b[39m\u001b[38;5;186m\\\\\u001b[39m\u001b[38;5;144mTFM\u001b[39m\u001b[38;5;186m\\\\\u001b[39m\u001b[38;5;144mPruebas2\u001b[39m\u001b[38;5;144m'\u001b[39m\n",
      "\u001b[38;5;7mpreprocessed_dir\u001b[39m\u001b[38;5;7m \u001b[39m\u001b[38;5;109;01m=\u001b[39;00m\u001b[38;5;7m \u001b[39m\u001b[38;5;7mAnomalyBERT_Data_Preprocessing\u001b[39m\u001b[38;5;7m(\u001b[39m\u001b[38;5;7mdataset\u001b[39m\u001b[38;5;109;01m=\u001b[39;00m\u001b[38;5;7mdataset\u001b[39m\u001b[38;5;7m,\u001b[39m\u001b[38;5;7m \u001b[39m\u001b[38;5;7minput_dir\u001b[39m\u001b[38;5;109;01m=\u001b[39;00m\u001b[38;5;7minput_dir\u001b[39m\u001b[38;5;7m,\u001b[39m\u001b[38;5;7m \u001b[39m\u001b[38;5;7moutput_dir\u001b[39m\u001b[38;5;109;01m=\u001b[39;00m\u001b[38;5;7moutput_dir\u001b[39m\u001b[38;5;7m,\u001b[39m\u001b[38;5;7m \u001b[39m\u001b[38;5;7mdataset_mode\u001b[39m\u001b[38;5;109;01m=\u001b[39;00m\u001b[38;5;144m'\u001b[39m\u001b[38;5;144mtest\u001b[39m\u001b[38;5;144m'\u001b[39m\u001b[38;5;7m)\u001b[39m\u001b[0m\n",
      "\u001b[33;1m====\u001b[0m\n"
     ]
    },
    {
     "data": {
      "text/plain": [
       "'C:\\\\Users\\\\zoiyy\\\\OneDrive\\\\Documentos\\\\DataSets\\\\TFM\\\\Pruebas2'"
      ]
     },
     "metadata": {},
     "output_type": "display_data"
    },
    {
     "data": {
      "text/plain": [
       "'===================================================================================================='"
      ]
     },
     "metadata": {},
     "output_type": "display_data"
    },
    {
     "data": {
      "text/plain": [
       "'===================================================================================================='"
      ]
     },
     "metadata": {},
     "output_type": "display_data"
    },
    {
     "data": {
      "text/plain": [
       "'RESULTS FOR TOOL DESCRIPTION 4:'"
      ]
     },
     "metadata": {},
     "output_type": "display_data"
    },
    {
     "data": {
      "text/plain": [
       "'----------------------------------------------------------------------------------------------------'"
      ]
     },
     "metadata": {},
     "output_type": "display_data"
    },
    {
     "data": {
      "text/plain": [
       "'Test prompt 1:'"
      ]
     },
     "metadata": {},
     "output_type": "display_data"
    },
    {
     "name": "stderr",
     "output_type": "stream",
     "text": [
      "\u001b[33;1m======== New task ========\u001b[0m\n",
      "\u001b[37;1mPreprocess the WADI dataset in the route 'C:\\Users\\zoiyy\\OneDrive\\Documentos\\DataSets\\TFM\\Pruebas'.\u001b[0m\n",
      "\u001b[33;1m==== Agent is executing the code below:\u001b[0m\n",
      "\u001b[0m\u001b[38;5;7mpreprocessed_dataset_path\u001b[39m\u001b[38;5;7m \u001b[39m\u001b[38;5;109;01m=\u001b[39;00m\u001b[38;5;7m \u001b[39m\u001b[38;5;7mAnomalyBERT_Data_Preprocessing\u001b[39m\u001b[38;5;7m(\u001b[39m\u001b[38;5;144m'\u001b[39m\u001b[38;5;144mWADI\u001b[39m\u001b[38;5;144m'\u001b[39m\u001b[38;5;7m,\u001b[39m\u001b[38;5;7m \u001b[39m\u001b[38;5;144m'\u001b[39m\u001b[38;5;144mC:\u001b[39m\u001b[38;5;186m\\\\\u001b[39m\u001b[38;5;144mUsers\u001b[39m\u001b[38;5;186m\\\\\u001b[39m\u001b[38;5;144mzoiyy\u001b[39m\u001b[38;5;186m\\\\\u001b[39m\u001b[38;5;144mOneDrive\u001b[39m\u001b[38;5;186m\\\\\u001b[39m\u001b[38;5;144mDocumentos\u001b[39m\u001b[38;5;186m\\\\\u001b[39m\u001b[38;5;144mDataSets\u001b[39m\u001b[38;5;186m\\\\\u001b[39m\u001b[38;5;144mTFM\u001b[39m\u001b[38;5;186m\\\\\u001b[39m\u001b[38;5;144mPruebas\u001b[39m\u001b[38;5;144m'\u001b[39m\u001b[38;5;7m)\u001b[39m\n",
      "\u001b[38;5;109mprint\u001b[39m\u001b[38;5;7m(\u001b[39m\u001b[38;5;144mf\u001b[39m\u001b[38;5;144m\"\u001b[39m\u001b[38;5;144mThe path of the preprocessed data is \u001b[39m\u001b[38;5;144m{\u001b[39m\u001b[38;5;7mpreprocessed_dataset_path\u001b[39m\u001b[38;5;144m}\u001b[39m\u001b[38;5;144m.\u001b[39m\u001b[38;5;144m\"\u001b[39m\u001b[38;5;7m)\u001b[39m\u001b[0m\n",
      "\u001b[33;1m====\u001b[0m\n"
     ]
    },
    {
     "data": {
      "text/plain": [
       "'The path of the preprocessed data is C:\\\\Users\\\\zoiyy\\\\OneDrive\\\\Documentos\\\\DataSets\\\\TFM\\\\Pruebas\\\\processed.'"
      ]
     },
     "metadata": {},
     "output_type": "display_data"
    },
    {
     "data": {
      "text/plain": [
       "'----------------------------------------------------------------------------------------------------'"
      ]
     },
     "metadata": {},
     "output_type": "display_data"
    },
    {
     "data": {
      "text/plain": [
       "'Test prompt 2:'"
      ]
     },
     "metadata": {},
     "output_type": "display_data"
    },
    {
     "name": "stderr",
     "output_type": "stream",
     "text": [
      "\u001b[33;1m======== New task ========\u001b[0m\n",
      "\u001b[37;1mPreprocess the raw WADI dataset stored in the route 'C:\\Users\\zoiyy\\OneDrive\\Documentos\\DataSets\\TFM\\Pruebas'.\u001b[0m\n",
      "\u001b[33;1m==== Agent is executing the code below:\u001b[0m\n",
      "\u001b[0m\u001b[38;5;7moutput_dir\u001b[39m\u001b[38;5;7m \u001b[39m\u001b[38;5;109;01m=\u001b[39;00m\u001b[38;5;7m \u001b[39m\u001b[38;5;144m'\u001b[39m\u001b[38;5;144mC:\u001b[39m\u001b[38;5;186m\\\\\u001b[39m\u001b[38;5;144mtemp\u001b[39m\u001b[38;5;186m\\\\\u001b[39m\u001b[38;5;144moutput\u001b[39m\u001b[38;5;144m'\u001b[39m\n",
      "\u001b[38;5;7mdataset_mode\u001b[39m\u001b[38;5;7m \u001b[39m\u001b[38;5;109;01m=\u001b[39;00m\u001b[38;5;7m \u001b[39m\u001b[38;5;144m'\u001b[39m\u001b[38;5;144mexploitation\u001b[39m\u001b[38;5;144m'\u001b[39m\n",
      "\u001b[38;5;7moutput_files_path\u001b[39m\u001b[38;5;7m \u001b[39m\u001b[38;5;109;01m=\u001b[39;00m\u001b[38;5;7m \u001b[39m\u001b[38;5;7mAnomalyBERT_Data_Preprocessing\u001b[39m\u001b[38;5;7m(\u001b[39m\u001b[38;5;7mdataset\u001b[39m\u001b[38;5;109;01m=\u001b[39;00m\u001b[38;5;144m'\u001b[39m\u001b[38;5;144mWADI\u001b[39m\u001b[38;5;144m'\u001b[39m\u001b[38;5;7m,\u001b[39m\u001b[38;5;7m \u001b[39m\u001b[38;5;7minput_dir\u001b[39m\u001b[38;5;109;01m=\u001b[39;00m\u001b[38;5;144m'\u001b[39m\u001b[38;5;144mC:\u001b[39m\u001b[38;5;186m\\\\\u001b[39m\u001b[38;5;144mUsers\u001b[39m\u001b[38;5;186m\\\\\u001b[39m\u001b[38;5;144mzoiyy\u001b[39m\u001b[38;5;186m\\\\\u001b[39m\u001b[38;5;144mOneDrive\u001b[39m\u001b[38;5;186m\\\\\u001b[39m\u001b[38;5;144mDocumentos\u001b[39m\u001b[38;5;186m\\\\\u001b[39m\u001b[38;5;144mDataSets\u001b[39m\u001b[38;5;186m\\\\\u001b[39m\u001b[38;5;144mTFM\u001b[39m\u001b[38;5;186m\\\\\u001b[39m\u001b[38;5;144mPruebas\u001b[39m\u001b[38;5;144m'\u001b[39m\u001b[38;5;7m,\u001b[39m\u001b[38;5;7m \u001b[39m\u001b[38;5;7moutput_dir\u001b[39m\u001b[38;5;109;01m=\u001b[39;00m\u001b[38;5;7moutput_dir\u001b[39m\u001b[38;5;7m,\u001b[39m\u001b[38;5;7m \u001b[39m\u001b[38;5;7mdataset_mode\u001b[39m\u001b[38;5;109;01m=\u001b[39;00m\u001b[38;5;7mdataset_mode\u001b[39m\u001b[38;5;7m)\u001b[39m\n",
      "\u001b[38;5;109mprint\u001b[39m\u001b[38;5;7m(\u001b[39m\u001b[38;5;144mf\u001b[39m\u001b[38;5;144m\"\u001b[39m\u001b[38;5;144mPreprocessed data stored at: \u001b[39m\u001b[38;5;144m{\u001b[39m\u001b[38;5;7moutput_files_path\u001b[39m\u001b[38;5;144m}\u001b[39m\u001b[38;5;144m\"\u001b[39m\u001b[38;5;7m)\u001b[39m\u001b[0m\n",
      "\u001b[33;1m====\u001b[0m\n",
      "\u001b[31;20mError in execution: [WinError 3] El sistema no puede encontrar la ruta especificada: 'C:\\\\temp\\\\output'. Be sure to provide correct code.\u001b[0m\n",
      "Traceback (most recent call last):\n",
      "  File \"C:\\Users\\zoiyy\\AppData\\Roaming\\Python\\Python38\\site-packages\\transformers\\agents\\agents.py\", line 566, in run\n",
      "    output = self.python_evaluator(code_action, available_tools, state=self.state)\n",
      "  File \"C:\\Users\\zoiyy\\AppData\\Roaming\\Python\\Python38\\site-packages\\transformers\\agents\\python_interpreter.py\", line 511, in evaluate_python_code\n",
      "    line_result = evaluate_ast(node, state, tools)\n",
      "  File \"C:\\Users\\zoiyy\\AppData\\Roaming\\Python\\Python38\\site-packages\\transformers\\agents\\python_interpreter.py\", line 360, in evaluate_ast\n",
      "    return evaluate_assign(expression, state, tools)\n",
      "  File \"C:\\Users\\zoiyy\\AppData\\Roaming\\Python\\Python38\\site-packages\\transformers\\agents\\python_interpreter.py\", line 177, in evaluate_assign\n",
      "    result = evaluate_ast(assign.value, state, tools)\n",
      "  File \"C:\\Users\\zoiyy\\AppData\\Roaming\\Python\\Python38\\site-packages\\transformers\\agents\\python_interpreter.py\", line 365, in evaluate_ast\n",
      "    return evaluate_call(expression, state, tools)\n",
      "  File \"C:\\Users\\zoiyy\\AppData\\Roaming\\Python\\Python38\\site-packages\\transformers\\agents\\python_interpreter.py\", line 217, in evaluate_call\n",
      "    output = func(*args, **kwargs)\n",
      "  File \"c:\\Users\\zoiyy\\OneDrive\\Documentos\\Repositorios GIT\\TFM\\Pruebas\\test_batch.py\", line 26, in __call__\n",
      "    preprocessed_dataset_folder\t= adp.preprocess_data( dataset , input_dir , output_dir , json_dir , date_label , dataset_mode )\n",
      "  File \"c:\\Users\\zoiyy\\OneDrive\\Documentos\\Repositorios GIT\\TFM\\Adapted_utils\\Adapted_data_preprocessing.py\", line 229, in preprocess_data\n",
      "    os.mkdir( output_folder )\n",
      "FileNotFoundError: [WinError 3] El sistema no puede encontrar la ruta especificada: 'C:\\\\temp\\\\output'\n"
     ]
    },
    {
     "data": {
      "text/plain": [
       "\"Error in execution: [WinError 3] El sistema no puede encontrar la ruta especificada: 'C:\\\\\\\\temp\\\\\\\\output'. Be sure to provide correct code.\""
      ]
     },
     "metadata": {},
     "output_type": "display_data"
    },
    {
     "data": {
      "text/plain": [
       "'----------------------------------------------------------------------------------------------------'"
      ]
     },
     "metadata": {},
     "output_type": "display_data"
    },
    {
     "data": {
      "text/plain": [
       "'Test prompt 3:'"
      ]
     },
     "metadata": {},
     "output_type": "display_data"
    },
    {
     "name": "stderr",
     "output_type": "stream",
     "text": [
      "\u001b[33;1m======== New task ========\u001b[0m\n",
      "\u001b[37;1mPreprocess the WADI dataset in the route 'C:\\Users\\zoiyy\\OneDrive\\Documentos\\DataSets\\TFM\\Pruebas' and store it in 'C:\\Users\\zoiyy\\OneDrive\\Documentos\\DataSets\\TFM\\Pruebas2'.\u001b[0m\n",
      "\u001b[33;1m==== Agent is executing the code below:\u001b[0m\n",
      "\u001b[0m\u001b[38;5;7minput_dir\u001b[39m\u001b[38;5;7m \u001b[39m\u001b[38;5;109;01m=\u001b[39;00m\u001b[38;5;7m \u001b[39m\u001b[38;5;144m'\u001b[39m\u001b[38;5;144mC:\u001b[39m\u001b[38;5;186m\\\\\u001b[39m\u001b[38;5;144mUsers\u001b[39m\u001b[38;5;186m\\\\\u001b[39m\u001b[38;5;144mzoiyy\u001b[39m\u001b[38;5;186m\\\\\u001b[39m\u001b[38;5;144mOneDrive\u001b[39m\u001b[38;5;186m\\\\\u001b[39m\u001b[38;5;144mDocumentos\u001b[39m\u001b[38;5;186m\\\\\u001b[39m\u001b[38;5;144mDataSets\u001b[39m\u001b[38;5;186m\\\\\u001b[39m\u001b[38;5;144mTFM\u001b[39m\u001b[38;5;186m\\\\\u001b[39m\u001b[38;5;144mPruebas\u001b[39m\u001b[38;5;144m'\u001b[39m\n",
      "\u001b[38;5;7moutput_dir\u001b[39m\u001b[38;5;7m \u001b[39m\u001b[38;5;109;01m=\u001b[39;00m\u001b[38;5;7m \u001b[39m\u001b[38;5;144m'\u001b[39m\u001b[38;5;144mC:\u001b[39m\u001b[38;5;186m\\\\\u001b[39m\u001b[38;5;144mUsers\u001b[39m\u001b[38;5;186m\\\\\u001b[39m\u001b[38;5;144mzoiyy\u001b[39m\u001b[38;5;186m\\\\\u001b[39m\u001b[38;5;144mOneDrive\u001b[39m\u001b[38;5;186m\\\\\u001b[39m\u001b[38;5;144mDocumentos\u001b[39m\u001b[38;5;186m\\\\\u001b[39m\u001b[38;5;144mDataSets\u001b[39m\u001b[38;5;186m\\\\\u001b[39m\u001b[38;5;144mTFM\u001b[39m\u001b[38;5;186m\\\\\u001b[39m\u001b[38;5;144mPruebas2\u001b[39m\u001b[38;5;144m'\u001b[39m\n",
      "\u001b[38;5;7mpreprocessed_path\u001b[39m\u001b[38;5;7m \u001b[39m\u001b[38;5;109;01m=\u001b[39;00m\u001b[38;5;7m \u001b[39m\u001b[38;5;7mAnomalyBERT_Data_Preprocessing\u001b[39m\u001b[38;5;7m(\u001b[39m\u001b[38;5;7mdataset\u001b[39m\u001b[38;5;109;01m=\u001b[39;00m\u001b[38;5;144m'\u001b[39m\u001b[38;5;144mWADI\u001b[39m\u001b[38;5;144m'\u001b[39m\u001b[38;5;7m,\u001b[39m\u001b[38;5;7m \u001b[39m\u001b[38;5;7minput_dir\u001b[39m\u001b[38;5;109;01m=\u001b[39;00m\u001b[38;5;7minput_dir\u001b[39m\u001b[38;5;7m,\u001b[39m\u001b[38;5;7m \u001b[39m\u001b[38;5;7moutput_dir\u001b[39m\u001b[38;5;109;01m=\u001b[39;00m\u001b[38;5;7moutput_dir\u001b[39m\u001b[38;5;7m)\u001b[39m\n",
      "\u001b[38;5;109mprint\u001b[39m\u001b[38;5;7m(\u001b[39m\u001b[38;5;144mf\u001b[39m\u001b[38;5;144m\"\u001b[39m\u001b[38;5;144mPreprocessed data path: \u001b[39m\u001b[38;5;144m{\u001b[39m\u001b[38;5;7mpreprocessed_path\u001b[39m\u001b[38;5;144m}\u001b[39m\u001b[38;5;144m\"\u001b[39m\u001b[38;5;7m)\u001b[39m\u001b[0m\n",
      "\u001b[33;1m====\u001b[0m\n"
     ]
    },
    {
     "data": {
      "text/plain": [
       "'Preprocessed data path: C:\\\\Users\\\\zoiyy\\\\OneDrive\\\\Documentos\\\\DataSets\\\\TFM\\\\Pruebas2'"
      ]
     },
     "metadata": {},
     "output_type": "display_data"
    },
    {
     "data": {
      "text/plain": [
       "'----------------------------------------------------------------------------------------------------'"
      ]
     },
     "metadata": {},
     "output_type": "display_data"
    },
    {
     "data": {
      "text/plain": [
       "'Test prompt 4:'"
      ]
     },
     "metadata": {},
     "output_type": "display_data"
    },
    {
     "name": "stderr",
     "output_type": "stream",
     "text": [
      "\u001b[33;1m======== New task ========\u001b[0m\n",
      "\u001b[37;1mPreprocess the WADI dataset stored in the route 'C:\\Users\\zoiyy\\OneDrive\\Documentos\\DataSets\\TFM\\Pruebas' and save it in 'C:\\Users\\zoiyy\\OneDrive\\Documentos\\DataSets\\TFM\\Pruebas2'.\u001b[0m\n",
      "\u001b[33;1m==== Agent is executing the code below:\u001b[0m\n",
      "\u001b[0m\u001b[38;5;7mdataset\u001b[39m\u001b[38;5;7m \u001b[39m\u001b[38;5;109;01m=\u001b[39;00m\u001b[38;5;7m \u001b[39m\u001b[38;5;144m'\u001b[39m\u001b[38;5;144mWADI\u001b[39m\u001b[38;5;144m'\u001b[39m\n",
      "\u001b[38;5;7minput_dir\u001b[39m\u001b[38;5;7m \u001b[39m\u001b[38;5;109;01m=\u001b[39;00m\u001b[38;5;7m \u001b[39m\u001b[38;5;144mr\u001b[39m\u001b[38;5;144m'\u001b[39m\u001b[38;5;144mC:\u001b[39m\u001b[38;5;144m\\\u001b[39m\u001b[38;5;144mUsers\u001b[39m\u001b[38;5;144m\\\u001b[39m\u001b[38;5;144mzoiyy\u001b[39m\u001b[38;5;144m\\\u001b[39m\u001b[38;5;144mOneDrive\u001b[39m\u001b[38;5;144m\\\u001b[39m\u001b[38;5;144mDocumentos\u001b[39m\u001b[38;5;144m\\\u001b[39m\u001b[38;5;144mDataSets\u001b[39m\u001b[38;5;144m\\\u001b[39m\u001b[38;5;144mTFM\u001b[39m\u001b[38;5;144m\\\u001b[39m\u001b[38;5;144mPruebas\u001b[39m\u001b[38;5;144m'\u001b[39m\n",
      "\u001b[38;5;7moutput_dir\u001b[39m\u001b[38;5;7m \u001b[39m\u001b[38;5;109;01m=\u001b[39;00m\u001b[38;5;7m \u001b[39m\u001b[38;5;144mr\u001b[39m\u001b[38;5;144m'\u001b[39m\u001b[38;5;144mC:\u001b[39m\u001b[38;5;144m\\\u001b[39m\u001b[38;5;144mUsers\u001b[39m\u001b[38;5;144m\\\u001b[39m\u001b[38;5;144mzoiyy\u001b[39m\u001b[38;5;144m\\\u001b[39m\u001b[38;5;144mOneDrive\u001b[39m\u001b[38;5;144m\\\u001b[39m\u001b[38;5;144mDocumentos\u001b[39m\u001b[38;5;144m\\\u001b[39m\u001b[38;5;144mDataSets\u001b[39m\u001b[38;5;144m\\\u001b[39m\u001b[38;5;144mTFM\u001b[39m\u001b[38;5;144m\\\u001b[39m\u001b[38;5;144mPruebas2\u001b[39m\u001b[38;5;144m'\u001b[39m\n",
      "\u001b[38;5;7mdate_label\u001b[39m\u001b[38;5;7m \u001b[39m\u001b[38;5;109;01m=\u001b[39;00m\u001b[38;5;7m \u001b[39m\u001b[38;5;109;01mNone\u001b[39;00m\u001b[38;5;7m  \u001b[39m\u001b[38;5;60;03m# assuming date_label is not needed for WADI dataset\u001b[39;00m\n",
      "\u001b[38;5;7mdataset_mode\u001b[39m\u001b[38;5;7m \u001b[39m\u001b[38;5;109;01m=\u001b[39;00m\u001b[38;5;7m \u001b[39m\u001b[38;5;144m'\u001b[39m\u001b[38;5;144mtest\u001b[39m\u001b[38;5;144m'\u001b[39m\u001b[38;5;7m  \u001b[39m\u001b[38;5;60;03m# assuming this mode is suitable for preprocessing\u001b[39;00m\n",
      "\n",
      "\u001b[38;5;7mAnomalyBERT_Data_Preprocessing\u001b[39m\u001b[38;5;7m(\u001b[39m\u001b[38;5;7mdataset\u001b[39m\u001b[38;5;109;01m=\u001b[39;00m\u001b[38;5;7mdataset\u001b[39m\u001b[38;5;7m,\u001b[39m\u001b[38;5;7m \u001b[39m\u001b[38;5;7minput_dir\u001b[39m\u001b[38;5;109;01m=\u001b[39;00m\u001b[38;5;7minput_dir\u001b[39m\u001b[38;5;7m,\u001b[39m\u001b[38;5;7m \u001b[39m\u001b[38;5;7moutput_dir\u001b[39m\u001b[38;5;109;01m=\u001b[39;00m\u001b[38;5;7moutput_dir\u001b[39m\u001b[38;5;7m,\u001b[39m\u001b[38;5;7m \u001b[39m\u001b[38;5;7mdate_label\u001b[39m\u001b[38;5;109;01m=\u001b[39;00m\u001b[38;5;7mdate_label\u001b[39m\u001b[38;5;7m,\u001b[39m\u001b[38;5;7m \u001b[39m\u001b[38;5;7mdataset_mode\u001b[39m\u001b[38;5;109;01m=\u001b[39;00m\u001b[38;5;7mdataset_mode\u001b[39m\u001b[38;5;7m)\u001b[39m\u001b[0m\n",
      "\u001b[33;1m====\u001b[0m\n"
     ]
    },
    {
     "data": {
      "text/plain": [
       "'C:\\\\Users\\\\zoiyy\\\\OneDrive\\\\Documentos\\\\DataSets\\\\TFM\\\\Pruebas2'"
      ]
     },
     "metadata": {},
     "output_type": "display_data"
    },
    {
     "data": {
      "text/plain": [
       "'----------------------------------------------------------------------------------------------------'"
      ]
     },
     "metadata": {},
     "output_type": "display_data"
    },
    {
     "data": {
      "text/plain": [
       "'Test prompt 5:'"
      ]
     },
     "metadata": {},
     "output_type": "display_data"
    },
    {
     "name": "stderr",
     "output_type": "stream",
     "text": [
      "\u001b[33;1m======== New task ========\u001b[0m\n",
      "\u001b[37;1mPreprocess the WADI dataset stored in the route 'C:\\Users\\zoiyy\\OneDrive\\Documentos\\DataSets\\TFM\\Pruebas' and store it in 'C:\\Users\\zoiyy\\OneDrive\\Documentos\\DataSets\\TFM\\Pruebas2'.\u001b[0m\n",
      "\u001b[33;1m==== Agent is executing the code below:\u001b[0m\n",
      "\u001b[0m\u001b[38;5;7mdataset_mode\u001b[39m\u001b[38;5;7m \u001b[39m\u001b[38;5;109;01m=\u001b[39;00m\u001b[38;5;7m \u001b[39m\u001b[38;5;144m'\u001b[39m\u001b[38;5;144mexploitation\u001b[39m\u001b[38;5;144m'\u001b[39m\n",
      "\u001b[38;5;7minput_dir\u001b[39m\u001b[38;5;7m \u001b[39m\u001b[38;5;109;01m=\u001b[39;00m\u001b[38;5;7m \u001b[39m\u001b[38;5;144m'\u001b[39m\u001b[38;5;144mC:\u001b[39m\u001b[38;5;186m\\\\\u001b[39m\u001b[38;5;144mUsers\u001b[39m\u001b[38;5;186m\\\\\u001b[39m\u001b[38;5;144mzoiyy\u001b[39m\u001b[38;5;186m\\\\\u001b[39m\u001b[38;5;144mOneDrive\u001b[39m\u001b[38;5;186m\\\\\u001b[39m\u001b[38;5;144mDocumentos\u001b[39m\u001b[38;5;186m\\\\\u001b[39m\u001b[38;5;144mDataSets\u001b[39m\u001b[38;5;186m\\\\\u001b[39m\u001b[38;5;144mTFM\u001b[39m\u001b[38;5;186m\\\\\u001b[39m\u001b[38;5;144mPruebas\u001b[39m\u001b[38;5;144m'\u001b[39m\n",
      "\u001b[38;5;7moutput_dir\u001b[39m\u001b[38;5;7m \u001b[39m\u001b[38;5;109;01m=\u001b[39;00m\u001b[38;5;7m \u001b[39m\u001b[38;5;144m'\u001b[39m\u001b[38;5;144mC:\u001b[39m\u001b[38;5;186m\\\\\u001b[39m\u001b[38;5;144mUsers\u001b[39m\u001b[38;5;186m\\\\\u001b[39m\u001b[38;5;144mzoiyy\u001b[39m\u001b[38;5;186m\\\\\u001b[39m\u001b[38;5;144mOneDrive\u001b[39m\u001b[38;5;186m\\\\\u001b[39m\u001b[38;5;144mDocumentos\u001b[39m\u001b[38;5;186m\\\\\u001b[39m\u001b[38;5;144mDataSets\u001b[39m\u001b[38;5;186m\\\\\u001b[39m\u001b[38;5;144mTFM\u001b[39m\u001b[38;5;186m\\\\\u001b[39m\u001b[38;5;144mPruebas2\u001b[39m\u001b[38;5;144m'\u001b[39m\n",
      "\u001b[38;5;7mdate_label\u001b[39m\u001b[38;5;7m \u001b[39m\u001b[38;5;109;01m=\u001b[39;00m\u001b[38;5;7m \u001b[39m\u001b[38;5;109;01mNone\u001b[39;00m\n",
      "\u001b[38;5;7mdataset\u001b[39m\u001b[38;5;7m \u001b[39m\u001b[38;5;109;01m=\u001b[39;00m\u001b[38;5;7m \u001b[39m\u001b[38;5;144m'\u001b[39m\u001b[38;5;144mWADI\u001b[39m\u001b[38;5;144m'\u001b[39m\n",
      "\u001b[38;5;7mpreprocessed_path\u001b[39m\u001b[38;5;7m \u001b[39m\u001b[38;5;109;01m=\u001b[39;00m\u001b[38;5;7m \u001b[39m\u001b[38;5;7mAnomalyBERT_Data_Preprocessing\u001b[39m\u001b[38;5;7m(\u001b[39m\u001b[38;5;7mdataset\u001b[39m\u001b[38;5;109;01m=\u001b[39;00m\u001b[38;5;7mdataset\u001b[39m\u001b[38;5;7m,\u001b[39m\u001b[38;5;7m \u001b[39m\u001b[38;5;7minput_dir\u001b[39m\u001b[38;5;109;01m=\u001b[39;00m\u001b[38;5;7minput_dir\u001b[39m\u001b[38;5;7m,\u001b[39m\u001b[38;5;7m \u001b[39m\u001b[38;5;7moutput_dir\u001b[39m\u001b[38;5;109;01m=\u001b[39;00m\u001b[38;5;7moutput_dir\u001b[39m\u001b[38;5;7m,\u001b[39m\u001b[38;5;7m \u001b[39m\u001b[38;5;7mdate_label\u001b[39m\u001b[38;5;109;01m=\u001b[39;00m\u001b[38;5;7mdate_label\u001b[39m\u001b[38;5;7m,\u001b[39m\u001b[38;5;7m \u001b[39m\u001b[38;5;7mdataset_mode\u001b[39m\u001b[38;5;109;01m=\u001b[39;00m\u001b[38;5;7mdataset_mode\u001b[39m\u001b[38;5;7m)\u001b[39m\u001b[0m\n",
      "\u001b[33;1m====\u001b[0m\n"
     ]
    },
    {
     "data": {
      "text/plain": [
       "'C:\\\\Users\\\\zoiyy\\\\OneDrive\\\\Documentos\\\\DataSets\\\\TFM\\\\Pruebas2'"
      ]
     },
     "metadata": {},
     "output_type": "display_data"
    },
    {
     "data": {
      "text/plain": [
       "'----------------------------------------------------------------------------------------------------'"
      ]
     },
     "metadata": {},
     "output_type": "display_data"
    },
    {
     "data": {
      "text/plain": [
       "'Test prompt 6:'"
      ]
     },
     "metadata": {},
     "output_type": "display_data"
    },
    {
     "name": "stderr",
     "output_type": "stream",
     "text": [
      "\u001b[33;1m======== New task ========\u001b[0m\n",
      "\u001b[37;1mPreprocess for testing the WADI dataset in the route 'C:\\Users\\zoiyy\\OneDrive\\Documentos\\DataSets\\TFM\\Pruebas' and store it in 'C:\\Users\\zoiyy\\OneDrive\\Documentos\\DataSets\\TFM\\Pruebas2'.\u001b[0m\n",
      "\u001b[33;1m==== Agent is executing the code below:\u001b[0m\n",
      "\u001b[0m\u001b[38;5;7mdataset_mode\u001b[39m\u001b[38;5;7m \u001b[39m\u001b[38;5;109;01m=\u001b[39;00m\u001b[38;5;7m \u001b[39m\u001b[38;5;144m'\u001b[39m\u001b[38;5;144mtest\u001b[39m\u001b[38;5;144m'\u001b[39m\n",
      "\u001b[38;5;7minput_dir\u001b[39m\u001b[38;5;7m \u001b[39m\u001b[38;5;109;01m=\u001b[39;00m\u001b[38;5;7m \u001b[39m\u001b[38;5;144mr\u001b[39m\u001b[38;5;144m'\u001b[39m\u001b[38;5;144mC:\u001b[39m\u001b[38;5;144m\\\u001b[39m\u001b[38;5;144mUsers\u001b[39m\u001b[38;5;144m\\\u001b[39m\u001b[38;5;144mzoiyy\u001b[39m\u001b[38;5;144m\\\u001b[39m\u001b[38;5;144mOneDrive\u001b[39m\u001b[38;5;144m\\\u001b[39m\u001b[38;5;144mDocumentos\u001b[39m\u001b[38;5;144m\\\u001b[39m\u001b[38;5;144mDataSets\u001b[39m\u001b[38;5;144m\\\u001b[39m\u001b[38;5;144mTFM\u001b[39m\u001b[38;5;144m\\\u001b[39m\u001b[38;5;144mPruebas\u001b[39m\u001b[38;5;144m'\u001b[39m\n",
      "\u001b[38;5;7moutput_dir\u001b[39m\u001b[38;5;7m \u001b[39m\u001b[38;5;109;01m=\u001b[39;00m\u001b[38;5;7m \u001b[39m\u001b[38;5;144mr\u001b[39m\u001b[38;5;144m'\u001b[39m\u001b[38;5;144mC:\u001b[39m\u001b[38;5;144m\\\u001b[39m\u001b[38;5;144mUsers\u001b[39m\u001b[38;5;144m\\\u001b[39m\u001b[38;5;144mzoiyy\u001b[39m\u001b[38;5;144m\\\u001b[39m\u001b[38;5;144mOneDrive\u001b[39m\u001b[38;5;144m\\\u001b[39m\u001b[38;5;144mDocumentos\u001b[39m\u001b[38;5;144m\\\u001b[39m\u001b[38;5;144mDataSets\u001b[39m\u001b[38;5;144m\\\u001b[39m\u001b[38;5;144mTFM\u001b[39m\u001b[38;5;144m\\\u001b[39m\u001b[38;5;144mPruebas2\u001b[39m\u001b[38;5;144m'\u001b[39m\n",
      "\u001b[38;5;7mdataset\u001b[39m\u001b[38;5;7m \u001b[39m\u001b[38;5;109;01m=\u001b[39;00m\u001b[38;5;7m \u001b[39m\u001b[38;5;144m'\u001b[39m\u001b[38;5;144mWADI\u001b[39m\u001b[38;5;144m'\u001b[39m\n",
      "\u001b[38;5;7mdate_label\u001b[39m\u001b[38;5;7m \u001b[39m\u001b[38;5;109;01m=\u001b[39;00m\u001b[38;5;7m \u001b[39m\u001b[38;5;109;01mNone\u001b[39;00m\n",
      "\u001b[38;5;7mjson_dir\u001b[39m\u001b[38;5;7m \u001b[39m\u001b[38;5;109;01m=\u001b[39;00m\u001b[38;5;7m \u001b[39m\u001b[38;5;109;01mNone\u001b[39;00m\n",
      "\u001b[38;5;7mpreprocessed_data_path\u001b[39m\u001b[38;5;7m \u001b[39m\u001b[38;5;109;01m=\u001b[39;00m\u001b[38;5;7m \u001b[39m\u001b[38;5;7mAnomalyBERT_Data_Preprocessing\u001b[39m\u001b[38;5;7m(\u001b[39m\u001b[38;5;7mdataset\u001b[39m\u001b[38;5;109;01m=\u001b[39;00m\u001b[38;5;7mdataset\u001b[39m\u001b[38;5;7m,\u001b[39m\u001b[38;5;7m \u001b[39m\u001b[38;5;7minput_dir\u001b[39m\u001b[38;5;109;01m=\u001b[39;00m\u001b[38;5;7minput_dir\u001b[39m\u001b[38;5;7m,\u001b[39m\u001b[38;5;7m \u001b[39m\u001b[38;5;7moutput_dir\u001b[39m\u001b[38;5;109;01m=\u001b[39;00m\u001b[38;5;7moutput_dir\u001b[39m\u001b[38;5;7m,\u001b[39m\u001b[38;5;7m \u001b[39m\u001b[38;5;7mdataset_mode\u001b[39m\u001b[38;5;109;01m=\u001b[39;00m\u001b[38;5;7mdataset_mode\u001b[39m\u001b[38;5;7m,\u001b[39m\u001b[38;5;7m \u001b[39m\u001b[38;5;7mdate_label\u001b[39m\u001b[38;5;109;01m=\u001b[39;00m\u001b[38;5;7mdate_label\u001b[39m\u001b[38;5;7m,\u001b[39m\u001b[38;5;7m \u001b[39m\u001b[38;5;7mjson_dir\u001b[39m\u001b[38;5;109;01m=\u001b[39;00m\u001b[38;5;7mjson_dir\u001b[39m\u001b[38;5;7m)\u001b[39m\u001b[0m\n",
      "\u001b[33;1m====\u001b[0m\n"
     ]
    },
    {
     "data": {
      "text/plain": [
       "'C:\\\\Users\\\\zoiyy\\\\OneDrive\\\\Documentos\\\\DataSets\\\\TFM\\\\Pruebas2'"
      ]
     },
     "metadata": {},
     "output_type": "display_data"
    },
    {
     "data": {
      "text/plain": [
       "'----------------------------------------------------------------------------------------------------'"
      ]
     },
     "metadata": {},
     "output_type": "display_data"
    },
    {
     "data": {
      "text/plain": [
       "'Test prompt 7:'"
      ]
     },
     "metadata": {},
     "output_type": "display_data"
    },
    {
     "name": "stderr",
     "output_type": "stream",
     "text": [
      "\u001b[33;1m======== New task ========\u001b[0m\n",
      "\u001b[37;1mThe WADI dataset in the route 'C:\\Users\\zoiyy\\OneDrive\\Documentos\\DataSets\\TFM\\Pruebas' is meant for testing. Preprocess it and store it in 'C:\\Users\\zoiyy\\OneDrive\\Documentos\\DataSets\\TFM\\Pruebas2'.\u001b[0m\n",
      "\u001b[33;1m==== Agent is executing the code below:\u001b[0m\n",
      "\u001b[0m\u001b[38;5;7mdataset\u001b[39m\u001b[38;5;7m \u001b[39m\u001b[38;5;109;01m=\u001b[39;00m\u001b[38;5;7m \u001b[39m\u001b[38;5;144m'\u001b[39m\u001b[38;5;144mWADI\u001b[39m\u001b[38;5;144m'\u001b[39m\n",
      "\u001b[38;5;7minput_dir\u001b[39m\u001b[38;5;7m \u001b[39m\u001b[38;5;109;01m=\u001b[39;00m\u001b[38;5;7m \u001b[39m\u001b[38;5;144mr\u001b[39m\u001b[38;5;144m'\u001b[39m\u001b[38;5;144mC:\u001b[39m\u001b[38;5;144m\\\u001b[39m\u001b[38;5;144mUsers\u001b[39m\u001b[38;5;144m\\\u001b[39m\u001b[38;5;144mzoiyy\u001b[39m\u001b[38;5;144m\\\u001b[39m\u001b[38;5;144mOneDrive\u001b[39m\u001b[38;5;144m\\\u001b[39m\u001b[38;5;144mDocumentos\u001b[39m\u001b[38;5;144m\\\u001b[39m\u001b[38;5;144mDataSets\u001b[39m\u001b[38;5;144m\\\u001b[39m\u001b[38;5;144mTFM\u001b[39m\u001b[38;5;144m\\\u001b[39m\u001b[38;5;144mPruebas\u001b[39m\u001b[38;5;144m'\u001b[39m\n",
      "\u001b[38;5;7moutput_dir\u001b[39m\u001b[38;5;7m \u001b[39m\u001b[38;5;109;01m=\u001b[39;00m\u001b[38;5;7m \u001b[39m\u001b[38;5;144mr\u001b[39m\u001b[38;5;144m'\u001b[39m\u001b[38;5;144mC:\u001b[39m\u001b[38;5;144m\\\u001b[39m\u001b[38;5;144mUsers\u001b[39m\u001b[38;5;144m\\\u001b[39m\u001b[38;5;144mzoiyy\u001b[39m\u001b[38;5;144m\\\u001b[39m\u001b[38;5;144mOneDrive\u001b[39m\u001b[38;5;144m\\\u001b[39m\u001b[38;5;144mDocumentos\u001b[39m\u001b[38;5;144m\\\u001b[39m\u001b[38;5;144mDataSets\u001b[39m\u001b[38;5;144m\\\u001b[39m\u001b[38;5;144mTFM\u001b[39m\u001b[38;5;144m\\\u001b[39m\u001b[38;5;144mPruebas2\u001b[39m\u001b[38;5;144m'\u001b[39m\n",
      "\u001b[38;5;7mpreprocessed_data_path\u001b[39m\u001b[38;5;7m \u001b[39m\u001b[38;5;109;01m=\u001b[39;00m\u001b[38;5;7m \u001b[39m\u001b[38;5;7mAnomalyBERT_Data_Preprocessing\u001b[39m\u001b[38;5;7m(\u001b[39m\u001b[38;5;7mdataset\u001b[39m\u001b[38;5;109;01m=\u001b[39;00m\u001b[38;5;7mdataset\u001b[39m\u001b[38;5;7m,\u001b[39m\u001b[38;5;7m \u001b[39m\u001b[38;5;7minput_dir\u001b[39m\u001b[38;5;109;01m=\u001b[39;00m\u001b[38;5;7minput_dir\u001b[39m\u001b[38;5;7m,\u001b[39m\u001b[38;5;7m \u001b[39m\u001b[38;5;7moutput_dir\u001b[39m\u001b[38;5;109;01m=\u001b[39;00m\u001b[38;5;7moutput_dir\u001b[39m\u001b[38;5;7m)\u001b[39m\n",
      "\u001b[38;5;109mprint\u001b[39m\u001b[38;5;7m(\u001b[39m\u001b[38;5;144m\"\u001b[39m\u001b[38;5;144mPreprocessed data is stored in\u001b[39m\u001b[38;5;144m\"\u001b[39m\u001b[38;5;7m,\u001b[39m\u001b[38;5;7m \u001b[39m\u001b[38;5;7mpreprocessed_data_path\u001b[39m\u001b[38;5;7m)\u001b[39m\u001b[0m\n",
      "\u001b[33;1m====\u001b[0m\n"
     ]
    },
    {
     "data": {
      "text/plain": [
       "'Preprocessed data is stored in C:\\\\Users\\\\zoiyy\\\\OneDrive\\\\Documentos\\\\DataSets\\\\TFM\\\\Pruebas2'"
      ]
     },
     "metadata": {},
     "output_type": "display_data"
    },
    {
     "data": {
      "text/plain": [
       "'===================================================================================================='"
      ]
     },
     "metadata": {},
     "output_type": "display_data"
    },
    {
     "data": {
      "text/plain": [
       "'===================================================================================================='"
      ]
     },
     "metadata": {},
     "output_type": "display_data"
    },
    {
     "data": {
      "text/plain": [
       "'RESULTS FOR TOOL DESCRIPTION 4-INDENT:'"
      ]
     },
     "metadata": {},
     "output_type": "display_data"
    },
    {
     "data": {
      "text/plain": [
       "'----------------------------------------------------------------------------------------------------'"
      ]
     },
     "metadata": {},
     "output_type": "display_data"
    },
    {
     "data": {
      "text/plain": [
       "'Test prompt 1:'"
      ]
     },
     "metadata": {},
     "output_type": "display_data"
    },
    {
     "name": "stderr",
     "output_type": "stream",
     "text": [
      "\u001b[33;1m======== New task ========\u001b[0m\n",
      "\u001b[37;1mPreprocess the WADI dataset in the route 'C:\\Users\\zoiyy\\OneDrive\\Documentos\\DataSets\\TFM\\Pruebas'.\u001b[0m\n",
      "\u001b[33;1m==== Agent is executing the code below:\u001b[0m\n",
      "\u001b[0m\u001b[38;5;7moutput_dir\u001b[39m\u001b[38;5;7m \u001b[39m\u001b[38;5;109;01m=\u001b[39;00m\u001b[38;5;7m \u001b[39m\u001b[38;5;144m'\u001b[39m\u001b[38;5;144mC:\u001b[39m\u001b[38;5;186m\\\\\u001b[39m\u001b[38;5;144mUsers\u001b[39m\u001b[38;5;186m\\\\\u001b[39m\u001b[38;5;144mzoiyy\u001b[39m\u001b[38;5;186m\\\\\u001b[39m\u001b[38;5;144mOneDrive\u001b[39m\u001b[38;5;186m\\\\\u001b[39m\u001b[38;5;144mDocumentos\u001b[39m\u001b[38;5;186m\\\\\u001b[39m\u001b[38;5;144mDataSets\u001b[39m\u001b[38;5;186m\\\\\u001b[39m\u001b[38;5;144mTFM\u001b[39m\u001b[38;5;186m\\\\\u001b[39m\u001b[38;5;144mPruebas\u001b[39m\u001b[38;5;186m\\\\\u001b[39m\u001b[38;5;144mpreprocessed\u001b[39m\u001b[38;5;144m'\u001b[39m\n",
      "\u001b[38;5;7mdate_label\u001b[39m\u001b[38;5;7m \u001b[39m\u001b[38;5;109;01m=\u001b[39;00m\u001b[38;5;7m \u001b[39m\u001b[38;5;144m'\u001b[39m\u001b[38;5;144mNone\u001b[39m\u001b[38;5;144m'\u001b[39m\n",
      "\u001b[38;5;7mdataset_mode\u001b[39m\u001b[38;5;7m \u001b[39m\u001b[38;5;109;01m=\u001b[39;00m\u001b[38;5;7m \u001b[39m\u001b[38;5;144m'\u001b[39m\u001b[38;5;144mtrain\u001b[39m\u001b[38;5;144m'\u001b[39m\n",
      "\u001b[38;5;7mdataset\u001b[39m\u001b[38;5;7m \u001b[39m\u001b[38;5;109;01m=\u001b[39;00m\u001b[38;5;7m \u001b[39m\u001b[38;5;144m'\u001b[39m\u001b[38;5;144mWADI\u001b[39m\u001b[38;5;144m'\u001b[39m\n",
      "\u001b[38;5;7minput_dir\u001b[39m\u001b[38;5;7m \u001b[39m\u001b[38;5;109;01m=\u001b[39;00m\u001b[38;5;7m \u001b[39m\u001b[38;5;144mr\u001b[39m\u001b[38;5;144m'\u001b[39m\u001b[38;5;144mC:\u001b[39m\u001b[38;5;144m\\\u001b[39m\u001b[38;5;144mUsers\u001b[39m\u001b[38;5;144m\\\u001b[39m\u001b[38;5;144mzoiyy\u001b[39m\u001b[38;5;144m\\\u001b[39m\u001b[38;5;144mOneDrive\u001b[39m\u001b[38;5;144m\\\u001b[39m\u001b[38;5;144mDocumentos\u001b[39m\u001b[38;5;144m\\\u001b[39m\u001b[38;5;144mDataSets\u001b[39m\u001b[38;5;144m\\\u001b[39m\u001b[38;5;144mTFM\u001b[39m\u001b[38;5;144m\\\u001b[39m\u001b[38;5;144mPruebas\u001b[39m\u001b[38;5;144m'\u001b[39m\n",
      "\u001b[38;5;7mpreprocessed_data_path\u001b[39m\u001b[38;5;7m \u001b[39m\u001b[38;5;109;01m=\u001b[39;00m\u001b[38;5;7m \u001b[39m\u001b[38;5;7mAnomalyBERT_Data_Preprocessing\u001b[39m\u001b[38;5;7m(\u001b[39m\u001b[38;5;7mdataset\u001b[39m\u001b[38;5;109;01m=\u001b[39;00m\u001b[38;5;7mdataset\u001b[39m\u001b[38;5;7m,\u001b[39m\u001b[38;5;7m \u001b[39m\u001b[38;5;7minput_dir\u001b[39m\u001b[38;5;109;01m=\u001b[39;00m\u001b[38;5;7minput_dir\u001b[39m\u001b[38;5;7m,\u001b[39m\u001b[38;5;7m \u001b[39m\u001b[38;5;7moutput_dir\u001b[39m\u001b[38;5;109;01m=\u001b[39;00m\u001b[38;5;7moutput_dir\u001b[39m\u001b[38;5;7m,\u001b[39m\u001b[38;5;7m \u001b[39m\u001b[38;5;7mdate_label\u001b[39m\u001b[38;5;109;01m=\u001b[39;00m\u001b[38;5;7mdate_label\u001b[39m\u001b[38;5;7m,\u001b[39m\u001b[38;5;7m \u001b[39m\u001b[38;5;7mdataset_mode\u001b[39m\u001b[38;5;109;01m=\u001b[39;00m\u001b[38;5;7mdataset_mode\u001b[39m\u001b[38;5;7m)\u001b[39m\n",
      "\u001b[38;5;109mprint\u001b[39m\u001b[38;5;7m(\u001b[39m\u001b[38;5;7mpreprocessed_data_path\u001b[39m\u001b[38;5;7m)\u001b[39m\u001b[0m\n",
      "\u001b[33;1m====\u001b[0m\n",
      "\u001b[31;20mError in execution: [Errno 2] No such file or directory: 'C:\\\\Users\\\\zoiyy\\\\OneDrive\\\\Documentos\\\\DataSets\\\\TFM\\\\Pruebas\\\\WADI/WADI.None/WADI_14days_new.csv'. Be sure to provide correct code.\u001b[0m\n",
      "Traceback (most recent call last):\n",
      "  File \"C:\\Users\\zoiyy\\AppData\\Roaming\\Python\\Python38\\site-packages\\transformers\\agents\\agents.py\", line 566, in run\n",
      "    output = self.python_evaluator(code_action, available_tools, state=self.state)\n",
      "  File \"C:\\Users\\zoiyy\\AppData\\Roaming\\Python\\Python38\\site-packages\\transformers\\agents\\python_interpreter.py\", line 511, in evaluate_python_code\n",
      "    line_result = evaluate_ast(node, state, tools)\n",
      "  File \"C:\\Users\\zoiyy\\AppData\\Roaming\\Python\\Python38\\site-packages\\transformers\\agents\\python_interpreter.py\", line 360, in evaluate_ast\n",
      "    return evaluate_assign(expression, state, tools)\n",
      "  File \"C:\\Users\\zoiyy\\AppData\\Roaming\\Python\\Python38\\site-packages\\transformers\\agents\\python_interpreter.py\", line 177, in evaluate_assign\n",
      "    result = evaluate_ast(assign.value, state, tools)\n",
      "  File \"C:\\Users\\zoiyy\\AppData\\Roaming\\Python\\Python38\\site-packages\\transformers\\agents\\python_interpreter.py\", line 365, in evaluate_ast\n",
      "    return evaluate_call(expression, state, tools)\n",
      "  File \"C:\\Users\\zoiyy\\AppData\\Roaming\\Python\\Python38\\site-packages\\transformers\\agents\\python_interpreter.py\", line 217, in evaluate_call\n",
      "    output = func(*args, **kwargs)\n",
      "  File \"c:\\Users\\zoiyy\\OneDrive\\Documentos\\Repositorios GIT\\TFM\\Pruebas\\test_batch.py\", line 26, in __call__\n",
      "    preprocessed_dataset_folder\t= adp.preprocess_data( dataset , input_dir , output_dir , json_dir , date_label , dataset_mode )\n",
      "  File \"c:\\Users\\zoiyy\\OneDrive\\Documentos\\Repositorios GIT\\TFM\\Adapted_utils\\Adapted_data_preprocessing.py\", line 247, in preprocess_data\n",
      "    load_data( dataset , data_dir , output_folder , json_folder , date_label , process_type )\n",
      "  File \"c:\\Users\\zoiyy\\OneDrive\\Documentos\\Repositorios GIT\\TFM\\Adapted_utils\\Adapted_data_preprocessing.py\", line 200, in load_data\n",
      "    normal_data\t\t= pd.read_csv( os.path.join( base_dir , 'WADI/WADI.' + date_label + '/WADI_14days_new.csv'\t\t) )\n",
      "  File \"C:\\Users\\zoiyy\\AppData\\Roaming\\Python\\Python38\\site-packages\\pandas\\io\\parsers\\readers.py\", line 912, in read_csv\n",
      "    return _read(filepath_or_buffer, kwds)\n",
      "  File \"C:\\Users\\zoiyy\\AppData\\Roaming\\Python\\Python38\\site-packages\\pandas\\io\\parsers\\readers.py\", line 577, in _read\n",
      "    parser = TextFileReader(filepath_or_buffer, **kwds)\n",
      "  File \"C:\\Users\\zoiyy\\AppData\\Roaming\\Python\\Python38\\site-packages\\pandas\\io\\parsers\\readers.py\", line 1407, in __init__\n",
      "    self._engine = self._make_engine(f, self.engine)\n",
      "  File \"C:\\Users\\zoiyy\\AppData\\Roaming\\Python\\Python38\\site-packages\\pandas\\io\\parsers\\readers.py\", line 1661, in _make_engine\n",
      "    self.handles = get_handle(\n",
      "  File \"C:\\Users\\zoiyy\\AppData\\Roaming\\Python\\Python38\\site-packages\\pandas\\io\\common.py\", line 859, in get_handle\n",
      "    handle = open(\n",
      "FileNotFoundError: [Errno 2] No such file or directory: 'C:\\\\Users\\\\zoiyy\\\\OneDrive\\\\Documentos\\\\DataSets\\\\TFM\\\\Pruebas\\\\WADI/WADI.None/WADI_14days_new.csv'\n"
     ]
    },
    {
     "data": {
      "text/plain": [
       "\"Error in execution: [Errno 2] No such file or directory: 'C:\\\\\\\\Users\\\\\\\\zoiyy\\\\\\\\OneDrive\\\\\\\\Documentos\\\\\\\\DataSets\\\\\\\\TFM\\\\\\\\Pruebas\\\\\\\\WADI/WADI.None/WADI_14days_new.csv'. Be sure to provide correct code.\""
      ]
     },
     "metadata": {},
     "output_type": "display_data"
    },
    {
     "data": {
      "text/plain": [
       "'----------------------------------------------------------------------------------------------------'"
      ]
     },
     "metadata": {},
     "output_type": "display_data"
    },
    {
     "data": {
      "text/plain": [
       "'Test prompt 2:'"
      ]
     },
     "metadata": {},
     "output_type": "display_data"
    },
    {
     "name": "stderr",
     "output_type": "stream",
     "text": [
      "\u001b[33;1m======== New task ========\u001b[0m\n",
      "\u001b[37;1mPreprocess the raw WADI dataset stored in the route 'C:\\Users\\zoiyy\\OneDrive\\Documentos\\DataSets\\TFM\\Pruebas'.\u001b[0m\n",
      "\u001b[33;1m==== Agent is executing the code below:\u001b[0m\n",
      "\u001b[0m\u001b[38;5;7mdataset\u001b[39m\u001b[38;5;7m \u001b[39m\u001b[38;5;109;01m=\u001b[39;00m\u001b[38;5;7m \u001b[39m\u001b[38;5;144m'\u001b[39m\u001b[38;5;144mWADI\u001b[39m\u001b[38;5;144m'\u001b[39m\n",
      "\u001b[38;5;7minput_dir\u001b[39m\u001b[38;5;7m \u001b[39m\u001b[38;5;109;01m=\u001b[39;00m\u001b[38;5;7m \u001b[39m\u001b[38;5;144mr\u001b[39m\u001b[38;5;144m'\u001b[39m\u001b[38;5;144mC:\u001b[39m\u001b[38;5;144m\\\u001b[39m\u001b[38;5;144mUsers\u001b[39m\u001b[38;5;144m\\\u001b[39m\u001b[38;5;144mzoiyy\u001b[39m\u001b[38;5;144m\\\u001b[39m\u001b[38;5;144mOneDrive\u001b[39m\u001b[38;5;144m\\\u001b[39m\u001b[38;5;144mDocumentos\u001b[39m\u001b[38;5;144m\\\u001b[39m\u001b[38;5;144mDataSets\u001b[39m\u001b[38;5;144m\\\u001b[39m\u001b[38;5;144mTFM\u001b[39m\u001b[38;5;144m\\\u001b[39m\u001b[38;5;144mPruebas\u001b[39m\u001b[38;5;144m'\u001b[39m\n",
      "\u001b[38;5;7moutput_dir\u001b[39m\u001b[38;5;7m \u001b[39m\u001b[38;5;109;01m=\u001b[39;00m\u001b[38;5;7m \u001b[39m\u001b[38;5;144mr\u001b[39m\u001b[38;5;144m'\u001b[39m\u001b[38;5;144mC:\u001b[39m\u001b[38;5;144m\\\u001b[39m\u001b[38;5;144mUsers\u001b[39m\u001b[38;5;144m\\\u001b[39m\u001b[38;5;144mzoiyy\u001b[39m\u001b[38;5;144m\\\u001b[39m\u001b[38;5;144mOneDrive\u001b[39m\u001b[38;5;144m\\\u001b[39m\u001b[38;5;144mDocumentos\u001b[39m\u001b[38;5;144m\\\u001b[39m\u001b[38;5;144mDataSets\u001b[39m\u001b[38;5;144m\\\u001b[39m\u001b[38;5;144mTFM\u001b[39m\u001b[38;5;144m\\\u001b[39m\u001b[38;5;144mPruebas\u001b[39m\u001b[38;5;144m\\\u001b[39m\u001b[38;5;144mPreprocessed\u001b[39m\u001b[38;5;144m'\u001b[39m\n",
      "\u001b[38;5;7mjson_dir\u001b[39m\u001b[38;5;7m \u001b[39m\u001b[38;5;109;01m=\u001b[39;00m\u001b[38;5;7m \u001b[39m\u001b[38;5;144mr\u001b[39m\u001b[38;5;144m'\u001b[39m\u001b[38;5;144mC:\u001b[39m\u001b[38;5;144m\\\u001b[39m\u001b[38;5;144mUsers\u001b[39m\u001b[38;5;144m\\\u001b[39m\u001b[38;5;144mzoiyy\u001b[39m\u001b[38;5;144m\\\u001b[39m\u001b[38;5;144mOneDrive\u001b[39m\u001b[38;5;144m\\\u001b[39m\u001b[38;5;144mDocumentos\u001b[39m\u001b[38;5;144m\\\u001b[39m\u001b[38;5;144mDataSets\u001b[39m\u001b[38;5;144m\\\u001b[39m\u001b[38;5;144mTFM\u001b[39m\u001b[38;5;144m\\\u001b[39m\u001b[38;5;144mPruebas\u001b[39m\u001b[38;5;144m\\\u001b[39m\u001b[38;5;144mJson\u001b[39m\u001b[38;5;144m'\u001b[39m\n",
      "\u001b[38;5;7mdate_label\u001b[39m\u001b[38;5;7m \u001b[39m\u001b[38;5;109;01m=\u001b[39;00m\u001b[38;5;7m \u001b[39m\u001b[38;5;109;01mNone\u001b[39;00m\n",
      "\u001b[38;5;7mdataset_mode\u001b[39m\u001b[38;5;7m \u001b[39m\u001b[38;5;109;01m=\u001b[39;00m\u001b[38;5;7m \u001b[39m\u001b[38;5;144m'\u001b[39m\u001b[38;5;144mtrain\u001b[39m\u001b[38;5;144m'\u001b[39m\n",
      "\n",
      "\u001b[38;5;7mpreprocessed_data_path\u001b[39m\u001b[38;5;7m \u001b[39m\u001b[38;5;109;01m=\u001b[39;00m\u001b[38;5;7m \u001b[39m\u001b[38;5;7mAnomalyBERT_Data_Preprocessing\u001b[39m\u001b[38;5;7m(\u001b[39m\u001b[38;5;7mdataset\u001b[39m\u001b[38;5;109;01m=\u001b[39;00m\u001b[38;5;7mdataset\u001b[39m\u001b[38;5;7m,\u001b[39m\u001b[38;5;7m \u001b[39m\u001b[38;5;7minput_dir\u001b[39m\u001b[38;5;109;01m=\u001b[39;00m\u001b[38;5;7minput_dir\u001b[39m\u001b[38;5;7m,\u001b[39m\u001b[38;5;7m \u001b[39m\u001b[38;5;7moutput_dir\u001b[39m\u001b[38;5;109;01m=\u001b[39;00m\u001b[38;5;7moutput_dir\u001b[39m\u001b[38;5;7m,\u001b[39m\u001b[38;5;7m \u001b[39m\u001b[38;5;7mjson_dir\u001b[39m\u001b[38;5;109;01m=\u001b[39;00m\u001b[38;5;7mjson_dir\u001b[39m\u001b[38;5;7m,\u001b[39m\u001b[38;5;7m \u001b[39m\u001b[38;5;7mdate_label\u001b[39m\u001b[38;5;109;01m=\u001b[39;00m\u001b[38;5;7mdate_label\u001b[39m\u001b[38;5;7m,\u001b[39m\u001b[38;5;7m \u001b[39m\u001b[38;5;7mdataset_mode\u001b[39m\u001b[38;5;109;01m=\u001b[39;00m\u001b[38;5;7mdataset_mode\u001b[39m\u001b[38;5;7m)\u001b[39m\n",
      "\u001b[38;5;109mprint\u001b[39m\u001b[38;5;7m(\u001b[39m\u001b[38;5;144mf\u001b[39m\u001b[38;5;144m\"\u001b[39m\u001b[38;5;144mPreprocessed data stored at: \u001b[39m\u001b[38;5;144m{\u001b[39m\u001b[38;5;7mpreprocessed_data_path\u001b[39m\u001b[38;5;144m}\u001b[39m\u001b[38;5;144m\"\u001b[39m\u001b[38;5;7m)\u001b[39m\u001b[0m\n",
      "\u001b[33;1m====\u001b[0m\n"
     ]
    },
    {
     "data": {
      "text/plain": [
       "'Preprocessed data stored at: C:\\\\Users\\\\zoiyy\\\\OneDrive\\\\Documentos\\\\DataSets\\\\TFM\\\\Pruebas\\\\Preprocessed'"
      ]
     },
     "metadata": {},
     "output_type": "display_data"
    },
    {
     "data": {
      "text/plain": [
       "'----------------------------------------------------------------------------------------------------'"
      ]
     },
     "metadata": {},
     "output_type": "display_data"
    },
    {
     "data": {
      "text/plain": [
       "'Test prompt 3:'"
      ]
     },
     "metadata": {},
     "output_type": "display_data"
    },
    {
     "name": "stderr",
     "output_type": "stream",
     "text": [
      "\u001b[33;1m======== New task ========\u001b[0m\n",
      "\u001b[37;1mPreprocess the WADI dataset in the route 'C:\\Users\\zoiyy\\OneDrive\\Documentos\\DataSets\\TFM\\Pruebas' and store it in 'C:\\Users\\zoiyy\\OneDrive\\Documentos\\DataSets\\TFM\\Pruebas2'.\u001b[0m\n",
      "\u001b[33;1m==== Agent is executing the code below:\u001b[0m\n",
      "\u001b[0m\u001b[38;5;7mdataset\u001b[39m\u001b[38;5;7m \u001b[39m\u001b[38;5;109;01m=\u001b[39;00m\u001b[38;5;7m \u001b[39m\u001b[38;5;144m'\u001b[39m\u001b[38;5;144mWADI\u001b[39m\u001b[38;5;144m'\u001b[39m\n",
      "\u001b[38;5;7minput_dir\u001b[39m\u001b[38;5;7m \u001b[39m\u001b[38;5;109;01m=\u001b[39;00m\u001b[38;5;7m \u001b[39m\u001b[38;5;144mr\u001b[39m\u001b[38;5;144m'\u001b[39m\u001b[38;5;144mC:\u001b[39m\u001b[38;5;144m\\\u001b[39m\u001b[38;5;144mUsers\u001b[39m\u001b[38;5;144m\\\u001b[39m\u001b[38;5;144mzoiyy\u001b[39m\u001b[38;5;144m\\\u001b[39m\u001b[38;5;144mOneDrive\u001b[39m\u001b[38;5;144m\\\u001b[39m\u001b[38;5;144mDocumentos\u001b[39m\u001b[38;5;144m\\\u001b[39m\u001b[38;5;144mDataSets\u001b[39m\u001b[38;5;144m\\\u001b[39m\u001b[38;5;144mTFM\u001b[39m\u001b[38;5;144m\\\u001b[39m\u001b[38;5;144mPruebas\u001b[39m\u001b[38;5;144m'\u001b[39m\n",
      "\u001b[38;5;7moutput_dir\u001b[39m\u001b[38;5;7m \u001b[39m\u001b[38;5;109;01m=\u001b[39;00m\u001b[38;5;7m \u001b[39m\u001b[38;5;144mr\u001b[39m\u001b[38;5;144m'\u001b[39m\u001b[38;5;144mC:\u001b[39m\u001b[38;5;144m\\\u001b[39m\u001b[38;5;144mUsers\u001b[39m\u001b[38;5;144m\\\u001b[39m\u001b[38;5;144mzoiyy\u001b[39m\u001b[38;5;144m\\\u001b[39m\u001b[38;5;144mOneDrive\u001b[39m\u001b[38;5;144m\\\u001b[39m\u001b[38;5;144mDocumentos\u001b[39m\u001b[38;5;144m\\\u001b[39m\u001b[38;5;144mDataSets\u001b[39m\u001b[38;5;144m\\\u001b[39m\u001b[38;5;144mTFM\u001b[39m\u001b[38;5;144m\\\u001b[39m\u001b[38;5;144mPruebas2\u001b[39m\u001b[38;5;144m'\u001b[39m\n",
      "\u001b[38;5;7mdate_label\u001b[39m\u001b[38;5;7m \u001b[39m\u001b[38;5;109;01m=\u001b[39;00m\u001b[38;5;7m \u001b[39m\u001b[38;5;144m'\u001b[39m\u001b[38;5;144mdate_label\u001b[39m\u001b[38;5;144m'\u001b[39m\n",
      "\u001b[38;5;7mdataset_mode\u001b[39m\u001b[38;5;7m \u001b[39m\u001b[38;5;109;01m=\u001b[39;00m\u001b[38;5;7m \u001b[39m\u001b[38;5;144m'\u001b[39m\u001b[38;5;144mtest\u001b[39m\u001b[38;5;144m'\u001b[39m\n",
      "\u001b[38;5;7mpreprocessed_data_path\u001b[39m\u001b[38;5;7m \u001b[39m\u001b[38;5;109;01m=\u001b[39;00m\u001b[38;5;7m \u001b[39m\u001b[38;5;7mAnomalyBERT_Data_Preprocessing\u001b[39m\u001b[38;5;7m(\u001b[39m\u001b[38;5;7mdataset\u001b[39m\u001b[38;5;109;01m=\u001b[39;00m\u001b[38;5;7mdataset\u001b[39m\u001b[38;5;7m,\u001b[39m\u001b[38;5;7m \u001b[39m\u001b[38;5;7minput_dir\u001b[39m\u001b[38;5;109;01m=\u001b[39;00m\u001b[38;5;7minput_dir\u001b[39m\u001b[38;5;7m,\u001b[39m\u001b[38;5;7m \u001b[39m\u001b[38;5;7moutput_dir\u001b[39m\u001b[38;5;109;01m=\u001b[39;00m\u001b[38;5;7moutput_dir\u001b[39m\u001b[38;5;7m,\u001b[39m\u001b[38;5;7m \u001b[39m\u001b[38;5;7mdate_label\u001b[39m\u001b[38;5;109;01m=\u001b[39;00m\u001b[38;5;7mdate_label\u001b[39m\u001b[38;5;7m,\u001b[39m\u001b[38;5;7m \u001b[39m\u001b[38;5;7mdataset_mode\u001b[39m\u001b[38;5;109;01m=\u001b[39;00m\u001b[38;5;7mdataset_mode\u001b[39m\u001b[38;5;7m)\u001b[39m\n",
      "\u001b[38;5;109mprint\u001b[39m\u001b[38;5;7m(\u001b[39m\u001b[38;5;144mf\u001b[39m\u001b[38;5;144m\"\u001b[39m\u001b[38;5;144mPreprocessed data stored at \u001b[39m\u001b[38;5;144m{\u001b[39m\u001b[38;5;7mpreprocessed_data_path\u001b[39m\u001b[38;5;144m}\u001b[39m\u001b[38;5;144m\"\u001b[39m\u001b[38;5;7m)\u001b[39m\u001b[0m\n",
      "\u001b[33;1m====\u001b[0m\n",
      "\u001b[31;20mError in execution: [Errno 2] No such file or directory: 'C:\\\\Users\\\\zoiyy\\\\OneDrive\\\\Documentos\\\\DataSets\\\\TFM\\\\Pruebas\\\\WADI/WADI.date_label/WADI_attackdataLABLE.csv'. Be sure to provide correct code.\u001b[0m\n",
      "Traceback (most recent call last):\n",
      "  File \"C:\\Users\\zoiyy\\AppData\\Roaming\\Python\\Python38\\site-packages\\transformers\\agents\\agents.py\", line 566, in run\n",
      "    output = self.python_evaluator(code_action, available_tools, state=self.state)\n",
      "  File \"C:\\Users\\zoiyy\\AppData\\Roaming\\Python\\Python38\\site-packages\\transformers\\agents\\python_interpreter.py\", line 511, in evaluate_python_code\n",
      "    line_result = evaluate_ast(node, state, tools)\n",
      "  File \"C:\\Users\\zoiyy\\AppData\\Roaming\\Python\\Python38\\site-packages\\transformers\\agents\\python_interpreter.py\", line 360, in evaluate_ast\n",
      "    return evaluate_assign(expression, state, tools)\n",
      "  File \"C:\\Users\\zoiyy\\AppData\\Roaming\\Python\\Python38\\site-packages\\transformers\\agents\\python_interpreter.py\", line 177, in evaluate_assign\n",
      "    result = evaluate_ast(assign.value, state, tools)\n",
      "  File \"C:\\Users\\zoiyy\\AppData\\Roaming\\Python\\Python38\\site-packages\\transformers\\agents\\python_interpreter.py\", line 365, in evaluate_ast\n",
      "    return evaluate_call(expression, state, tools)\n",
      "  File \"C:\\Users\\zoiyy\\AppData\\Roaming\\Python\\Python38\\site-packages\\transformers\\agents\\python_interpreter.py\", line 217, in evaluate_call\n",
      "    output = func(*args, **kwargs)\n",
      "  File \"c:\\Users\\zoiyy\\OneDrive\\Documentos\\Repositorios GIT\\TFM\\Pruebas\\test_batch.py\", line 26, in __call__\n",
      "    preprocessed_dataset_folder\t= adp.preprocess_data( dataset , input_dir , output_dir , json_dir , date_label , dataset_mode )\n",
      "  File \"c:\\Users\\zoiyy\\OneDrive\\Documentos\\Repositorios GIT\\TFM\\Adapted_utils\\Adapted_data_preprocessing.py\", line 247, in preprocess_data\n",
      "    load_data( dataset , data_dir , output_folder , json_folder , date_label , process_type )\n",
      "  File \"c:\\Users\\zoiyy\\OneDrive\\Documentos\\Repositorios GIT\\TFM\\Adapted_utils\\Adapted_data_preprocessing.py\", line 206, in load_data\n",
      "    abnormal_data\t= pd.read_csv( os.path.join( base_dir , 'WADI/WADI.' + date_label + '/WADI_attackdataLABLE.csv'\t) , header = 1\t)\n",
      "  File \"C:\\Users\\zoiyy\\AppData\\Roaming\\Python\\Python38\\site-packages\\pandas\\io\\parsers\\readers.py\", line 912, in read_csv\n",
      "    return _read(filepath_or_buffer, kwds)\n",
      "  File \"C:\\Users\\zoiyy\\AppData\\Roaming\\Python\\Python38\\site-packages\\pandas\\io\\parsers\\readers.py\", line 577, in _read\n",
      "    parser = TextFileReader(filepath_or_buffer, **kwds)\n",
      "  File \"C:\\Users\\zoiyy\\AppData\\Roaming\\Python\\Python38\\site-packages\\pandas\\io\\parsers\\readers.py\", line 1407, in __init__\n",
      "    self._engine = self._make_engine(f, self.engine)\n",
      "  File \"C:\\Users\\zoiyy\\AppData\\Roaming\\Python\\Python38\\site-packages\\pandas\\io\\parsers\\readers.py\", line 1661, in _make_engine\n",
      "    self.handles = get_handle(\n",
      "  File \"C:\\Users\\zoiyy\\AppData\\Roaming\\Python\\Python38\\site-packages\\pandas\\io\\common.py\", line 859, in get_handle\n",
      "    handle = open(\n",
      "FileNotFoundError: [Errno 2] No such file or directory: 'C:\\\\Users\\\\zoiyy\\\\OneDrive\\\\Documentos\\\\DataSets\\\\TFM\\\\Pruebas\\\\WADI/WADI.date_label/WADI_attackdataLABLE.csv'\n"
     ]
    },
    {
     "data": {
      "text/plain": [
       "\"Error in execution: [Errno 2] No such file or directory: 'C:\\\\\\\\Users\\\\\\\\zoiyy\\\\\\\\OneDrive\\\\\\\\Documentos\\\\\\\\DataSets\\\\\\\\TFM\\\\\\\\Pruebas\\\\\\\\WADI/WADI.date_label/WADI_attackdataLABLE.csv'. Be sure to provide correct code.\""
      ]
     },
     "metadata": {},
     "output_type": "display_data"
    },
    {
     "data": {
      "text/plain": [
       "'----------------------------------------------------------------------------------------------------'"
      ]
     },
     "metadata": {},
     "output_type": "display_data"
    },
    {
     "data": {
      "text/plain": [
       "'Test prompt 4:'"
      ]
     },
     "metadata": {},
     "output_type": "display_data"
    },
    {
     "name": "stderr",
     "output_type": "stream",
     "text": [
      "\u001b[33;1m======== New task ========\u001b[0m\n",
      "\u001b[37;1mPreprocess the WADI dataset stored in the route 'C:\\Users\\zoiyy\\OneDrive\\Documentos\\DataSets\\TFM\\Pruebas' and save it in 'C:\\Users\\zoiyy\\OneDrive\\Documentos\\DataSets\\TFM\\Pruebas2'.\u001b[0m\n",
      "\u001b[33;1m==== Agent is executing the code below:\u001b[0m\n",
      "\u001b[0m\u001b[38;5;7mdataset\u001b[39m\u001b[38;5;7m \u001b[39m\u001b[38;5;109;01m=\u001b[39;00m\u001b[38;5;7m \u001b[39m\u001b[38;5;144m'\u001b[39m\u001b[38;5;144mWADI\u001b[39m\u001b[38;5;144m'\u001b[39m\n",
      "\u001b[38;5;7minput_dir\u001b[39m\u001b[38;5;7m \u001b[39m\u001b[38;5;109;01m=\u001b[39;00m\u001b[38;5;7m \u001b[39m\u001b[38;5;144mr\u001b[39m\u001b[38;5;144m'\u001b[39m\u001b[38;5;144mC:\u001b[39m\u001b[38;5;144m\\\u001b[39m\u001b[38;5;144mUsers\u001b[39m\u001b[38;5;144m\\\u001b[39m\u001b[38;5;144mzoiyy\u001b[39m\u001b[38;5;144m\\\u001b[39m\u001b[38;5;144mOneDrive\u001b[39m\u001b[38;5;144m\\\u001b[39m\u001b[38;5;144mDocumentos\u001b[39m\u001b[38;5;144m\\\u001b[39m\u001b[38;5;144mDataSets\u001b[39m\u001b[38;5;144m\\\u001b[39m\u001b[38;5;144mTFM\u001b[39m\u001b[38;5;144m\\\u001b[39m\u001b[38;5;144mPruebas\u001b[39m\u001b[38;5;144m'\u001b[39m\n",
      "\u001b[38;5;7moutput_dir\u001b[39m\u001b[38;5;7m \u001b[39m\u001b[38;5;109;01m=\u001b[39;00m\u001b[38;5;7m \u001b[39m\u001b[38;5;144mr\u001b[39m\u001b[38;5;144m'\u001b[39m\u001b[38;5;144mC:\u001b[39m\u001b[38;5;144m\\\u001b[39m\u001b[38;5;144mUsers\u001b[39m\u001b[38;5;144m\\\u001b[39m\u001b[38;5;144mzoiyy\u001b[39m\u001b[38;5;144m\\\u001b[39m\u001b[38;5;144mOneDrive\u001b[39m\u001b[38;5;144m\\\u001b[39m\u001b[38;5;144mDocumentos\u001b[39m\u001b[38;5;144m\\\u001b[39m\u001b[38;5;144mDataSets\u001b[39m\u001b[38;5;144m\\\u001b[39m\u001b[38;5;144mTFM\u001b[39m\u001b[38;5;144m\\\u001b[39m\u001b[38;5;144mPruebas2\u001b[39m\u001b[38;5;144m'\u001b[39m\n",
      "\u001b[38;5;7mdate_label\u001b[39m\u001b[38;5;7m \u001b[39m\u001b[38;5;109;01m=\u001b[39;00m\u001b[38;5;7m \u001b[39m\u001b[38;5;144m'\u001b[39m\u001b[38;5;144m'\u001b[39m\n",
      "\u001b[38;5;7mdataset_mode\u001b[39m\u001b[38;5;7m \u001b[39m\u001b[38;5;109;01m=\u001b[39;00m\u001b[38;5;7m \u001b[39m\u001b[38;5;144m'\u001b[39m\u001b[38;5;144mtrain\u001b[39m\u001b[38;5;144m'\u001b[39m\n",
      "\u001b[38;5;7mprocessed_path\u001b[39m\u001b[38;5;7m \u001b[39m\u001b[38;5;109;01m=\u001b[39;00m\u001b[38;5;7m \u001b[39m\u001b[38;5;7mAnomalyBERT_Data_Preprocessing\u001b[39m\u001b[38;5;7m(\u001b[39m\u001b[38;5;7mdataset\u001b[39m\u001b[38;5;7m,\u001b[39m\u001b[38;5;7m \u001b[39m\u001b[38;5;7minput_dir\u001b[39m\u001b[38;5;7m,\u001b[39m\u001b[38;5;7m \u001b[39m\u001b[38;5;7moutput_dir\u001b[39m\u001b[38;5;7m,\u001b[39m\u001b[38;5;7m \u001b[39m\u001b[38;5;7mdate_label\u001b[39m\u001b[38;5;7m,\u001b[39m\u001b[38;5;7m \u001b[39m\u001b[38;5;7mdataset_mode\u001b[39m\u001b[38;5;7m)\u001b[39m\u001b[0m\n",
      "\u001b[33;1m====\u001b[0m\n",
      "\u001b[31;20mError in execution: [WinError 3] El sistema no puede encontrar la ruta especificada: ''. Be sure to provide correct code.\u001b[0m\n",
      "Traceback (most recent call last):\n",
      "  File \"C:\\Users\\zoiyy\\AppData\\Roaming\\Python\\Python38\\site-packages\\transformers\\agents\\agents.py\", line 566, in run\n",
      "    output = self.python_evaluator(code_action, available_tools, state=self.state)\n",
      "  File \"C:\\Users\\zoiyy\\AppData\\Roaming\\Python\\Python38\\site-packages\\transformers\\agents\\python_interpreter.py\", line 511, in evaluate_python_code\n",
      "    line_result = evaluate_ast(node, state, tools)\n",
      "  File \"C:\\Users\\zoiyy\\AppData\\Roaming\\Python\\Python38\\site-packages\\transformers\\agents\\python_interpreter.py\", line 360, in evaluate_ast\n",
      "    return evaluate_assign(expression, state, tools)\n",
      "  File \"C:\\Users\\zoiyy\\AppData\\Roaming\\Python\\Python38\\site-packages\\transformers\\agents\\python_interpreter.py\", line 177, in evaluate_assign\n",
      "    result = evaluate_ast(assign.value, state, tools)\n",
      "  File \"C:\\Users\\zoiyy\\AppData\\Roaming\\Python\\Python38\\site-packages\\transformers\\agents\\python_interpreter.py\", line 365, in evaluate_ast\n",
      "    return evaluate_call(expression, state, tools)\n",
      "  File \"C:\\Users\\zoiyy\\AppData\\Roaming\\Python\\Python38\\site-packages\\transformers\\agents\\python_interpreter.py\", line 217, in evaluate_call\n",
      "    output = func(*args, **kwargs)\n",
      "  File \"c:\\Users\\zoiyy\\OneDrive\\Documentos\\Repositorios GIT\\TFM\\Pruebas\\test_batch.py\", line 26, in __call__\n",
      "    preprocessed_dataset_folder\t= adp.preprocess_data( dataset , input_dir , output_dir , json_dir , date_label , dataset_mode )\n",
      "  File \"c:\\Users\\zoiyy\\OneDrive\\Documentos\\Repositorios GIT\\TFM\\Adapted_utils\\Adapted_data_preprocessing.py\", line 237, in preprocess_data\n",
      "    os.mkdir( json_folder )\n",
      "FileNotFoundError: [WinError 3] El sistema no puede encontrar la ruta especificada: ''\n"
     ]
    },
    {
     "data": {
      "text/plain": [
       "\"Error in execution: [WinError 3] El sistema no puede encontrar la ruta especificada: ''. Be sure to provide correct code.\""
      ]
     },
     "metadata": {},
     "output_type": "display_data"
    },
    {
     "data": {
      "text/plain": [
       "'----------------------------------------------------------------------------------------------------'"
      ]
     },
     "metadata": {},
     "output_type": "display_data"
    },
    {
     "data": {
      "text/plain": [
       "'Test prompt 5:'"
      ]
     },
     "metadata": {},
     "output_type": "display_data"
    },
    {
     "name": "stderr",
     "output_type": "stream",
     "text": [
      "\u001b[33;1m======== New task ========\u001b[0m\n",
      "\u001b[37;1mPreprocess the WADI dataset stored in the route 'C:\\Users\\zoiyy\\OneDrive\\Documentos\\DataSets\\TFM\\Pruebas' and store it in 'C:\\Users\\zoiyy\\OneDrive\\Documentos\\DataSets\\TFM\\Pruebas2'.\u001b[0m\n",
      "\u001b[33;1m==== Agent is executing the code below:\u001b[0m\n",
      "\u001b[0m\u001b[38;5;7moutput_dir\u001b[39m\u001b[38;5;7m \u001b[39m\u001b[38;5;109;01m=\u001b[39;00m\u001b[38;5;7m \u001b[39m\u001b[38;5;144mr\u001b[39m\u001b[38;5;144m'\u001b[39m\u001b[38;5;144mC:\u001b[39m\u001b[38;5;144m\\\u001b[39m\u001b[38;5;144mUsers\u001b[39m\u001b[38;5;144m\\\u001b[39m\u001b[38;5;144mzoiyy\u001b[39m\u001b[38;5;144m\\\u001b[39m\u001b[38;5;144mOneDrive\u001b[39m\u001b[38;5;144m\\\u001b[39m\u001b[38;5;144mDocumentos\u001b[39m\u001b[38;5;144m\\\u001b[39m\u001b[38;5;144mDataSets\u001b[39m\u001b[38;5;144m\\\u001b[39m\u001b[38;5;144mTFM\u001b[39m\u001b[38;5;144m\\\u001b[39m\u001b[38;5;144mPruebas2\u001b[39m\u001b[38;5;144m'\u001b[39m\n",
      "\u001b[38;5;7minput_dir\u001b[39m\u001b[38;5;7m \u001b[39m\u001b[38;5;109;01m=\u001b[39;00m\u001b[38;5;7m \u001b[39m\u001b[38;5;144mr\u001b[39m\u001b[38;5;144m'\u001b[39m\u001b[38;5;144mC:\u001b[39m\u001b[38;5;144m\\\u001b[39m\u001b[38;5;144mUsers\u001b[39m\u001b[38;5;144m\\\u001b[39m\u001b[38;5;144mzoiyy\u001b[39m\u001b[38;5;144m\\\u001b[39m\u001b[38;5;144mOneDrive\u001b[39m\u001b[38;5;144m\\\u001b[39m\u001b[38;5;144mDocumentos\u001b[39m\u001b[38;5;144m\\\u001b[39m\u001b[38;5;144mDataSets\u001b[39m\u001b[38;5;144m\\\u001b[39m\u001b[38;5;144mTFM\u001b[39m\u001b[38;5;144m\\\u001b[39m\u001b[38;5;144mPruebas\u001b[39m\u001b[38;5;144m'\u001b[39m\n",
      "\u001b[38;5;7mAnomalyBERT_Data_Preprocessing\u001b[39m\u001b[38;5;7m(\u001b[39m\u001b[38;5;7mdataset\u001b[39m\u001b[38;5;109;01m=\u001b[39;00m\u001b[38;5;144m'\u001b[39m\u001b[38;5;144mWADI\u001b[39m\u001b[38;5;144m'\u001b[39m\u001b[38;5;7m,\u001b[39m\u001b[38;5;7m \u001b[39m\u001b[38;5;7minput_dir\u001b[39m\u001b[38;5;109;01m=\u001b[39;00m\u001b[38;5;7minput_dir\u001b[39m\u001b[38;5;7m,\u001b[39m\u001b[38;5;7m \u001b[39m\u001b[38;5;7moutput_dir\u001b[39m\u001b[38;5;109;01m=\u001b[39;00m\u001b[38;5;7moutput_dir\u001b[39m\u001b[38;5;7m,\u001b[39m\u001b[38;5;7m \u001b[39m\u001b[38;5;7mdataset_mode\u001b[39m\u001b[38;5;109;01m=\u001b[39;00m\u001b[38;5;144m'\u001b[39m\u001b[38;5;144mtrain\u001b[39m\u001b[38;5;144m'\u001b[39m\u001b[38;5;7m)\u001b[39m\u001b[0m\n",
      "\u001b[33;1m====\u001b[0m\n"
     ]
    },
    {
     "data": {
      "text/plain": [
       "'C:\\\\Users\\\\zoiyy\\\\OneDrive\\\\Documentos\\\\DataSets\\\\TFM\\\\Pruebas2'"
      ]
     },
     "metadata": {},
     "output_type": "display_data"
    },
    {
     "data": {
      "text/plain": [
       "'----------------------------------------------------------------------------------------------------'"
      ]
     },
     "metadata": {},
     "output_type": "display_data"
    },
    {
     "data": {
      "text/plain": [
       "'Test prompt 6:'"
      ]
     },
     "metadata": {},
     "output_type": "display_data"
    },
    {
     "name": "stderr",
     "output_type": "stream",
     "text": [
      "\u001b[33;1m======== New task ========\u001b[0m\n",
      "\u001b[37;1mPreprocess for testing the WADI dataset in the route 'C:\\Users\\zoiyy\\OneDrive\\Documentos\\DataSets\\TFM\\Pruebas' and store it in 'C:\\Users\\zoiyy\\OneDrive\\Documentos\\DataSets\\TFM\\Pruebas2'.\u001b[0m\n",
      "\u001b[33;1m==== Agent is executing the code below:\u001b[0m\n",
      "\u001b[0m\u001b[38;5;7mAnomalyBERT_Data_Preprocessing\u001b[39m\u001b[38;5;7m(\u001b[39m\u001b[38;5;7mdataset\u001b[39m\u001b[38;5;109;01m=\u001b[39;00m\u001b[38;5;144m'\u001b[39m\u001b[38;5;144mWADI\u001b[39m\u001b[38;5;144m'\u001b[39m\u001b[38;5;7m,\u001b[39m\u001b[38;5;7m \u001b[39m\u001b[38;5;7minput_dir\u001b[39m\u001b[38;5;109;01m=\u001b[39;00m\u001b[38;5;144m'\u001b[39m\u001b[38;5;144mC:\u001b[39m\u001b[38;5;186m\\\\\u001b[39m\u001b[38;5;144mUsers\u001b[39m\u001b[38;5;186m\\\\\u001b[39m\u001b[38;5;144mzoiyy\u001b[39m\u001b[38;5;186m\\\\\u001b[39m\u001b[38;5;144mOneDrive\u001b[39m\u001b[38;5;186m\\\\\u001b[39m\u001b[38;5;144mDocumentos\u001b[39m\u001b[38;5;186m\\\\\u001b[39m\u001b[38;5;144mDataSets\u001b[39m\u001b[38;5;186m\\\\\u001b[39m\u001b[38;5;144mTFM\u001b[39m\u001b[38;5;186m\\\\\u001b[39m\u001b[38;5;144mPruebas\u001b[39m\u001b[38;5;144m'\u001b[39m\u001b[38;5;7m)\u001b[39m\u001b[0m\n",
      "\u001b[33;1m====\u001b[0m\n"
     ]
    },
    {
     "data": {
      "text/plain": [
       "'C:\\\\Users\\\\zoiyy\\\\OneDrive\\\\Documentos\\\\DataSets\\\\TFM\\\\Pruebas\\\\processed'"
      ]
     },
     "metadata": {},
     "output_type": "display_data"
    },
    {
     "data": {
      "text/plain": [
       "'----------------------------------------------------------------------------------------------------'"
      ]
     },
     "metadata": {},
     "output_type": "display_data"
    },
    {
     "data": {
      "text/plain": [
       "'Test prompt 7:'"
      ]
     },
     "metadata": {},
     "output_type": "display_data"
    },
    {
     "name": "stderr",
     "output_type": "stream",
     "text": [
      "\u001b[33;1m======== New task ========\u001b[0m\n",
      "\u001b[37;1mThe WADI dataset in the route 'C:\\Users\\zoiyy\\OneDrive\\Documentos\\DataSets\\TFM\\Pruebas' is meant for testing. Preprocess it and store it in 'C:\\Users\\zoiyy\\OneDrive\\Documentos\\DataSets\\TFM\\Pruebas2'.\u001b[0m\n",
      "\u001b[33;1m==== Agent is executing the code below:\u001b[0m\n",
      "\u001b[0m\u001b[38;5;7mwadi_dataset_dir\u001b[39m\u001b[38;5;7m \u001b[39m\u001b[38;5;109;01m=\u001b[39;00m\u001b[38;5;7m \u001b[39m\u001b[38;5;144mr\u001b[39m\u001b[38;5;144m'\u001b[39m\u001b[38;5;144mC:\u001b[39m\u001b[38;5;144m\\\u001b[39m\u001b[38;5;144mUsers\u001b[39m\u001b[38;5;144m\\\u001b[39m\u001b[38;5;144mzoiyy\u001b[39m\u001b[38;5;144m\\\u001b[39m\u001b[38;5;144mOneDrive\u001b[39m\u001b[38;5;144m\\\u001b[39m\u001b[38;5;144mDocumentos\u001b[39m\u001b[38;5;144m\\\u001b[39m\u001b[38;5;144mDataSets\u001b[39m\u001b[38;5;144m\\\u001b[39m\u001b[38;5;144mTFM\u001b[39m\u001b[38;5;144m\\\u001b[39m\u001b[38;5;144mPruebas\u001b[39m\u001b[38;5;144m'\u001b[39m\n",
      "\u001b[38;5;7moutput_dir\u001b[39m\u001b[38;5;7m \u001b[39m\u001b[38;5;109;01m=\u001b[39;00m\u001b[38;5;7m \u001b[39m\u001b[38;5;144mr\u001b[39m\u001b[38;5;144m'\u001b[39m\u001b[38;5;144mC:\u001b[39m\u001b[38;5;144m\\\u001b[39m\u001b[38;5;144mUsers\u001b[39m\u001b[38;5;144m\\\u001b[39m\u001b[38;5;144mzoiyy\u001b[39m\u001b[38;5;144m\\\u001b[39m\u001b[38;5;144mOneDrive\u001b[39m\u001b[38;5;144m\\\u001b[39m\u001b[38;5;144mDocumentos\u001b[39m\u001b[38;5;144m\\\u001b[39m\u001b[38;5;144mDataSets\u001b[39m\u001b[38;5;144m\\\u001b[39m\u001b[38;5;144mTFM\u001b[39m\u001b[38;5;144m\\\u001b[39m\u001b[38;5;144mPruebas2\u001b[39m\u001b[38;5;144m'\u001b[39m\n",
      "\u001b[38;5;7mdataset_mode\u001b[39m\u001b[38;5;7m \u001b[39m\u001b[38;5;109;01m=\u001b[39;00m\u001b[38;5;7m \u001b[39m\u001b[38;5;144m'\u001b[39m\u001b[38;5;144mtest\u001b[39m\u001b[38;5;144m'\u001b[39m\n",
      "\u001b[38;5;7mAnomalyBERT_Data_Preprocessing\u001b[39m\u001b[38;5;7m(\u001b[39m\u001b[38;5;7mdataset\u001b[39m\u001b[38;5;109;01m=\u001b[39;00m\u001b[38;5;144m'\u001b[39m\u001b[38;5;144mWADI\u001b[39m\u001b[38;5;144m'\u001b[39m\u001b[38;5;7m,\u001b[39m\u001b[38;5;7m \u001b[39m\u001b[38;5;7minput_dir\u001b[39m\u001b[38;5;109;01m=\u001b[39;00m\u001b[38;5;7mwadi_dataset_dir\u001b[39m\u001b[38;5;7m,\u001b[39m\u001b[38;5;7m \u001b[39m\u001b[38;5;7moutput_dir\u001b[39m\u001b[38;5;109;01m=\u001b[39;00m\u001b[38;5;7moutput_dir\u001b[39m\u001b[38;5;7m,\u001b[39m\u001b[38;5;7m \u001b[39m\u001b[38;5;7mdataset_mode\u001b[39m\u001b[38;5;109;01m=\u001b[39;00m\u001b[38;5;7mdataset_mode\u001b[39m\u001b[38;5;7m)\u001b[39m\u001b[0m\n",
      "\u001b[33;1m====\u001b[0m\n"
     ]
    },
    {
     "data": {
      "text/plain": [
       "'C:\\\\Users\\\\zoiyy\\\\OneDrive\\\\Documentos\\\\DataSets\\\\TFM\\\\Pruebas2'"
      ]
     },
     "metadata": {},
     "output_type": "display_data"
    },
    {
     "data": {
      "text/plain": [
       "'===================================================================================================='"
      ]
     },
     "metadata": {},
     "output_type": "display_data"
    },
    {
     "data": {
      "text/plain": [
       "'===================================================================================================='"
      ]
     },
     "metadata": {},
     "output_type": "display_data"
    },
    {
     "data": {
      "text/plain": [
       "'TEST END'"
      ]
     },
     "metadata": {},
     "output_type": "display_data"
    }
   ],
   "source": [
    "test_batch.prompt_tests( agent_list , \"tool description\" , prompt_list )"
   ]
  },
  {
   "cell_type": "code",
   "execution_count": 7,
   "metadata": {},
   "outputs": [
    {
     "data": {
      "text/plain": [
       "'RESULTS FOR TOOL DESCRIPTION 1:'"
      ]
     },
     "metadata": {},
     "output_type": "display_data"
    },
    {
     "data": {
      "text/plain": [
       "'----------------------------------------------------------------------------------------------------'"
      ]
     },
     "metadata": {},
     "output_type": "display_data"
    },
    {
     "data": {
      "text/plain": [
       "'Test prompt 8:'"
      ]
     },
     "metadata": {},
     "output_type": "display_data"
    },
    {
     "name": "stderr",
     "output_type": "stream",
     "text": [
      "\u001b[33;1m======== New task ========\u001b[0m\n",
      "\u001b[37;1mPreprocess the testing WADI dataset in the route 'C:\\Users\\zoiyy\\OneDrive\\Documentos\\DataSets\\TFM\\Pruebas' and store it in 'C:\\Users\\zoiyy\\OneDrive\\Documentos\\DataSets\\TFM\\Pruebas2'.\u001b[0m\n",
      "\u001b[33;1m==== Agent is executing the code below:\u001b[0m\n",
      "\u001b[0m\u001b[38;5;7moutput_dir\u001b[39m\u001b[38;5;7m \u001b[39m\u001b[38;5;109;01m=\u001b[39;00m\u001b[38;5;7m \u001b[39m\u001b[38;5;144mr\u001b[39m\u001b[38;5;144m'\u001b[39m\u001b[38;5;144mC:\u001b[39m\u001b[38;5;144m\\\u001b[39m\u001b[38;5;144mUsers\u001b[39m\u001b[38;5;144m\\\u001b[39m\u001b[38;5;144mzoiyy\u001b[39m\u001b[38;5;144m\\\u001b[39m\u001b[38;5;144mOneDrive\u001b[39m\u001b[38;5;144m\\\u001b[39m\u001b[38;5;144mDocumentos\u001b[39m\u001b[38;5;144m\\\u001b[39m\u001b[38;5;144mDataSets\u001b[39m\u001b[38;5;144m\\\u001b[39m\u001b[38;5;144mTFM\u001b[39m\u001b[38;5;144m\\\u001b[39m\u001b[38;5;144mPruebas2\u001b[39m\u001b[38;5;144m'\u001b[39m\n",
      "\u001b[38;5;7minput_dir\u001b[39m\u001b[38;5;7m \u001b[39m\u001b[38;5;109;01m=\u001b[39;00m\u001b[38;5;7m \u001b[39m\u001b[38;5;144mr\u001b[39m\u001b[38;5;144m'\u001b[39m\u001b[38;5;144mC:\u001b[39m\u001b[38;5;144m\\\u001b[39m\u001b[38;5;144mUsers\u001b[39m\u001b[38;5;144m\\\u001b[39m\u001b[38;5;144mzoiyy\u001b[39m\u001b[38;5;144m\\\u001b[39m\u001b[38;5;144mOneDrive\u001b[39m\u001b[38;5;144m\\\u001b[39m\u001b[38;5;144mDocumentos\u001b[39m\u001b[38;5;144m\\\u001b[39m\u001b[38;5;144mDataSets\u001b[39m\u001b[38;5;144m\\\u001b[39m\u001b[38;5;144mTFM\u001b[39m\u001b[38;5;144m\\\u001b[39m\u001b[38;5;144mPruebas\u001b[39m\u001b[38;5;144m'\u001b[39m\n",
      "\u001b[38;5;7mAnomalyBERT_Data_Preprocessing\u001b[39m\u001b[38;5;7m(\u001b[39m\u001b[38;5;7mdataset\u001b[39m\u001b[38;5;109;01m=\u001b[39;00m\u001b[38;5;144m'\u001b[39m\u001b[38;5;144mWADI\u001b[39m\u001b[38;5;144m'\u001b[39m\u001b[38;5;7m,\u001b[39m\u001b[38;5;7m \u001b[39m\u001b[38;5;7minput_dir\u001b[39m\u001b[38;5;109;01m=\u001b[39;00m\u001b[38;5;7minput_dir\u001b[39m\u001b[38;5;7m,\u001b[39m\u001b[38;5;7m \u001b[39m\u001b[38;5;7moutput_dir\u001b[39m\u001b[38;5;109;01m=\u001b[39;00m\u001b[38;5;7moutput_dir\u001b[39m\u001b[38;5;7m,\u001b[39m\u001b[38;5;7m \u001b[39m\u001b[38;5;7mdataset_mode\u001b[39m\u001b[38;5;109;01m=\u001b[39;00m\u001b[38;5;144m'\u001b[39m\u001b[38;5;144mtest\u001b[39m\u001b[38;5;144m'\u001b[39m\u001b[38;5;7m)\u001b[39m\u001b[0m\n",
      "\u001b[33;1m====\u001b[0m\n"
     ]
    },
    {
     "data": {
      "text/plain": [
       "'C:\\\\Users\\\\zoiyy\\\\OneDrive\\\\Documentos\\\\DataSets\\\\TFM\\\\Pruebas2'"
      ]
     },
     "metadata": {},
     "output_type": "display_data"
    },
    {
     "data": {
      "text/plain": [
       "'----------------------------------------------------------------------------------------------------'"
      ]
     },
     "metadata": {},
     "output_type": "display_data"
    },
    {
     "data": {
      "text/plain": [
       "'Test prompt 9:'"
      ]
     },
     "metadata": {},
     "output_type": "display_data"
    },
    {
     "name": "stderr",
     "output_type": "stream",
     "text": [
      "\u001b[33;1m======== New task ========\u001b[0m\n",
      "\u001b[37;1mPreprocess the testing WADI dataset stored in 'C:\\Users\\zoiyy\\OneDrive\\Documentos\\DataSets\\TFM\\Pruebas' and store it in 'C:\\Users\\zoiyy\\OneDrive\\Documentos\\DataSets\\TFM\\Pruebas2'.\u001b[0m\n",
      "\u001b[33;1m==== Agent is executing the code below:\u001b[0m\n",
      "\u001b[0m\u001b[38;5;7mdataset\u001b[39m\u001b[38;5;7m \u001b[39m\u001b[38;5;109;01m=\u001b[39;00m\u001b[38;5;7m \u001b[39m\u001b[38;5;144m'\u001b[39m\u001b[38;5;144mWADI\u001b[39m\u001b[38;5;144m'\u001b[39m\n",
      "\u001b[38;5;7minput_dir\u001b[39m\u001b[38;5;7m \u001b[39m\u001b[38;5;109;01m=\u001b[39;00m\u001b[38;5;7m \u001b[39m\u001b[38;5;144mr\u001b[39m\u001b[38;5;144m'\u001b[39m\u001b[38;5;144mC:\u001b[39m\u001b[38;5;144m\\\u001b[39m\u001b[38;5;144mUsers\u001b[39m\u001b[38;5;144m\\\u001b[39m\u001b[38;5;144mzoiyy\u001b[39m\u001b[38;5;144m\\\u001b[39m\u001b[38;5;144mOneDrive\u001b[39m\u001b[38;5;144m\\\u001b[39m\u001b[38;5;144mDocumentos\u001b[39m\u001b[38;5;144m\\\u001b[39m\u001b[38;5;144mDataSets\u001b[39m\u001b[38;5;144m\\\u001b[39m\u001b[38;5;144mTFM\u001b[39m\u001b[38;5;144m\\\u001b[39m\u001b[38;5;144mPruebas\u001b[39m\u001b[38;5;144m'\u001b[39m\n",
      "\u001b[38;5;7moutput_dir\u001b[39m\u001b[38;5;7m \u001b[39m\u001b[38;5;109;01m=\u001b[39;00m\u001b[38;5;7m \u001b[39m\u001b[38;5;144mr\u001b[39m\u001b[38;5;144m'\u001b[39m\u001b[38;5;144mC:\u001b[39m\u001b[38;5;144m\\\u001b[39m\u001b[38;5;144mUsers\u001b[39m\u001b[38;5;144m\\\u001b[39m\u001b[38;5;144mzoiyy\u001b[39m\u001b[38;5;144m\\\u001b[39m\u001b[38;5;144mOneDrive\u001b[39m\u001b[38;5;144m\\\u001b[39m\u001b[38;5;144mDocumentos\u001b[39m\u001b[38;5;144m\\\u001b[39m\u001b[38;5;144mDataSets\u001b[39m\u001b[38;5;144m\\\u001b[39m\u001b[38;5;144mTFM\u001b[39m\u001b[38;5;144m\\\u001b[39m\u001b[38;5;144mPruebas2\u001b[39m\u001b[38;5;144m'\u001b[39m\n",
      "\u001b[38;5;7mdate_label\u001b[39m\u001b[38;5;7m \u001b[39m\u001b[38;5;109;01m=\u001b[39;00m\u001b[38;5;7m \u001b[39m\u001b[38;5;144m'\u001b[39m\u001b[38;5;144m'\u001b[39m\n",
      "\u001b[38;5;7mdataset_mode\u001b[39m\u001b[38;5;7m \u001b[39m\u001b[38;5;109;01m=\u001b[39;00m\u001b[38;5;7m \u001b[39m\u001b[38;5;144m'\u001b[39m\u001b[38;5;144mtest\u001b[39m\u001b[38;5;144m'\u001b[39m\n",
      "\n",
      "\u001b[38;5;7mpreprocessed_path\u001b[39m\u001b[38;5;7m \u001b[39m\u001b[38;5;109;01m=\u001b[39;00m\u001b[38;5;7m \u001b[39m\u001b[38;5;7mAnomalyBERT_Data_Preprocessing\u001b[39m\u001b[38;5;7m(\u001b[39m\u001b[38;5;7mdataset\u001b[39m\u001b[38;5;109;01m=\u001b[39;00m\u001b[38;5;7mdataset\u001b[39m\u001b[38;5;7m,\u001b[39m\u001b[38;5;7m \u001b[39m\u001b[38;5;7minput_dir\u001b[39m\u001b[38;5;109;01m=\u001b[39;00m\u001b[38;5;7minput_dir\u001b[39m\u001b[38;5;7m,\u001b[39m\u001b[38;5;7m \u001b[39m\u001b[38;5;7moutput_dir\u001b[39m\u001b[38;5;109;01m=\u001b[39;00m\u001b[38;5;7moutput_dir\u001b[39m\u001b[38;5;7m,\u001b[39m\u001b[38;5;7m \u001b[39m\u001b[38;5;7mjson_dir\u001b[39m\u001b[38;5;109;01m=\u001b[39;00m\u001b[38;5;144m'\u001b[39m\u001b[38;5;144m'\u001b[39m\u001b[38;5;7m,\u001b[39m\u001b[38;5;7m \u001b[39m\u001b[38;5;7mdate_label\u001b[39m\u001b[38;5;109;01m=\u001b[39;00m\u001b[38;5;7mdate_label\u001b[39m\u001b[38;5;7m,\u001b[39m\u001b[38;5;7m \u001b[39m\u001b[38;5;7mdataset_mode\u001b[39m\u001b[38;5;109;01m=\u001b[39;00m\u001b[38;5;7mdataset_mode\u001b[39m\u001b[38;5;7m)\u001b[39m\u001b[0m\n",
      "\u001b[33;1m====\u001b[0m\n",
      "\u001b[31;20mError in execution: [WinError 3] El sistema no puede encontrar la ruta especificada: ''. Be sure to provide correct code.\u001b[0m\n",
      "Traceback (most recent call last):\n",
      "  File \"C:\\Users\\zoiyy\\AppData\\Roaming\\Python\\Python38\\site-packages\\transformers\\agents\\agents.py\", line 566, in run\n",
      "    output = self.python_evaluator(code_action, available_tools, state=self.state)\n",
      "  File \"C:\\Users\\zoiyy\\AppData\\Roaming\\Python\\Python38\\site-packages\\transformers\\agents\\python_interpreter.py\", line 511, in evaluate_python_code\n",
      "    line_result = evaluate_ast(node, state, tools)\n",
      "  File \"C:\\Users\\zoiyy\\AppData\\Roaming\\Python\\Python38\\site-packages\\transformers\\agents\\python_interpreter.py\", line 360, in evaluate_ast\n",
      "    return evaluate_assign(expression, state, tools)\n",
      "  File \"C:\\Users\\zoiyy\\AppData\\Roaming\\Python\\Python38\\site-packages\\transformers\\agents\\python_interpreter.py\", line 177, in evaluate_assign\n",
      "    result = evaluate_ast(assign.value, state, tools)\n",
      "  File \"C:\\Users\\zoiyy\\AppData\\Roaming\\Python\\Python38\\site-packages\\transformers\\agents\\python_interpreter.py\", line 365, in evaluate_ast\n",
      "    return evaluate_call(expression, state, tools)\n",
      "  File \"C:\\Users\\zoiyy\\AppData\\Roaming\\Python\\Python38\\site-packages\\transformers\\agents\\python_interpreter.py\", line 217, in evaluate_call\n",
      "    output = func(*args, **kwargs)\n",
      "  File \"c:\\Users\\zoiyy\\OneDrive\\Documentos\\Repositorios GIT\\TFM\\Pruebas\\test_batch.py\", line 26, in __call__\n",
      "    preprocessed_dataset_folder\t= adp.preprocess_data( dataset , input_dir , output_dir , json_dir , date_label , dataset_mode )\n",
      "  File \"c:\\Users\\zoiyy\\OneDrive\\Documentos\\Repositorios GIT\\TFM\\Adapted_utils\\Adapted_data_preprocessing.py\", line 237, in preprocess_data\n",
      "    os.mkdir( json_folder )\n",
      "FileNotFoundError: [WinError 3] El sistema no puede encontrar la ruta especificada: ''\n"
     ]
    },
    {
     "data": {
      "text/plain": [
       "\"Error in execution: [WinError 3] El sistema no puede encontrar la ruta especificada: ''. Be sure to provide correct code.\""
      ]
     },
     "metadata": {},
     "output_type": "display_data"
    },
    {
     "data": {
      "text/plain": [
       "'----------------------------------------------------------------------------------------------------'"
      ]
     },
     "metadata": {},
     "output_type": "display_data"
    },
    {
     "data": {
      "text/plain": [
       "'Test prompt 10:'"
      ]
     },
     "metadata": {},
     "output_type": "display_data"
    },
    {
     "name": "stderr",
     "output_type": "stream",
     "text": [
      "\u001b[33;1m======== New task ========\u001b[0m\n",
      "\u001b[37;1mPreprocess the testing WADI dataset in the route 'C:\\Users\\zoiyy\\OneDrive\\Documentos\\DataSets\\TFM\\Pruebas' and save it in 'C:\\Users\\zoiyy\\OneDrive\\Documentos\\DataSets\\TFM\\Pruebas2'.\u001b[0m\n",
      "\u001b[33;1m==== Agent is executing the code below:\u001b[0m\n",
      "\u001b[0m\u001b[38;5;7minput_dir\u001b[39m\u001b[38;5;7m \u001b[39m\u001b[38;5;109;01m=\u001b[39;00m\u001b[38;5;7m \u001b[39m\u001b[38;5;144mr\u001b[39m\u001b[38;5;144m'\u001b[39m\u001b[38;5;144mC:\u001b[39m\u001b[38;5;144m\\\u001b[39m\u001b[38;5;144mUsers\u001b[39m\u001b[38;5;144m\\\u001b[39m\u001b[38;5;144mzoiyy\u001b[39m\u001b[38;5;144m\\\u001b[39m\u001b[38;5;144mOneDrive\u001b[39m\u001b[38;5;144m\\\u001b[39m\u001b[38;5;144mDocumentos\u001b[39m\u001b[38;5;144m\\\u001b[39m\u001b[38;5;144mDataSets\u001b[39m\u001b[38;5;144m\\\u001b[39m\u001b[38;5;144mTFM\u001b[39m\u001b[38;5;144m\\\u001b[39m\u001b[38;5;144mPruebas\u001b[39m\u001b[38;5;144m'\u001b[39m\n",
      "\u001b[38;5;7moutput_dir\u001b[39m\u001b[38;5;7m \u001b[39m\u001b[38;5;109;01m=\u001b[39;00m\u001b[38;5;7m \u001b[39m\u001b[38;5;144mr\u001b[39m\u001b[38;5;144m'\u001b[39m\u001b[38;5;144mC:\u001b[39m\u001b[38;5;144m\\\u001b[39m\u001b[38;5;144mUsers\u001b[39m\u001b[38;5;144m\\\u001b[39m\u001b[38;5;144mzoiyy\u001b[39m\u001b[38;5;144m\\\u001b[39m\u001b[38;5;144mOneDrive\u001b[39m\u001b[38;5;144m\\\u001b[39m\u001b[38;5;144mDocumentos\u001b[39m\u001b[38;5;144m\\\u001b[39m\u001b[38;5;144mDataSets\u001b[39m\u001b[38;5;144m\\\u001b[39m\u001b[38;5;144mTFM\u001b[39m\u001b[38;5;144m\\\u001b[39m\u001b[38;5;144mPruebas2\u001b[39m\u001b[38;5;144m'\u001b[39m\n",
      "\u001b[38;5;7mdataset\u001b[39m\u001b[38;5;7m \u001b[39m\u001b[38;5;109;01m=\u001b[39;00m\u001b[38;5;7m \u001b[39m\u001b[38;5;144m'\u001b[39m\u001b[38;5;144mWADI\u001b[39m\u001b[38;5;144m'\u001b[39m\n",
      "\u001b[38;5;7mdataset_mode\u001b[39m\u001b[38;5;7m \u001b[39m\u001b[38;5;109;01m=\u001b[39;00m\u001b[38;5;7m \u001b[39m\u001b[38;5;144m'\u001b[39m\u001b[38;5;144mtest\u001b[39m\u001b[38;5;144m'\u001b[39m\n",
      "\u001b[38;5;7mAnomalyBERT_Data_Preprocessing\u001b[39m\u001b[38;5;7m(\u001b[39m\u001b[38;5;7mdataset\u001b[39m\u001b[38;5;109;01m=\u001b[39;00m\u001b[38;5;7mdataset\u001b[39m\u001b[38;5;7m,\u001b[39m\u001b[38;5;7m \u001b[39m\u001b[38;5;7minput_dir\u001b[39m\u001b[38;5;109;01m=\u001b[39;00m\u001b[38;5;7minput_dir\u001b[39m\u001b[38;5;7m,\u001b[39m\u001b[38;5;7m \u001b[39m\u001b[38;5;7moutput_dir\u001b[39m\u001b[38;5;109;01m=\u001b[39;00m\u001b[38;5;7moutput_dir\u001b[39m\u001b[38;5;7m,\u001b[39m\u001b[38;5;7m \u001b[39m\u001b[38;5;7mdataset_mode\u001b[39m\u001b[38;5;109;01m=\u001b[39;00m\u001b[38;5;7mdataset_mode\u001b[39m\u001b[38;5;7m)\u001b[39m\u001b[0m\n",
      "\u001b[33;1m====\u001b[0m\n"
     ]
    },
    {
     "data": {
      "text/plain": [
       "'C:\\\\Users\\\\zoiyy\\\\OneDrive\\\\Documentos\\\\DataSets\\\\TFM\\\\Pruebas2'"
      ]
     },
     "metadata": {},
     "output_type": "display_data"
    },
    {
     "data": {
      "text/plain": [
       "'----------------------------------------------------------------------------------------------------'"
      ]
     },
     "metadata": {},
     "output_type": "display_data"
    },
    {
     "data": {
      "text/plain": [
       "'Test prompt 11:'"
      ]
     },
     "metadata": {},
     "output_type": "display_data"
    },
    {
     "name": "stderr",
     "output_type": "stream",
     "text": [
      "\u001b[33;1m======== New task ========\u001b[0m\n",
      "\u001b[37;1mPreprocess the testing WADI dataset stored in 'C:\\Users\\zoiyy\\OneDrive\\Documentos\\DataSets\\TFM\\Pruebas' and save it in 'C:\\Users\\zoiyy\\OneDrive\\Documentos\\DataSets\\TFM\\Pruebas2'.\u001b[0m\n",
      "\u001b[33;1m==== Agent is executing the code below:\u001b[0m\n",
      "\u001b[0m\u001b[38;5;7moutput_dir\u001b[39m\u001b[38;5;7m \u001b[39m\u001b[38;5;109;01m=\u001b[39;00m\u001b[38;5;7m \u001b[39m\u001b[38;5;144mr\u001b[39m\u001b[38;5;144m'\u001b[39m\u001b[38;5;144mC:\u001b[39m\u001b[38;5;144m\\\u001b[39m\u001b[38;5;144mUsers\u001b[39m\u001b[38;5;144m\\\u001b[39m\u001b[38;5;144mzoiyy\u001b[39m\u001b[38;5;144m\\\u001b[39m\u001b[38;5;144mOneDrive\u001b[39m\u001b[38;5;144m\\\u001b[39m\u001b[38;5;144mDocumentos\u001b[39m\u001b[38;5;144m\\\u001b[39m\u001b[38;5;144mDataSets\u001b[39m\u001b[38;5;144m\\\u001b[39m\u001b[38;5;144mTFM\u001b[39m\u001b[38;5;144m\\\u001b[39m\u001b[38;5;144mPruebas2\u001b[39m\u001b[38;5;144m'\u001b[39m\n",
      "\u001b[38;5;7minput_dir\u001b[39m\u001b[38;5;7m \u001b[39m\u001b[38;5;109;01m=\u001b[39;00m\u001b[38;5;7m \u001b[39m\u001b[38;5;144mr\u001b[39m\u001b[38;5;144m'\u001b[39m\u001b[38;5;144mC:\u001b[39m\u001b[38;5;144m\\\u001b[39m\u001b[38;5;144mUsers\u001b[39m\u001b[38;5;144m\\\u001b[39m\u001b[38;5;144mzoiyy\u001b[39m\u001b[38;5;144m\\\u001b[39m\u001b[38;5;144mOneDrive\u001b[39m\u001b[38;5;144m\\\u001b[39m\u001b[38;5;144mDocumentos\u001b[39m\u001b[38;5;144m\\\u001b[39m\u001b[38;5;144mDataSets\u001b[39m\u001b[38;5;144m\\\u001b[39m\u001b[38;5;144mTFM\u001b[39m\u001b[38;5;144m\\\u001b[39m\u001b[38;5;144mPruebas\u001b[39m\u001b[38;5;144m'\u001b[39m\n",
      "\u001b[38;5;7mdataset\u001b[39m\u001b[38;5;7m \u001b[39m\u001b[38;5;109;01m=\u001b[39;00m\u001b[38;5;7m \u001b[39m\u001b[38;5;144m'\u001b[39m\u001b[38;5;144mWADI\u001b[39m\u001b[38;5;144m'\u001b[39m\n",
      "\u001b[38;5;7mdataset_mode\u001b[39m\u001b[38;5;7m \u001b[39m\u001b[38;5;109;01m=\u001b[39;00m\u001b[38;5;7m \u001b[39m\u001b[38;5;144m'\u001b[39m\u001b[38;5;144mtest\u001b[39m\u001b[38;5;144m'\u001b[39m\n",
      "\u001b[38;5;7moutput\u001b[39m\u001b[38;5;7m \u001b[39m\u001b[38;5;109;01m=\u001b[39;00m\u001b[38;5;7m \u001b[39m\u001b[38;5;7mAnomalyBERT_Data_Preprocessing\u001b[39m\u001b[38;5;7m(\u001b[39m\u001b[38;5;7mdataset\u001b[39m\u001b[38;5;109;01m=\u001b[39;00m\u001b[38;5;7mdataset\u001b[39m\u001b[38;5;7m,\u001b[39m\u001b[38;5;7m \u001b[39m\u001b[38;5;7minput_dir\u001b[39m\u001b[38;5;109;01m=\u001b[39;00m\u001b[38;5;7minput_dir\u001b[39m\u001b[38;5;7m,\u001b[39m\u001b[38;5;7m \u001b[39m\u001b[38;5;7moutput_dir\u001b[39m\u001b[38;5;109;01m=\u001b[39;00m\u001b[38;5;7moutput_dir\u001b[39m\u001b[38;5;7m,\u001b[39m\u001b[38;5;7m \u001b[39m\u001b[38;5;7mdataset_mode\u001b[39m\u001b[38;5;109;01m=\u001b[39;00m\u001b[38;5;7mdataset_mode\u001b[39m\u001b[38;5;7m)\u001b[39m\u001b[0m\n",
      "\u001b[33;1m====\u001b[0m\n"
     ]
    },
    {
     "data": {
      "text/plain": [
       "'C:\\\\Users\\\\zoiyy\\\\OneDrive\\\\Documentos\\\\DataSets\\\\TFM\\\\Pruebas2'"
      ]
     },
     "metadata": {},
     "output_type": "display_data"
    },
    {
     "data": {
      "text/plain": [
       "'===================================================================================================='"
      ]
     },
     "metadata": {},
     "output_type": "display_data"
    },
    {
     "data": {
      "text/plain": [
       "'===================================================================================================='"
      ]
     },
     "metadata": {},
     "output_type": "display_data"
    },
    {
     "data": {
      "text/plain": [
       "'RESULTS FOR TOOL DESCRIPTION 1-INDENT:'"
      ]
     },
     "metadata": {},
     "output_type": "display_data"
    },
    {
     "data": {
      "text/plain": [
       "'----------------------------------------------------------------------------------------------------'"
      ]
     },
     "metadata": {},
     "output_type": "display_data"
    },
    {
     "data": {
      "text/plain": [
       "'Test prompt 8:'"
      ]
     },
     "metadata": {},
     "output_type": "display_data"
    },
    {
     "name": "stderr",
     "output_type": "stream",
     "text": [
      "\u001b[33;1m======== New task ========\u001b[0m\n",
      "\u001b[37;1mPreprocess the testing WADI dataset in the route 'C:\\Users\\zoiyy\\OneDrive\\Documentos\\DataSets\\TFM\\Pruebas' and store it in 'C:\\Users\\zoiyy\\OneDrive\\Documentos\\DataSets\\TFM\\Pruebas2'.\u001b[0m\n",
      "\u001b[33;1m==== Agent is executing the code below:\u001b[0m\n",
      "\u001b[0m\u001b[38;5;7mpreprocessed_data_path\u001b[39m\u001b[38;5;7m \u001b[39m\u001b[38;5;109;01m=\u001b[39;00m\u001b[38;5;7m \u001b[39m\u001b[38;5;7mAnomalyBERT_Data_Preprocessing\u001b[39m\u001b[38;5;7m(\u001b[39m\u001b[38;5;7mdataset\u001b[39m\u001b[38;5;109;01m=\u001b[39;00m\u001b[38;5;144m'\u001b[39m\u001b[38;5;144mWADI\u001b[39m\u001b[38;5;144m'\u001b[39m\u001b[38;5;7m,\u001b[39m\u001b[38;5;7m \u001b[39m\u001b[38;5;7minput_dir\u001b[39m\u001b[38;5;109;01m=\u001b[39;00m\u001b[38;5;144mr\u001b[39m\u001b[38;5;144m'\u001b[39m\u001b[38;5;144mC:\u001b[39m\u001b[38;5;144m\\\u001b[39m\u001b[38;5;144mUsers\u001b[39m\u001b[38;5;144m\\\u001b[39m\u001b[38;5;144mzoiyy\u001b[39m\u001b[38;5;144m\\\u001b[39m\u001b[38;5;144mOneDrive\u001b[39m\u001b[38;5;144m\\\u001b[39m\u001b[38;5;144mDocumentos\u001b[39m\u001b[38;5;144m\\\u001b[39m\u001b[38;5;144mDataSets\u001b[39m\u001b[38;5;144m\\\u001b[39m\u001b[38;5;144mTFM\u001b[39m\u001b[38;5;144m\\\u001b[39m\u001b[38;5;144mPruebas\u001b[39m\u001b[38;5;144m'\u001b[39m\u001b[38;5;7m,\u001b[39m\u001b[38;5;7m \u001b[39m\u001b[38;5;7moutput_dir\u001b[39m\u001b[38;5;109;01m=\u001b[39;00m\u001b[38;5;144mr\u001b[39m\u001b[38;5;144m'\u001b[39m\u001b[38;5;144mC:\u001b[39m\u001b[38;5;144m\\\u001b[39m\u001b[38;5;144mUsers\u001b[39m\u001b[38;5;144m\\\u001b[39m\u001b[38;5;144mzoiyy\u001b[39m\u001b[38;5;144m\\\u001b[39m\u001b[38;5;144mOneDrive\u001b[39m\u001b[38;5;144m\\\u001b[39m\u001b[38;5;144mDocumentos\u001b[39m\u001b[38;5;144m\\\u001b[39m\u001b[38;5;144mDataSets\u001b[39m\u001b[38;5;144m\\\u001b[39m\u001b[38;5;144mTFM\u001b[39m\u001b[38;5;144m\\\u001b[39m\u001b[38;5;144mPruebas2\u001b[39m\u001b[38;5;144m'\u001b[39m\u001b[38;5;7m)\u001b[39m\u001b[0m\n",
      "\u001b[33;1m====\u001b[0m\n"
     ]
    },
    {
     "data": {
      "text/plain": [
       "'C:\\\\Users\\\\zoiyy\\\\OneDrive\\\\Documentos\\\\DataSets\\\\TFM\\\\Pruebas2'"
      ]
     },
     "metadata": {},
     "output_type": "display_data"
    },
    {
     "data": {
      "text/plain": [
       "'----------------------------------------------------------------------------------------------------'"
      ]
     },
     "metadata": {},
     "output_type": "display_data"
    },
    {
     "data": {
      "text/plain": [
       "'Test prompt 9:'"
      ]
     },
     "metadata": {},
     "output_type": "display_data"
    },
    {
     "name": "stderr",
     "output_type": "stream",
     "text": [
      "\u001b[33;1m======== New task ========\u001b[0m\n",
      "\u001b[37;1mPreprocess the testing WADI dataset stored in 'C:\\Users\\zoiyy\\OneDrive\\Documentos\\DataSets\\TFM\\Pruebas' and store it in 'C:\\Users\\zoiyy\\OneDrive\\Documentos\\DataSets\\TFM\\Pruebas2'.\u001b[0m\n",
      "\u001b[33;1m==== Agent is executing the code below:\u001b[0m\n",
      "\u001b[0m\u001b[38;5;7mdataset\u001b[39m\u001b[38;5;7m \u001b[39m\u001b[38;5;109;01m=\u001b[39;00m\u001b[38;5;7m \u001b[39m\u001b[38;5;144m'\u001b[39m\u001b[38;5;144mWADI\u001b[39m\u001b[38;5;144m'\u001b[39m\n",
      "\u001b[38;5;7minput_dir\u001b[39m\u001b[38;5;7m \u001b[39m\u001b[38;5;109;01m=\u001b[39;00m\u001b[38;5;7m \u001b[39m\u001b[38;5;144mr\u001b[39m\u001b[38;5;144m'\u001b[39m\u001b[38;5;144mC:\u001b[39m\u001b[38;5;144m\\\u001b[39m\u001b[38;5;144mUsers\u001b[39m\u001b[38;5;144m\\\u001b[39m\u001b[38;5;144mzoiyy\u001b[39m\u001b[38;5;144m\\\u001b[39m\u001b[38;5;144mOneDrive\u001b[39m\u001b[38;5;144m\\\u001b[39m\u001b[38;5;144mDocumentos\u001b[39m\u001b[38;5;144m\\\u001b[39m\u001b[38;5;144mDataSets\u001b[39m\u001b[38;5;144m\\\u001b[39m\u001b[38;5;144mTFM\u001b[39m\u001b[38;5;144m\\\u001b[39m\u001b[38;5;144mPruebas\u001b[39m\u001b[38;5;144m'\u001b[39m\n",
      "\u001b[38;5;7moutput_dir\u001b[39m\u001b[38;5;7m \u001b[39m\u001b[38;5;109;01m=\u001b[39;00m\u001b[38;5;7m \u001b[39m\u001b[38;5;144mr\u001b[39m\u001b[38;5;144m'\u001b[39m\u001b[38;5;144mC:\u001b[39m\u001b[38;5;144m\\\u001b[39m\u001b[38;5;144mUsers\u001b[39m\u001b[38;5;144m\\\u001b[39m\u001b[38;5;144mzoiyy\u001b[39m\u001b[38;5;144m\\\u001b[39m\u001b[38;5;144mOneDrive\u001b[39m\u001b[38;5;144m\\\u001b[39m\u001b[38;5;144mDocumentos\u001b[39m\u001b[38;5;144m\\\u001b[39m\u001b[38;5;144mDataSets\u001b[39m\u001b[38;5;144m\\\u001b[39m\u001b[38;5;144mTFM\u001b[39m\u001b[38;5;144m\\\u001b[39m\u001b[38;5;144mPruebas2\u001b[39m\u001b[38;5;144m'\u001b[39m\n",
      "\u001b[38;5;7mdate_label\u001b[39m\u001b[38;5;7m \u001b[39m\u001b[38;5;109;01m=\u001b[39;00m\u001b[38;5;7m \u001b[39m\u001b[38;5;144m'\u001b[39m\u001b[38;5;144mtest\u001b[39m\u001b[38;5;144m'\u001b[39m\n",
      "\u001b[38;5;7mdataset_mode\u001b[39m\u001b[38;5;7m \u001b[39m\u001b[38;5;109;01m=\u001b[39;00m\u001b[38;5;7m \u001b[39m\u001b[38;5;144m'\u001b[39m\u001b[38;5;144mtest\u001b[39m\u001b[38;5;144m'\u001b[39m\n",
      "\u001b[38;5;7mAnomalyBERT_Data_Preprocessing\u001b[39m\u001b[38;5;7m(\u001b[39m\u001b[38;5;7mdataset\u001b[39m\u001b[38;5;109;01m=\u001b[39;00m\u001b[38;5;7mdataset\u001b[39m\u001b[38;5;7m,\u001b[39m\u001b[38;5;7m \u001b[39m\u001b[38;5;7minput_dir\u001b[39m\u001b[38;5;109;01m=\u001b[39;00m\u001b[38;5;7minput_dir\u001b[39m\u001b[38;5;7m,\u001b[39m\u001b[38;5;7m \u001b[39m\u001b[38;5;7moutput_dir\u001b[39m\u001b[38;5;109;01m=\u001b[39;00m\u001b[38;5;7moutput_dir\u001b[39m\u001b[38;5;7m,\u001b[39m\u001b[38;5;7m \u001b[39m\u001b[38;5;7mdate_label\u001b[39m\u001b[38;5;109;01m=\u001b[39;00m\u001b[38;5;7mdate_label\u001b[39m\u001b[38;5;7m,\u001b[39m\u001b[38;5;7m \u001b[39m\u001b[38;5;7mdataset_mode\u001b[39m\u001b[38;5;109;01m=\u001b[39;00m\u001b[38;5;7mdataset_mode\u001b[39m\u001b[38;5;7m)\u001b[39m\u001b[0m\n",
      "\u001b[33;1m====\u001b[0m\n",
      "\u001b[31;20mError in execution: [Errno 2] No such file or directory: 'C:\\\\Users\\\\zoiyy\\\\OneDrive\\\\Documentos\\\\DataSets\\\\TFM\\\\Pruebas\\\\WADI/WADI.test/WADI_attackdataLABLE.csv'. Be sure to provide correct code.\u001b[0m\n",
      "Traceback (most recent call last):\n",
      "  File \"C:\\Users\\zoiyy\\AppData\\Roaming\\Python\\Python38\\site-packages\\transformers\\agents\\agents.py\", line 566, in run\n",
      "    output = self.python_evaluator(code_action, available_tools, state=self.state)\n",
      "  File \"C:\\Users\\zoiyy\\AppData\\Roaming\\Python\\Python38\\site-packages\\transformers\\agents\\python_interpreter.py\", line 511, in evaluate_python_code\n",
      "    line_result = evaluate_ast(node, state, tools)\n",
      "  File \"C:\\Users\\zoiyy\\AppData\\Roaming\\Python\\Python38\\site-packages\\transformers\\agents\\python_interpreter.py\", line 401, in evaluate_ast\n",
      "    return evaluate_ast(expression.value, state, tools)\n",
      "  File \"C:\\Users\\zoiyy\\AppData\\Roaming\\Python\\Python38\\site-packages\\transformers\\agents\\python_interpreter.py\", line 365, in evaluate_ast\n",
      "    return evaluate_call(expression, state, tools)\n",
      "  File \"C:\\Users\\zoiyy\\AppData\\Roaming\\Python\\Python38\\site-packages\\transformers\\agents\\python_interpreter.py\", line 217, in evaluate_call\n",
      "    output = func(*args, **kwargs)\n",
      "  File \"c:\\Users\\zoiyy\\OneDrive\\Documentos\\Repositorios GIT\\TFM\\Pruebas\\test_batch.py\", line 26, in __call__\n",
      "    preprocessed_dataset_folder\t= adp.preprocess_data( dataset , input_dir , output_dir , json_dir , date_label , dataset_mode )\n",
      "  File \"c:\\Users\\zoiyy\\OneDrive\\Documentos\\Repositorios GIT\\TFM\\Adapted_utils\\Adapted_data_preprocessing.py\", line 247, in preprocess_data\n",
      "    load_data( dataset , data_dir , output_folder , json_folder , date_label , process_type )\n",
      "  File \"c:\\Users\\zoiyy\\OneDrive\\Documentos\\Repositorios GIT\\TFM\\Adapted_utils\\Adapted_data_preprocessing.py\", line 206, in load_data\n",
      "    abnormal_data\t= pd.read_csv( os.path.join( base_dir , 'WADI/WADI.' + date_label + '/WADI_attackdataLABLE.csv'\t) , header = 1\t)\n",
      "  File \"C:\\Users\\zoiyy\\AppData\\Roaming\\Python\\Python38\\site-packages\\pandas\\io\\parsers\\readers.py\", line 912, in read_csv\n",
      "    return _read(filepath_or_buffer, kwds)\n",
      "  File \"C:\\Users\\zoiyy\\AppData\\Roaming\\Python\\Python38\\site-packages\\pandas\\io\\parsers\\readers.py\", line 577, in _read\n",
      "    parser = TextFileReader(filepath_or_buffer, **kwds)\n",
      "  File \"C:\\Users\\zoiyy\\AppData\\Roaming\\Python\\Python38\\site-packages\\pandas\\io\\parsers\\readers.py\", line 1407, in __init__\n",
      "    self._engine = self._make_engine(f, self.engine)\n",
      "  File \"C:\\Users\\zoiyy\\AppData\\Roaming\\Python\\Python38\\site-packages\\pandas\\io\\parsers\\readers.py\", line 1661, in _make_engine\n",
      "    self.handles = get_handle(\n",
      "  File \"C:\\Users\\zoiyy\\AppData\\Roaming\\Python\\Python38\\site-packages\\pandas\\io\\common.py\", line 859, in get_handle\n",
      "    handle = open(\n",
      "FileNotFoundError: [Errno 2] No such file or directory: 'C:\\\\Users\\\\zoiyy\\\\OneDrive\\\\Documentos\\\\DataSets\\\\TFM\\\\Pruebas\\\\WADI/WADI.test/WADI_attackdataLABLE.csv'\n"
     ]
    },
    {
     "data": {
      "text/plain": [
       "\"Error in execution: [Errno 2] No such file or directory: 'C:\\\\\\\\Users\\\\\\\\zoiyy\\\\\\\\OneDrive\\\\\\\\Documentos\\\\\\\\DataSets\\\\\\\\TFM\\\\\\\\Pruebas\\\\\\\\WADI/WADI.test/WADI_attackdataLABLE.csv'. Be sure to provide correct code.\""
      ]
     },
     "metadata": {},
     "output_type": "display_data"
    },
    {
     "data": {
      "text/plain": [
       "'----------------------------------------------------------------------------------------------------'"
      ]
     },
     "metadata": {},
     "output_type": "display_data"
    },
    {
     "data": {
      "text/plain": [
       "'Test prompt 10:'"
      ]
     },
     "metadata": {},
     "output_type": "display_data"
    },
    {
     "name": "stderr",
     "output_type": "stream",
     "text": [
      "\u001b[33;1m======== New task ========\u001b[0m\n",
      "\u001b[37;1mPreprocess the testing WADI dataset in the route 'C:\\Users\\zoiyy\\OneDrive\\Documentos\\DataSets\\TFM\\Pruebas' and save it in 'C:\\Users\\zoiyy\\OneDrive\\Documentos\\DataSets\\TFM\\Pruebas2'.\u001b[0m\n",
      "\u001b[33;1m==== Agent is executing the code below:\u001b[0m\n",
      "\u001b[0m\u001b[38;5;7mdataset\u001b[39m\u001b[38;5;7m \u001b[39m\u001b[38;5;109;01m=\u001b[39;00m\u001b[38;5;7m \u001b[39m\u001b[38;5;144m'\u001b[39m\u001b[38;5;144mWADI\u001b[39m\u001b[38;5;144m'\u001b[39m\n",
      "\u001b[38;5;7minput_dir\u001b[39m\u001b[38;5;7m \u001b[39m\u001b[38;5;109;01m=\u001b[39;00m\u001b[38;5;7m \u001b[39m\u001b[38;5;144mr\u001b[39m\u001b[38;5;144m'\u001b[39m\u001b[38;5;144mC:\u001b[39m\u001b[38;5;144m\\\u001b[39m\u001b[38;5;144mUsers\u001b[39m\u001b[38;5;144m\\\u001b[39m\u001b[38;5;144mzoiyy\u001b[39m\u001b[38;5;144m\\\u001b[39m\u001b[38;5;144mOneDrive\u001b[39m\u001b[38;5;144m\\\u001b[39m\u001b[38;5;144mDocumentos\u001b[39m\u001b[38;5;144m\\\u001b[39m\u001b[38;5;144mDataSets\u001b[39m\u001b[38;5;144m\\\u001b[39m\u001b[38;5;144mTFM\u001b[39m\u001b[38;5;144m\\\u001b[39m\u001b[38;5;144mPruebas\u001b[39m\u001b[38;5;144m'\u001b[39m\n",
      "\u001b[38;5;7moutput_dir\u001b[39m\u001b[38;5;7m \u001b[39m\u001b[38;5;109;01m=\u001b[39;00m\u001b[38;5;7m \u001b[39m\u001b[38;5;144mr\u001b[39m\u001b[38;5;144m'\u001b[39m\u001b[38;5;144mC:\u001b[39m\u001b[38;5;144m\\\u001b[39m\u001b[38;5;144mUsers\u001b[39m\u001b[38;5;144m\\\u001b[39m\u001b[38;5;144mzoiyy\u001b[39m\u001b[38;5;144m\\\u001b[39m\u001b[38;5;144mOneDrive\u001b[39m\u001b[38;5;144m\\\u001b[39m\u001b[38;5;144mDocumentos\u001b[39m\u001b[38;5;144m\\\u001b[39m\u001b[38;5;144mDataSets\u001b[39m\u001b[38;5;144m\\\u001b[39m\u001b[38;5;144mTFM\u001b[39m\u001b[38;5;144m\\\u001b[39m\u001b[38;5;144mPruebas2\u001b[39m\u001b[38;5;144m'\u001b[39m\n",
      "\u001b[38;5;7mdate_label\u001b[39m\u001b[38;5;7m \u001b[39m\u001b[38;5;109;01m=\u001b[39;00m\u001b[38;5;7m \u001b[39m\u001b[38;5;144m'\u001b[39m\u001b[38;5;144m'\u001b[39m\n",
      "\u001b[38;5;7mdataset_mode\u001b[39m\u001b[38;5;7m \u001b[39m\u001b[38;5;109;01m=\u001b[39;00m\u001b[38;5;7m \u001b[39m\u001b[38;5;144m'\u001b[39m\u001b[38;5;144mtest\u001b[39m\u001b[38;5;144m'\u001b[39m\n",
      "\u001b[38;5;7mpreprocessed_dir\u001b[39m\u001b[38;5;7m \u001b[39m\u001b[38;5;109;01m=\u001b[39;00m\u001b[38;5;7m \u001b[39m\u001b[38;5;7mAnomalyBERT_Data_Preprocessing\u001b[39m\u001b[38;5;7m(\u001b[39m\n",
      "\u001b[38;5;7m    \u001b[39m\u001b[38;5;7mdataset\u001b[39m\u001b[38;5;109;01m=\u001b[39;00m\u001b[38;5;7mdataset\u001b[39m\u001b[38;5;7m,\u001b[39m\u001b[38;5;7m \u001b[39m\n",
      "\u001b[38;5;7m    \u001b[39m\u001b[38;5;7minput_dir\u001b[39m\u001b[38;5;109;01m=\u001b[39;00m\u001b[38;5;7minput_dir\u001b[39m\u001b[38;5;7m,\u001b[39m\u001b[38;5;7m \u001b[39m\n",
      "\u001b[38;5;7m    \u001b[39m\u001b[38;5;7moutput_dir\u001b[39m\u001b[38;5;109;01m=\u001b[39;00m\u001b[38;5;7moutput_dir\u001b[39m\u001b[38;5;7m,\u001b[39m\u001b[38;5;7m \u001b[39m\n",
      "\u001b[38;5;7m    \u001b[39m\u001b[38;5;7mjson_dir\u001b[39m\u001b[38;5;109;01m=\u001b[39;00m\u001b[38;5;144m'\u001b[39m\u001b[38;5;144m'\u001b[39m\u001b[38;5;7m,\u001b[39m\u001b[38;5;7m \u001b[39m\n",
      "\u001b[38;5;7m    \u001b[39m\u001b[38;5;7mdate_label\u001b[39m\u001b[38;5;109;01m=\u001b[39;00m\u001b[38;5;7mdate_label\u001b[39m\u001b[38;5;7m,\u001b[39m\u001b[38;5;7m \u001b[39m\n",
      "\u001b[38;5;7m    \u001b[39m\u001b[38;5;7mdataset_mode\u001b[39m\u001b[38;5;109;01m=\u001b[39;00m\u001b[38;5;7mdataset_mode\u001b[39m\n",
      "\u001b[38;5;7m)\u001b[39m\u001b[0m\n",
      "\u001b[33;1m====\u001b[0m\n",
      "\u001b[31;20mError in execution: [WinError 3] El sistema no puede encontrar la ruta especificada: ''. Be sure to provide correct code.\u001b[0m\n",
      "Traceback (most recent call last):\n",
      "  File \"C:\\Users\\zoiyy\\AppData\\Roaming\\Python\\Python38\\site-packages\\transformers\\agents\\agents.py\", line 566, in run\n",
      "    output = self.python_evaluator(code_action, available_tools, state=self.state)\n",
      "  File \"C:\\Users\\zoiyy\\AppData\\Roaming\\Python\\Python38\\site-packages\\transformers\\agents\\python_interpreter.py\", line 511, in evaluate_python_code\n",
      "    line_result = evaluate_ast(node, state, tools)\n",
      "  File \"C:\\Users\\zoiyy\\AppData\\Roaming\\Python\\Python38\\site-packages\\transformers\\agents\\python_interpreter.py\", line 360, in evaluate_ast\n",
      "    return evaluate_assign(expression, state, tools)\n",
      "  File \"C:\\Users\\zoiyy\\AppData\\Roaming\\Python\\Python38\\site-packages\\transformers\\agents\\python_interpreter.py\", line 177, in evaluate_assign\n",
      "    result = evaluate_ast(assign.value, state, tools)\n",
      "  File \"C:\\Users\\zoiyy\\AppData\\Roaming\\Python\\Python38\\site-packages\\transformers\\agents\\python_interpreter.py\", line 365, in evaluate_ast\n",
      "    return evaluate_call(expression, state, tools)\n",
      "  File \"C:\\Users\\zoiyy\\AppData\\Roaming\\Python\\Python38\\site-packages\\transformers\\agents\\python_interpreter.py\", line 217, in evaluate_call\n",
      "    output = func(*args, **kwargs)\n",
      "  File \"c:\\Users\\zoiyy\\OneDrive\\Documentos\\Repositorios GIT\\TFM\\Pruebas\\test_batch.py\", line 26, in __call__\n",
      "    preprocessed_dataset_folder\t= adp.preprocess_data( dataset , input_dir , output_dir , json_dir , date_label , dataset_mode )\n",
      "  File \"c:\\Users\\zoiyy\\OneDrive\\Documentos\\Repositorios GIT\\TFM\\Adapted_utils\\Adapted_data_preprocessing.py\", line 237, in preprocess_data\n",
      "    os.mkdir( json_folder )\n",
      "FileNotFoundError: [WinError 3] El sistema no puede encontrar la ruta especificada: ''\n"
     ]
    },
    {
     "data": {
      "text/plain": [
       "\"Error in execution: [WinError 3] El sistema no puede encontrar la ruta especificada: ''. Be sure to provide correct code.\""
      ]
     },
     "metadata": {},
     "output_type": "display_data"
    },
    {
     "data": {
      "text/plain": [
       "'----------------------------------------------------------------------------------------------------'"
      ]
     },
     "metadata": {},
     "output_type": "display_data"
    },
    {
     "data": {
      "text/plain": [
       "'Test prompt 11:'"
      ]
     },
     "metadata": {},
     "output_type": "display_data"
    },
    {
     "name": "stderr",
     "output_type": "stream",
     "text": [
      "\u001b[33;1m======== New task ========\u001b[0m\n",
      "\u001b[37;1mPreprocess the testing WADI dataset stored in 'C:\\Users\\zoiyy\\OneDrive\\Documentos\\DataSets\\TFM\\Pruebas' and save it in 'C:\\Users\\zoiyy\\OneDrive\\Documentos\\DataSets\\TFM\\Pruebas2'.\u001b[0m\n",
      "\u001b[33;1m==== Agent is executing the code below:\u001b[0m\n",
      "\u001b[0m\u001b[38;5;7mpath_input\u001b[39m\u001b[38;5;7m \u001b[39m\u001b[38;5;109;01m=\u001b[39;00m\u001b[38;5;7m \u001b[39m\u001b[38;5;144mr\u001b[39m\u001b[38;5;144m'\u001b[39m\u001b[38;5;144mC:\u001b[39m\u001b[38;5;144m\\\u001b[39m\u001b[38;5;144mUsers\u001b[39m\u001b[38;5;144m\\\u001b[39m\u001b[38;5;144mzoiyy\u001b[39m\u001b[38;5;144m\\\u001b[39m\u001b[38;5;144mOneDrive\u001b[39m\u001b[38;5;144m\\\u001b[39m\u001b[38;5;144mDocumentos\u001b[39m\u001b[38;5;144m\\\u001b[39m\u001b[38;5;144mDataSets\u001b[39m\u001b[38;5;144m\\\u001b[39m\u001b[38;5;144mTFM\u001b[39m\u001b[38;5;144m\\\u001b[39m\u001b[38;5;144mPruebas\u001b[39m\u001b[38;5;144m'\u001b[39m\n",
      "\u001b[38;5;7mpath_output\u001b[39m\u001b[38;5;7m \u001b[39m\u001b[38;5;109;01m=\u001b[39;00m\u001b[38;5;7m \u001b[39m\u001b[38;5;144mr\u001b[39m\u001b[38;5;144m'\u001b[39m\u001b[38;5;144mC:\u001b[39m\u001b[38;5;144m\\\u001b[39m\u001b[38;5;144mUsers\u001b[39m\u001b[38;5;144m\\\u001b[39m\u001b[38;5;144mzoiyy\u001b[39m\u001b[38;5;144m\\\u001b[39m\u001b[38;5;144mOneDrive\u001b[39m\u001b[38;5;144m\\\u001b[39m\u001b[38;5;144mDocumentos\u001b[39m\u001b[38;5;144m\\\u001b[39m\u001b[38;5;144mDataSets\u001b[39m\u001b[38;5;144m\\\u001b[39m\u001b[38;5;144mTFM\u001b[39m\u001b[38;5;144m\\\u001b[39m\u001b[38;5;144mPruebas2\u001b[39m\u001b[38;5;144m'\u001b[39m\n",
      "\u001b[38;5;7mAnomalyBERT_Data_Preprocessing\u001b[39m\u001b[38;5;7m(\u001b[39m\u001b[38;5;7mdataset\u001b[39m\u001b[38;5;109;01m=\u001b[39;00m\u001b[38;5;144m'\u001b[39m\u001b[38;5;144mWADI\u001b[39m\u001b[38;5;144m'\u001b[39m\u001b[38;5;7m,\u001b[39m\u001b[38;5;7m \u001b[39m\u001b[38;5;7minput_dir\u001b[39m\u001b[38;5;109;01m=\u001b[39;00m\u001b[38;5;7mpath_input\u001b[39m\u001b[38;5;7m,\u001b[39m\u001b[38;5;7m \u001b[39m\u001b[38;5;7moutput_dir\u001b[39m\u001b[38;5;109;01m=\u001b[39;00m\u001b[38;5;7mpath_output\u001b[39m\u001b[38;5;7m,\u001b[39m\u001b[38;5;7m \u001b[39m\u001b[38;5;7mdate_label\u001b[39m\u001b[38;5;109;01m=\u001b[39;00m\u001b[38;5;144m'\u001b[39m\u001b[38;5;144m'\u001b[39m\u001b[38;5;7m,\u001b[39m\u001b[38;5;7m \u001b[39m\u001b[38;5;7mdataset_mode\u001b[39m\u001b[38;5;109;01m=\u001b[39;00m\u001b[38;5;144m'\u001b[39m\u001b[38;5;144mtest\u001b[39m\u001b[38;5;144m'\u001b[39m\u001b[38;5;7m)\u001b[39m\u001b[0m\n",
      "\u001b[33;1m====\u001b[0m\n",
      "\u001b[31;20mError in execution: [Errno 2] No such file or directory: 'C:\\\\Users\\\\zoiyy\\\\OneDrive\\\\Documentos\\\\DataSets\\\\TFM\\\\Pruebas\\\\WADI/WADI./WADI_attackdataLABLE.csv'. Be sure to provide correct code.\u001b[0m\n",
      "Traceback (most recent call last):\n",
      "  File \"C:\\Users\\zoiyy\\AppData\\Roaming\\Python\\Python38\\site-packages\\transformers\\agents\\agents.py\", line 566, in run\n",
      "    output = self.python_evaluator(code_action, available_tools, state=self.state)\n",
      "  File \"C:\\Users\\zoiyy\\AppData\\Roaming\\Python\\Python38\\site-packages\\transformers\\agents\\python_interpreter.py\", line 511, in evaluate_python_code\n",
      "    line_result = evaluate_ast(node, state, tools)\n",
      "  File \"C:\\Users\\zoiyy\\AppData\\Roaming\\Python\\Python38\\site-packages\\transformers\\agents\\python_interpreter.py\", line 401, in evaluate_ast\n",
      "    return evaluate_ast(expression.value, state, tools)\n",
      "  File \"C:\\Users\\zoiyy\\AppData\\Roaming\\Python\\Python38\\site-packages\\transformers\\agents\\python_interpreter.py\", line 365, in evaluate_ast\n",
      "    return evaluate_call(expression, state, tools)\n",
      "  File \"C:\\Users\\zoiyy\\AppData\\Roaming\\Python\\Python38\\site-packages\\transformers\\agents\\python_interpreter.py\", line 217, in evaluate_call\n",
      "    output = func(*args, **kwargs)\n",
      "  File \"c:\\Users\\zoiyy\\OneDrive\\Documentos\\Repositorios GIT\\TFM\\Pruebas\\test_batch.py\", line 26, in __call__\n",
      "    preprocessed_dataset_folder\t= adp.preprocess_data( dataset , input_dir , output_dir , json_dir , date_label , dataset_mode )\n",
      "  File \"c:\\Users\\zoiyy\\OneDrive\\Documentos\\Repositorios GIT\\TFM\\Adapted_utils\\Adapted_data_preprocessing.py\", line 247, in preprocess_data\n",
      "    load_data( dataset , data_dir , output_folder , json_folder , date_label , process_type )\n",
      "  File \"c:\\Users\\zoiyy\\OneDrive\\Documentos\\Repositorios GIT\\TFM\\Adapted_utils\\Adapted_data_preprocessing.py\", line 206, in load_data\n",
      "    abnormal_data\t= pd.read_csv( os.path.join( base_dir , 'WADI/WADI.' + date_label + '/WADI_attackdataLABLE.csv'\t) , header = 1\t)\n",
      "  File \"C:\\Users\\zoiyy\\AppData\\Roaming\\Python\\Python38\\site-packages\\pandas\\io\\parsers\\readers.py\", line 912, in read_csv\n",
      "    return _read(filepath_or_buffer, kwds)\n",
      "  File \"C:\\Users\\zoiyy\\AppData\\Roaming\\Python\\Python38\\site-packages\\pandas\\io\\parsers\\readers.py\", line 577, in _read\n",
      "    parser = TextFileReader(filepath_or_buffer, **kwds)\n",
      "  File \"C:\\Users\\zoiyy\\AppData\\Roaming\\Python\\Python38\\site-packages\\pandas\\io\\parsers\\readers.py\", line 1407, in __init__\n",
      "    self._engine = self._make_engine(f, self.engine)\n",
      "  File \"C:\\Users\\zoiyy\\AppData\\Roaming\\Python\\Python38\\site-packages\\pandas\\io\\parsers\\readers.py\", line 1661, in _make_engine\n",
      "    self.handles = get_handle(\n",
      "  File \"C:\\Users\\zoiyy\\AppData\\Roaming\\Python\\Python38\\site-packages\\pandas\\io\\common.py\", line 859, in get_handle\n",
      "    handle = open(\n",
      "FileNotFoundError: [Errno 2] No such file or directory: 'C:\\\\Users\\\\zoiyy\\\\OneDrive\\\\Documentos\\\\DataSets\\\\TFM\\\\Pruebas\\\\WADI/WADI./WADI_attackdataLABLE.csv'\n"
     ]
    },
    {
     "data": {
      "text/plain": [
       "\"Error in execution: [Errno 2] No such file or directory: 'C:\\\\\\\\Users\\\\\\\\zoiyy\\\\\\\\OneDrive\\\\\\\\Documentos\\\\\\\\DataSets\\\\\\\\TFM\\\\\\\\Pruebas\\\\\\\\WADI/WADI./WADI_attackdataLABLE.csv'. Be sure to provide correct code.\""
      ]
     },
     "metadata": {},
     "output_type": "display_data"
    },
    {
     "data": {
      "text/plain": [
       "'===================================================================================================='"
      ]
     },
     "metadata": {},
     "output_type": "display_data"
    },
    {
     "data": {
      "text/plain": [
       "'===================================================================================================='"
      ]
     },
     "metadata": {},
     "output_type": "display_data"
    },
    {
     "data": {
      "text/plain": [
       "'RESULTS FOR TOOL DESCRIPTION 2:'"
      ]
     },
     "metadata": {},
     "output_type": "display_data"
    },
    {
     "data": {
      "text/plain": [
       "'----------------------------------------------------------------------------------------------------'"
      ]
     },
     "metadata": {},
     "output_type": "display_data"
    },
    {
     "data": {
      "text/plain": [
       "'Test prompt 8:'"
      ]
     },
     "metadata": {},
     "output_type": "display_data"
    },
    {
     "name": "stderr",
     "output_type": "stream",
     "text": [
      "\u001b[33;1m======== New task ========\u001b[0m\n",
      "\u001b[37;1mPreprocess the testing WADI dataset in the route 'C:\\Users\\zoiyy\\OneDrive\\Documentos\\DataSets\\TFM\\Pruebas' and store it in 'C:\\Users\\zoiyy\\OneDrive\\Documentos\\DataSets\\TFM\\Pruebas2'.\u001b[0m\n",
      "\u001b[33;1m==== Agent is executing the code below:\u001b[0m\n",
      "\u001b[0m\u001b[38;5;7mdataset\u001b[39m\u001b[38;5;7m \u001b[39m\u001b[38;5;109;01m=\u001b[39;00m\u001b[38;5;7m \u001b[39m\u001b[38;5;144m'\u001b[39m\u001b[38;5;144mWADI\u001b[39m\u001b[38;5;144m'\u001b[39m\n",
      "\u001b[38;5;7minput_dir\u001b[39m\u001b[38;5;7m \u001b[39m\u001b[38;5;109;01m=\u001b[39;00m\u001b[38;5;7m \u001b[39m\u001b[38;5;144m'\u001b[39m\u001b[38;5;144mC:\u001b[39m\u001b[38;5;186m\\\\\u001b[39m\u001b[38;5;144mUsers\u001b[39m\u001b[38;5;186m\\\\\u001b[39m\u001b[38;5;144mzoiyy\u001b[39m\u001b[38;5;186m\\\\\u001b[39m\u001b[38;5;144mOneDrive\u001b[39m\u001b[38;5;186m\\\\\u001b[39m\u001b[38;5;144mDocumentos\u001b[39m\u001b[38;5;186m\\\\\u001b[39m\u001b[38;5;144mDataSets\u001b[39m\u001b[38;5;186m\\\\\u001b[39m\u001b[38;5;144mTFM\u001b[39m\u001b[38;5;186m\\\\\u001b[39m\u001b[38;5;144mPruebas\u001b[39m\u001b[38;5;144m'\u001b[39m\n",
      "\u001b[38;5;7moutput_dir\u001b[39m\u001b[38;5;7m \u001b[39m\u001b[38;5;109;01m=\u001b[39;00m\u001b[38;5;7m \u001b[39m\u001b[38;5;144m'\u001b[39m\u001b[38;5;144mC:\u001b[39m\u001b[38;5;186m\\\\\u001b[39m\u001b[38;5;144mUsers\u001b[39m\u001b[38;5;186m\\\\\u001b[39m\u001b[38;5;144mzoiyy\u001b[39m\u001b[38;5;186m\\\\\u001b[39m\u001b[38;5;144mOneDrive\u001b[39m\u001b[38;5;186m\\\\\u001b[39m\u001b[38;5;144mDocumentos\u001b[39m\u001b[38;5;186m\\\\\u001b[39m\u001b[38;5;144mDataSets\u001b[39m\u001b[38;5;186m\\\\\u001b[39m\u001b[38;5;144mTFM\u001b[39m\u001b[38;5;186m\\\\\u001b[39m\u001b[38;5;144mPruebas2\u001b[39m\u001b[38;5;144m'\u001b[39m\n",
      "\u001b[38;5;7mpreprocessed_data_path\u001b[39m\u001b[38;5;7m \u001b[39m\u001b[38;5;109;01m=\u001b[39;00m\u001b[38;5;7m \u001b[39m\u001b[38;5;7mAnomalyBERT_Data_Preprocessing\u001b[39m\u001b[38;5;7m(\u001b[39m\u001b[38;5;7mdataset\u001b[39m\u001b[38;5;109;01m=\u001b[39;00m\u001b[38;5;7mdataset\u001b[39m\u001b[38;5;7m,\u001b[39m\u001b[38;5;7m \u001b[39m\u001b[38;5;7minput_dir\u001b[39m\u001b[38;5;109;01m=\u001b[39;00m\u001b[38;5;7minput_dir\u001b[39m\u001b[38;5;7m,\u001b[39m\u001b[38;5;7m \u001b[39m\u001b[38;5;7moutput_dir\u001b[39m\u001b[38;5;109;01m=\u001b[39;00m\u001b[38;5;7moutput_dir\u001b[39m\u001b[38;5;7m)\u001b[39m\u001b[0m\n",
      "\u001b[33;1m====\u001b[0m\n"
     ]
    },
    {
     "data": {
      "text/plain": [
       "'C:\\\\Users\\\\zoiyy\\\\OneDrive\\\\Documentos\\\\DataSets\\\\TFM\\\\Pruebas2'"
      ]
     },
     "metadata": {},
     "output_type": "display_data"
    },
    {
     "data": {
      "text/plain": [
       "'----------------------------------------------------------------------------------------------------'"
      ]
     },
     "metadata": {},
     "output_type": "display_data"
    },
    {
     "data": {
      "text/plain": [
       "'Test prompt 9:'"
      ]
     },
     "metadata": {},
     "output_type": "display_data"
    },
    {
     "name": "stderr",
     "output_type": "stream",
     "text": [
      "\u001b[33;1m======== New task ========\u001b[0m\n",
      "\u001b[37;1mPreprocess the testing WADI dataset stored in 'C:\\Users\\zoiyy\\OneDrive\\Documentos\\DataSets\\TFM\\Pruebas' and store it in 'C:\\Users\\zoiyy\\OneDrive\\Documentos\\DataSets\\TFM\\Pruebas2'.\u001b[0m\n",
      "\u001b[33;1m==== Agent is executing the code below:\u001b[0m\n",
      "\u001b[0m\u001b[38;5;7moutput_dir\u001b[39m\u001b[38;5;7m \u001b[39m\u001b[38;5;109;01m=\u001b[39;00m\u001b[38;5;7m \u001b[39m\u001b[38;5;144m'\u001b[39m\u001b[38;5;144mC:\u001b[39m\u001b[38;5;186m\\\\\u001b[39m\u001b[38;5;144mUsers\u001b[39m\u001b[38;5;186m\\\\\u001b[39m\u001b[38;5;144mzoiyy\u001b[39m\u001b[38;5;186m\\\\\u001b[39m\u001b[38;5;144mOneDrive\u001b[39m\u001b[38;5;186m\\\\\u001b[39m\u001b[38;5;144mDocumentos\u001b[39m\u001b[38;5;186m\\\\\u001b[39m\u001b[38;5;144mDataSets\u001b[39m\u001b[38;5;186m\\\\\u001b[39m\u001b[38;5;144mTFM\u001b[39m\u001b[38;5;186m\\\\\u001b[39m\u001b[38;5;144mPruebas2\u001b[39m\u001b[38;5;144m'\u001b[39m\n",
      "\u001b[38;5;7mAnomalyBERT_Data_Preprocessing\u001b[39m\u001b[38;5;7m(\u001b[39m\u001b[38;5;7mdataset\u001b[39m\u001b[38;5;109;01m=\u001b[39;00m\u001b[38;5;144m'\u001b[39m\u001b[38;5;144mWADI\u001b[39m\u001b[38;5;144m'\u001b[39m\u001b[38;5;7m,\u001b[39m\u001b[38;5;7m \u001b[39m\u001b[38;5;7minput_dir\u001b[39m\u001b[38;5;109;01m=\u001b[39;00m\u001b[38;5;144m'\u001b[39m\u001b[38;5;144mC:\u001b[39m\u001b[38;5;186m\\\\\u001b[39m\u001b[38;5;144mUsers\u001b[39m\u001b[38;5;186m\\\\\u001b[39m\u001b[38;5;144mzoiyy\u001b[39m\u001b[38;5;186m\\\\\u001b[39m\u001b[38;5;144mOneDrive\u001b[39m\u001b[38;5;186m\\\\\u001b[39m\u001b[38;5;144mDocumentos\u001b[39m\u001b[38;5;186m\\\\\u001b[39m\u001b[38;5;144mDataSets\u001b[39m\u001b[38;5;186m\\\\\u001b[39m\u001b[38;5;144mTFM\u001b[39m\u001b[38;5;186m\\\\\u001b[39m\u001b[38;5;144mPruebas\u001b[39m\u001b[38;5;144m'\u001b[39m\u001b[38;5;7m,\u001b[39m\u001b[38;5;7m \u001b[39m\u001b[38;5;7moutput_dir\u001b[39m\u001b[38;5;109;01m=\u001b[39;00m\u001b[38;5;7moutput_dir\u001b[39m\u001b[38;5;7m)\u001b[39m\u001b[0m\n",
      "\u001b[33;1m====\u001b[0m\n"
     ]
    },
    {
     "data": {
      "text/plain": [
       "'C:\\\\Users\\\\zoiyy\\\\OneDrive\\\\Documentos\\\\DataSets\\\\TFM\\\\Pruebas2'"
      ]
     },
     "metadata": {},
     "output_type": "display_data"
    },
    {
     "data": {
      "text/plain": [
       "'----------------------------------------------------------------------------------------------------'"
      ]
     },
     "metadata": {},
     "output_type": "display_data"
    },
    {
     "data": {
      "text/plain": [
       "'Test prompt 10:'"
      ]
     },
     "metadata": {},
     "output_type": "display_data"
    },
    {
     "name": "stderr",
     "output_type": "stream",
     "text": [
      "\u001b[33;1m======== New task ========\u001b[0m\n",
      "\u001b[37;1mPreprocess the testing WADI dataset in the route 'C:\\Users\\zoiyy\\OneDrive\\Documentos\\DataSets\\TFM\\Pruebas' and save it in 'C:\\Users\\zoiyy\\OneDrive\\Documentos\\DataSets\\TFM\\Pruebas2'.\u001b[0m\n",
      "\u001b[33;1m==== Agent is executing the code below:\u001b[0m\n",
      "\u001b[0m\u001b[38;5;7mpreprocessed_dataset\u001b[39m\u001b[38;5;7m \u001b[39m\u001b[38;5;109;01m=\u001b[39;00m\u001b[38;5;7m \u001b[39m\u001b[38;5;7mAnomalyBERT_Data_Preprocessing\u001b[39m\u001b[38;5;7m(\u001b[39m\u001b[38;5;7mdataset\u001b[39m\u001b[38;5;109;01m=\u001b[39;00m\u001b[38;5;144m'\u001b[39m\u001b[38;5;144mWADI\u001b[39m\u001b[38;5;144m'\u001b[39m\u001b[38;5;7m,\u001b[39m\u001b[38;5;7m \u001b[39m\u001b[38;5;7minput_dir\u001b[39m\u001b[38;5;109;01m=\u001b[39;00m\u001b[38;5;144m'\u001b[39m\u001b[38;5;144mC:\u001b[39m\u001b[38;5;186m\\\\\u001b[39m\u001b[38;5;144mUsers\u001b[39m\u001b[38;5;186m\\\\\u001b[39m\u001b[38;5;144mzoiyy\u001b[39m\u001b[38;5;186m\\\\\u001b[39m\u001b[38;5;144mOneDrive\u001b[39m\u001b[38;5;186m\\\\\u001b[39m\u001b[38;5;144mDocumentos\u001b[39m\u001b[38;5;186m\\\\\u001b[39m\u001b[38;5;144mDataSets\u001b[39m\u001b[38;5;186m\\\\\u001b[39m\u001b[38;5;144mTFM\u001b[39m\u001b[38;5;186m\\\\\u001b[39m\u001b[38;5;144mPruebas\u001b[39m\u001b[38;5;144m'\u001b[39m\u001b[38;5;7m)\u001b[39m\n",
      "\u001b[38;5;109mprint\u001b[39m\u001b[38;5;7m(\u001b[39m\u001b[38;5;144mf\u001b[39m\u001b[38;5;144m\"\u001b[39m\u001b[38;5;144mPreprocessed dataset saved at: \u001b[39m\u001b[38;5;144m{\u001b[39m\u001b[38;5;7mpreprocessed_dataset\u001b[39m\u001b[38;5;144m}\u001b[39m\u001b[38;5;144m\"\u001b[39m\u001b[38;5;7m)\u001b[39m\u001b[0m\n",
      "\u001b[33;1m====\u001b[0m\n"
     ]
    },
    {
     "data": {
      "text/plain": [
       "'Preprocessed dataset saved at: C:\\\\Users\\\\zoiyy\\\\OneDrive\\\\Documentos\\\\DataSets\\\\TFM\\\\Pruebas\\\\processed'"
      ]
     },
     "metadata": {},
     "output_type": "display_data"
    },
    {
     "data": {
      "text/plain": [
       "'----------------------------------------------------------------------------------------------------'"
      ]
     },
     "metadata": {},
     "output_type": "display_data"
    },
    {
     "data": {
      "text/plain": [
       "'Test prompt 11:'"
      ]
     },
     "metadata": {},
     "output_type": "display_data"
    },
    {
     "name": "stderr",
     "output_type": "stream",
     "text": [
      "\u001b[33;1m======== New task ========\u001b[0m\n",
      "\u001b[37;1mPreprocess the testing WADI dataset stored in 'C:\\Users\\zoiyy\\OneDrive\\Documentos\\DataSets\\TFM\\Pruebas' and save it in 'C:\\Users\\zoiyy\\OneDrive\\Documentos\\DataSets\\TFM\\Pruebas2'.\u001b[0m\n",
      "\u001b[33;1m==== Agent is executing the code below:\u001b[0m\n",
      "\u001b[0m\u001b[38;5;7mdataset\u001b[39m\u001b[38;5;7m \u001b[39m\u001b[38;5;109;01m=\u001b[39;00m\u001b[38;5;7m \u001b[39m\u001b[38;5;144m'\u001b[39m\u001b[38;5;144mWADI\u001b[39m\u001b[38;5;144m'\u001b[39m\n",
      "\u001b[38;5;7minput_dir\u001b[39m\u001b[38;5;7m \u001b[39m\u001b[38;5;109;01m=\u001b[39;00m\u001b[38;5;7m \u001b[39m\u001b[38;5;144m'\u001b[39m\u001b[38;5;144mC:\u001b[39m\u001b[38;5;186m\\\\\u001b[39m\u001b[38;5;144mUsers\u001b[39m\u001b[38;5;186m\\\\\u001b[39m\u001b[38;5;144mzoiyy\u001b[39m\u001b[38;5;186m\\\\\u001b[39m\u001b[38;5;144mOneDrive\u001b[39m\u001b[38;5;186m\\\\\u001b[39m\u001b[38;5;144mDocumentos\u001b[39m\u001b[38;5;186m\\\\\u001b[39m\u001b[38;5;144mDataSets\u001b[39m\u001b[38;5;186m\\\\\u001b[39m\u001b[38;5;144mTFM\u001b[39m\u001b[38;5;186m\\\\\u001b[39m\u001b[38;5;144mPruebas\u001b[39m\u001b[38;5;144m'\u001b[39m\n",
      "\u001b[38;5;7moutput_dir\u001b[39m\u001b[38;5;7m \u001b[39m\u001b[38;5;109;01m=\u001b[39;00m\u001b[38;5;7m \u001b[39m\u001b[38;5;144m'\u001b[39m\u001b[38;5;144mC:\u001b[39m\u001b[38;5;186m\\\\\u001b[39m\u001b[38;5;144mUsers\u001b[39m\u001b[38;5;186m\\\\\u001b[39m\u001b[38;5;144mzoiyy\u001b[39m\u001b[38;5;186m\\\\\u001b[39m\u001b[38;5;144mOneDrive\u001b[39m\u001b[38;5;186m\\\\\u001b[39m\u001b[38;5;144mDocumentos\u001b[39m\u001b[38;5;186m\\\\\u001b[39m\u001b[38;5;144mDataSets\u001b[39m\u001b[38;5;186m\\\\\u001b[39m\u001b[38;5;144mTFM\u001b[39m\u001b[38;5;186m\\\\\u001b[39m\u001b[38;5;144mPruebas2\u001b[39m\u001b[38;5;144m'\u001b[39m\n",
      "\u001b[38;5;7moutput\u001b[39m\u001b[38;5;7m \u001b[39m\u001b[38;5;109;01m=\u001b[39;00m\u001b[38;5;7m \u001b[39m\u001b[38;5;7mAnomalyBERT_Data_Preprocessing\u001b[39m\u001b[38;5;7m(\u001b[39m\u001b[38;5;7mdataset\u001b[39m\u001b[38;5;109;01m=\u001b[39;00m\u001b[38;5;7mdataset\u001b[39m\u001b[38;5;7m,\u001b[39m\u001b[38;5;7m \u001b[39m\u001b[38;5;7minput_dir\u001b[39m\u001b[38;5;109;01m=\u001b[39;00m\u001b[38;5;7minput_dir\u001b[39m\u001b[38;5;7m,\u001b[39m\u001b[38;5;7m \u001b[39m\u001b[38;5;7moutput_dir\u001b[39m\u001b[38;5;109;01m=\u001b[39;00m\u001b[38;5;7moutput_dir\u001b[39m\u001b[38;5;7m)\u001b[39m\u001b[0m\n",
      "\u001b[33;1m====\u001b[0m\n"
     ]
    },
    {
     "data": {
      "text/plain": [
       "'C:\\\\Users\\\\zoiyy\\\\OneDrive\\\\Documentos\\\\DataSets\\\\TFM\\\\Pruebas2'"
      ]
     },
     "metadata": {},
     "output_type": "display_data"
    },
    {
     "data": {
      "text/plain": [
       "'===================================================================================================='"
      ]
     },
     "metadata": {},
     "output_type": "display_data"
    },
    {
     "data": {
      "text/plain": [
       "'===================================================================================================='"
      ]
     },
     "metadata": {},
     "output_type": "display_data"
    },
    {
     "data": {
      "text/plain": [
       "'RESULTS FOR TOOL DESCRIPTION 2-INDENT:'"
      ]
     },
     "metadata": {},
     "output_type": "display_data"
    },
    {
     "data": {
      "text/plain": [
       "'----------------------------------------------------------------------------------------------------'"
      ]
     },
     "metadata": {},
     "output_type": "display_data"
    },
    {
     "data": {
      "text/plain": [
       "'Test prompt 8:'"
      ]
     },
     "metadata": {},
     "output_type": "display_data"
    },
    {
     "name": "stderr",
     "output_type": "stream",
     "text": [
      "\u001b[33;1m======== New task ========\u001b[0m\n",
      "\u001b[37;1mPreprocess the testing WADI dataset in the route 'C:\\Users\\zoiyy\\OneDrive\\Documentos\\DataSets\\TFM\\Pruebas' and store it in 'C:\\Users\\zoiyy\\OneDrive\\Documentos\\DataSets\\TFM\\Pruebas2'.\u001b[0m\n",
      "\u001b[33;1m==== Agent is executing the code below:\u001b[0m\n",
      "\u001b[0m\u001b[38;5;7mdataset_path\u001b[39m\u001b[38;5;7m \u001b[39m\u001b[38;5;109;01m=\u001b[39;00m\u001b[38;5;7m \u001b[39m\u001b[38;5;144m'\u001b[39m\u001b[38;5;144mC:\u001b[39m\u001b[38;5;186m\\\\\u001b[39m\u001b[38;5;144mUsers\u001b[39m\u001b[38;5;186m\\\\\u001b[39m\u001b[38;5;144mzoiyy\u001b[39m\u001b[38;5;186m\\\\\u001b[39m\u001b[38;5;144mOneDrive\u001b[39m\u001b[38;5;186m\\\\\u001b[39m\u001b[38;5;144mDocumentos\u001b[39m\u001b[38;5;186m\\\\\u001b[39m\u001b[38;5;144mDataSets\u001b[39m\u001b[38;5;186m\\\\\u001b[39m\u001b[38;5;144mTFM\u001b[39m\u001b[38;5;186m\\\\\u001b[39m\u001b[38;5;144mPruebas\u001b[39m\u001b[38;5;144m'\u001b[39m\n",
      "\u001b[38;5;7moutput_path\u001b[39m\u001b[38;5;7m \u001b[39m\u001b[38;5;109;01m=\u001b[39;00m\u001b[38;5;7m \u001b[39m\u001b[38;5;144m'\u001b[39m\u001b[38;5;144mC:\u001b[39m\u001b[38;5;186m\\\\\u001b[39m\u001b[38;5;144mUsers\u001b[39m\u001b[38;5;186m\\\\\u001b[39m\u001b[38;5;144mzoiyy\u001b[39m\u001b[38;5;186m\\\\\u001b[39m\u001b[38;5;144mOneDrive\u001b[39m\u001b[38;5;186m\\\\\u001b[39m\u001b[38;5;144mDocumentos\u001b[39m\u001b[38;5;186m\\\\\u001b[39m\u001b[38;5;144mDataSets\u001b[39m\u001b[38;5;186m\\\\\u001b[39m\u001b[38;5;144mTFM\u001b[39m\u001b[38;5;186m\\\\\u001b[39m\u001b[38;5;144mPruebas2\u001b[39m\u001b[38;5;144m'\u001b[39m\n",
      "\u001b[38;5;7mpreprocessed_dataset_path\u001b[39m\u001b[38;5;7m \u001b[39m\u001b[38;5;109;01m=\u001b[39;00m\u001b[38;5;7m \u001b[39m\u001b[38;5;7mAnomalyBERT_Data_Preprocessing\u001b[39m\u001b[38;5;7m(\u001b[39m\u001b[38;5;7mdataset\u001b[39m\u001b[38;5;109;01m=\u001b[39;00m\u001b[38;5;144m'\u001b[39m\u001b[38;5;144mWADI\u001b[39m\u001b[38;5;144m'\u001b[39m\u001b[38;5;7m,\u001b[39m\u001b[38;5;7m \u001b[39m\u001b[38;5;7minput_dir\u001b[39m\u001b[38;5;109;01m=\u001b[39;00m\u001b[38;5;7mdataset_path\u001b[39m\u001b[38;5;7m,\u001b[39m\u001b[38;5;7m \u001b[39m\u001b[38;5;7moutput_dir\u001b[39m\u001b[38;5;109;01m=\u001b[39;00m\u001b[38;5;7moutput_path\u001b[39m\u001b[38;5;7m,\u001b[39m\u001b[38;5;7m \u001b[39m\u001b[38;5;7mdate_label\u001b[39m\u001b[38;5;109;01m=\u001b[39;00m\u001b[38;5;144m'\u001b[39m\u001b[38;5;144m월\u001b[39m\u001b[38;5;144m'\u001b[39m\u001b[38;5;7m,\u001b[39m\u001b[38;5;7m \u001b[39m\u001b[38;5;7mdataset_mode\u001b[39m\u001b[38;5;109;01m=\u001b[39;00m\u001b[38;5;144m'\u001b[39m\u001b[38;5;144mtest\u001b[39m\u001b[38;5;144m'\u001b[39m\u001b[38;5;7m)\u001b[39m\u001b[0m\n",
      "\u001b[33;1m====\u001b[0m\n",
      "\u001b[31;20mError in execution: [Errno 2] No such file or directory: 'C:\\\\Users\\\\zoiyy\\\\OneDrive\\\\Documentos\\\\DataSets\\\\TFM\\\\Pruebas\\\\WADI/WADI.월/WADI_attackdataLABLE.csv'. Be sure to provide correct code.\u001b[0m\n",
      "Traceback (most recent call last):\n",
      "  File \"C:\\Users\\zoiyy\\AppData\\Roaming\\Python\\Python38\\site-packages\\transformers\\agents\\agents.py\", line 566, in run\n",
      "    output = self.python_evaluator(code_action, available_tools, state=self.state)\n",
      "  File \"C:\\Users\\zoiyy\\AppData\\Roaming\\Python\\Python38\\site-packages\\transformers\\agents\\python_interpreter.py\", line 511, in evaluate_python_code\n",
      "    line_result = evaluate_ast(node, state, tools)\n",
      "  File \"C:\\Users\\zoiyy\\AppData\\Roaming\\Python\\Python38\\site-packages\\transformers\\agents\\python_interpreter.py\", line 360, in evaluate_ast\n",
      "    return evaluate_assign(expression, state, tools)\n",
      "  File \"C:\\Users\\zoiyy\\AppData\\Roaming\\Python\\Python38\\site-packages\\transformers\\agents\\python_interpreter.py\", line 177, in evaluate_assign\n",
      "    result = evaluate_ast(assign.value, state, tools)\n",
      "  File \"C:\\Users\\zoiyy\\AppData\\Roaming\\Python\\Python38\\site-packages\\transformers\\agents\\python_interpreter.py\", line 365, in evaluate_ast\n",
      "    return evaluate_call(expression, state, tools)\n",
      "  File \"C:\\Users\\zoiyy\\AppData\\Roaming\\Python\\Python38\\site-packages\\transformers\\agents\\python_interpreter.py\", line 217, in evaluate_call\n",
      "    output = func(*args, **kwargs)\n",
      "  File \"c:\\Users\\zoiyy\\OneDrive\\Documentos\\Repositorios GIT\\TFM\\Pruebas\\test_batch.py\", line 26, in __call__\n",
      "    preprocessed_dataset_folder\t= adp.preprocess_data( dataset , input_dir , output_dir , json_dir , date_label , dataset_mode )\n",
      "  File \"c:\\Users\\zoiyy\\OneDrive\\Documentos\\Repositorios GIT\\TFM\\Adapted_utils\\Adapted_data_preprocessing.py\", line 247, in preprocess_data\n",
      "    load_data( dataset , data_dir , output_folder , json_folder , date_label , process_type )\n",
      "  File \"c:\\Users\\zoiyy\\OneDrive\\Documentos\\Repositorios GIT\\TFM\\Adapted_utils\\Adapted_data_preprocessing.py\", line 206, in load_data\n",
      "    abnormal_data\t= pd.read_csv( os.path.join( base_dir , 'WADI/WADI.' + date_label + '/WADI_attackdataLABLE.csv'\t) , header = 1\t)\n",
      "  File \"C:\\Users\\zoiyy\\AppData\\Roaming\\Python\\Python38\\site-packages\\pandas\\io\\parsers\\readers.py\", line 912, in read_csv\n",
      "    return _read(filepath_or_buffer, kwds)\n",
      "  File \"C:\\Users\\zoiyy\\AppData\\Roaming\\Python\\Python38\\site-packages\\pandas\\io\\parsers\\readers.py\", line 577, in _read\n",
      "    parser = TextFileReader(filepath_or_buffer, **kwds)\n",
      "  File \"C:\\Users\\zoiyy\\AppData\\Roaming\\Python\\Python38\\site-packages\\pandas\\io\\parsers\\readers.py\", line 1407, in __init__\n",
      "    self._engine = self._make_engine(f, self.engine)\n",
      "  File \"C:\\Users\\zoiyy\\AppData\\Roaming\\Python\\Python38\\site-packages\\pandas\\io\\parsers\\readers.py\", line 1661, in _make_engine\n",
      "    self.handles = get_handle(\n",
      "  File \"C:\\Users\\zoiyy\\AppData\\Roaming\\Python\\Python38\\site-packages\\pandas\\io\\common.py\", line 859, in get_handle\n",
      "    handle = open(\n",
      "FileNotFoundError: [Errno 2] No such file or directory: 'C:\\\\Users\\\\zoiyy\\\\OneDrive\\\\Documentos\\\\DataSets\\\\TFM\\\\Pruebas\\\\WADI/WADI.월/WADI_attackdataLABLE.csv'\n"
     ]
    },
    {
     "data": {
      "text/plain": [
       "\"Error in execution: [Errno 2] No such file or directory: 'C:\\\\\\\\Users\\\\\\\\zoiyy\\\\\\\\OneDrive\\\\\\\\Documentos\\\\\\\\DataSets\\\\\\\\TFM\\\\\\\\Pruebas\\\\\\\\WADI/WADI.월/WADI_attackdataLABLE.csv'. Be sure to provide correct code.\""
      ]
     },
     "metadata": {},
     "output_type": "display_data"
    },
    {
     "data": {
      "text/plain": [
       "'----------------------------------------------------------------------------------------------------'"
      ]
     },
     "metadata": {},
     "output_type": "display_data"
    },
    {
     "data": {
      "text/plain": [
       "'Test prompt 9:'"
      ]
     },
     "metadata": {},
     "output_type": "display_data"
    },
    {
     "name": "stderr",
     "output_type": "stream",
     "text": [
      "\u001b[33;1m======== New task ========\u001b[0m\n",
      "\u001b[37;1mPreprocess the testing WADI dataset stored in 'C:\\Users\\zoiyy\\OneDrive\\Documentos\\DataSets\\TFM\\Pruebas' and store it in 'C:\\Users\\zoiyy\\OneDrive\\Documentos\\DataSets\\TFM\\Pruebas2'.\u001b[0m\n",
      "\u001b[33;1m==== Agent is executing the code below:\u001b[0m\n",
      "\u001b[0m\u001b[38;5;7mdataset\u001b[39m\u001b[38;5;7m \u001b[39m\u001b[38;5;109;01m=\u001b[39;00m\u001b[38;5;7m \u001b[39m\u001b[38;5;144m'\u001b[39m\u001b[38;5;144mWADI\u001b[39m\u001b[38;5;144m'\u001b[39m\n",
      "\u001b[38;5;7minput_dir\u001b[39m\u001b[38;5;7m \u001b[39m\u001b[38;5;109;01m=\u001b[39;00m\u001b[38;5;7m \u001b[39m\u001b[38;5;144mr\u001b[39m\u001b[38;5;144m'\u001b[39m\u001b[38;5;144mC:\u001b[39m\u001b[38;5;144m\\\u001b[39m\u001b[38;5;144mUsers\u001b[39m\u001b[38;5;144m\\\u001b[39m\u001b[38;5;144mzoiyy\u001b[39m\u001b[38;5;144m\\\u001b[39m\u001b[38;5;144mOneDrive\u001b[39m\u001b[38;5;144m\\\u001b[39m\u001b[38;5;144mDocumentos\u001b[39m\u001b[38;5;144m\\\u001b[39m\u001b[38;5;144mDataSets\u001b[39m\u001b[38;5;144m\\\u001b[39m\u001b[38;5;144mTFM\u001b[39m\u001b[38;5;144m\\\u001b[39m\u001b[38;5;144mPruebas\u001b[39m\u001b[38;5;144m'\u001b[39m\n",
      "\u001b[38;5;7moutput_dir\u001b[39m\u001b[38;5;7m \u001b[39m\u001b[38;5;109;01m=\u001b[39;00m\u001b[38;5;7m \u001b[39m\u001b[38;5;144mr\u001b[39m\u001b[38;5;144m'\u001b[39m\u001b[38;5;144mC:\u001b[39m\u001b[38;5;144m\\\u001b[39m\u001b[38;5;144mUsers\u001b[39m\u001b[38;5;144m\\\u001b[39m\u001b[38;5;144mzoiyy\u001b[39m\u001b[38;5;144m\\\u001b[39m\u001b[38;5;144mOneDrive\u001b[39m\u001b[38;5;144m\\\u001b[39m\u001b[38;5;144mDocumentos\u001b[39m\u001b[38;5;144m\\\u001b[39m\u001b[38;5;144mDataSets\u001b[39m\u001b[38;5;144m\\\u001b[39m\u001b[38;5;144mTFM\u001b[39m\u001b[38;5;144m\\\u001b[39m\u001b[38;5;144mPruebas2\u001b[39m\u001b[38;5;144m'\u001b[39m\n",
      "\u001b[38;5;7mdate_label\u001b[39m\u001b[38;5;7m \u001b[39m\u001b[38;5;109;01m=\u001b[39;00m\u001b[38;5;7m \u001b[39m\u001b[38;5;144m'\u001b[39m\u001b[38;5;144mdate_label\u001b[39m\u001b[38;5;144m'\u001b[39m\u001b[38;5;7m \u001b[39m\u001b[38;5;60;03m# assuming this is the default value\u001b[39;00m\n",
      "\u001b[38;5;7mdataset_mode\u001b[39m\u001b[38;5;7m \u001b[39m\u001b[38;5;109;01m=\u001b[39;00m\u001b[38;5;7m \u001b[39m\u001b[38;5;144m'\u001b[39m\u001b[38;5;144mtest\u001b[39m\u001b[38;5;144m'\u001b[39m\n",
      "\n",
      "\u001b[38;5;7mpreprocessed_data_path\u001b[39m\u001b[38;5;7m \u001b[39m\u001b[38;5;109;01m=\u001b[39;00m\u001b[38;5;7m \u001b[39m\u001b[38;5;7mAnomalyBERT_Data_Preprocessing\u001b[39m\u001b[38;5;7m(\u001b[39m\u001b[38;5;7mdataset\u001b[39m\u001b[38;5;109;01m=\u001b[39;00m\u001b[38;5;7mdataset\u001b[39m\u001b[38;5;7m,\u001b[39m\u001b[38;5;7m \u001b[39m\u001b[38;5;7minput_dir\u001b[39m\u001b[38;5;109;01m=\u001b[39;00m\u001b[38;5;7minput_dir\u001b[39m\u001b[38;5;7m,\u001b[39m\u001b[38;5;7m \u001b[39m\u001b[38;5;7moutput_dir\u001b[39m\u001b[38;5;109;01m=\u001b[39;00m\u001b[38;5;7moutput_dir\u001b[39m\u001b[38;5;7m,\u001b[39m\u001b[38;5;7m \u001b[39m\u001b[38;5;7mdate_label\u001b[39m\u001b[38;5;109;01m=\u001b[39;00m\u001b[38;5;7mdate_label\u001b[39m\u001b[38;5;7m,\u001b[39m\u001b[38;5;7m \u001b[39m\u001b[38;5;7mdataset_mode\u001b[39m\u001b[38;5;109;01m=\u001b[39;00m\u001b[38;5;7mdataset_mode\u001b[39m\u001b[38;5;7m)\u001b[39m\n",
      "\u001b[38;5;109mprint\u001b[39m\u001b[38;5;7m(\u001b[39m\u001b[38;5;144mf\u001b[39m\u001b[38;5;144m\"\u001b[39m\u001b[38;5;144mThe preprocessed data has been stored in \u001b[39m\u001b[38;5;144m{\u001b[39m\u001b[38;5;7mpreprocessed_data_path\u001b[39m\u001b[38;5;144m}\u001b[39m\u001b[38;5;144m.\u001b[39m\u001b[38;5;144m\"\u001b[39m\u001b[38;5;7m)\u001b[39m\u001b[0m\n",
      "\u001b[33;1m====\u001b[0m\n",
      "\u001b[31;20mError in execution: [Errno 2] No such file or directory: 'C:\\\\Users\\\\zoiyy\\\\OneDrive\\\\Documentos\\\\DataSets\\\\TFM\\\\Pruebas\\\\WADI/WADI.date_label/WADI_attackdataLABLE.csv'. Be sure to provide correct code.\u001b[0m\n",
      "Traceback (most recent call last):\n",
      "  File \"C:\\Users\\zoiyy\\AppData\\Roaming\\Python\\Python38\\site-packages\\transformers\\agents\\agents.py\", line 566, in run\n",
      "    output = self.python_evaluator(code_action, available_tools, state=self.state)\n",
      "  File \"C:\\Users\\zoiyy\\AppData\\Roaming\\Python\\Python38\\site-packages\\transformers\\agents\\python_interpreter.py\", line 511, in evaluate_python_code\n",
      "    line_result = evaluate_ast(node, state, tools)\n",
      "  File \"C:\\Users\\zoiyy\\AppData\\Roaming\\Python\\Python38\\site-packages\\transformers\\agents\\python_interpreter.py\", line 360, in evaluate_ast\n",
      "    return evaluate_assign(expression, state, tools)\n",
      "  File \"C:\\Users\\zoiyy\\AppData\\Roaming\\Python\\Python38\\site-packages\\transformers\\agents\\python_interpreter.py\", line 177, in evaluate_assign\n",
      "    result = evaluate_ast(assign.value, state, tools)\n",
      "  File \"C:\\Users\\zoiyy\\AppData\\Roaming\\Python\\Python38\\site-packages\\transformers\\agents\\python_interpreter.py\", line 365, in evaluate_ast\n",
      "    return evaluate_call(expression, state, tools)\n",
      "  File \"C:\\Users\\zoiyy\\AppData\\Roaming\\Python\\Python38\\site-packages\\transformers\\agents\\python_interpreter.py\", line 217, in evaluate_call\n",
      "    output = func(*args, **kwargs)\n",
      "  File \"c:\\Users\\zoiyy\\OneDrive\\Documentos\\Repositorios GIT\\TFM\\Pruebas\\test_batch.py\", line 26, in __call__\n",
      "    preprocessed_dataset_folder\t= adp.preprocess_data( dataset , input_dir , output_dir , json_dir , date_label , dataset_mode )\n",
      "  File \"c:\\Users\\zoiyy\\OneDrive\\Documentos\\Repositorios GIT\\TFM\\Adapted_utils\\Adapted_data_preprocessing.py\", line 247, in preprocess_data\n",
      "    load_data( dataset , data_dir , output_folder , json_folder , date_label , process_type )\n",
      "  File \"c:\\Users\\zoiyy\\OneDrive\\Documentos\\Repositorios GIT\\TFM\\Adapted_utils\\Adapted_data_preprocessing.py\", line 206, in load_data\n",
      "    abnormal_data\t= pd.read_csv( os.path.join( base_dir , 'WADI/WADI.' + date_label + '/WADI_attackdataLABLE.csv'\t) , header = 1\t)\n",
      "  File \"C:\\Users\\zoiyy\\AppData\\Roaming\\Python\\Python38\\site-packages\\pandas\\io\\parsers\\readers.py\", line 912, in read_csv\n",
      "    return _read(filepath_or_buffer, kwds)\n",
      "  File \"C:\\Users\\zoiyy\\AppData\\Roaming\\Python\\Python38\\site-packages\\pandas\\io\\parsers\\readers.py\", line 577, in _read\n",
      "    parser = TextFileReader(filepath_or_buffer, **kwds)\n",
      "  File \"C:\\Users\\zoiyy\\AppData\\Roaming\\Python\\Python38\\site-packages\\pandas\\io\\parsers\\readers.py\", line 1407, in __init__\n",
      "    self._engine = self._make_engine(f, self.engine)\n",
      "  File \"C:\\Users\\zoiyy\\AppData\\Roaming\\Python\\Python38\\site-packages\\pandas\\io\\parsers\\readers.py\", line 1661, in _make_engine\n",
      "    self.handles = get_handle(\n",
      "  File \"C:\\Users\\zoiyy\\AppData\\Roaming\\Python\\Python38\\site-packages\\pandas\\io\\common.py\", line 859, in get_handle\n",
      "    handle = open(\n",
      "FileNotFoundError: [Errno 2] No such file or directory: 'C:\\\\Users\\\\zoiyy\\\\OneDrive\\\\Documentos\\\\DataSets\\\\TFM\\\\Pruebas\\\\WADI/WADI.date_label/WADI_attackdataLABLE.csv'\n"
     ]
    },
    {
     "data": {
      "text/plain": [
       "\"Error in execution: [Errno 2] No such file or directory: 'C:\\\\\\\\Users\\\\\\\\zoiyy\\\\\\\\OneDrive\\\\\\\\Documentos\\\\\\\\DataSets\\\\\\\\TFM\\\\\\\\Pruebas\\\\\\\\WADI/WADI.date_label/WADI_attackdataLABLE.csv'. Be sure to provide correct code.\""
      ]
     },
     "metadata": {},
     "output_type": "display_data"
    },
    {
     "data": {
      "text/plain": [
       "'----------------------------------------------------------------------------------------------------'"
      ]
     },
     "metadata": {},
     "output_type": "display_data"
    },
    {
     "data": {
      "text/plain": [
       "'Test prompt 10:'"
      ]
     },
     "metadata": {},
     "output_type": "display_data"
    },
    {
     "name": "stderr",
     "output_type": "stream",
     "text": [
      "\u001b[33;1m======== New task ========\u001b[0m\n",
      "\u001b[37;1mPreprocess the testing WADI dataset in the route 'C:\\Users\\zoiyy\\OneDrive\\Documentos\\DataSets\\TFM\\Pruebas' and save it in 'C:\\Users\\zoiyy\\OneDrive\\Documentos\\DataSets\\TFM\\Pruebas2'.\u001b[0m\n",
      "\u001b[33;1m==== Agent is executing the code below:\u001b[0m\n",
      "\u001b[0m\u001b[38;5;7mresult\u001b[39m\u001b[38;5;7m \u001b[39m\u001b[38;5;109;01m=\u001b[39;00m\u001b[38;5;7m \u001b[39m\u001b[38;5;7mAnomalyBERT_Data_Preprocessing\u001b[39m\u001b[38;5;7m(\u001b[39m\u001b[38;5;7mdataset\u001b[39m\u001b[38;5;109;01m=\u001b[39;00m\u001b[38;5;144m'\u001b[39m\u001b[38;5;144mWADI\u001b[39m\u001b[38;5;144m'\u001b[39m\u001b[38;5;7m,\u001b[39m\u001b[38;5;7m \u001b[39m\u001b[38;5;7minput_dir\u001b[39m\u001b[38;5;109;01m=\u001b[39;00m\u001b[38;5;144m'\u001b[39m\u001b[38;5;144mC:\u001b[39m\u001b[38;5;186m\\\\\u001b[39m\u001b[38;5;144mUsers\u001b[39m\u001b[38;5;186m\\\\\u001b[39m\u001b[38;5;144mzoiyy\u001b[39m\u001b[38;5;186m\\\\\u001b[39m\u001b[38;5;144mOneDrive\u001b[39m\u001b[38;5;186m\\\\\u001b[39m\u001b[38;5;144mDocumentos\u001b[39m\u001b[38;5;186m\\\\\u001b[39m\u001b[38;5;144mDataSets\u001b[39m\u001b[38;5;186m\\\\\u001b[39m\u001b[38;5;144mTFM\u001b[39m\u001b[38;5;186m\\\\\u001b[39m\u001b[38;5;144mPruebas\u001b[39m\u001b[38;5;144m'\u001b[39m\u001b[38;5;7m,\u001b[39m\u001b[38;5;7m \u001b[39m\u001b[38;5;7moutput_dir\u001b[39m\u001b[38;5;109;01m=\u001b[39;00m\u001b[38;5;144m'\u001b[39m\u001b[38;5;144mC:\u001b[39m\u001b[38;5;186m\\\\\u001b[39m\u001b[38;5;144mUsers\u001b[39m\u001b[38;5;186m\\\\\u001b[39m\u001b[38;5;144mzoiyy\u001b[39m\u001b[38;5;186m\\\\\u001b[39m\u001b[38;5;144mOneDrive\u001b[39m\u001b[38;5;186m\\\\\u001b[39m\u001b[38;5;144mDocumentos\u001b[39m\u001b[38;5;186m\\\\\u001b[39m\u001b[38;5;144mDataSets\u001b[39m\u001b[38;5;186m\\\\\u001b[39m\u001b[38;5;144mTFM\u001b[39m\u001b[38;5;186m\\\\\u001b[39m\u001b[38;5;144mPruebas2\u001b[39m\u001b[38;5;144m'\u001b[39m\u001b[38;5;7m,\u001b[39m\u001b[38;5;7m \u001b[39m\u001b[38;5;7mdate_label\u001b[39m\u001b[38;5;109;01m=\u001b[39;00m\u001b[38;5;109;01mNone\u001b[39;00m\u001b[38;5;7m,\u001b[39m\u001b[38;5;7m \u001b[39m\u001b[38;5;7mdataset_mode\u001b[39m\u001b[38;5;109;01m=\u001b[39;00m\u001b[38;5;144m'\u001b[39m\u001b[38;5;144mtest\u001b[39m\u001b[38;5;144m'\u001b[39m\u001b[38;5;7m)\u001b[39m\u001b[0m\n",
      "\u001b[33;1m====\u001b[0m\n"
     ]
    },
    {
     "data": {
      "text/plain": [
       "'C:\\\\Users\\\\zoiyy\\\\OneDrive\\\\Documentos\\\\DataSets\\\\TFM\\\\Pruebas2'"
      ]
     },
     "metadata": {},
     "output_type": "display_data"
    },
    {
     "data": {
      "text/plain": [
       "'----------------------------------------------------------------------------------------------------'"
      ]
     },
     "metadata": {},
     "output_type": "display_data"
    },
    {
     "data": {
      "text/plain": [
       "'Test prompt 11:'"
      ]
     },
     "metadata": {},
     "output_type": "display_data"
    },
    {
     "name": "stderr",
     "output_type": "stream",
     "text": [
      "\u001b[33;1m======== New task ========\u001b[0m\n",
      "\u001b[37;1mPreprocess the testing WADI dataset stored in 'C:\\Users\\zoiyy\\OneDrive\\Documentos\\DataSets\\TFM\\Pruebas' and save it in 'C:\\Users\\zoiyy\\OneDrive\\Documentos\\DataSets\\TFM\\Pruebas2'.\u001b[0m\n",
      "\u001b[33;1m==== Agent is executing the code below:\u001b[0m\n",
      "\u001b[0m\u001b[38;5;7mpreprocessed_data_path\u001b[39m\u001b[38;5;7m \u001b[39m\u001b[38;5;109;01m=\u001b[39;00m\u001b[38;5;7m \u001b[39m\u001b[38;5;7mAnomalyBERT_Data_Preprocessing\u001b[39m\u001b[38;5;7m(\u001b[39m\u001b[38;5;7mdataset\u001b[39m\u001b[38;5;109;01m=\u001b[39;00m\u001b[38;5;144m'\u001b[39m\u001b[38;5;144mWADI\u001b[39m\u001b[38;5;144m'\u001b[39m\u001b[38;5;7m,\u001b[39m\u001b[38;5;7m \u001b[39m\u001b[38;5;7minput_dir\u001b[39m\u001b[38;5;109;01m=\u001b[39;00m\u001b[38;5;144m'\u001b[39m\u001b[38;5;144mC:\u001b[39m\u001b[38;5;186m\\\\\u001b[39m\u001b[38;5;144mUsers\u001b[39m\u001b[38;5;186m\\\\\u001b[39m\u001b[38;5;144mzoiyy\u001b[39m\u001b[38;5;186m\\\\\u001b[39m\u001b[38;5;144mOneDrive\u001b[39m\u001b[38;5;186m\\\\\u001b[39m\u001b[38;5;144mDocumentos\u001b[39m\u001b[38;5;186m\\\\\u001b[39m\u001b[38;5;144mDataSets\u001b[39m\u001b[38;5;186m\\\\\u001b[39m\u001b[38;5;144mTFM\u001b[39m\u001b[38;5;186m\\\\\u001b[39m\u001b[38;5;144mPruebas\u001b[39m\u001b[38;5;144m'\u001b[39m\u001b[38;5;7m,\u001b[39m\u001b[38;5;7m \u001b[39m\u001b[38;5;7moutput_dir\u001b[39m\u001b[38;5;109;01m=\u001b[39;00m\u001b[38;5;144m'\u001b[39m\u001b[38;5;144mC:\u001b[39m\u001b[38;5;186m\\\\\u001b[39m\u001b[38;5;144mUsers\u001b[39m\u001b[38;5;186m\\\\\u001b[39m\u001b[38;5;144mzoiyy\u001b[39m\u001b[38;5;186m\\\\\u001b[39m\u001b[38;5;144mOneDrive\u001b[39m\u001b[38;5;186m\\\\\u001b[39m\u001b[38;5;144mDocumentos\u001b[39m\u001b[38;5;186m\\\\\u001b[39m\u001b[38;5;144mDataSets\u001b[39m\u001b[38;5;186m\\\\\u001b[39m\u001b[38;5;144mTFM\u001b[39m\u001b[38;5;186m\\\\\u001b[39m\u001b[38;5;144mPruebas2\u001b[39m\u001b[38;5;144m'\u001b[39m\u001b[38;5;7m)\u001b[39m\u001b[0m\n",
      "\u001b[33;1m====\u001b[0m\n"
     ]
    },
    {
     "data": {
      "text/plain": [
       "'C:\\\\Users\\\\zoiyy\\\\OneDrive\\\\Documentos\\\\DataSets\\\\TFM\\\\Pruebas2'"
      ]
     },
     "metadata": {},
     "output_type": "display_data"
    },
    {
     "data": {
      "text/plain": [
       "'===================================================================================================='"
      ]
     },
     "metadata": {},
     "output_type": "display_data"
    },
    {
     "data": {
      "text/plain": [
       "'===================================================================================================='"
      ]
     },
     "metadata": {},
     "output_type": "display_data"
    },
    {
     "data": {
      "text/plain": [
       "'RESULTS FOR TOOL DESCRIPTION 3:'"
      ]
     },
     "metadata": {},
     "output_type": "display_data"
    },
    {
     "data": {
      "text/plain": [
       "'----------------------------------------------------------------------------------------------------'"
      ]
     },
     "metadata": {},
     "output_type": "display_data"
    },
    {
     "data": {
      "text/plain": [
       "'Test prompt 8:'"
      ]
     },
     "metadata": {},
     "output_type": "display_data"
    },
    {
     "name": "stderr",
     "output_type": "stream",
     "text": [
      "\u001b[33;1m======== New task ========\u001b[0m\n",
      "\u001b[37;1mPreprocess the testing WADI dataset in the route 'C:\\Users\\zoiyy\\OneDrive\\Documentos\\DataSets\\TFM\\Pruebas' and store it in 'C:\\Users\\zoiyy\\OneDrive\\Documentos\\DataSets\\TFM\\Pruebas2'.\u001b[0m\n",
      "\u001b[33;1m==== Agent is executing the code below:\u001b[0m\n",
      "\u001b[0m\u001b[38;5;7mdataset\u001b[39m\u001b[38;5;7m \u001b[39m\u001b[38;5;109;01m=\u001b[39;00m\u001b[38;5;7m \u001b[39m\u001b[38;5;144m\"\u001b[39m\u001b[38;5;144mWADI\u001b[39m\u001b[38;5;144m\"\u001b[39m\n",
      "\u001b[38;5;7minput_dir\u001b[39m\u001b[38;5;7m \u001b[39m\u001b[38;5;109;01m=\u001b[39;00m\u001b[38;5;7m \u001b[39m\u001b[38;5;144mr\u001b[39m\u001b[38;5;144m\"\u001b[39m\u001b[38;5;144mC:\u001b[39m\u001b[38;5;144m\\\u001b[39m\u001b[38;5;144mUsers\u001b[39m\u001b[38;5;144m\\\u001b[39m\u001b[38;5;144mzoiyy\u001b[39m\u001b[38;5;144m\\\u001b[39m\u001b[38;5;144mOneDrive\u001b[39m\u001b[38;5;144m\\\u001b[39m\u001b[38;5;144mDocumentos\u001b[39m\u001b[38;5;144m\\\u001b[39m\u001b[38;5;144mDataSets\u001b[39m\u001b[38;5;144m\\\u001b[39m\u001b[38;5;144mTFM\u001b[39m\u001b[38;5;144m\\\u001b[39m\u001b[38;5;144mPruebas\u001b[39m\u001b[38;5;144m\"\u001b[39m\n",
      "\u001b[38;5;7moutput_dir\u001b[39m\u001b[38;5;7m \u001b[39m\u001b[38;5;109;01m=\u001b[39;00m\u001b[38;5;7m \u001b[39m\u001b[38;5;144mr\u001b[39m\u001b[38;5;144m\"\u001b[39m\u001b[38;5;144mC:\u001b[39m\u001b[38;5;144m\\\u001b[39m\u001b[38;5;144mUsers\u001b[39m\u001b[38;5;144m\\\u001b[39m\u001b[38;5;144mzoiyy\u001b[39m\u001b[38;5;144m\\\u001b[39m\u001b[38;5;144mOneDrive\u001b[39m\u001b[38;5;144m\\\u001b[39m\u001b[38;5;144mDocumentos\u001b[39m\u001b[38;5;144m\\\u001b[39m\u001b[38;5;144mDataSets\u001b[39m\u001b[38;5;144m\\\u001b[39m\u001b[38;5;144mTFM\u001b[39m\u001b[38;5;144m\\\u001b[39m\u001b[38;5;144mPruebas2\u001b[39m\u001b[38;5;144m\"\u001b[39m\n",
      "\u001b[38;5;7mpath\u001b[39m\u001b[38;5;7m \u001b[39m\u001b[38;5;109;01m=\u001b[39;00m\u001b[38;5;7m \u001b[39m\u001b[38;5;7mAnomalyBERT_Data_Preprocessing\u001b[39m\u001b[38;5;7m(\u001b[39m\u001b[38;5;7mdataset\u001b[39m\u001b[38;5;7m,\u001b[39m\u001b[38;5;7m \u001b[39m\u001b[38;5;7minput_dir\u001b[39m\u001b[38;5;7m,\u001b[39m\u001b[38;5;7m \u001b[39m\u001b[38;5;7moutput_dir\u001b[39m\u001b[38;5;7m,\u001b[39m\u001b[38;5;7m \u001b[39m\u001b[38;5;7mdate_label\u001b[39m\u001b[38;5;109;01m=\u001b[39;00m\u001b[38;5;144m\"\u001b[39m\u001b[38;5;144m\"\u001b[39m\u001b[38;5;7m,\u001b[39m\u001b[38;5;7m \u001b[39m\u001b[38;5;7mdataset_mode\u001b[39m\u001b[38;5;109;01m=\u001b[39;00m\u001b[38;5;144m\"\u001b[39m\u001b[38;5;144mtest\u001b[39m\u001b[38;5;144m\"\u001b[39m\u001b[38;5;7m)\u001b[39m\u001b[0m\n",
      "\u001b[33;1m====\u001b[0m\n",
      "\u001b[31;20mError in execution: [Errno 2] No such file or directory: 'C:\\\\Users\\\\zoiyy\\\\OneDrive\\\\Documentos\\\\DataSets\\\\TFM\\\\Pruebas\\\\WADI/WADI./WADI_attackdataLABLE.csv'. Be sure to provide correct code.\u001b[0m\n",
      "Traceback (most recent call last):\n",
      "  File \"C:\\Users\\zoiyy\\AppData\\Roaming\\Python\\Python38\\site-packages\\transformers\\agents\\agents.py\", line 566, in run\n",
      "    output = self.python_evaluator(code_action, available_tools, state=self.state)\n",
      "  File \"C:\\Users\\zoiyy\\AppData\\Roaming\\Python\\Python38\\site-packages\\transformers\\agents\\python_interpreter.py\", line 511, in evaluate_python_code\n",
      "    line_result = evaluate_ast(node, state, tools)\n",
      "  File \"C:\\Users\\zoiyy\\AppData\\Roaming\\Python\\Python38\\site-packages\\transformers\\agents\\python_interpreter.py\", line 360, in evaluate_ast\n",
      "    return evaluate_assign(expression, state, tools)\n",
      "  File \"C:\\Users\\zoiyy\\AppData\\Roaming\\Python\\Python38\\site-packages\\transformers\\agents\\python_interpreter.py\", line 177, in evaluate_assign\n",
      "    result = evaluate_ast(assign.value, state, tools)\n",
      "  File \"C:\\Users\\zoiyy\\AppData\\Roaming\\Python\\Python38\\site-packages\\transformers\\agents\\python_interpreter.py\", line 365, in evaluate_ast\n",
      "    return evaluate_call(expression, state, tools)\n",
      "  File \"C:\\Users\\zoiyy\\AppData\\Roaming\\Python\\Python38\\site-packages\\transformers\\agents\\python_interpreter.py\", line 217, in evaluate_call\n",
      "    output = func(*args, **kwargs)\n",
      "  File \"c:\\Users\\zoiyy\\OneDrive\\Documentos\\Repositorios GIT\\TFM\\Pruebas\\test_batch.py\", line 26, in __call__\n",
      "    preprocessed_dataset_folder\t= adp.preprocess_data( dataset , input_dir , output_dir , json_dir , date_label , dataset_mode )\n",
      "  File \"c:\\Users\\zoiyy\\OneDrive\\Documentos\\Repositorios GIT\\TFM\\Adapted_utils\\Adapted_data_preprocessing.py\", line 247, in preprocess_data\n",
      "    load_data( dataset , data_dir , output_folder , json_folder , date_label , process_type )\n",
      "  File \"c:\\Users\\zoiyy\\OneDrive\\Documentos\\Repositorios GIT\\TFM\\Adapted_utils\\Adapted_data_preprocessing.py\", line 206, in load_data\n",
      "    abnormal_data\t= pd.read_csv( os.path.join( base_dir , 'WADI/WADI.' + date_label + '/WADI_attackdataLABLE.csv'\t) , header = 1\t)\n",
      "  File \"C:\\Users\\zoiyy\\AppData\\Roaming\\Python\\Python38\\site-packages\\pandas\\io\\parsers\\readers.py\", line 912, in read_csv\n",
      "    return _read(filepath_or_buffer, kwds)\n",
      "  File \"C:\\Users\\zoiyy\\AppData\\Roaming\\Python\\Python38\\site-packages\\pandas\\io\\parsers\\readers.py\", line 577, in _read\n",
      "    parser = TextFileReader(filepath_or_buffer, **kwds)\n",
      "  File \"C:\\Users\\zoiyy\\AppData\\Roaming\\Python\\Python38\\site-packages\\pandas\\io\\parsers\\readers.py\", line 1407, in __init__\n",
      "    self._engine = self._make_engine(f, self.engine)\n",
      "  File \"C:\\Users\\zoiyy\\AppData\\Roaming\\Python\\Python38\\site-packages\\pandas\\io\\parsers\\readers.py\", line 1661, in _make_engine\n",
      "    self.handles = get_handle(\n",
      "  File \"C:\\Users\\zoiyy\\AppData\\Roaming\\Python\\Python38\\site-packages\\pandas\\io\\common.py\", line 859, in get_handle\n",
      "    handle = open(\n",
      "FileNotFoundError: [Errno 2] No such file or directory: 'C:\\\\Users\\\\zoiyy\\\\OneDrive\\\\Documentos\\\\DataSets\\\\TFM\\\\Pruebas\\\\WADI/WADI./WADI_attackdataLABLE.csv'\n"
     ]
    },
    {
     "data": {
      "text/plain": [
       "\"Error in execution: [Errno 2] No such file or directory: 'C:\\\\\\\\Users\\\\\\\\zoiyy\\\\\\\\OneDrive\\\\\\\\Documentos\\\\\\\\DataSets\\\\\\\\TFM\\\\\\\\Pruebas\\\\\\\\WADI/WADI./WADI_attackdataLABLE.csv'. Be sure to provide correct code.\""
      ]
     },
     "metadata": {},
     "output_type": "display_data"
    },
    {
     "data": {
      "text/plain": [
       "'----------------------------------------------------------------------------------------------------'"
      ]
     },
     "metadata": {},
     "output_type": "display_data"
    },
    {
     "data": {
      "text/plain": [
       "'Test prompt 9:'"
      ]
     },
     "metadata": {},
     "output_type": "display_data"
    },
    {
     "name": "stderr",
     "output_type": "stream",
     "text": [
      "\u001b[33;1m======== New task ========\u001b[0m\n",
      "\u001b[37;1mPreprocess the testing WADI dataset stored in 'C:\\Users\\zoiyy\\OneDrive\\Documentos\\DataSets\\TFM\\Pruebas' and store it in 'C:\\Users\\zoiyy\\OneDrive\\Documentos\\DataSets\\TFM\\Pruebas2'.\u001b[0m\n",
      "\u001b[33;1m==== Agent is executing the code below:\u001b[0m\n",
      "\u001b[0m\u001b[38;5;7mprocessed_data_path\u001b[39m\u001b[38;5;7m \u001b[39m\u001b[38;5;109;01m=\u001b[39;00m\u001b[38;5;7m \u001b[39m\u001b[38;5;7mAnomalyBERT_Data_Preprocessing\u001b[39m\u001b[38;5;7m(\u001b[39m\u001b[38;5;7mdataset\u001b[39m\u001b[38;5;109;01m=\u001b[39;00m\u001b[38;5;144m'\u001b[39m\u001b[38;5;144mWADI\u001b[39m\u001b[38;5;144m'\u001b[39m\u001b[38;5;7m,\u001b[39m\u001b[38;5;7m \u001b[39m\u001b[38;5;7minput_dir\u001b[39m\u001b[38;5;109;01m=\u001b[39;00m\u001b[38;5;144m'\u001b[39m\u001b[38;5;144mC:\u001b[39m\u001b[38;5;186m\\\\\u001b[39m\u001b[38;5;144mUsers\u001b[39m\u001b[38;5;186m\\\\\u001b[39m\u001b[38;5;144mzoiyy\u001b[39m\u001b[38;5;186m\\\\\u001b[39m\u001b[38;5;144mOneDrive\u001b[39m\u001b[38;5;186m\\\\\u001b[39m\u001b[38;5;144mDocumentos\u001b[39m\u001b[38;5;186m\\\\\u001b[39m\u001b[38;5;144mDataSets\u001b[39m\u001b[38;5;186m\\\\\u001b[39m\u001b[38;5;144mTFM\u001b[39m\u001b[38;5;186m\\\\\u001b[39m\u001b[38;5;144mPruebas\u001b[39m\u001b[38;5;144m'\u001b[39m\u001b[38;5;7m,\u001b[39m\u001b[38;5;7m \u001b[39m\u001b[38;5;7moutput_dir\u001b[39m\u001b[38;5;109;01m=\u001b[39;00m\u001b[38;5;144m'\u001b[39m\u001b[38;5;144mC:\u001b[39m\u001b[38;5;186m\\\\\u001b[39m\u001b[38;5;144mUsers\u001b[39m\u001b[38;5;186m\\\\\u001b[39m\u001b[38;5;144mzoiyy\u001b[39m\u001b[38;5;186m\\\\\u001b[39m\u001b[38;5;144mOneDrive\u001b[39m\u001b[38;5;186m\\\\\u001b[39m\u001b[38;5;144mDocumentos\u001b[39m\u001b[38;5;186m\\\\\u001b[39m\u001b[38;5;144mDataSets\u001b[39m\u001b[38;5;186m\\\\\u001b[39m\u001b[38;5;144mTFM\u001b[39m\u001b[38;5;186m\\\\\u001b[39m\u001b[38;5;144mPruebas2\u001b[39m\u001b[38;5;144m'\u001b[39m\u001b[38;5;7m)\u001b[39m\u001b[0m\n",
      "\u001b[33;1m====\u001b[0m\n"
     ]
    },
    {
     "data": {
      "text/plain": [
       "'C:\\\\Users\\\\zoiyy\\\\OneDrive\\\\Documentos\\\\DataSets\\\\TFM\\\\Pruebas2'"
      ]
     },
     "metadata": {},
     "output_type": "display_data"
    },
    {
     "data": {
      "text/plain": [
       "'----------------------------------------------------------------------------------------------------'"
      ]
     },
     "metadata": {},
     "output_type": "display_data"
    },
    {
     "data": {
      "text/plain": [
       "'Test prompt 10:'"
      ]
     },
     "metadata": {},
     "output_type": "display_data"
    },
    {
     "name": "stderr",
     "output_type": "stream",
     "text": [
      "\u001b[33;1m======== New task ========\u001b[0m\n",
      "\u001b[37;1mPreprocess the testing WADI dataset in the route 'C:\\Users\\zoiyy\\OneDrive\\Documentos\\DataSets\\TFM\\Pruebas' and save it in 'C:\\Users\\zoiyy\\OneDrive\\Documentos\\DataSets\\TFM\\Pruebas2'.\u001b[0m\n",
      "\u001b[31;20mError in code parsing: The code blob you used is invalid: due to the following error: 'NoneType' object has no attribute 'group'. This means that the regex pattern ```(?:py|python)?\\n(.*?)``` was not respected. Make sure to correct its formatting. Code blob was: \n",
      "dataset = \"WADI\"\n",
      "input_dir = r'C:\\Users\\zoiyy\\OneDrive\\Documentos\\DataSets\\TFM\\Pruebas'\n",
      "output_dir = r'C:\\Users\\zoiyy\\OneDrive\\Documentos\\DataSets\\TFM\\Pruebas2'\n",
      "preprocessed_path = AnomalyBERT_Data_Preprocessing(dataset=dataset, input_dir=input_dir, output_dir=output_dir)\n",
      "```. Be sure to provide correct code\u001b[0m\n",
      "Traceback (most recent call last):\n",
      "  File \"C:\\Users\\zoiyy\\AppData\\Roaming\\Python\\Python38\\site-packages\\transformers\\agents\\agents.py\", line 98, in parse_code_blob\n",
      "    return match.group(1).strip()\n",
      "AttributeError: 'NoneType' object has no attribute 'group'\n",
      "\n",
      "During handling of the above exception, another exception occurred:\n",
      "\n",
      "Traceback (most recent call last):\n",
      "  File \"C:\\Users\\zoiyy\\AppData\\Roaming\\Python\\Python38\\site-packages\\transformers\\agents\\agents.py\", line 556, in run\n",
      "    code_action = self.parse_code_blob(code_action)\n",
      "  File \"C:\\Users\\zoiyy\\AppData\\Roaming\\Python\\Python38\\site-packages\\transformers\\agents\\agents.py\", line 513, in parse_code_blob\n",
      "    return parse_code_blob(result)\n",
      "  File \"C:\\Users\\zoiyy\\AppData\\Roaming\\Python\\Python38\\site-packages\\transformers\\agents\\agents.py\", line 100, in parse_code_blob\n",
      "    raise ValueError(\n",
      "ValueError: The code blob you used is invalid: due to the following error: 'NoneType' object has no attribute 'group'. This means that the regex pattern ```(?:py|python)?\\n(.*?)``` was not respected. Make sure to correct its formatting. Code blob was: \n",
      "dataset = \"WADI\"\n",
      "input_dir = r'C:\\Users\\zoiyy\\OneDrive\\Documentos\\DataSets\\TFM\\Pruebas'\n",
      "output_dir = r'C:\\Users\\zoiyy\\OneDrive\\Documentos\\DataSets\\TFM\\Pruebas2'\n",
      "preprocessed_path = AnomalyBERT_Data_Preprocessing(dataset=dataset, input_dir=input_dir, output_dir=output_dir)\n",
      "```\n"
     ]
    },
    {
     "data": {
      "text/plain": [
       "'Error in code parsing: The code blob you used is invalid: due to the following error: \\'NoneType\\' object has no attribute \\'group\\'. This means that the regex pattern ```(?:py|python)?\\\\n(.*?)``` was not respected. Make sure to correct its formatting. Code blob was: \\ndataset = \"WADI\"\\ninput_dir = r\\'C:\\\\Users\\\\zoiyy\\\\OneDrive\\\\Documentos\\\\DataSets\\\\TFM\\\\Pruebas\\'\\noutput_dir = r\\'C:\\\\Users\\\\zoiyy\\\\OneDrive\\\\Documentos\\\\DataSets\\\\TFM\\\\Pruebas2\\'\\npreprocessed_path = AnomalyBERT_Data_Preprocessing(dataset=dataset, input_dir=input_dir, output_dir=output_dir)\\n```. Be sure to provide correct code'"
      ]
     },
     "metadata": {},
     "output_type": "display_data"
    },
    {
     "data": {
      "text/plain": [
       "'----------------------------------------------------------------------------------------------------'"
      ]
     },
     "metadata": {},
     "output_type": "display_data"
    },
    {
     "data": {
      "text/plain": [
       "'Test prompt 11:'"
      ]
     },
     "metadata": {},
     "output_type": "display_data"
    },
    {
     "name": "stderr",
     "output_type": "stream",
     "text": [
      "\u001b[33;1m======== New task ========\u001b[0m\n",
      "\u001b[37;1mPreprocess the testing WADI dataset stored in 'C:\\Users\\zoiyy\\OneDrive\\Documentos\\DataSets\\TFM\\Pruebas' and save it in 'C:\\Users\\zoiyy\\OneDrive\\Documentos\\DataSets\\TFM\\Pruebas2'.\u001b[0m\n",
      "\u001b[33;1m==== Agent is executing the code below:\u001b[0m\n",
      "\u001b[0m\u001b[38;5;7mtest_wadi_dataset\u001b[39m\u001b[38;5;7m \u001b[39m\u001b[38;5;109;01m=\u001b[39;00m\u001b[38;5;7m \u001b[39m\u001b[38;5;144m'\u001b[39m\u001b[38;5;144mSWaT\u001b[39m\u001b[38;5;144m'\u001b[39m\n",
      "\u001b[38;5;7minput_dir\u001b[39m\u001b[38;5;7m \u001b[39m\u001b[38;5;109;01m=\u001b[39;00m\u001b[38;5;7m \u001b[39m\u001b[38;5;144mr\u001b[39m\u001b[38;5;144m'\u001b[39m\u001b[38;5;144mC:\u001b[39m\u001b[38;5;144m\\\u001b[39m\u001b[38;5;144mUsers\u001b[39m\u001b[38;5;144m\\\u001b[39m\u001b[38;5;144mzoiyy\u001b[39m\u001b[38;5;144m\\\u001b[39m\u001b[38;5;144mOneDrive\u001b[39m\u001b[38;5;144m\\\u001b[39m\u001b[38;5;144mDocumentos\u001b[39m\u001b[38;5;144m\\\u001b[39m\u001b[38;5;144mDataSets\u001b[39m\u001b[38;5;144m\\\u001b[39m\u001b[38;5;144mTFM\u001b[39m\u001b[38;5;144m\\\u001b[39m\u001b[38;5;144mPruebas\u001b[39m\u001b[38;5;144m'\u001b[39m\n",
      "\u001b[38;5;7moutput_dir\u001b[39m\u001b[38;5;7m \u001b[39m\u001b[38;5;109;01m=\u001b[39;00m\u001b[38;5;7m \u001b[39m\u001b[38;5;144mr\u001b[39m\u001b[38;5;144m'\u001b[39m\u001b[38;5;144mC:\u001b[39m\u001b[38;5;144m\\\u001b[39m\u001b[38;5;144mUsers\u001b[39m\u001b[38;5;144m\\\u001b[39m\u001b[38;5;144mzoiyy\u001b[39m\u001b[38;5;144m\\\u001b[39m\u001b[38;5;144mOneDrive\u001b[39m\u001b[38;5;144m\\\u001b[39m\u001b[38;5;144mDocumentos\u001b[39m\u001b[38;5;144m\\\u001b[39m\u001b[38;5;144mDataSets\u001b[39m\u001b[38;5;144m\\\u001b[39m\u001b[38;5;144mTFM\u001b[39m\u001b[38;5;144m\\\u001b[39m\u001b[38;5;144mPruebas2\u001b[39m\u001b[38;5;144m'\u001b[39m\n",
      "\u001b[38;5;7mdate_label\u001b[39m\u001b[38;5;7m \u001b[39m\u001b[38;5;109;01m=\u001b[39;00m\u001b[38;5;7m \u001b[39m\u001b[38;5;109;01mNone\u001b[39;00m\n",
      "\u001b[38;5;7mdataset_mode\u001b[39m\u001b[38;5;7m \u001b[39m\u001b[38;5;109;01m=\u001b[39;00m\u001b[38;5;7m \u001b[39m\u001b[38;5;144m'\u001b[39m\u001b[38;5;144mtest\u001b[39m\u001b[38;5;144m'\u001b[39m\n",
      "\u001b[38;5;7mpreprocessed_path\u001b[39m\u001b[38;5;7m \u001b[39m\u001b[38;5;109;01m=\u001b[39;00m\u001b[38;5;7m \u001b[39m\u001b[38;5;7mAnomalyBERT_Data_Preprocessing\u001b[39m\u001b[38;5;7m(\u001b[39m\u001b[38;5;7mdataset\u001b[39m\u001b[38;5;109;01m=\u001b[39;00m\u001b[38;5;7mtest_wadi_dataset\u001b[39m\u001b[38;5;7m,\u001b[39m\u001b[38;5;7m \u001b[39m\u001b[38;5;7minput_dir\u001b[39m\u001b[38;5;109;01m=\u001b[39;00m\u001b[38;5;7minput_dir\u001b[39m\u001b[38;5;7m,\u001b[39m\u001b[38;5;7m \u001b[39m\u001b[38;5;7moutput_dir\u001b[39m\u001b[38;5;109;01m=\u001b[39;00m\u001b[38;5;7moutput_dir\u001b[39m\u001b[38;5;7m,\u001b[39m\u001b[38;5;7m \u001b[39m\u001b[38;5;7mdate_label\u001b[39m\u001b[38;5;109;01m=\u001b[39;00m\u001b[38;5;7mdate_label\u001b[39m\u001b[38;5;7m,\u001b[39m\u001b[38;5;7m \u001b[39m\u001b[38;5;7mdataset_mode\u001b[39m\u001b[38;5;109;01m=\u001b[39;00m\u001b[38;5;7mdataset_mode\u001b[39m\u001b[38;5;7m)\u001b[39m\u001b[0m\n",
      "\u001b[33;1m====\u001b[0m\n",
      "\u001b[31;20mError in execution: [Errno 2] No such file or directory: 'C:\\\\Users\\\\zoiyy\\\\OneDrive\\\\Documentos\\\\DataSets\\\\TFM\\\\Pruebas\\\\SWaT/Physical\\\\SWaT_Dataset_Attack_v0.xlsx'. Be sure to provide correct code.\u001b[0m\n",
      "Traceback (most recent call last):\n",
      "  File \"C:\\Users\\zoiyy\\AppData\\Roaming\\Python\\Python38\\site-packages\\transformers\\agents\\agents.py\", line 566, in run\n",
      "    output = self.python_evaluator(code_action, available_tools, state=self.state)\n",
      "  File \"C:\\Users\\zoiyy\\AppData\\Roaming\\Python\\Python38\\site-packages\\transformers\\agents\\python_interpreter.py\", line 511, in evaluate_python_code\n",
      "    line_result = evaluate_ast(node, state, tools)\n",
      "  File \"C:\\Users\\zoiyy\\AppData\\Roaming\\Python\\Python38\\site-packages\\transformers\\agents\\python_interpreter.py\", line 360, in evaluate_ast\n",
      "    return evaluate_assign(expression, state, tools)\n",
      "  File \"C:\\Users\\zoiyy\\AppData\\Roaming\\Python\\Python38\\site-packages\\transformers\\agents\\python_interpreter.py\", line 177, in evaluate_assign\n",
      "    result = evaluate_ast(assign.value, state, tools)\n",
      "  File \"C:\\Users\\zoiyy\\AppData\\Roaming\\Python\\Python38\\site-packages\\transformers\\agents\\python_interpreter.py\", line 365, in evaluate_ast\n",
      "    return evaluate_call(expression, state, tools)\n",
      "  File \"C:\\Users\\zoiyy\\AppData\\Roaming\\Python\\Python38\\site-packages\\transformers\\agents\\python_interpreter.py\", line 217, in evaluate_call\n",
      "    output = func(*args, **kwargs)\n",
      "  File \"c:\\Users\\zoiyy\\OneDrive\\Documentos\\Repositorios GIT\\TFM\\Pruebas\\test_batch.py\", line 26, in __call__\n",
      "    preprocessed_dataset_folder\t= adp.preprocess_data( dataset , input_dir , output_dir , json_dir , date_label , dataset_mode )\n",
      "  File \"c:\\Users\\zoiyy\\OneDrive\\Documentos\\Repositorios GIT\\TFM\\Adapted_utils\\Adapted_data_preprocessing.py\", line 247, in preprocess_data\n",
      "    load_data( dataset , data_dir , output_folder , json_folder , date_label , process_type )\n",
      "  File \"c:\\Users\\zoiyy\\OneDrive\\Documentos\\Repositorios GIT\\TFM\\Adapted_utils\\Adapted_data_preprocessing.py\", line 185, in load_data\n",
      "    abnormal_data\t= pd.read_excel( os.path.join( dataset_folder , 'SWaT_Dataset_Attack_v0.xlsx' ) )\n",
      "  File \"C:\\Users\\zoiyy\\AppData\\Roaming\\Python\\Python38\\site-packages\\pandas\\io\\excel\\_base.py\", line 478, in read_excel\n",
      "    io = ExcelFile(io, storage_options=storage_options, engine=engine)\n",
      "  File \"C:\\Users\\zoiyy\\AppData\\Roaming\\Python\\Python38\\site-packages\\pandas\\io\\excel\\_base.py\", line 1496, in __init__\n",
      "    ext = inspect_excel_format(\n",
      "  File \"C:\\Users\\zoiyy\\AppData\\Roaming\\Python\\Python38\\site-packages\\pandas\\io\\excel\\_base.py\", line 1371, in inspect_excel_format\n",
      "    with get_handle(\n",
      "  File \"C:\\Users\\zoiyy\\AppData\\Roaming\\Python\\Python38\\site-packages\\pandas\\io\\common.py\", line 868, in get_handle\n",
      "    handle = open(handle, ioargs.mode)\n",
      "FileNotFoundError: [Errno 2] No such file or directory: 'C:\\\\Users\\\\zoiyy\\\\OneDrive\\\\Documentos\\\\DataSets\\\\TFM\\\\Pruebas\\\\SWaT/Physical\\\\SWaT_Dataset_Attack_v0.xlsx'\n"
     ]
    },
    {
     "data": {
      "text/plain": [
       "\"Error in execution: [Errno 2] No such file or directory: 'C:\\\\\\\\Users\\\\\\\\zoiyy\\\\\\\\OneDrive\\\\\\\\Documentos\\\\\\\\DataSets\\\\\\\\TFM\\\\\\\\Pruebas\\\\\\\\SWaT/Physical\\\\\\\\SWaT_Dataset_Attack_v0.xlsx'. Be sure to provide correct code.\""
      ]
     },
     "metadata": {},
     "output_type": "display_data"
    },
    {
     "data": {
      "text/plain": [
       "'===================================================================================================='"
      ]
     },
     "metadata": {},
     "output_type": "display_data"
    },
    {
     "data": {
      "text/plain": [
       "'===================================================================================================='"
      ]
     },
     "metadata": {},
     "output_type": "display_data"
    },
    {
     "data": {
      "text/plain": [
       "'RESULTS FOR TOOL DESCRIPTION 3-INDENT:'"
      ]
     },
     "metadata": {},
     "output_type": "display_data"
    },
    {
     "data": {
      "text/plain": [
       "'----------------------------------------------------------------------------------------------------'"
      ]
     },
     "metadata": {},
     "output_type": "display_data"
    },
    {
     "data": {
      "text/plain": [
       "'Test prompt 8:'"
      ]
     },
     "metadata": {},
     "output_type": "display_data"
    },
    {
     "name": "stderr",
     "output_type": "stream",
     "text": [
      "\u001b[33;1m======== New task ========\u001b[0m\n",
      "\u001b[37;1mPreprocess the testing WADI dataset in the route 'C:\\Users\\zoiyy\\OneDrive\\Documentos\\DataSets\\TFM\\Pruebas' and store it in 'C:\\Users\\zoiyy\\OneDrive\\Documentos\\DataSets\\TFM\\Pruebas2'.\u001b[0m\n",
      "\u001b[33;1m==== Agent is executing the code below:\u001b[0m\n",
      "\u001b[0m\u001b[38;5;7mpreprocessed_data\u001b[39m\u001b[38;5;7m \u001b[39m\u001b[38;5;109;01m=\u001b[39;00m\u001b[38;5;7m \u001b[39m\u001b[38;5;7mAnomalyBERT_Data_Preprocessing\u001b[39m\u001b[38;5;7m(\u001b[39m\u001b[38;5;7mdataset\u001b[39m\u001b[38;5;109;01m=\u001b[39;00m\u001b[38;5;144m'\u001b[39m\u001b[38;5;144mWADI\u001b[39m\u001b[38;5;144m'\u001b[39m\u001b[38;5;7m,\u001b[39m\u001b[38;5;7m \u001b[39m\u001b[38;5;7minput_dir\u001b[39m\u001b[38;5;109;01m=\u001b[39;00m\u001b[38;5;144m'\u001b[39m\u001b[38;5;144mC:\u001b[39m\u001b[38;5;186m\\\\\u001b[39m\u001b[38;5;144mUsers\u001b[39m\u001b[38;5;186m\\\\\u001b[39m\u001b[38;5;144mzoiyy\u001b[39m\u001b[38;5;186m\\\\\u001b[39m\u001b[38;5;144mOneDrive\u001b[39m\u001b[38;5;186m\\\\\u001b[39m\u001b[38;5;144mDocumentos\u001b[39m\u001b[38;5;186m\\\\\u001b[39m\u001b[38;5;144mDataSets\u001b[39m\u001b[38;5;186m\\\\\u001b[39m\u001b[38;5;144mTFM\u001b[39m\u001b[38;5;186m\\\\\u001b[39m\u001b[38;5;144mPruebas\u001b[39m\u001b[38;5;144m'\u001b[39m\u001b[38;5;7m,\u001b[39m\u001b[38;5;7m \u001b[39m\u001b[38;5;7moutput_dir\u001b[39m\u001b[38;5;109;01m=\u001b[39;00m\u001b[38;5;144m'\u001b[39m\u001b[38;5;144mC:\u001b[39m\u001b[38;5;186m\\\\\u001b[39m\u001b[38;5;144mUsers\u001b[39m\u001b[38;5;186m\\\\\u001b[39m\u001b[38;5;144mzoiyy\u001b[39m\u001b[38;5;186m\\\\\u001b[39m\u001b[38;5;144mOneDrive\u001b[39m\u001b[38;5;186m\\\\\u001b[39m\u001b[38;5;144mDocumentos\u001b[39m\u001b[38;5;186m\\\\\u001b[39m\u001b[38;5;144mDataSets\u001b[39m\u001b[38;5;186m\\\\\u001b[39m\u001b[38;5;144mTFM\u001b[39m\u001b[38;5;186m\\\\\u001b[39m\u001b[38;5;144mPruebas2\u001b[39m\u001b[38;5;144m'\u001b[39m\u001b[38;5;7m)\u001b[39m\u001b[0m\n",
      "\u001b[33;1m====\u001b[0m\n"
     ]
    },
    {
     "data": {
      "text/plain": [
       "'C:\\\\Users\\\\zoiyy\\\\OneDrive\\\\Documentos\\\\DataSets\\\\TFM\\\\Pruebas2'"
      ]
     },
     "metadata": {},
     "output_type": "display_data"
    },
    {
     "data": {
      "text/plain": [
       "'----------------------------------------------------------------------------------------------------'"
      ]
     },
     "metadata": {},
     "output_type": "display_data"
    },
    {
     "data": {
      "text/plain": [
       "'Test prompt 9:'"
      ]
     },
     "metadata": {},
     "output_type": "display_data"
    },
    {
     "name": "stderr",
     "output_type": "stream",
     "text": [
      "\u001b[33;1m======== New task ========\u001b[0m\n",
      "\u001b[37;1mPreprocess the testing WADI dataset stored in 'C:\\Users\\zoiyy\\OneDrive\\Documentos\\DataSets\\TFM\\Pruebas' and store it in 'C:\\Users\\zoiyy\\OneDrive\\Documentos\\DataSets\\TFM\\Pruebas2'.\u001b[0m\n",
      "\u001b[33;1m==== Agent is executing the code below:\u001b[0m\n",
      "\u001b[0m\u001b[38;5;7mdataset\u001b[39m\u001b[38;5;7m \u001b[39m\u001b[38;5;109;01m=\u001b[39;00m\u001b[38;5;7m \u001b[39m\u001b[38;5;144m'\u001b[39m\u001b[38;5;144mWADI\u001b[39m\u001b[38;5;144m'\u001b[39m\n",
      "\u001b[38;5;7minput_dir\u001b[39m\u001b[38;5;7m \u001b[39m\u001b[38;5;109;01m=\u001b[39;00m\u001b[38;5;7m \u001b[39m\u001b[38;5;144mr\u001b[39m\u001b[38;5;144m'\u001b[39m\u001b[38;5;144mC:\u001b[39m\u001b[38;5;144m\\\u001b[39m\u001b[38;5;144mUsers\u001b[39m\u001b[38;5;144m\\\u001b[39m\u001b[38;5;144mzoiyy\u001b[39m\u001b[38;5;144m\\\u001b[39m\u001b[38;5;144mOneDrive\u001b[39m\u001b[38;5;144m\\\u001b[39m\u001b[38;5;144mDocumentos\u001b[39m\u001b[38;5;144m\\\u001b[39m\u001b[38;5;144mDataSets\u001b[39m\u001b[38;5;144m\\\u001b[39m\u001b[38;5;144mTFM\u001b[39m\u001b[38;5;144m\\\u001b[39m\u001b[38;5;144mPruebas\u001b[39m\u001b[38;5;144m'\u001b[39m\n",
      "\u001b[38;5;7moutput_dir\u001b[39m\u001b[38;5;7m \u001b[39m\u001b[38;5;109;01m=\u001b[39;00m\u001b[38;5;7m \u001b[39m\u001b[38;5;144mr\u001b[39m\u001b[38;5;144m'\u001b[39m\u001b[38;5;144mC:\u001b[39m\u001b[38;5;144m\\\u001b[39m\u001b[38;5;144mUsers\u001b[39m\u001b[38;5;144m\\\u001b[39m\u001b[38;5;144mzoiyy\u001b[39m\u001b[38;5;144m\\\u001b[39m\u001b[38;5;144mOneDrive\u001b[39m\u001b[38;5;144m\\\u001b[39m\u001b[38;5;144mDocumentos\u001b[39m\u001b[38;5;144m\\\u001b[39m\u001b[38;5;144mDataSets\u001b[39m\u001b[38;5;144m\\\u001b[39m\u001b[38;5;144mTFM\u001b[39m\u001b[38;5;144m\\\u001b[39m\u001b[38;5;144mPruebas2\u001b[39m\u001b[38;5;144m'\u001b[39m\n",
      "\u001b[38;5;7mAnomalyBERT_Data_Preprocessing\u001b[39m\u001b[38;5;7m(\u001b[39m\u001b[38;5;7mdataset\u001b[39m\u001b[38;5;109;01m=\u001b[39;00m\u001b[38;5;7mdataset\u001b[39m\u001b[38;5;7m,\u001b[39m\u001b[38;5;7m \u001b[39m\u001b[38;5;7minput_dir\u001b[39m\u001b[38;5;109;01m=\u001b[39;00m\u001b[38;5;7minput_dir\u001b[39m\u001b[38;5;7m,\u001b[39m\u001b[38;5;7m \u001b[39m\u001b[38;5;7moutput_dir\u001b[39m\u001b[38;5;109;01m=\u001b[39;00m\u001b[38;5;7moutput_dir\u001b[39m\u001b[38;5;7m)\u001b[39m\u001b[0m\n",
      "\u001b[33;1m====\u001b[0m\n"
     ]
    },
    {
     "data": {
      "text/plain": [
       "'C:\\\\Users\\\\zoiyy\\\\OneDrive\\\\Documentos\\\\DataSets\\\\TFM\\\\Pruebas2'"
      ]
     },
     "metadata": {},
     "output_type": "display_data"
    },
    {
     "data": {
      "text/plain": [
       "'----------------------------------------------------------------------------------------------------'"
      ]
     },
     "metadata": {},
     "output_type": "display_data"
    },
    {
     "data": {
      "text/plain": [
       "'Test prompt 10:'"
      ]
     },
     "metadata": {},
     "output_type": "display_data"
    },
    {
     "name": "stderr",
     "output_type": "stream",
     "text": [
      "\u001b[33;1m======== New task ========\u001b[0m\n",
      "\u001b[37;1mPreprocess the testing WADI dataset in the route 'C:\\Users\\zoiyy\\OneDrive\\Documentos\\DataSets\\TFM\\Pruebas' and save it in 'C:\\Users\\zoiyy\\OneDrive\\Documentos\\DataSets\\TFM\\Pruebas2'.\u001b[0m\n",
      "\u001b[33;1m==== Agent is executing the code below:\u001b[0m\n",
      "\u001b[0m\u001b[38;5;7mAnomalyBERT_Data_Preprocessing\u001b[39m\u001b[38;5;7m(\u001b[39m\u001b[38;5;7mdataset\u001b[39m\u001b[38;5;109;01m=\u001b[39;00m\u001b[38;5;144m'\u001b[39m\u001b[38;5;144mWADI\u001b[39m\u001b[38;5;144m'\u001b[39m\u001b[38;5;7m,\u001b[39m\u001b[38;5;7m \u001b[39m\u001b[38;5;7minput_dir\u001b[39m\u001b[38;5;109;01m=\u001b[39;00m\u001b[38;5;144m'\u001b[39m\u001b[38;5;144mC:\u001b[39m\u001b[38;5;186m\\\\\u001b[39m\u001b[38;5;144mUsers\u001b[39m\u001b[38;5;186m\\\\\u001b[39m\u001b[38;5;144mzoiyy\u001b[39m\u001b[38;5;186m\\\\\u001b[39m\u001b[38;5;144mOneDrive\u001b[39m\u001b[38;5;186m\\\\\u001b[39m\u001b[38;5;144mDocumentos\u001b[39m\u001b[38;5;186m\\\\\u001b[39m\u001b[38;5;144mDataSets\u001b[39m\u001b[38;5;186m\\\\\u001b[39m\u001b[38;5;144mTFM\u001b[39m\u001b[38;5;186m\\\\\u001b[39m\u001b[38;5;144mPruebas\u001b[39m\u001b[38;5;144m'\u001b[39m\u001b[38;5;7m,\u001b[39m\u001b[38;5;7m \u001b[39m\u001b[38;5;7moutput_dir\u001b[39m\u001b[38;5;109;01m=\u001b[39;00m\u001b[38;5;144m'\u001b[39m\u001b[38;5;144mC:\u001b[39m\u001b[38;5;186m\\\\\u001b[39m\u001b[38;5;144mUsers\u001b[39m\u001b[38;5;186m\\\\\u001b[39m\u001b[38;5;144mzoiyy\u001b[39m\u001b[38;5;186m\\\\\u001b[39m\u001b[38;5;144mOneDrive\u001b[39m\u001b[38;5;186m\\\\\u001b[39m\u001b[38;5;144mDocumentos\u001b[39m\u001b[38;5;186m\\\\\u001b[39m\u001b[38;5;144mDataSets\u001b[39m\u001b[38;5;186m\\\\\u001b[39m\u001b[38;5;144mTFM\u001b[39m\u001b[38;5;186m\\\\\u001b[39m\u001b[38;5;144mPruebas2\u001b[39m\u001b[38;5;144m'\u001b[39m\u001b[38;5;7m)\u001b[39m\u001b[0m\n",
      "\u001b[33;1m====\u001b[0m\n"
     ]
    },
    {
     "data": {
      "text/plain": [
       "'C:\\\\Users\\\\zoiyy\\\\OneDrive\\\\Documentos\\\\DataSets\\\\TFM\\\\Pruebas2'"
      ]
     },
     "metadata": {},
     "output_type": "display_data"
    },
    {
     "data": {
      "text/plain": [
       "'----------------------------------------------------------------------------------------------------'"
      ]
     },
     "metadata": {},
     "output_type": "display_data"
    },
    {
     "data": {
      "text/plain": [
       "'Test prompt 11:'"
      ]
     },
     "metadata": {},
     "output_type": "display_data"
    },
    {
     "name": "stderr",
     "output_type": "stream",
     "text": [
      "\u001b[33;1m======== New task ========\u001b[0m\n",
      "\u001b[37;1mPreprocess the testing WADI dataset stored in 'C:\\Users\\zoiyy\\OneDrive\\Documentos\\DataSets\\TFM\\Pruebas' and save it in 'C:\\Users\\zoiyy\\OneDrive\\Documentos\\DataSets\\TFM\\Pruebas2'.\u001b[0m\n",
      "\u001b[33;1m==== Agent is executing the code below:\u001b[0m\n",
      "\u001b[0m\u001b[38;5;7mpreprocessed_data_path\u001b[39m\u001b[38;5;7m \u001b[39m\u001b[38;5;109;01m=\u001b[39;00m\u001b[38;5;7m \u001b[39m\u001b[38;5;7mAnomalyBERT_Data_Preprocessing\u001b[39m\u001b[38;5;7m(\u001b[39m\u001b[38;5;7mdataset\u001b[39m\u001b[38;5;109;01m=\u001b[39;00m\u001b[38;5;144m'\u001b[39m\u001b[38;5;144mWADI\u001b[39m\u001b[38;5;144m'\u001b[39m\u001b[38;5;7m,\u001b[39m\u001b[38;5;7m \u001b[39m\u001b[38;5;7minput_dir\u001b[39m\u001b[38;5;109;01m=\u001b[39;00m\u001b[38;5;144mr\u001b[39m\u001b[38;5;144m'\u001b[39m\u001b[38;5;144mC:\u001b[39m\u001b[38;5;144m\\\u001b[39m\u001b[38;5;144mUsers\u001b[39m\u001b[38;5;144m\\\u001b[39m\u001b[38;5;144mzoiyy\u001b[39m\u001b[38;5;144m\\\u001b[39m\u001b[38;5;144mOneDrive\u001b[39m\u001b[38;5;144m\\\u001b[39m\u001b[38;5;144mDocumentos\u001b[39m\u001b[38;5;144m\\\u001b[39m\u001b[38;5;144mDataSets\u001b[39m\u001b[38;5;144m\\\u001b[39m\u001b[38;5;144mTFM\u001b[39m\u001b[38;5;144m\\\u001b[39m\u001b[38;5;144mPruebas\u001b[39m\u001b[38;5;144m'\u001b[39m\u001b[38;5;7m,\u001b[39m\u001b[38;5;7m \u001b[39m\u001b[38;5;7moutput_dir\u001b[39m\u001b[38;5;109;01m=\u001b[39;00m\u001b[38;5;144mr\u001b[39m\u001b[38;5;144m'\u001b[39m\u001b[38;5;144mC:\u001b[39m\u001b[38;5;144m\\\u001b[39m\u001b[38;5;144mUsers\u001b[39m\u001b[38;5;144m\\\u001b[39m\u001b[38;5;144mzoiyy\u001b[39m\u001b[38;5;144m\\\u001b[39m\u001b[38;5;144mOneDrive\u001b[39m\u001b[38;5;144m\\\u001b[39m\u001b[38;5;144mDocumentos\u001b[39m\u001b[38;5;144m\\\u001b[39m\u001b[38;5;144mDataSets\u001b[39m\u001b[38;5;144m\\\u001b[39m\u001b[38;5;144mTFM\u001b[39m\u001b[38;5;144m\\\u001b[39m\u001b[38;5;144mPruebas2\u001b[39m\u001b[38;5;144m'\u001b[39m\u001b[38;5;7m)\u001b[39m\n",
      "\u001b[38;5;109mprint\u001b[39m\u001b[38;5;7m(\u001b[39m\u001b[38;5;144mf\u001b[39m\u001b[38;5;144m\"\u001b[39m\u001b[38;5;144mPreprocessed data saved at \u001b[39m\u001b[38;5;144m{\u001b[39m\u001b[38;5;7mpreprocessed_data_path\u001b[39m\u001b[38;5;144m}\u001b[39m\u001b[38;5;144m.\u001b[39m\u001b[38;5;144m\"\u001b[39m\u001b[38;5;7m)\u001b[39m\u001b[0m\n",
      "\u001b[33;1m====\u001b[0m\n"
     ]
    },
    {
     "data": {
      "text/plain": [
       "'Preprocessed data saved at C:\\\\Users\\\\zoiyy\\\\OneDrive\\\\Documentos\\\\DataSets\\\\TFM\\\\Pruebas2.'"
      ]
     },
     "metadata": {},
     "output_type": "display_data"
    },
    {
     "data": {
      "text/plain": [
       "'===================================================================================================='"
      ]
     },
     "metadata": {},
     "output_type": "display_data"
    },
    {
     "data": {
      "text/plain": [
       "'===================================================================================================='"
      ]
     },
     "metadata": {},
     "output_type": "display_data"
    },
    {
     "data": {
      "text/plain": [
       "'RESULTS FOR TOOL DESCRIPTION 4:'"
      ]
     },
     "metadata": {},
     "output_type": "display_data"
    },
    {
     "data": {
      "text/plain": [
       "'----------------------------------------------------------------------------------------------------'"
      ]
     },
     "metadata": {},
     "output_type": "display_data"
    },
    {
     "data": {
      "text/plain": [
       "'Test prompt 8:'"
      ]
     },
     "metadata": {},
     "output_type": "display_data"
    },
    {
     "name": "stderr",
     "output_type": "stream",
     "text": [
      "\u001b[33;1m======== New task ========\u001b[0m\n",
      "\u001b[37;1mPreprocess the testing WADI dataset in the route 'C:\\Users\\zoiyy\\OneDrive\\Documentos\\DataSets\\TFM\\Pruebas' and store it in 'C:\\Users\\zoiyy\\OneDrive\\Documentos\\DataSets\\TFM\\Pruebas2'.\u001b[0m\n",
      "\u001b[33;1m==== Agent is executing the code below:\u001b[0m\n",
      "\u001b[0m\u001b[38;5;7mtesting_dataset\u001b[39m\u001b[38;5;7m \u001b[39m\u001b[38;5;109;01m=\u001b[39;00m\u001b[38;5;7m \u001b[39m\u001b[38;5;144m'\u001b[39m\u001b[38;5;144mWADI\u001b[39m\u001b[38;5;144m'\u001b[39m\n",
      "\u001b[38;5;7minput_dir\u001b[39m\u001b[38;5;7m \u001b[39m\u001b[38;5;109;01m=\u001b[39;00m\u001b[38;5;7m \u001b[39m\u001b[38;5;144mr\u001b[39m\u001b[38;5;144m'\u001b[39m\u001b[38;5;144mC:\u001b[39m\u001b[38;5;144m\\\u001b[39m\u001b[38;5;144mUsers\u001b[39m\u001b[38;5;144m\\\u001b[39m\u001b[38;5;144mzoiyy\u001b[39m\u001b[38;5;144m\\\u001b[39m\u001b[38;5;144mOneDrive\u001b[39m\u001b[38;5;144m\\\u001b[39m\u001b[38;5;144mDocumentos\u001b[39m\u001b[38;5;144m\\\u001b[39m\u001b[38;5;144mDataSets\u001b[39m\u001b[38;5;144m\\\u001b[39m\u001b[38;5;144mTFM\u001b[39m\u001b[38;5;144m\\\u001b[39m\u001b[38;5;144mPruebas\u001b[39m\u001b[38;5;144m'\u001b[39m\n",
      "\u001b[38;5;7moutput_dir\u001b[39m\u001b[38;5;7m \u001b[39m\u001b[38;5;109;01m=\u001b[39;00m\u001b[38;5;7m \u001b[39m\u001b[38;5;144mr\u001b[39m\u001b[38;5;144m'\u001b[39m\u001b[38;5;144mC:\u001b[39m\u001b[38;5;144m\\\u001b[39m\u001b[38;5;144mUsers\u001b[39m\u001b[38;5;144m\\\u001b[39m\u001b[38;5;144mzoiyy\u001b[39m\u001b[38;5;144m\\\u001b[39m\u001b[38;5;144mOneDrive\u001b[39m\u001b[38;5;144m\\\u001b[39m\u001b[38;5;144mDocumentos\u001b[39m\u001b[38;5;144m\\\u001b[39m\u001b[38;5;144mDataSets\u001b[39m\u001b[38;5;144m\\\u001b[39m\u001b[38;5;144mTFM\u001b[39m\u001b[38;5;144m\\\u001b[39m\u001b[38;5;144mPruebas2\u001b[39m\u001b[38;5;144m'\u001b[39m\n",
      "\u001b[38;5;7mpreprocessed_data_path\u001b[39m\u001b[38;5;7m \u001b[39m\u001b[38;5;109;01m=\u001b[39;00m\u001b[38;5;7m \u001b[39m\u001b[38;5;7mAnomalyBERT_Data_Preprocessing\u001b[39m\u001b[38;5;7m(\u001b[39m\u001b[38;5;7mdataset\u001b[39m\u001b[38;5;109;01m=\u001b[39;00m\u001b[38;5;7mtesting_dataset\u001b[39m\u001b[38;5;7m,\u001b[39m\u001b[38;5;7m \u001b[39m\u001b[38;5;7minput_dir\u001b[39m\u001b[38;5;109;01m=\u001b[39;00m\u001b[38;5;7minput_dir\u001b[39m\u001b[38;5;7m,\u001b[39m\u001b[38;5;7m \u001b[39m\u001b[38;5;7moutput_dir\u001b[39m\u001b[38;5;109;01m=\u001b[39;00m\u001b[38;5;7moutput_dir\u001b[39m\u001b[38;5;7m)\u001b[39m\n",
      "\u001b[38;5;109mprint\u001b[39m\u001b[38;5;7m(\u001b[39m\u001b[38;5;144mf\u001b[39m\u001b[38;5;144m'\u001b[39m\u001b[38;5;144mThe preprocessed data is stored at \u001b[39m\u001b[38;5;144m{\u001b[39m\u001b[38;5;7mpreprocessed_data_path\u001b[39m\u001b[38;5;144m}\u001b[39m\u001b[38;5;144m'\u001b[39m\u001b[38;5;7m)\u001b[39m\u001b[0m\n",
      "\u001b[33;1m====\u001b[0m\n"
     ]
    },
    {
     "data": {
      "text/plain": [
       "'The preprocessed data is stored at C:\\\\Users\\\\zoiyy\\\\OneDrive\\\\Documentos\\\\DataSets\\\\TFM\\\\Pruebas2'"
      ]
     },
     "metadata": {},
     "output_type": "display_data"
    },
    {
     "data": {
      "text/plain": [
       "'----------------------------------------------------------------------------------------------------'"
      ]
     },
     "metadata": {},
     "output_type": "display_data"
    },
    {
     "data": {
      "text/plain": [
       "'Test prompt 9:'"
      ]
     },
     "metadata": {},
     "output_type": "display_data"
    },
    {
     "name": "stderr",
     "output_type": "stream",
     "text": [
      "\u001b[33;1m======== New task ========\u001b[0m\n",
      "\u001b[37;1mPreprocess the testing WADI dataset stored in 'C:\\Users\\zoiyy\\OneDrive\\Documentos\\DataSets\\TFM\\Pruebas' and store it in 'C:\\Users\\zoiyy\\OneDrive\\Documentos\\DataSets\\TFM\\Pruebas2'.\u001b[0m\n",
      "\u001b[33;1m==== Agent is executing the code below:\u001b[0m\n",
      "\u001b[0m\u001b[38;5;7moutput_dir\u001b[39m\u001b[38;5;7m \u001b[39m\u001b[38;5;109;01m=\u001b[39;00m\u001b[38;5;7m \u001b[39m\u001b[38;5;144mr\u001b[39m\u001b[38;5;144m'\u001b[39m\u001b[38;5;144mC:\u001b[39m\u001b[38;5;144m\\\u001b[39m\u001b[38;5;144mUsers\u001b[39m\u001b[38;5;144m\\\u001b[39m\u001b[38;5;144mzoiyy\u001b[39m\u001b[38;5;144m\\\u001b[39m\u001b[38;5;144mOneDrive\u001b[39m\u001b[38;5;144m\\\u001b[39m\u001b[38;5;144mDocumentos\u001b[39m\u001b[38;5;144m\\\u001b[39m\u001b[38;5;144mDataSets\u001b[39m\u001b[38;5;144m\\\u001b[39m\u001b[38;5;144mTFM\u001b[39m\u001b[38;5;144m\\\u001b[39m\u001b[38;5;144mPruebas2\u001b[39m\u001b[38;5;144m'\u001b[39m\n",
      "\u001b[38;5;7minput_dir\u001b[39m\u001b[38;5;7m \u001b[39m\u001b[38;5;109;01m=\u001b[39;00m\u001b[38;5;7m \u001b[39m\u001b[38;5;144mr\u001b[39m\u001b[38;5;144m'\u001b[39m\u001b[38;5;144mC:\u001b[39m\u001b[38;5;144m\\\u001b[39m\u001b[38;5;144mUsers\u001b[39m\u001b[38;5;144m\\\u001b[39m\u001b[38;5;144mzoiyy\u001b[39m\u001b[38;5;144m\\\u001b[39m\u001b[38;5;144mOneDrive\u001b[39m\u001b[38;5;144m\\\u001b[39m\u001b[38;5;144mDocumentos\u001b[39m\u001b[38;5;144m\\\u001b[39m\u001b[38;5;144mDataSets\u001b[39m\u001b[38;5;144m\\\u001b[39m\u001b[38;5;144mTFM\u001b[39m\u001b[38;5;144m\\\u001b[39m\u001b[38;5;144mPruebas\u001b[39m\u001b[38;5;144m'\u001b[39m\n",
      "\u001b[38;5;7mdataset\u001b[39m\u001b[38;5;7m \u001b[39m\u001b[38;5;109;01m=\u001b[39;00m\u001b[38;5;7m \u001b[39m\u001b[38;5;144m'\u001b[39m\u001b[38;5;144mWADI\u001b[39m\u001b[38;5;144m'\u001b[39m\n",
      "\u001b[38;5;7mdate_label\u001b[39m\u001b[38;5;7m \u001b[39m\u001b[38;5;109;01m=\u001b[39;00m\u001b[38;5;7m \u001b[39m\u001b[38;5;144m'\u001b[39m\u001b[38;5;144m'\u001b[39m\n",
      "\u001b[38;5;7mdataset_mode\u001b[39m\u001b[38;5;7m \u001b[39m\u001b[38;5;109;01m=\u001b[39;00m\u001b[38;5;7m \u001b[39m\u001b[38;5;144m'\u001b[39m\u001b[38;5;144mtest\u001b[39m\u001b[38;5;144m'\u001b[39m\n",
      "\u001b[38;5;7mAnomalyBERT_Data_Preprocessing\u001b[39m\u001b[38;5;7m(\u001b[39m\u001b[38;5;7mdataset\u001b[39m\u001b[38;5;109;01m=\u001b[39;00m\u001b[38;5;7mdataset\u001b[39m\u001b[38;5;7m,\u001b[39m\u001b[38;5;7m \u001b[39m\u001b[38;5;7minput_dir\u001b[39m\u001b[38;5;109;01m=\u001b[39;00m\u001b[38;5;7minput_dir\u001b[39m\u001b[38;5;7m,\u001b[39m\u001b[38;5;7m \u001b[39m\u001b[38;5;7moutput_dir\u001b[39m\u001b[38;5;109;01m=\u001b[39;00m\u001b[38;5;7moutput_dir\u001b[39m\u001b[38;5;7m,\u001b[39m\u001b[38;5;7m \u001b[39m\u001b[38;5;7mdate_label\u001b[39m\u001b[38;5;109;01m=\u001b[39;00m\u001b[38;5;7mdate_label\u001b[39m\u001b[38;5;7m,\u001b[39m\u001b[38;5;7m \u001b[39m\u001b[38;5;7mdataset_mode\u001b[39m\u001b[38;5;109;01m=\u001b[39;00m\u001b[38;5;7mdataset_mode\u001b[39m\u001b[38;5;7m)\u001b[39m\u001b[0m\n",
      "\u001b[33;1m====\u001b[0m\n",
      "\u001b[31;20mError in execution: [Errno 2] No such file or directory: 'C:\\\\Users\\\\zoiyy\\\\OneDrive\\\\Documentos\\\\DataSets\\\\TFM\\\\Pruebas\\\\WADI/WADI./WADI_attackdataLABLE.csv'. Be sure to provide correct code.\u001b[0m\n",
      "Traceback (most recent call last):\n",
      "  File \"C:\\Users\\zoiyy\\AppData\\Roaming\\Python\\Python38\\site-packages\\transformers\\agents\\agents.py\", line 566, in run\n",
      "    output = self.python_evaluator(code_action, available_tools, state=self.state)\n",
      "  File \"C:\\Users\\zoiyy\\AppData\\Roaming\\Python\\Python38\\site-packages\\transformers\\agents\\python_interpreter.py\", line 511, in evaluate_python_code\n",
      "    line_result = evaluate_ast(node, state, tools)\n",
      "  File \"C:\\Users\\zoiyy\\AppData\\Roaming\\Python\\Python38\\site-packages\\transformers\\agents\\python_interpreter.py\", line 401, in evaluate_ast\n",
      "    return evaluate_ast(expression.value, state, tools)\n",
      "  File \"C:\\Users\\zoiyy\\AppData\\Roaming\\Python\\Python38\\site-packages\\transformers\\agents\\python_interpreter.py\", line 365, in evaluate_ast\n",
      "    return evaluate_call(expression, state, tools)\n",
      "  File \"C:\\Users\\zoiyy\\AppData\\Roaming\\Python\\Python38\\site-packages\\transformers\\agents\\python_interpreter.py\", line 217, in evaluate_call\n",
      "    output = func(*args, **kwargs)\n",
      "  File \"c:\\Users\\zoiyy\\OneDrive\\Documentos\\Repositorios GIT\\TFM\\Pruebas\\test_batch.py\", line 26, in __call__\n",
      "    preprocessed_dataset_folder\t= adp.preprocess_data( dataset , input_dir , output_dir , json_dir , date_label , dataset_mode )\n",
      "  File \"c:\\Users\\zoiyy\\OneDrive\\Documentos\\Repositorios GIT\\TFM\\Adapted_utils\\Adapted_data_preprocessing.py\", line 247, in preprocess_data\n",
      "    load_data( dataset , data_dir , output_folder , json_folder , date_label , process_type )\n",
      "  File \"c:\\Users\\zoiyy\\OneDrive\\Documentos\\Repositorios GIT\\TFM\\Adapted_utils\\Adapted_data_preprocessing.py\", line 206, in load_data\n",
      "    abnormal_data\t= pd.read_csv( os.path.join( base_dir , 'WADI/WADI.' + date_label + '/WADI_attackdataLABLE.csv'\t) , header = 1\t)\n",
      "  File \"C:\\Users\\zoiyy\\AppData\\Roaming\\Python\\Python38\\site-packages\\pandas\\io\\parsers\\readers.py\", line 912, in read_csv\n",
      "    return _read(filepath_or_buffer, kwds)\n",
      "  File \"C:\\Users\\zoiyy\\AppData\\Roaming\\Python\\Python38\\site-packages\\pandas\\io\\parsers\\readers.py\", line 577, in _read\n",
      "    parser = TextFileReader(filepath_or_buffer, **kwds)\n",
      "  File \"C:\\Users\\zoiyy\\AppData\\Roaming\\Python\\Python38\\site-packages\\pandas\\io\\parsers\\readers.py\", line 1407, in __init__\n",
      "    self._engine = self._make_engine(f, self.engine)\n",
      "  File \"C:\\Users\\zoiyy\\AppData\\Roaming\\Python\\Python38\\site-packages\\pandas\\io\\parsers\\readers.py\", line 1661, in _make_engine\n",
      "    self.handles = get_handle(\n",
      "  File \"C:\\Users\\zoiyy\\AppData\\Roaming\\Python\\Python38\\site-packages\\pandas\\io\\common.py\", line 859, in get_handle\n",
      "    handle = open(\n",
      "FileNotFoundError: [Errno 2] No such file or directory: 'C:\\\\Users\\\\zoiyy\\\\OneDrive\\\\Documentos\\\\DataSets\\\\TFM\\\\Pruebas\\\\WADI/WADI./WADI_attackdataLABLE.csv'\n"
     ]
    },
    {
     "data": {
      "text/plain": [
       "\"Error in execution: [Errno 2] No such file or directory: 'C:\\\\\\\\Users\\\\\\\\zoiyy\\\\\\\\OneDrive\\\\\\\\Documentos\\\\\\\\DataSets\\\\\\\\TFM\\\\\\\\Pruebas\\\\\\\\WADI/WADI./WADI_attackdataLABLE.csv'. Be sure to provide correct code.\""
      ]
     },
     "metadata": {},
     "output_type": "display_data"
    },
    {
     "data": {
      "text/plain": [
       "'----------------------------------------------------------------------------------------------------'"
      ]
     },
     "metadata": {},
     "output_type": "display_data"
    },
    {
     "data": {
      "text/plain": [
       "'Test prompt 10:'"
      ]
     },
     "metadata": {},
     "output_type": "display_data"
    },
    {
     "name": "stderr",
     "output_type": "stream",
     "text": [
      "\u001b[33;1m======== New task ========\u001b[0m\n",
      "\u001b[37;1mPreprocess the testing WADI dataset in the route 'C:\\Users\\zoiyy\\OneDrive\\Documentos\\DataSets\\TFM\\Pruebas' and save it in 'C:\\Users\\zoiyy\\OneDrive\\Documentos\\DataSets\\TFM\\Pruebas2'.\u001b[0m\n",
      "\u001b[33;1m==== Agent is executing the code below:\u001b[0m\n",
      "\u001b[0m\u001b[38;5;7mdataset\u001b[39m\u001b[38;5;7m \u001b[39m\u001b[38;5;109;01m=\u001b[39;00m\u001b[38;5;7m \u001b[39m\u001b[38;5;144m\"\u001b[39m\u001b[38;5;144mWADI\u001b[39m\u001b[38;5;144m\"\u001b[39m\n",
      "\u001b[38;5;7minput_dir\u001b[39m\u001b[38;5;7m \u001b[39m\u001b[38;5;109;01m=\u001b[39;00m\u001b[38;5;7m \u001b[39m\u001b[38;5;144mr\u001b[39m\u001b[38;5;144m'\u001b[39m\u001b[38;5;144mC:\u001b[39m\u001b[38;5;144m\\\u001b[39m\u001b[38;5;144mUsers\u001b[39m\u001b[38;5;144m\\\u001b[39m\u001b[38;5;144mzoiyy\u001b[39m\u001b[38;5;144m\\\u001b[39m\u001b[38;5;144mOneDrive\u001b[39m\u001b[38;5;144m\\\u001b[39m\u001b[38;5;144mDocumentos\u001b[39m\u001b[38;5;144m\\\u001b[39m\u001b[38;5;144mDataSets\u001b[39m\u001b[38;5;144m\\\u001b[39m\u001b[38;5;144mTFM\u001b[39m\u001b[38;5;144m\\\u001b[39m\u001b[38;5;144mPruebas\u001b[39m\u001b[38;5;144m'\u001b[39m\n",
      "\u001b[38;5;7moutput_dir\u001b[39m\u001b[38;5;7m \u001b[39m\u001b[38;5;109;01m=\u001b[39;00m\u001b[38;5;7m \u001b[39m\u001b[38;5;144mr\u001b[39m\u001b[38;5;144m'\u001b[39m\u001b[38;5;144mC:\u001b[39m\u001b[38;5;144m\\\u001b[39m\u001b[38;5;144mUsers\u001b[39m\u001b[38;5;144m\\\u001b[39m\u001b[38;5;144mzoiyy\u001b[39m\u001b[38;5;144m\\\u001b[39m\u001b[38;5;144mOneDrive\u001b[39m\u001b[38;5;144m\\\u001b[39m\u001b[38;5;144mDocumentos\u001b[39m\u001b[38;5;144m\\\u001b[39m\u001b[38;5;144mDataSets\u001b[39m\u001b[38;5;144m\\\u001b[39m\u001b[38;5;144mTFM\u001b[39m\u001b[38;5;144m\\\u001b[39m\u001b[38;5;144mPruebas2\u001b[39m\u001b[38;5;144m'\u001b[39m\n",
      "\u001b[38;5;7mdataset_mode\u001b[39m\u001b[38;5;7m \u001b[39m\u001b[38;5;109;01m=\u001b[39;00m\u001b[38;5;7m \u001b[39m\u001b[38;5;144m'\u001b[39m\u001b[38;5;144mtest\u001b[39m\u001b[38;5;144m'\u001b[39m\n",
      "\u001b[38;5;7mpreprocessed_path\u001b[39m\u001b[38;5;7m \u001b[39m\u001b[38;5;109;01m=\u001b[39;00m\u001b[38;5;7m \u001b[39m\u001b[38;5;7mAnomalyBERT_Data_Preprocessing\u001b[39m\u001b[38;5;7m(\u001b[39m\u001b[38;5;7mdataset\u001b[39m\u001b[38;5;109;01m=\u001b[39;00m\u001b[38;5;7mdataset\u001b[39m\u001b[38;5;7m,\u001b[39m\u001b[38;5;7m \u001b[39m\u001b[38;5;7minput_dir\u001b[39m\u001b[38;5;109;01m=\u001b[39;00m\u001b[38;5;7minput_dir\u001b[39m\u001b[38;5;7m,\u001b[39m\u001b[38;5;7m \u001b[39m\u001b[38;5;7moutput_dir\u001b[39m\u001b[38;5;109;01m=\u001b[39;00m\u001b[38;5;7moutput_dir\u001b[39m\u001b[38;5;7m,\u001b[39m\u001b[38;5;7m \u001b[39m\u001b[38;5;7mdataset_mode\u001b[39m\u001b[38;5;109;01m=\u001b[39;00m\u001b[38;5;7mdataset_mode\u001b[39m\u001b[38;5;7m)\u001b[39m\n",
      "\u001b[38;5;109mprint\u001b[39m\u001b[38;5;7m(\u001b[39m\u001b[38;5;144mf\u001b[39m\u001b[38;5;144m\"\u001b[39m\u001b[38;5;144mThe preprocessed dataset has been saved in \u001b[39m\u001b[38;5;144m{\u001b[39m\u001b[38;5;7mpreprocessed_path\u001b[39m\u001b[38;5;144m}\u001b[39m\u001b[38;5;144m\"\u001b[39m\u001b[38;5;7m)\u001b[39m\u001b[0m\n",
      "\u001b[33;1m====\u001b[0m\n"
     ]
    },
    {
     "data": {
      "text/plain": [
       "'The preprocessed dataset has been saved in C:\\\\Users\\\\zoiyy\\\\OneDrive\\\\Documentos\\\\DataSets\\\\TFM\\\\Pruebas2'"
      ]
     },
     "metadata": {},
     "output_type": "display_data"
    },
    {
     "data": {
      "text/plain": [
       "'----------------------------------------------------------------------------------------------------'"
      ]
     },
     "metadata": {},
     "output_type": "display_data"
    },
    {
     "data": {
      "text/plain": [
       "'Test prompt 11:'"
      ]
     },
     "metadata": {},
     "output_type": "display_data"
    },
    {
     "name": "stderr",
     "output_type": "stream",
     "text": [
      "\u001b[33;1m======== New task ========\u001b[0m\n",
      "\u001b[37;1mPreprocess the testing WADI dataset stored in 'C:\\Users\\zoiyy\\OneDrive\\Documentos\\DataSets\\TFM\\Pruebas' and save it in 'C:\\Users\\zoiyy\\OneDrive\\Documentos\\DataSets\\TFM\\Pruebas2'.\u001b[0m\n",
      "\u001b[33;1m==== Agent is executing the code below:\u001b[0m\n",
      "\u001b[0m\u001b[38;5;7mAnomalyBERT_Data_Preprocessing\u001b[39m\u001b[38;5;7m(\u001b[39m\u001b[38;5;7mdataset\u001b[39m\u001b[38;5;109;01m=\u001b[39;00m\u001b[38;5;144m'\u001b[39m\u001b[38;5;144mWADI\u001b[39m\u001b[38;5;144m'\u001b[39m\u001b[38;5;7m,\u001b[39m\u001b[38;5;7m \u001b[39m\u001b[38;5;7minput_dir\u001b[39m\u001b[38;5;109;01m=\u001b[39;00m\u001b[38;5;144m'\u001b[39m\u001b[38;5;144mC:\u001b[39m\u001b[38;5;186m\\\\\u001b[39m\u001b[38;5;144mUsers\u001b[39m\u001b[38;5;186m\\\\\u001b[39m\u001b[38;5;144mzoiyy\u001b[39m\u001b[38;5;186m\\\\\u001b[39m\u001b[38;5;144mOneDrive\u001b[39m\u001b[38;5;186m\\\\\u001b[39m\u001b[38;5;144mDocumentos\u001b[39m\u001b[38;5;186m\\\\\u001b[39m\u001b[38;5;144mDataSets\u001b[39m\u001b[38;5;186m\\\\\u001b[39m\u001b[38;5;144mTFM\u001b[39m\u001b[38;5;186m\\\\\u001b[39m\u001b[38;5;144mPruebas\u001b[39m\u001b[38;5;144m'\u001b[39m\u001b[38;5;7m,\u001b[39m\u001b[38;5;7m \u001b[39m\u001b[38;5;7moutput_dir\u001b[39m\u001b[38;5;109;01m=\u001b[39;00m\u001b[38;5;144m'\u001b[39m\u001b[38;5;144mC:\u001b[39m\u001b[38;5;186m\\\\\u001b[39m\u001b[38;5;144mUsers\u001b[39m\u001b[38;5;186m\\\\\u001b[39m\u001b[38;5;144mzoiyy\u001b[39m\u001b[38;5;186m\\\\\u001b[39m\u001b[38;5;144mOneDrive\u001b[39m\u001b[38;5;186m\\\\\u001b[39m\u001b[38;5;144mDocumentos\u001b[39m\u001b[38;5;186m\\\\\u001b[39m\u001b[38;5;144mDataSets\u001b[39m\u001b[38;5;186m\\\\\u001b[39m\u001b[38;5;144mTFM\u001b[39m\u001b[38;5;186m\\\\\u001b[39m\u001b[38;5;144mPruebas2\u001b[39m\u001b[38;5;144m'\u001b[39m\u001b[38;5;7m)\u001b[39m\u001b[0m\n",
      "\u001b[33;1m====\u001b[0m\n"
     ]
    },
    {
     "data": {
      "text/plain": [
       "'C:\\\\Users\\\\zoiyy\\\\OneDrive\\\\Documentos\\\\DataSets\\\\TFM\\\\Pruebas2'"
      ]
     },
     "metadata": {},
     "output_type": "display_data"
    },
    {
     "data": {
      "text/plain": [
       "'===================================================================================================='"
      ]
     },
     "metadata": {},
     "output_type": "display_data"
    },
    {
     "data": {
      "text/plain": [
       "'===================================================================================================='"
      ]
     },
     "metadata": {},
     "output_type": "display_data"
    },
    {
     "data": {
      "text/plain": [
       "'RESULTS FOR TOOL DESCRIPTION 4-INDENT:'"
      ]
     },
     "metadata": {},
     "output_type": "display_data"
    },
    {
     "data": {
      "text/plain": [
       "'----------------------------------------------------------------------------------------------------'"
      ]
     },
     "metadata": {},
     "output_type": "display_data"
    },
    {
     "data": {
      "text/plain": [
       "'Test prompt 8:'"
      ]
     },
     "metadata": {},
     "output_type": "display_data"
    },
    {
     "name": "stderr",
     "output_type": "stream",
     "text": [
      "\u001b[33;1m======== New task ========\u001b[0m\n",
      "\u001b[37;1mPreprocess the testing WADI dataset in the route 'C:\\Users\\zoiyy\\OneDrive\\Documentos\\DataSets\\TFM\\Pruebas' and store it in 'C:\\Users\\zoiyy\\OneDrive\\Documentos\\DataSets\\TFM\\Pruebas2'.\u001b[0m\n",
      "\u001b[33;1m==== Agent is executing the code below:\u001b[0m\n",
      "\u001b[0m\u001b[38;5;7mC\u001b[39m\u001b[38;5;7m:\u001b[39m\u001b[38;5;7m\\\u001b[39m\u001b[38;5;7mUsers\u001b[39m\u001b[38;5;7m\\\u001b[39m\u001b[38;5;7mzoiyy\u001b[39m\u001b[38;5;7m\\\u001b[39m\u001b[38;5;7mOneDrive\u001b[39m\u001b[38;5;7m\\\u001b[39m\u001b[38;5;7mDocumentos\u001b[39m\u001b[38;5;7m\\\u001b[39m\u001b[38;5;7mDataSets\u001b[39m\u001b[38;5;7m\\\u001b[39m\u001b[38;5;7mTFM\u001b[39m\u001b[38;5;7m\\\u001b[39m\u001b[38;5;7mPruebas\u001b[39m\n",
      "\u001b[38;5;7mC\u001b[39m\u001b[38;5;7m:\u001b[39m\u001b[38;5;7m\\\u001b[39m\u001b[38;5;7mUsers\u001b[39m\u001b[38;5;7m\\\u001b[39m\u001b[38;5;7mzoiyy\u001b[39m\u001b[38;5;7m\\\u001b[39m\u001b[38;5;7mOneDrive\u001b[39m\u001b[38;5;7m\\\u001b[39m\u001b[38;5;7mDocumentos\u001b[39m\u001b[38;5;7m\\\u001b[39m\u001b[38;5;7mDataSets\u001b[39m\u001b[38;5;7m\\\u001b[39m\u001b[38;5;7mTFM\u001b[39m\u001b[38;5;7m\\\u001b[39m\u001b[38;5;7mPruebas2\u001b[39m\n",
      "\u001b[38;5;7mdataset\u001b[39m\u001b[38;5;7m \u001b[39m\u001b[38;5;109;01m=\u001b[39;00m\u001b[38;5;7m \u001b[39m\u001b[38;5;144m'\u001b[39m\u001b[38;5;144mWADI\u001b[39m\u001b[38;5;144m'\u001b[39m\n",
      "\u001b[38;5;7minput_dir\u001b[39m\u001b[38;5;7m \u001b[39m\u001b[38;5;109;01m=\u001b[39;00m\u001b[38;5;7m \u001b[39m\u001b[38;5;144m'\u001b[39m\u001b[38;5;144mC:\u001b[39m\u001b[38;5;186m\\\\\u001b[39m\u001b[38;5;144mUsers\u001b[39m\u001b[38;5;186m\\\\\u001b[39m\u001b[38;5;144mzoiyy\u001b[39m\u001b[38;5;186m\\\\\u001b[39m\u001b[38;5;144mOneDrive\u001b[39m\u001b[38;5;186m\\\\\u001b[39m\u001b[38;5;144mDocumentos\u001b[39m\u001b[38;5;186m\\\\\u001b[39m\u001b[38;5;144mDataSets\u001b[39m\u001b[38;5;186m\\\\\u001b[39m\u001b[38;5;144mTFM\u001b[39m\u001b[38;5;186m\\\\\u001b[39m\u001b[38;5;144mPruebas\u001b[39m\u001b[38;5;144m'\u001b[39m\n",
      "\u001b[38;5;7moutput_dir\u001b[39m\u001b[38;5;7m \u001b[39m\u001b[38;5;109;01m=\u001b[39;00m\u001b[38;5;7m \u001b[39m\u001b[38;5;144m'\u001b[39m\u001b[38;5;144mC:\u001b[39m\u001b[38;5;186m\\\\\u001b[39m\u001b[38;5;144mUsers\u001b[39m\u001b[38;5;186m\\\\\u001b[39m\u001b[38;5;144mzoiyy\u001b[39m\u001b[38;5;186m\\\\\u001b[39m\u001b[38;5;144mOneDrive\u001b[39m\u001b[38;5;186m\\\\\u001b[39m\u001b[38;5;144mDocumentos\u001b[39m\u001b[38;5;186m\\\\\u001b[39m\u001b[38;5;144mDataSets\u001b[39m\u001b[38;5;186m\\\\\u001b[39m\u001b[38;5;144mTFM\u001b[39m\u001b[38;5;186m\\\\\u001b[39m\u001b[38;5;144mPruebas2\u001b[39m\u001b[38;5;144m'\u001b[39m\n",
      "\u001b[38;5;7mAnomalyBERT_Data_Preprocessing\u001b[39m\u001b[38;5;7m(\u001b[39m\u001b[38;5;7mdataset\u001b[39m\u001b[38;5;109;01m=\u001b[39;00m\u001b[38;5;7mdataset\u001b[39m\u001b[38;5;7m,\u001b[39m\u001b[38;5;7m \u001b[39m\u001b[38;5;7minput_dir\u001b[39m\u001b[38;5;109;01m=\u001b[39;00m\u001b[38;5;7minput_dir\u001b[39m\u001b[38;5;7m,\u001b[39m\u001b[38;5;7m \u001b[39m\u001b[38;5;7moutput_dir\u001b[39m\u001b[38;5;109;01m=\u001b[39;00m\u001b[38;5;7moutput_dir\u001b[39m\u001b[38;5;7m,\u001b[39m\u001b[38;5;7m \u001b[39m\u001b[38;5;7mdate_label\u001b[39m\u001b[38;5;109;01m=\u001b[39;00m\u001b[38;5;109;01mNone\u001b[39;00m\u001b[38;5;7m,\u001b[39m\u001b[38;5;7m \u001b[39m\u001b[38;5;7mdataset_mode\u001b[39m\u001b[38;5;109;01m=\u001b[39;00m\u001b[38;5;144m'\u001b[39m\u001b[38;5;144mtest\u001b[39m\u001b[38;5;144m'\u001b[39m\u001b[38;5;7m)\u001b[39m\u001b[0m\n",
      "\u001b[33;1m====\u001b[0m\n",
      "\u001b[31;20mError in execution: The code generated by the agent is not valid.\n",
      "unexpected character after line continuation character (<unknown>, line 1). Be sure to provide correct code.\u001b[0m\n",
      "Traceback (most recent call last):\n",
      "  File \"C:\\Users\\zoiyy\\AppData\\Roaming\\Python\\Python38\\site-packages\\transformers\\agents\\python_interpreter.py\", line 502, in evaluate_python_code\n",
      "    expression = ast.parse(code)\n",
      "  File \"c:\\ProgramData\\anaconda3\\envs\\AnomalyBERT_env2\\lib\\ast.py\", line 47, in parse\n",
      "    return compile(source, filename, mode, flags,\n",
      "  File \"<unknown>\", line 1\n",
      "    C:\\Users\\zoiyy\\OneDrive\\Documentos\\DataSets\\TFM\\Pruebas\n",
      "                                                          ^\n",
      "SyntaxError: unexpected character after line continuation character\n",
      "\n",
      "During handling of the above exception, another exception occurred:\n",
      "\n",
      "Traceback (most recent call last):\n",
      "  File \"C:\\Users\\zoiyy\\AppData\\Roaming\\Python\\Python38\\site-packages\\transformers\\agents\\agents.py\", line 566, in run\n",
      "    output = self.python_evaluator(code_action, available_tools, state=self.state)\n",
      "  File \"C:\\Users\\zoiyy\\AppData\\Roaming\\Python\\Python38\\site-packages\\transformers\\agents\\python_interpreter.py\", line 504, in evaluate_python_code\n",
      "    raise SyntaxError(f\"The code generated by the agent is not valid.\\n{e}\")\n",
      "SyntaxError: The code generated by the agent is not valid.\n",
      "unexpected character after line continuation character (<unknown>, line 1)\n"
     ]
    },
    {
     "data": {
      "text/plain": [
       "'Error in execution: The code generated by the agent is not valid.\\nunexpected character after line continuation character (<unknown>, line 1). Be sure to provide correct code.'"
      ]
     },
     "metadata": {},
     "output_type": "display_data"
    },
    {
     "data": {
      "text/plain": [
       "'----------------------------------------------------------------------------------------------------'"
      ]
     },
     "metadata": {},
     "output_type": "display_data"
    },
    {
     "data": {
      "text/plain": [
       "'Test prompt 9:'"
      ]
     },
     "metadata": {},
     "output_type": "display_data"
    },
    {
     "name": "stderr",
     "output_type": "stream",
     "text": [
      "\u001b[33;1m======== New task ========\u001b[0m\n",
      "\u001b[37;1mPreprocess the testing WADI dataset stored in 'C:\\Users\\zoiyy\\OneDrive\\Documentos\\DataSets\\TFM\\Pruebas' and store it in 'C:\\Users\\zoiyy\\OneDrive\\Documentos\\DataSets\\TFM\\Pruebas2'.\u001b[0m\n",
      "\u001b[33;1m==== Agent is executing the code below:\u001b[0m\n",
      "\u001b[0m\u001b[38;5;7mdataset\u001b[39m\u001b[38;5;7m \u001b[39m\u001b[38;5;109;01m=\u001b[39;00m\u001b[38;5;7m \u001b[39m\u001b[38;5;144m'\u001b[39m\u001b[38;5;144mWADI\u001b[39m\u001b[38;5;144m'\u001b[39m\n",
      "\u001b[38;5;7minput_dir\u001b[39m\u001b[38;5;7m \u001b[39m\u001b[38;5;109;01m=\u001b[39;00m\u001b[38;5;7m \u001b[39m\u001b[38;5;144mr\u001b[39m\u001b[38;5;144m'\u001b[39m\u001b[38;5;144mC:\u001b[39m\u001b[38;5;144m\\\u001b[39m\u001b[38;5;144mUsers\u001b[39m\u001b[38;5;144m\\\u001b[39m\u001b[38;5;144mzoiyy\u001b[39m\u001b[38;5;144m\\\u001b[39m\u001b[38;5;144mOneDrive\u001b[39m\u001b[38;5;144m\\\u001b[39m\u001b[38;5;144mDocumentos\u001b[39m\u001b[38;5;144m\\\u001b[39m\u001b[38;5;144mDataSets\u001b[39m\u001b[38;5;144m\\\u001b[39m\u001b[38;5;144mTFM\u001b[39m\u001b[38;5;144m\\\u001b[39m\u001b[38;5;144mPruebas\u001b[39m\u001b[38;5;144m'\u001b[39m\n",
      "\u001b[38;5;7moutput_dir\u001b[39m\u001b[38;5;7m \u001b[39m\u001b[38;5;109;01m=\u001b[39;00m\u001b[38;5;7m \u001b[39m\u001b[38;5;144mr\u001b[39m\u001b[38;5;144m'\u001b[39m\u001b[38;5;144mC:\u001b[39m\u001b[38;5;144m\\\u001b[39m\u001b[38;5;144mUsers\u001b[39m\u001b[38;5;144m\\\u001b[39m\u001b[38;5;144mzoiyy\u001b[39m\u001b[38;5;144m\\\u001b[39m\u001b[38;5;144mOneDrive\u001b[39m\u001b[38;5;144m\\\u001b[39m\u001b[38;5;144mDocumentos\u001b[39m\u001b[38;5;144m\\\u001b[39m\u001b[38;5;144mDataSets\u001b[39m\u001b[38;5;144m\\\u001b[39m\u001b[38;5;144mTFM\u001b[39m\u001b[38;5;144m\\\u001b[39m\u001b[38;5;144mPruebas2\u001b[39m\u001b[38;5;144m'\u001b[39m\n",
      "\u001b[38;5;7mdate_label\u001b[39m\u001b[38;5;7m \u001b[39m\u001b[38;5;109;01m=\u001b[39;00m\u001b[38;5;7m \u001b[39m\u001b[38;5;109;01mNone\u001b[39;00m\n",
      "\u001b[38;5;7mdataset_mode\u001b[39m\u001b[38;5;7m \u001b[39m\u001b[38;5;109;01m=\u001b[39;00m\u001b[38;5;7m \u001b[39m\u001b[38;5;144m'\u001b[39m\u001b[38;5;144mtest\u001b[39m\u001b[38;5;144m'\u001b[39m\n",
      "\u001b[38;5;7mpreprocessed_dataset_path\u001b[39m\u001b[38;5;7m \u001b[39m\u001b[38;5;109;01m=\u001b[39;00m\u001b[38;5;7m \u001b[39m\u001b[38;5;7mAnomalyBERT_Data_Preprocessing\u001b[39m\u001b[38;5;7m(\u001b[39m\u001b[38;5;7mdataset\u001b[39m\u001b[38;5;109;01m=\u001b[39;00m\u001b[38;5;7mdataset\u001b[39m\u001b[38;5;7m,\u001b[39m\u001b[38;5;7m \u001b[39m\u001b[38;5;7minput_dir\u001b[39m\u001b[38;5;109;01m=\u001b[39;00m\u001b[38;5;7minput_dir\u001b[39m\u001b[38;5;7m,\u001b[39m\u001b[38;5;7m \u001b[39m\u001b[38;5;7moutput_dir\u001b[39m\u001b[38;5;109;01m=\u001b[39;00m\u001b[38;5;7moutput_dir\u001b[39m\u001b[38;5;7m,\u001b[39m\u001b[38;5;7m \u001b[39m\u001b[38;5;7mdate_label\u001b[39m\u001b[38;5;109;01m=\u001b[39;00m\u001b[38;5;7mdate_label\u001b[39m\u001b[38;5;7m,\u001b[39m\u001b[38;5;7m \u001b[39m\u001b[38;5;7mdataset_mode\u001b[39m\u001b[38;5;109;01m=\u001b[39;00m\u001b[38;5;7mdataset_mode\u001b[39m\u001b[38;5;7m)\u001b[39m\n",
      "\u001b[38;5;109mprint\u001b[39m\u001b[38;5;7m(\u001b[39m\u001b[38;5;144mf\u001b[39m\u001b[38;5;144m\"\u001b[39m\u001b[38;5;144mPreprocessed dataset stored at \u001b[39m\u001b[38;5;144m{\u001b[39m\u001b[38;5;7mpreprocessed_dataset_path\u001b[39m\u001b[38;5;144m}\u001b[39m\u001b[38;5;144m\"\u001b[39m\u001b[38;5;7m)\u001b[39m\u001b[0m\n",
      "\u001b[33;1m====\u001b[0m\n"
     ]
    },
    {
     "data": {
      "text/plain": [
       "'Preprocessed dataset stored at C:\\\\Users\\\\zoiyy\\\\OneDrive\\\\Documentos\\\\DataSets\\\\TFM\\\\Pruebas2'"
      ]
     },
     "metadata": {},
     "output_type": "display_data"
    },
    {
     "data": {
      "text/plain": [
       "'----------------------------------------------------------------------------------------------------'"
      ]
     },
     "metadata": {},
     "output_type": "display_data"
    },
    {
     "data": {
      "text/plain": [
       "'Test prompt 10:'"
      ]
     },
     "metadata": {},
     "output_type": "display_data"
    },
    {
     "name": "stderr",
     "output_type": "stream",
     "text": [
      "\u001b[33;1m======== New task ========\u001b[0m\n",
      "\u001b[37;1mPreprocess the testing WADI dataset in the route 'C:\\Users\\zoiyy\\OneDrive\\Documentos\\DataSets\\TFM\\Pruebas' and save it in 'C:\\Users\\zoiyy\\OneDrive\\Documentos\\DataSets\\TFM\\Pruebas2'.\u001b[0m\n",
      "\u001b[33;1m==== Agent is executing the code below:\u001b[0m\n",
      "\u001b[0m\u001b[38;5;7mdataset\u001b[39m\u001b[38;5;7m \u001b[39m\u001b[38;5;109;01m=\u001b[39;00m\u001b[38;5;7m \u001b[39m\u001b[38;5;144m'\u001b[39m\u001b[38;5;144mWADI\u001b[39m\u001b[38;5;144m'\u001b[39m\n",
      "\u001b[38;5;7minput_dir\u001b[39m\u001b[38;5;7m \u001b[39m\u001b[38;5;109;01m=\u001b[39;00m\u001b[38;5;7m \u001b[39m\u001b[38;5;144m'\u001b[39m\u001b[38;5;144mC:\u001b[39m\u001b[38;5;186m\\\\\u001b[39m\u001b[38;5;144mUsers\u001b[39m\u001b[38;5;186m\\\\\u001b[39m\u001b[38;5;144mzoiyy\u001b[39m\u001b[38;5;186m\\\\\u001b[39m\u001b[38;5;144mOneDrive\u001b[39m\u001b[38;5;186m\\\\\u001b[39m\u001b[38;5;144mDocumentos\u001b[39m\u001b[38;5;186m\\\\\u001b[39m\u001b[38;5;144mDataSets\u001b[39m\u001b[38;5;186m\\\\\u001b[39m\u001b[38;5;144mTFM\u001b[39m\u001b[38;5;186m\\\\\u001b[39m\u001b[38;5;144mPruebas\u001b[39m\u001b[38;5;144m'\u001b[39m\n",
      "\u001b[38;5;7moutput_dir\u001b[39m\u001b[38;5;7m \u001b[39m\u001b[38;5;109;01m=\u001b[39;00m\u001b[38;5;7m \u001b[39m\u001b[38;5;144m'\u001b[39m\u001b[38;5;144mC:\u001b[39m\u001b[38;5;186m\\\\\u001b[39m\u001b[38;5;144mUsers\u001b[39m\u001b[38;5;186m\\\\\u001b[39m\u001b[38;5;144mzoiyy\u001b[39m\u001b[38;5;186m\\\\\u001b[39m\u001b[38;5;144mOneDrive\u001b[39m\u001b[38;5;186m\\\\\u001b[39m\u001b[38;5;144mDocumentos\u001b[39m\u001b[38;5;186m\\\\\u001b[39m\u001b[38;5;144mDataSets\u001b[39m\u001b[38;5;186m\\\\\u001b[39m\u001b[38;5;144mTFM\u001b[39m\u001b[38;5;186m\\\\\u001b[39m\u001b[38;5;144mPruebas2\u001b[39m\u001b[38;5;144m'\u001b[39m\n",
      "\u001b[38;5;7mdate_label\u001b[39m\u001b[38;5;7m \u001b[39m\u001b[38;5;109;01m=\u001b[39;00m\u001b[38;5;7m \u001b[39m\u001b[38;5;144m'\u001b[39m\u001b[38;5;144m'\u001b[39m\n",
      "\u001b[38;5;7mdataset_mode\u001b[39m\u001b[38;5;7m \u001b[39m\u001b[38;5;109;01m=\u001b[39;00m\u001b[38;5;7m \u001b[39m\u001b[38;5;144m'\u001b[39m\u001b[38;5;144mtest\u001b[39m\u001b[38;5;144m'\u001b[39m\n",
      "\u001b[38;5;7mpath\u001b[39m\u001b[38;5;7m \u001b[39m\u001b[38;5;109;01m=\u001b[39;00m\u001b[38;5;7m \u001b[39m\u001b[38;5;7mAnomalyBERT_Data_Preprocessing\u001b[39m\u001b[38;5;7m(\u001b[39m\u001b[38;5;7mdataset\u001b[39m\u001b[38;5;109;01m=\u001b[39;00m\u001b[38;5;7mdataset\u001b[39m\u001b[38;5;7m,\u001b[39m\u001b[38;5;7m \u001b[39m\u001b[38;5;7minput_dir\u001b[39m\u001b[38;5;109;01m=\u001b[39;00m\u001b[38;5;7minput_dir\u001b[39m\u001b[38;5;7m,\u001b[39m\u001b[38;5;7m \u001b[39m\u001b[38;5;7moutput_dir\u001b[39m\u001b[38;5;109;01m=\u001b[39;00m\u001b[38;5;7moutput_dir\u001b[39m\u001b[38;5;7m,\u001b[39m\u001b[38;5;7m \u001b[39m\u001b[38;5;7mdate_label\u001b[39m\u001b[38;5;109;01m=\u001b[39;00m\u001b[38;5;7mdate_label\u001b[39m\u001b[38;5;7m,\u001b[39m\u001b[38;5;7m \u001b[39m\u001b[38;5;7mdataset_mode\u001b[39m\u001b[38;5;109;01m=\u001b[39;00m\u001b[38;5;7mdataset_mode\u001b[39m\u001b[38;5;7m)\u001b[39m\n",
      "\u001b[38;5;109mprint\u001b[39m\u001b[38;5;7m(\u001b[39m\u001b[38;5;144mf\u001b[39m\u001b[38;5;144m\"\u001b[39m\u001b[38;5;144mThe preprocessed data has been stored at \u001b[39m\u001b[38;5;144m{\u001b[39m\u001b[38;5;7mpath\u001b[39m\u001b[38;5;144m}\u001b[39m\u001b[38;5;144m.\u001b[39m\u001b[38;5;144m\"\u001b[39m\u001b[38;5;7m)\u001b[39m\u001b[0m\n",
      "\u001b[33;1m====\u001b[0m\n",
      "\u001b[31;20mError in execution: [Errno 2] No such file or directory: 'C:\\\\Users\\\\zoiyy\\\\OneDrive\\\\Documentos\\\\DataSets\\\\TFM\\\\Pruebas\\\\WADI/WADI./WADI_attackdataLABLE.csv'. Be sure to provide correct code.\u001b[0m\n",
      "Traceback (most recent call last):\n",
      "  File \"C:\\Users\\zoiyy\\AppData\\Roaming\\Python\\Python38\\site-packages\\transformers\\agents\\agents.py\", line 566, in run\n",
      "    output = self.python_evaluator(code_action, available_tools, state=self.state)\n",
      "  File \"C:\\Users\\zoiyy\\AppData\\Roaming\\Python\\Python38\\site-packages\\transformers\\agents\\python_interpreter.py\", line 511, in evaluate_python_code\n",
      "    line_result = evaluate_ast(node, state, tools)\n",
      "  File \"C:\\Users\\zoiyy\\AppData\\Roaming\\Python\\Python38\\site-packages\\transformers\\agents\\python_interpreter.py\", line 360, in evaluate_ast\n",
      "    return evaluate_assign(expression, state, tools)\n",
      "  File \"C:\\Users\\zoiyy\\AppData\\Roaming\\Python\\Python38\\site-packages\\transformers\\agents\\python_interpreter.py\", line 177, in evaluate_assign\n",
      "    result = evaluate_ast(assign.value, state, tools)\n",
      "  File \"C:\\Users\\zoiyy\\AppData\\Roaming\\Python\\Python38\\site-packages\\transformers\\agents\\python_interpreter.py\", line 365, in evaluate_ast\n",
      "    return evaluate_call(expression, state, tools)\n",
      "  File \"C:\\Users\\zoiyy\\AppData\\Roaming\\Python\\Python38\\site-packages\\transformers\\agents\\python_interpreter.py\", line 217, in evaluate_call\n",
      "    output = func(*args, **kwargs)\n",
      "  File \"c:\\Users\\zoiyy\\OneDrive\\Documentos\\Repositorios GIT\\TFM\\Pruebas\\test_batch.py\", line 26, in __call__\n",
      "    preprocessed_dataset_folder\t= adp.preprocess_data( dataset , input_dir , output_dir , json_dir , date_label , dataset_mode )\n",
      "  File \"c:\\Users\\zoiyy\\OneDrive\\Documentos\\Repositorios GIT\\TFM\\Adapted_utils\\Adapted_data_preprocessing.py\", line 247, in preprocess_data\n",
      "    load_data( dataset , data_dir , output_folder , json_folder , date_label , process_type )\n",
      "  File \"c:\\Users\\zoiyy\\OneDrive\\Documentos\\Repositorios GIT\\TFM\\Adapted_utils\\Adapted_data_preprocessing.py\", line 206, in load_data\n",
      "    abnormal_data\t= pd.read_csv( os.path.join( base_dir , 'WADI/WADI.' + date_label + '/WADI_attackdataLABLE.csv'\t) , header = 1\t)\n",
      "  File \"C:\\Users\\zoiyy\\AppData\\Roaming\\Python\\Python38\\site-packages\\pandas\\io\\parsers\\readers.py\", line 912, in read_csv\n",
      "    return _read(filepath_or_buffer, kwds)\n",
      "  File \"C:\\Users\\zoiyy\\AppData\\Roaming\\Python\\Python38\\site-packages\\pandas\\io\\parsers\\readers.py\", line 577, in _read\n",
      "    parser = TextFileReader(filepath_or_buffer, **kwds)\n",
      "  File \"C:\\Users\\zoiyy\\AppData\\Roaming\\Python\\Python38\\site-packages\\pandas\\io\\parsers\\readers.py\", line 1407, in __init__\n",
      "    self._engine = self._make_engine(f, self.engine)\n",
      "  File \"C:\\Users\\zoiyy\\AppData\\Roaming\\Python\\Python38\\site-packages\\pandas\\io\\parsers\\readers.py\", line 1661, in _make_engine\n",
      "    self.handles = get_handle(\n",
      "  File \"C:\\Users\\zoiyy\\AppData\\Roaming\\Python\\Python38\\site-packages\\pandas\\io\\common.py\", line 859, in get_handle\n",
      "    handle = open(\n",
      "FileNotFoundError: [Errno 2] No such file or directory: 'C:\\\\Users\\\\zoiyy\\\\OneDrive\\\\Documentos\\\\DataSets\\\\TFM\\\\Pruebas\\\\WADI/WADI./WADI_attackdataLABLE.csv'\n"
     ]
    },
    {
     "data": {
      "text/plain": [
       "\"Error in execution: [Errno 2] No such file or directory: 'C:\\\\\\\\Users\\\\\\\\zoiyy\\\\\\\\OneDrive\\\\\\\\Documentos\\\\\\\\DataSets\\\\\\\\TFM\\\\\\\\Pruebas\\\\\\\\WADI/WADI./WADI_attackdataLABLE.csv'. Be sure to provide correct code.\""
      ]
     },
     "metadata": {},
     "output_type": "display_data"
    },
    {
     "data": {
      "text/plain": [
       "'----------------------------------------------------------------------------------------------------'"
      ]
     },
     "metadata": {},
     "output_type": "display_data"
    },
    {
     "data": {
      "text/plain": [
       "'Test prompt 11:'"
      ]
     },
     "metadata": {},
     "output_type": "display_data"
    },
    {
     "name": "stderr",
     "output_type": "stream",
     "text": [
      "\u001b[33;1m======== New task ========\u001b[0m\n",
      "\u001b[37;1mPreprocess the testing WADI dataset stored in 'C:\\Users\\zoiyy\\OneDrive\\Documentos\\DataSets\\TFM\\Pruebas' and save it in 'C:\\Users\\zoiyy\\OneDrive\\Documentos\\DataSets\\TFM\\Pruebas2'.\u001b[0m\n",
      "\u001b[33;1m==== Agent is executing the code below:\u001b[0m\n",
      "\u001b[0m\u001b[38;5;7mdataset\u001b[39m\u001b[38;5;7m \u001b[39m\u001b[38;5;109;01m=\u001b[39;00m\u001b[38;5;7m \u001b[39m\u001b[38;5;144m'\u001b[39m\u001b[38;5;144mWADI\u001b[39m\u001b[38;5;144m'\u001b[39m\n",
      "\u001b[38;5;7minput_dir\u001b[39m\u001b[38;5;7m \u001b[39m\u001b[38;5;109;01m=\u001b[39;00m\u001b[38;5;7m \u001b[39m\u001b[38;5;144mr\u001b[39m\u001b[38;5;144m'\u001b[39m\u001b[38;5;144mC:\u001b[39m\u001b[38;5;144m\\\u001b[39m\u001b[38;5;144mUsers\u001b[39m\u001b[38;5;144m\\\u001b[39m\u001b[38;5;144mzoiyy\u001b[39m\u001b[38;5;144m\\\u001b[39m\u001b[38;5;144mOneDrive\u001b[39m\u001b[38;5;144m\\\u001b[39m\u001b[38;5;144mDocumentos\u001b[39m\u001b[38;5;144m\\\u001b[39m\u001b[38;5;144mDataSets\u001b[39m\u001b[38;5;144m\\\u001b[39m\u001b[38;5;144mTFM\u001b[39m\u001b[38;5;144m\\\u001b[39m\u001b[38;5;144mPruebas\u001b[39m\u001b[38;5;144m'\u001b[39m\n",
      "\u001b[38;5;7moutput_dir\u001b[39m\u001b[38;5;7m \u001b[39m\u001b[38;5;109;01m=\u001b[39;00m\u001b[38;5;7m \u001b[39m\u001b[38;5;144mr\u001b[39m\u001b[38;5;144m'\u001b[39m\u001b[38;5;144mC:\u001b[39m\u001b[38;5;144m\\\u001b[39m\u001b[38;5;144mUsers\u001b[39m\u001b[38;5;144m\\\u001b[39m\u001b[38;5;144mzoiyy\u001b[39m\u001b[38;5;144m\\\u001b[39m\u001b[38;5;144mOneDrive\u001b[39m\u001b[38;5;144m\\\u001b[39m\u001b[38;5;144mDocumentos\u001b[39m\u001b[38;5;144m\\\u001b[39m\u001b[38;5;144mDataSets\u001b[39m\u001b[38;5;144m\\\u001b[39m\u001b[38;5;144mTFM\u001b[39m\u001b[38;5;144m\\\u001b[39m\u001b[38;5;144mPruebas2\u001b[39m\u001b[38;5;144m'\u001b[39m\n",
      "\u001b[38;5;7mdate_label\u001b[39m\u001b[38;5;7m \u001b[39m\u001b[38;5;109;01m=\u001b[39;00m\u001b[38;5;7m \u001b[39m\u001b[38;5;144m'\u001b[39m\u001b[38;5;144mdate_label\u001b[39m\u001b[38;5;144m'\u001b[39m\u001b[38;5;7m  \u001b[39m\u001b[38;5;60;03m# not applicable for WADI dataset\u001b[39;00m\n",
      "\u001b[38;5;7mdataset_mode\u001b[39m\u001b[38;5;7m \u001b[39m\u001b[38;5;109;01m=\u001b[39;00m\u001b[38;5;7m \u001b[39m\u001b[38;5;144m'\u001b[39m\u001b[38;5;144mtest\u001b[39m\u001b[38;5;144m'\u001b[39m\n",
      "\u001b[38;5;7mpreprocessed_data_path\u001b[39m\u001b[38;5;7m \u001b[39m\u001b[38;5;109;01m=\u001b[39;00m\u001b[38;5;7m \u001b[39m\u001b[38;5;7mAnomalyBERT_Data_Preprocessing\u001b[39m\u001b[38;5;7m(\u001b[39m\u001b[38;5;7mdataset\u001b[39m\u001b[38;5;7m,\u001b[39m\u001b[38;5;7m \u001b[39m\u001b[38;5;7minput_dir\u001b[39m\u001b[38;5;7m,\u001b[39m\u001b[38;5;7m \u001b[39m\u001b[38;5;7moutput_dir\u001b[39m\u001b[38;5;7m,\u001b[39m\u001b[38;5;7m \u001b[39m\u001b[38;5;7mdate_label\u001b[39m\u001b[38;5;7m,\u001b[39m\u001b[38;5;7m \u001b[39m\u001b[38;5;7mdataset_mode\u001b[39m\u001b[38;5;7m)\u001b[39m\n",
      "\u001b[38;5;109mprint\u001b[39m\u001b[38;5;7m(\u001b[39m\u001b[38;5;144mf\u001b[39m\u001b[38;5;144m\"\u001b[39m\u001b[38;5;144mThe preprocessed data is stored in \u001b[39m\u001b[38;5;144m{\u001b[39m\u001b[38;5;7mpreprocessed_data_path\u001b[39m\u001b[38;5;144m}\u001b[39m\u001b[38;5;144m.\u001b[39m\u001b[38;5;144m\"\u001b[39m\u001b[38;5;7m)\u001b[39m\u001b[0m\n",
      "\u001b[33;1m====\u001b[0m\n",
      "\u001b[31;20mError in execution: [Errno 2] No such file or directory: 'C:\\\\Users\\\\zoiyy\\\\OneDrive\\\\Documentos\\\\DataSets\\\\TFM\\\\Pruebas\\\\WADI/WADI.test/WADI_attackdataLABLE.csv'. Be sure to provide correct code.\u001b[0m\n",
      "Traceback (most recent call last):\n",
      "  File \"C:\\Users\\zoiyy\\AppData\\Roaming\\Python\\Python38\\site-packages\\transformers\\agents\\agents.py\", line 566, in run\n",
      "    output = self.python_evaluator(code_action, available_tools, state=self.state)\n",
      "  File \"C:\\Users\\zoiyy\\AppData\\Roaming\\Python\\Python38\\site-packages\\transformers\\agents\\python_interpreter.py\", line 511, in evaluate_python_code\n",
      "    line_result = evaluate_ast(node, state, tools)\n",
      "  File \"C:\\Users\\zoiyy\\AppData\\Roaming\\Python\\Python38\\site-packages\\transformers\\agents\\python_interpreter.py\", line 360, in evaluate_ast\n",
      "    return evaluate_assign(expression, state, tools)\n",
      "  File \"C:\\Users\\zoiyy\\AppData\\Roaming\\Python\\Python38\\site-packages\\transformers\\agents\\python_interpreter.py\", line 177, in evaluate_assign\n",
      "    result = evaluate_ast(assign.value, state, tools)\n",
      "  File \"C:\\Users\\zoiyy\\AppData\\Roaming\\Python\\Python38\\site-packages\\transformers\\agents\\python_interpreter.py\", line 365, in evaluate_ast\n",
      "    return evaluate_call(expression, state, tools)\n",
      "  File \"C:\\Users\\zoiyy\\AppData\\Roaming\\Python\\Python38\\site-packages\\transformers\\agents\\python_interpreter.py\", line 217, in evaluate_call\n",
      "    output = func(*args, **kwargs)\n",
      "  File \"c:\\Users\\zoiyy\\OneDrive\\Documentos\\Repositorios GIT\\TFM\\Pruebas\\test_batch.py\", line 26, in __call__\n",
      "    preprocessed_dataset_folder\t= adp.preprocess_data( dataset , input_dir , output_dir , json_dir , date_label , dataset_mode )\n",
      "  File \"c:\\Users\\zoiyy\\OneDrive\\Documentos\\Repositorios GIT\\TFM\\Adapted_utils\\Adapted_data_preprocessing.py\", line 247, in preprocess_data\n",
      "    load_data( dataset , data_dir , output_folder , json_folder , date_label , process_type )\n",
      "  File \"c:\\Users\\zoiyy\\OneDrive\\Documentos\\Repositorios GIT\\TFM\\Adapted_utils\\Adapted_data_preprocessing.py\", line 206, in load_data\n",
      "    abnormal_data\t= pd.read_csv( os.path.join( base_dir , 'WADI/WADI.' + date_label + '/WADI_attackdataLABLE.csv'\t) , header = 1\t)\n",
      "  File \"C:\\Users\\zoiyy\\AppData\\Roaming\\Python\\Python38\\site-packages\\pandas\\io\\parsers\\readers.py\", line 912, in read_csv\n",
      "    return _read(filepath_or_buffer, kwds)\n",
      "  File \"C:\\Users\\zoiyy\\AppData\\Roaming\\Python\\Python38\\site-packages\\pandas\\io\\parsers\\readers.py\", line 577, in _read\n",
      "    parser = TextFileReader(filepath_or_buffer, **kwds)\n",
      "  File \"C:\\Users\\zoiyy\\AppData\\Roaming\\Python\\Python38\\site-packages\\pandas\\io\\parsers\\readers.py\", line 1407, in __init__\n",
      "    self._engine = self._make_engine(f, self.engine)\n",
      "  File \"C:\\Users\\zoiyy\\AppData\\Roaming\\Python\\Python38\\site-packages\\pandas\\io\\parsers\\readers.py\", line 1661, in _make_engine\n",
      "    self.handles = get_handle(\n",
      "  File \"C:\\Users\\zoiyy\\AppData\\Roaming\\Python\\Python38\\site-packages\\pandas\\io\\common.py\", line 859, in get_handle\n",
      "    handle = open(\n",
      "FileNotFoundError: [Errno 2] No such file or directory: 'C:\\\\Users\\\\zoiyy\\\\OneDrive\\\\Documentos\\\\DataSets\\\\TFM\\\\Pruebas\\\\WADI/WADI.test/WADI_attackdataLABLE.csv'\n"
     ]
    },
    {
     "data": {
      "text/plain": [
       "\"Error in execution: [Errno 2] No such file or directory: 'C:\\\\\\\\Users\\\\\\\\zoiyy\\\\\\\\OneDrive\\\\\\\\Documentos\\\\\\\\DataSets\\\\\\\\TFM\\\\\\\\Pruebas\\\\\\\\WADI/WADI.test/WADI_attackdataLABLE.csv'. Be sure to provide correct code.\""
      ]
     },
     "metadata": {},
     "output_type": "display_data"
    },
    {
     "data": {
      "text/plain": [
       "'===================================================================================================='"
      ]
     },
     "metadata": {},
     "output_type": "display_data"
    },
    {
     "data": {
      "text/plain": [
       "'===================================================================================================='"
      ]
     },
     "metadata": {},
     "output_type": "display_data"
    },
    {
     "data": {
      "text/plain": [
       "'TEST END'"
      ]
     },
     "metadata": {},
     "output_type": "display_data"
    }
   ],
   "source": [
    "test_batch.prompt_tests( agent_list , \"tool description\" , prompt_list_2 )"
   ]
  },
  {
   "cell_type": "markdown",
   "metadata": {},
   "source": [
    "## Pruebas de la Herramienta de Análisis."
   ]
  },
  {
   "cell_type": "markdown",
   "metadata": {},
   "source": [
    "### Construcción de las instancias del agente."
   ]
  },
  {
   "cell_type": "markdown",
   "metadata": {},
   "source": [
    "#### Lista de descripciones para la herramienta de análisis."
   ]
  },
  {
   "cell_type": "code",
   "execution_count": null,
   "metadata": {},
   "outputs": [],
   "source": [
    "description_list\t= \\\n",
    "{\t'1'\t\t:\n",
    "(\t\"This tool is the primary process of satellite telemetry data analysis for anomaly detection using AnomalyBERT,\\\n",
    "\t which needs the data to be already prerocessed.\\\n",
    "\t It takes as input the type of dataset (implemented for SWaT/SMAP/MSL/WADI) and returns its plot with the anomalies higlighted.\"\n",
    ",\t\"Mandatory Input Parameters:\\\n",
    "\t\t'dataset_type' (the type of dataset, permitted options are SWaT, SMAP, MSL, and WADI),\\\n",
    "\t Optional Input Parameters (when using this function, optional parameters should be assigned values using keyword arguments;\\\n",
    "\t only provide these optional parameters if their values are needed; otherwise, omit them entirely):\\\n",
    "\t\t 'preprocessed_dataset_folder' (the input directory of the preprocessed data, it must be a path written as a raw string).\\\n",
    "\t\t 'dataset_mode' (The 'dataset_mode' parameter specifies the intended use and purpose of the dataset and can take one of the following values:\\\n",
    "\t\t\t 'train', indicates that the dataset will be used for training the neural network, so it is labeled and provides the train and test partitions;\\\n",
    "\t\t\t 'test', indicates that the dataset will be used just for testing the already trained neural network, so it is also labeled but only has the test partion;\\\n",
    "\t\t\t 'exploitation', indicates that the dataset is intended to be analyzed and detect its anomalies (inference), so it's not labeled.).\"\n",
    ",\t\"As output, it returns the path of the files where the anomaly scores have been stored after the analysis and plots the results.\"\n",
    ")\n",
    ",\t'2'\t\t:\n",
    "(\t\"\"\n",
    ",\t\"\"\n",
    ",\t\"\"\n",
    ")\n",
    ",\t'3'\t\t:\n",
    "(\t\"\"\n",
    ",\t\"\"\n",
    ",\t\"\"\n",
    ")\n",
    ",\t'4'\t\t:\n",
    "(\t\"\"\n",
    ",\t\"\"\n",
    ",\t\"\"\n",
    ")\n",
    "}"
   ]
  },
  {
   "cell_type": "markdown",
   "metadata": {},
   "source": [
    "#### La lista de instancias del agente."
   ]
  },
  {
   "cell_type": "code",
   "execution_count": null,
   "metadata": {},
   "outputs": [],
   "source": [
    "agent_list\t\t= test_batch.tool_variant_agents( test_batch.XXXX , description_list )"
   ]
  },
  {
   "cell_type": "markdown",
   "metadata": {},
   "source": [
    " ### Ejecución de las pruebas."
   ]
  },
  {
   "cell_type": "markdown",
   "metadata": {},
   "source": [
    "#### Lista de 'prompts'."
   ]
  },
  {
   "cell_type": "code",
   "execution_count": null,
   "metadata": {},
   "outputs": [],
   "source": [
    "prompt_list\t\t= \t\\\n",
    "\t{\t'1'\t\t:\t\"\"\n",
    "\t,\t'2'\t\t:\t\"\"\n",
    "\t,\t'3'\t\t:\t\"\"\n",
    "\t,\t'4'\t\t:\t\"\"\n",
    "\t,\t'5'\t\t:\t\"\"\n",
    "\t,\t'6'\t\t:\t\"\"\n",
    "\t,\t'7'\t\t:\t\"\"\n",
    "\t}"
   ]
  },
  {
   "cell_type": "markdown",
   "metadata": {},
   "source": [
    "#### Resultados."
   ]
  },
  {
   "cell_type": "code",
   "execution_count": null,
   "metadata": {},
   "outputs": [],
   "source": [
    "test_batch.prompt_tests( agent_list , \"tool description\" , prompt_list )"
   ]
  }
 ],
 "metadata": {
  "kernelspec": {
   "display_name": "AnomalyBERT_env",
   "language": "python",
   "name": "python3"
  },
  "language_info": {
   "codemirror_mode": {
    "name": "ipython",
    "version": 3
   },
   "file_extension": ".py",
   "mimetype": "text/x-python",
   "name": "python",
   "nbconvert_exporter": "python",
   "pygments_lexer": "ipython3",
   "version": "3.8.18"
  },
  "orig_nbformat": 4
 },
 "nbformat": 4,
 "nbformat_minor": 2
}
