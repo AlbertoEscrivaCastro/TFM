{
 "cells": [
  {
   "cell_type": "code",
   "execution_count": null,
   "metadata": {},
   "outputs": [],
   "source": [
    "import\tos\n",
    "import\tAdapted_config\t\t\t\tas\t\tconfig2\n",
    "\n",
    "# os.chdir( './AnomalyBERT' )\n",
    "# path\t\t\t\t\t\t\t\t\t= os.getcwd()\n",
    "import\tAnomalyBERT.utils.config\tas\t\tconfig\n",
    "# os.chdir( os.path.dirname( path ) )"
   ]
  },
  {
   "cell_type": "code",
   "execution_count": 1,
   "metadata": {},
   "outputs": [],
   "source": [
    "import\tos\n",
    "import\tAdapted_config\t\t\t\tas\t\tconfig2\n",
    "\n",
    "import\tAnomalyBERT.utils.config\tas\t\tconfig"
   ]
  },
  {
   "cell_type": "code",
   "execution_count": 2,
   "metadata": {},
   "outputs": [
    {
     "name": "stdout",
     "output_type": "stream",
     "text": [
      "\\Users\\zoiyy\\OneDrive\\Documentos\\DataSets\\TFM\\AnomalyBERT\\processed\n",
      "{'SMAP': '\\\\Users\\\\zoiyy\\\\OneDrive\\\\Documentos\\\\DataSets\\\\TFM\\\\AnomalyBERT\\\\processed\\\\SMAP_test.npy', 'MSL': '\\\\Users\\\\zoiyy\\\\OneDrive\\\\Documentos\\\\DataSets\\\\TFM\\\\AnomalyBERT\\\\processed\\\\MSL_test.npy', 'SMD': '\\\\Users\\\\zoiyy\\\\OneDrive\\\\Documentos\\\\DataSets\\\\TFM\\\\AnomalyBERT\\\\processed\\\\SMD_test.npy', 'SWaT': '\\\\Users\\\\zoiyy\\\\OneDrive\\\\Documentos\\\\DataSets\\\\TFM\\\\AnomalyBERT\\\\processed\\\\SWaT_test.npy', 'WADI': '\\\\Users\\\\zoiyy\\\\OneDrive\\\\Documentos\\\\DataSets\\\\TFM\\\\AnomalyBERT\\\\processed\\\\WADI_test.npy', 'SMD0': '\\\\Users\\\\zoiyy\\\\OneDrive\\\\Documentos\\\\DataSets\\\\TFM\\\\AnomalyBERT\\\\processed\\\\SMD0_test.npy', 'SMD1': '\\\\Users\\\\zoiyy\\\\OneDrive\\\\Documentos\\\\DataSets\\\\TFM\\\\AnomalyBERT\\\\processed\\\\SMD1_test.npy', 'SMD2': '\\\\Users\\\\zoiyy\\\\OneDrive\\\\Documentos\\\\DataSets\\\\TFM\\\\AnomalyBERT\\\\processed\\\\SMD2_test.npy', 'SMD3': '\\\\Users\\\\zoiyy\\\\OneDrive\\\\Documentos\\\\DataSets\\\\TFM\\\\AnomalyBERT\\\\processed\\\\SMD3_test.npy', 'SMD4': '\\\\Users\\\\zoiyy\\\\OneDrive\\\\Documentos\\\\DataSets\\\\TFM\\\\AnomalyBERT\\\\processed\\\\SMD4_test.npy', 'SMD5': '\\\\Users\\\\zoiyy\\\\OneDrive\\\\Documentos\\\\DataSets\\\\TFM\\\\AnomalyBERT\\\\processed\\\\SMD5_test.npy', 'SMD6': '\\\\Users\\\\zoiyy\\\\OneDrive\\\\Documentos\\\\DataSets\\\\TFM\\\\AnomalyBERT\\\\processed\\\\SMD6_test.npy', 'SMD7': '\\\\Users\\\\zoiyy\\\\OneDrive\\\\Documentos\\\\DataSets\\\\TFM\\\\AnomalyBERT\\\\processed\\\\SMD7_test.npy', 'SMD8': '\\\\Users\\\\zoiyy\\\\OneDrive\\\\Documentos\\\\DataSets\\\\TFM\\\\AnomalyBERT\\\\processed\\\\SMD8_test.npy', 'SMD9': '\\\\Users\\\\zoiyy\\\\OneDrive\\\\Documentos\\\\DataSets\\\\TFM\\\\AnomalyBERT\\\\processed\\\\SMD9_test.npy', 'SMD10': '\\\\Users\\\\zoiyy\\\\OneDrive\\\\Documentos\\\\DataSets\\\\TFM\\\\AnomalyBERT\\\\processed\\\\SMD10_test.npy', 'SMD11': '\\\\Users\\\\zoiyy\\\\OneDrive\\\\Documentos\\\\DataSets\\\\TFM\\\\AnomalyBERT\\\\processed\\\\SMD11_test.npy', 'SMD12': '\\\\Users\\\\zoiyy\\\\OneDrive\\\\Documentos\\\\DataSets\\\\TFM\\\\AnomalyBERT\\\\processed\\\\SMD12_test.npy', 'SMD13': '\\\\Users\\\\zoiyy\\\\OneDrive\\\\Documentos\\\\DataSets\\\\TFM\\\\AnomalyBERT\\\\processed\\\\SMD13_test.npy', 'SMD14': '\\\\Users\\\\zoiyy\\\\OneDrive\\\\Documentos\\\\DataSets\\\\TFM\\\\AnomalyBERT\\\\processed\\\\SMD14_test.npy', 'SMD15': '\\\\Users\\\\zoiyy\\\\OneDrive\\\\Documentos\\\\DataSets\\\\TFM\\\\AnomalyBERT\\\\processed\\\\SMD15_test.npy', 'SMD16': '\\\\Users\\\\zoiyy\\\\OneDrive\\\\Documentos\\\\DataSets\\\\TFM\\\\AnomalyBERT\\\\processed\\\\SMD16_test.npy', 'SMD17': '\\\\Users\\\\zoiyy\\\\OneDrive\\\\Documentos\\\\DataSets\\\\TFM\\\\AnomalyBERT\\\\processed\\\\SMD17_test.npy', 'SMD18': '\\\\Users\\\\zoiyy\\\\OneDrive\\\\Documentos\\\\DataSets\\\\TFM\\\\AnomalyBERT\\\\processed\\\\SMD18_test.npy', 'SMD19': '\\\\Users\\\\zoiyy\\\\OneDrive\\\\Documentos\\\\DataSets\\\\TFM\\\\AnomalyBERT\\\\processed\\\\SMD19_test.npy', 'SMD20': '\\\\Users\\\\zoiyy\\\\OneDrive\\\\Documentos\\\\DataSets\\\\TFM\\\\AnomalyBERT\\\\processed\\\\SMD20_test.npy', 'SMD21': '\\\\Users\\\\zoiyy\\\\OneDrive\\\\Documentos\\\\DataSets\\\\TFM\\\\AnomalyBERT\\\\processed\\\\SMD21_test.npy', 'SMD22': '\\\\Users\\\\zoiyy\\\\OneDrive\\\\Documentos\\\\DataSets\\\\TFM\\\\AnomalyBERT\\\\processed\\\\SMD22_test.npy', 'SMD23': '\\\\Users\\\\zoiyy\\\\OneDrive\\\\Documentos\\\\DataSets\\\\TFM\\\\AnomalyBERT\\\\processed\\\\SMD23_test.npy', 'SMD24': '\\\\Users\\\\zoiyy\\\\OneDrive\\\\Documentos\\\\DataSets\\\\TFM\\\\AnomalyBERT\\\\processed\\\\SMD24_test.npy', 'SMD25': '\\\\Users\\\\zoiyy\\\\OneDrive\\\\Documentos\\\\DataSets\\\\TFM\\\\AnomalyBERT\\\\processed\\\\SMD25_test.npy', 'SMD26': '\\\\Users\\\\zoiyy\\\\OneDrive\\\\Documentos\\\\DataSets\\\\TFM\\\\AnomalyBERT\\\\processed\\\\SMD26_test.npy', 'SMD27': '\\\\Users\\\\zoiyy\\\\OneDrive\\\\Documentos\\\\DataSets\\\\TFM\\\\AnomalyBERT\\\\processed\\\\SMD27_test.npy'}\n"
     ]
    }
   ],
   "source": [
    "print(config.DATASET_DIR)\n",
    "print(config.TEST_DATASET)"
   ]
  },
  {
   "cell_type": "code",
   "execution_count": 3,
   "metadata": {},
   "outputs": [
    {
     "name": "stdout",
     "output_type": "stream",
     "text": [
      "\\Users\\zoiyy\\OneDrive\\Documentos\\DataSets\\TFM\\AnomalyBERT\\processed\n",
      "{'SMAP': '\\\\Users\\\\zoiyy\\\\OneDrive\\\\Documentos\\\\DataSets\\\\TFM\\\\AnomalyBERT\\\\processed\\\\SMAP_test.npy', 'MSL': '\\\\Users\\\\zoiyy\\\\OneDrive\\\\Documentos\\\\DataSets\\\\TFM\\\\AnomalyBERT\\\\processed\\\\MSL_test.npy', 'SMD': '\\\\Users\\\\zoiyy\\\\OneDrive\\\\Documentos\\\\DataSets\\\\TFM\\\\AnomalyBERT\\\\processed\\\\SMD_test.npy', 'SWaT': '\\\\Users\\\\zoiyy\\\\OneDrive\\\\Documentos\\\\DataSets\\\\TFM\\\\AnomalyBERT\\\\processed\\\\SWaT_test.npy', 'WADI': '\\\\Users\\\\zoiyy\\\\OneDrive\\\\Documentos\\\\DataSets\\\\TFM\\\\AnomalyBERT\\\\processed\\\\WADI_test.npy', 'SMD0': '\\\\Users\\\\zoiyy\\\\OneDrive\\\\Documentos\\\\DataSets\\\\TFM\\\\AnomalyBERT\\\\processed\\\\SMD0_test.npy', 'SMD1': '\\\\Users\\\\zoiyy\\\\OneDrive\\\\Documentos\\\\DataSets\\\\TFM\\\\AnomalyBERT\\\\processed\\\\SMD1_test.npy', 'SMD2': '\\\\Users\\\\zoiyy\\\\OneDrive\\\\Documentos\\\\DataSets\\\\TFM\\\\AnomalyBERT\\\\processed\\\\SMD2_test.npy', 'SMD3': '\\\\Users\\\\zoiyy\\\\OneDrive\\\\Documentos\\\\DataSets\\\\TFM\\\\AnomalyBERT\\\\processed\\\\SMD3_test.npy', 'SMD4': '\\\\Users\\\\zoiyy\\\\OneDrive\\\\Documentos\\\\DataSets\\\\TFM\\\\AnomalyBERT\\\\processed\\\\SMD4_test.npy', 'SMD5': '\\\\Users\\\\zoiyy\\\\OneDrive\\\\Documentos\\\\DataSets\\\\TFM\\\\AnomalyBERT\\\\processed\\\\SMD5_test.npy', 'SMD6': '\\\\Users\\\\zoiyy\\\\OneDrive\\\\Documentos\\\\DataSets\\\\TFM\\\\AnomalyBERT\\\\processed\\\\SMD6_test.npy', 'SMD7': '\\\\Users\\\\zoiyy\\\\OneDrive\\\\Documentos\\\\DataSets\\\\TFM\\\\AnomalyBERT\\\\processed\\\\SMD7_test.npy', 'SMD8': '\\\\Users\\\\zoiyy\\\\OneDrive\\\\Documentos\\\\DataSets\\\\TFM\\\\AnomalyBERT\\\\processed\\\\SMD8_test.npy', 'SMD9': '\\\\Users\\\\zoiyy\\\\OneDrive\\\\Documentos\\\\DataSets\\\\TFM\\\\AnomalyBERT\\\\processed\\\\SMD9_test.npy', 'SMD10': '\\\\Users\\\\zoiyy\\\\OneDrive\\\\Documentos\\\\DataSets\\\\TFM\\\\AnomalyBERT\\\\processed\\\\SMD10_test.npy', 'SMD11': '\\\\Users\\\\zoiyy\\\\OneDrive\\\\Documentos\\\\DataSets\\\\TFM\\\\AnomalyBERT\\\\processed\\\\SMD11_test.npy', 'SMD12': '\\\\Users\\\\zoiyy\\\\OneDrive\\\\Documentos\\\\DataSets\\\\TFM\\\\AnomalyBERT\\\\processed\\\\SMD12_test.npy', 'SMD13': '\\\\Users\\\\zoiyy\\\\OneDrive\\\\Documentos\\\\DataSets\\\\TFM\\\\AnomalyBERT\\\\processed\\\\SMD13_test.npy', 'SMD14': '\\\\Users\\\\zoiyy\\\\OneDrive\\\\Documentos\\\\DataSets\\\\TFM\\\\AnomalyBERT\\\\processed\\\\SMD14_test.npy', 'SMD15': '\\\\Users\\\\zoiyy\\\\OneDrive\\\\Documentos\\\\DataSets\\\\TFM\\\\AnomalyBERT\\\\processed\\\\SMD15_test.npy', 'SMD16': '\\\\Users\\\\zoiyy\\\\OneDrive\\\\Documentos\\\\DataSets\\\\TFM\\\\AnomalyBERT\\\\processed\\\\SMD16_test.npy', 'SMD17': '\\\\Users\\\\zoiyy\\\\OneDrive\\\\Documentos\\\\DataSets\\\\TFM\\\\AnomalyBERT\\\\processed\\\\SMD17_test.npy', 'SMD18': '\\\\Users\\\\zoiyy\\\\OneDrive\\\\Documentos\\\\DataSets\\\\TFM\\\\AnomalyBERT\\\\processed\\\\SMD18_test.npy', 'SMD19': '\\\\Users\\\\zoiyy\\\\OneDrive\\\\Documentos\\\\DataSets\\\\TFM\\\\AnomalyBERT\\\\processed\\\\SMD19_test.npy', 'SMD20': '\\\\Users\\\\zoiyy\\\\OneDrive\\\\Documentos\\\\DataSets\\\\TFM\\\\AnomalyBERT\\\\processed\\\\SMD20_test.npy', 'SMD21': '\\\\Users\\\\zoiyy\\\\OneDrive\\\\Documentos\\\\DataSets\\\\TFM\\\\AnomalyBERT\\\\processed\\\\SMD21_test.npy', 'SMD22': '\\\\Users\\\\zoiyy\\\\OneDrive\\\\Documentos\\\\DataSets\\\\TFM\\\\AnomalyBERT\\\\processed\\\\SMD22_test.npy', 'SMD23': '\\\\Users\\\\zoiyy\\\\OneDrive\\\\Documentos\\\\DataSets\\\\TFM\\\\AnomalyBERT\\\\processed\\\\SMD23_test.npy', 'SMD24': '\\\\Users\\\\zoiyy\\\\OneDrive\\\\Documentos\\\\DataSets\\\\TFM\\\\AnomalyBERT\\\\processed\\\\SMD24_test.npy', 'SMD25': '\\\\Users\\\\zoiyy\\\\OneDrive\\\\Documentos\\\\DataSets\\\\TFM\\\\AnomalyBERT\\\\processed\\\\SMD25_test.npy', 'SMD26': '\\\\Users\\\\zoiyy\\\\OneDrive\\\\Documentos\\\\DataSets\\\\TFM\\\\AnomalyBERT\\\\processed\\\\SMD26_test.npy', 'SMD27': '\\\\Users\\\\zoiyy\\\\OneDrive\\\\Documentos\\\\DataSets\\\\TFM\\\\AnomalyBERT\\\\processed\\\\SMD27_test.npy'}\n"
     ]
    }
   ],
   "source": [
    "ruta = None\n",
    "\n",
    "config2.set_directory( ruta )\n",
    "\n",
    "print(config2.DATASET_DIR)\n",
    "print(config2.TEST_DATASET)"
   ]
  },
  {
   "cell_type": "code",
   "execution_count": 4,
   "metadata": {},
   "outputs": [
    {
     "name": "stdout",
     "output_type": "stream",
     "text": [
      "\\Users\\zoiyy\\OneDrive\\Documentos\\DataSets\\TFM\\AnomalyBERT\\processed\n",
      "{'SMAP': '\\\\Users\\\\zoiyy\\\\OneDrive\\\\Documentos\\\\DataSets\\\\TFM\\\\AnomalyBERT\\\\processed\\\\SMAP_test.npy', 'MSL': '\\\\Users\\\\zoiyy\\\\OneDrive\\\\Documentos\\\\DataSets\\\\TFM\\\\AnomalyBERT\\\\processed\\\\MSL_test.npy', 'SMD': '\\\\Users\\\\zoiyy\\\\OneDrive\\\\Documentos\\\\DataSets\\\\TFM\\\\AnomalyBERT\\\\processed\\\\SMD_test.npy', 'SWaT': '\\\\Users\\\\zoiyy\\\\OneDrive\\\\Documentos\\\\DataSets\\\\TFM\\\\AnomalyBERT\\\\processed\\\\SWaT_test.npy', 'WADI': '\\\\Users\\\\zoiyy\\\\OneDrive\\\\Documentos\\\\DataSets\\\\TFM\\\\AnomalyBERT\\\\processed\\\\WADI_test.npy', 'SMD0': '\\\\Users\\\\zoiyy\\\\OneDrive\\\\Documentos\\\\DataSets\\\\TFM\\\\AnomalyBERT\\\\processed\\\\SMD0_test.npy', 'SMD1': '\\\\Users\\\\zoiyy\\\\OneDrive\\\\Documentos\\\\DataSets\\\\TFM\\\\AnomalyBERT\\\\processed\\\\SMD1_test.npy', 'SMD2': '\\\\Users\\\\zoiyy\\\\OneDrive\\\\Documentos\\\\DataSets\\\\TFM\\\\AnomalyBERT\\\\processed\\\\SMD2_test.npy', 'SMD3': '\\\\Users\\\\zoiyy\\\\OneDrive\\\\Documentos\\\\DataSets\\\\TFM\\\\AnomalyBERT\\\\processed\\\\SMD3_test.npy', 'SMD4': '\\\\Users\\\\zoiyy\\\\OneDrive\\\\Documentos\\\\DataSets\\\\TFM\\\\AnomalyBERT\\\\processed\\\\SMD4_test.npy', 'SMD5': '\\\\Users\\\\zoiyy\\\\OneDrive\\\\Documentos\\\\DataSets\\\\TFM\\\\AnomalyBERT\\\\processed\\\\SMD5_test.npy', 'SMD6': '\\\\Users\\\\zoiyy\\\\OneDrive\\\\Documentos\\\\DataSets\\\\TFM\\\\AnomalyBERT\\\\processed\\\\SMD6_test.npy', 'SMD7': '\\\\Users\\\\zoiyy\\\\OneDrive\\\\Documentos\\\\DataSets\\\\TFM\\\\AnomalyBERT\\\\processed\\\\SMD7_test.npy', 'SMD8': '\\\\Users\\\\zoiyy\\\\OneDrive\\\\Documentos\\\\DataSets\\\\TFM\\\\AnomalyBERT\\\\processed\\\\SMD8_test.npy', 'SMD9': '\\\\Users\\\\zoiyy\\\\OneDrive\\\\Documentos\\\\DataSets\\\\TFM\\\\AnomalyBERT\\\\processed\\\\SMD9_test.npy', 'SMD10': '\\\\Users\\\\zoiyy\\\\OneDrive\\\\Documentos\\\\DataSets\\\\TFM\\\\AnomalyBERT\\\\processed\\\\SMD10_test.npy', 'SMD11': '\\\\Users\\\\zoiyy\\\\OneDrive\\\\Documentos\\\\DataSets\\\\TFM\\\\AnomalyBERT\\\\processed\\\\SMD11_test.npy', 'SMD12': '\\\\Users\\\\zoiyy\\\\OneDrive\\\\Documentos\\\\DataSets\\\\TFM\\\\AnomalyBERT\\\\processed\\\\SMD12_test.npy', 'SMD13': '\\\\Users\\\\zoiyy\\\\OneDrive\\\\Documentos\\\\DataSets\\\\TFM\\\\AnomalyBERT\\\\processed\\\\SMD13_test.npy', 'SMD14': '\\\\Users\\\\zoiyy\\\\OneDrive\\\\Documentos\\\\DataSets\\\\TFM\\\\AnomalyBERT\\\\processed\\\\SMD14_test.npy', 'SMD15': '\\\\Users\\\\zoiyy\\\\OneDrive\\\\Documentos\\\\DataSets\\\\TFM\\\\AnomalyBERT\\\\processed\\\\SMD15_test.npy', 'SMD16': '\\\\Users\\\\zoiyy\\\\OneDrive\\\\Documentos\\\\DataSets\\\\TFM\\\\AnomalyBERT\\\\processed\\\\SMD16_test.npy', 'SMD17': '\\\\Users\\\\zoiyy\\\\OneDrive\\\\Documentos\\\\DataSets\\\\TFM\\\\AnomalyBERT\\\\processed\\\\SMD17_test.npy', 'SMD18': '\\\\Users\\\\zoiyy\\\\OneDrive\\\\Documentos\\\\DataSets\\\\TFM\\\\AnomalyBERT\\\\processed\\\\SMD18_test.npy', 'SMD19': '\\\\Users\\\\zoiyy\\\\OneDrive\\\\Documentos\\\\DataSets\\\\TFM\\\\AnomalyBERT\\\\processed\\\\SMD19_test.npy', 'SMD20': '\\\\Users\\\\zoiyy\\\\OneDrive\\\\Documentos\\\\DataSets\\\\TFM\\\\AnomalyBERT\\\\processed\\\\SMD20_test.npy', 'SMD21': '\\\\Users\\\\zoiyy\\\\OneDrive\\\\Documentos\\\\DataSets\\\\TFM\\\\AnomalyBERT\\\\processed\\\\SMD21_test.npy', 'SMD22': '\\\\Users\\\\zoiyy\\\\OneDrive\\\\Documentos\\\\DataSets\\\\TFM\\\\AnomalyBERT\\\\processed\\\\SMD22_test.npy', 'SMD23': '\\\\Users\\\\zoiyy\\\\OneDrive\\\\Documentos\\\\DataSets\\\\TFM\\\\AnomalyBERT\\\\processed\\\\SMD23_test.npy', 'SMD24': '\\\\Users\\\\zoiyy\\\\OneDrive\\\\Documentos\\\\DataSets\\\\TFM\\\\AnomalyBERT\\\\processed\\\\SMD24_test.npy', 'SMD25': '\\\\Users\\\\zoiyy\\\\OneDrive\\\\Documentos\\\\DataSets\\\\TFM\\\\AnomalyBERT\\\\processed\\\\SMD25_test.npy', 'SMD26': '\\\\Users\\\\zoiyy\\\\OneDrive\\\\Documentos\\\\DataSets\\\\TFM\\\\AnomalyBERT\\\\processed\\\\SMD26_test.npy', 'SMD27': '\\\\Users\\\\zoiyy\\\\OneDrive\\\\Documentos\\\\DataSets\\\\TFM\\\\AnomalyBERT\\\\processed\\\\SMD27_test.npy'}\n"
     ]
    }
   ],
   "source": [
    "config2.set_directory()\n",
    "\n",
    "print(config2.DATASET_DIR)\n",
    "print(config2.TEST_DATASET)"
   ]
  },
  {
   "cell_type": "code",
   "execution_count": 5,
   "metadata": {},
   "outputs": [
    {
     "name": "stdout",
     "output_type": "stream",
     "text": [
      "Users\\zoiyy\\OneDrive\\Documentos\\DataSets\\TFM\\Pruebas\\processed\n",
      "{'SMAP': 'Users\\\\zoiyy\\\\OneDrive\\\\Documentos\\\\DataSets\\\\TFM\\\\Pruebas\\\\processed\\\\SMAP_test.npy', 'MSL': 'Users\\\\zoiyy\\\\OneDrive\\\\Documentos\\\\DataSets\\\\TFM\\\\Pruebas\\\\processed\\\\MSL_test.npy', 'SMD': 'Users\\\\zoiyy\\\\OneDrive\\\\Documentos\\\\DataSets\\\\TFM\\\\Pruebas\\\\processed\\\\SMD_test.npy', 'SWaT': 'Users\\\\zoiyy\\\\OneDrive\\\\Documentos\\\\DataSets\\\\TFM\\\\Pruebas\\\\processed\\\\SWaT_test.npy', 'WADI': 'Users\\\\zoiyy\\\\OneDrive\\\\Documentos\\\\DataSets\\\\TFM\\\\Pruebas\\\\processed\\\\WADI_test.npy', 'SMD0': 'Users\\\\zoiyy\\\\OneDrive\\\\Documentos\\\\DataSets\\\\TFM\\\\Pruebas\\\\processed\\\\SMD0_test.npy', 'SMD1': 'Users\\\\zoiyy\\\\OneDrive\\\\Documentos\\\\DataSets\\\\TFM\\\\Pruebas\\\\processed\\\\SMD1_test.npy', 'SMD2': 'Users\\\\zoiyy\\\\OneDrive\\\\Documentos\\\\DataSets\\\\TFM\\\\Pruebas\\\\processed\\\\SMD2_test.npy', 'SMD3': 'Users\\\\zoiyy\\\\OneDrive\\\\Documentos\\\\DataSets\\\\TFM\\\\Pruebas\\\\processed\\\\SMD3_test.npy', 'SMD4': 'Users\\\\zoiyy\\\\OneDrive\\\\Documentos\\\\DataSets\\\\TFM\\\\Pruebas\\\\processed\\\\SMD4_test.npy', 'SMD5': 'Users\\\\zoiyy\\\\OneDrive\\\\Documentos\\\\DataSets\\\\TFM\\\\Pruebas\\\\processed\\\\SMD5_test.npy', 'SMD6': 'Users\\\\zoiyy\\\\OneDrive\\\\Documentos\\\\DataSets\\\\TFM\\\\Pruebas\\\\processed\\\\SMD6_test.npy', 'SMD7': 'Users\\\\zoiyy\\\\OneDrive\\\\Documentos\\\\DataSets\\\\TFM\\\\Pruebas\\\\processed\\\\SMD7_test.npy', 'SMD8': 'Users\\\\zoiyy\\\\OneDrive\\\\Documentos\\\\DataSets\\\\TFM\\\\Pruebas\\\\processed\\\\SMD8_test.npy', 'SMD9': 'Users\\\\zoiyy\\\\OneDrive\\\\Documentos\\\\DataSets\\\\TFM\\\\Pruebas\\\\processed\\\\SMD9_test.npy', 'SMD10': 'Users\\\\zoiyy\\\\OneDrive\\\\Documentos\\\\DataSets\\\\TFM\\\\Pruebas\\\\processed\\\\SMD10_test.npy', 'SMD11': 'Users\\\\zoiyy\\\\OneDrive\\\\Documentos\\\\DataSets\\\\TFM\\\\Pruebas\\\\processed\\\\SMD11_test.npy', 'SMD12': 'Users\\\\zoiyy\\\\OneDrive\\\\Documentos\\\\DataSets\\\\TFM\\\\Pruebas\\\\processed\\\\SMD12_test.npy', 'SMD13': 'Users\\\\zoiyy\\\\OneDrive\\\\Documentos\\\\DataSets\\\\TFM\\\\Pruebas\\\\processed\\\\SMD13_test.npy', 'SMD14': 'Users\\\\zoiyy\\\\OneDrive\\\\Documentos\\\\DataSets\\\\TFM\\\\Pruebas\\\\processed\\\\SMD14_test.npy', 'SMD15': 'Users\\\\zoiyy\\\\OneDrive\\\\Documentos\\\\DataSets\\\\TFM\\\\Pruebas\\\\processed\\\\SMD15_test.npy', 'SMD16': 'Users\\\\zoiyy\\\\OneDrive\\\\Documentos\\\\DataSets\\\\TFM\\\\Pruebas\\\\processed\\\\SMD16_test.npy', 'SMD17': 'Users\\\\zoiyy\\\\OneDrive\\\\Documentos\\\\DataSets\\\\TFM\\\\Pruebas\\\\processed\\\\SMD17_test.npy', 'SMD18': 'Users\\\\zoiyy\\\\OneDrive\\\\Documentos\\\\DataSets\\\\TFM\\\\Pruebas\\\\processed\\\\SMD18_test.npy', 'SMD19': 'Users\\\\zoiyy\\\\OneDrive\\\\Documentos\\\\DataSets\\\\TFM\\\\Pruebas\\\\processed\\\\SMD19_test.npy', 'SMD20': 'Users\\\\zoiyy\\\\OneDrive\\\\Documentos\\\\DataSets\\\\TFM\\\\Pruebas\\\\processed\\\\SMD20_test.npy', 'SMD21': 'Users\\\\zoiyy\\\\OneDrive\\\\Documentos\\\\DataSets\\\\TFM\\\\Pruebas\\\\processed\\\\SMD21_test.npy', 'SMD22': 'Users\\\\zoiyy\\\\OneDrive\\\\Documentos\\\\DataSets\\\\TFM\\\\Pruebas\\\\processed\\\\SMD22_test.npy', 'SMD23': 'Users\\\\zoiyy\\\\OneDrive\\\\Documentos\\\\DataSets\\\\TFM\\\\Pruebas\\\\processed\\\\SMD23_test.npy', 'SMD24': 'Users\\\\zoiyy\\\\OneDrive\\\\Documentos\\\\DataSets\\\\TFM\\\\Pruebas\\\\processed\\\\SMD24_test.npy', 'SMD25': 'Users\\\\zoiyy\\\\OneDrive\\\\Documentos\\\\DataSets\\\\TFM\\\\Pruebas\\\\processed\\\\SMD25_test.npy', 'SMD26': 'Users\\\\zoiyy\\\\OneDrive\\\\Documentos\\\\DataSets\\\\TFM\\\\Pruebas\\\\processed\\\\SMD26_test.npy', 'SMD27': 'Users\\\\zoiyy\\\\OneDrive\\\\Documentos\\\\DataSets\\\\TFM\\\\Pruebas\\\\processed\\\\SMD27_test.npy'}\n"
     ]
    }
   ],
   "source": [
    "ruta = 'Users\\zoiyy\\OneDrive\\Documentos\\DataSets\\TFM\\Pruebas\\processed'\n",
    "\n",
    "config2.set_directory( ruta )\n",
    "\n",
    "print(config2.DATASET_DIR)\n",
    "print(config2.TEST_DATASET)"
   ]
  }
 ],
 "metadata": {
  "kernelspec": {
   "display_name": "AnomalyBERT_env",
   "language": "python",
   "name": "python3"
  },
  "language_info": {
   "codemirror_mode": {
    "name": "ipython",
    "version": 3
   },
   "file_extension": ".py",
   "mimetype": "text/x-python",
   "name": "python",
   "nbconvert_exporter": "python",
   "pygments_lexer": "ipython3",
   "version": "3.8.18"
  },
  "orig_nbformat": 4
 },
 "nbformat": 4,
 "nbformat_minor": 2
}
